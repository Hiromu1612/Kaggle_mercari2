{
 "cells": [
  {
   "cell_type": "markdown",
   "metadata": {
    "_cell_guid": "af1d9dae-a336-4558-8200-98ce0a82acfb",
    "_uuid": "c0b2c54f-5e49-46ec-b07e-50f4ca3001d4"
   },
   "source": [
    "#### データの全体像\n",
    "train：1,482,535個のユーザーが投稿した商品\n",
    "\n",
    "test：693,359行で「価格（Price）」の項目がテストデータは含まれていないため、列数は「7」となっている \n",
    "\n",
    "* train_id / test _id – ユーザー投稿のID\n",
    "* name – 投稿のタイトル。タイトルに価格に関する情報がある場合（例：$20）はメルカリが事前に削除をして[rm]と置き換えている。\n",
    "* item_condition_id – ユーザーが指定した商品の状態(1~5,大きい方が状態が良い)\n",
    "* category_name – 投稿カテゴリー\n",
    "* brand_name – ブランドの名前\n",
    "* price – 訓練データのみ。実際に売られた価格。米ドル表示。今回のチャレンジの予測ターゲットとなる。\n",
    "* shipping – 送料のフラグ。「1」は販売者負担。「0」は購入者負担。\n",
    "* item_description – ユーザーが投稿した商品説明の全文。タイトルと同様に価格情報がある場合は[rm]と置き換えられている。"
   ]
  },
  {
   "cell_type": "code",
   "execution_count": 27,
   "metadata": {
    "execution": {
     "iopub.execute_input": "2024-09-21T01:30:20.464170Z",
     "iopub.status.busy": "2024-09-21T01:30:20.460574Z",
     "iopub.status.idle": "2024-09-21T01:30:20.475079Z",
     "shell.execute_reply": "2024-09-21T01:30:20.473139Z",
     "shell.execute_reply.started": "2024-09-21T01:30:20.464057Z"
    }
   },
   "outputs": [],
   "source": [
    "from datetime import datetime\n",
    "start_real = datetime.now() # 全体の処理時間の計測を開始する"
   ]
  },
  {
   "cell_type": "markdown",
   "metadata": {},
   "source": [
    "#### ライブラリのインポート"
   ]
  },
  {
   "cell_type": "code",
   "execution_count": 28,
   "metadata": {
    "_cell_guid": "e189abd2-46d2-4f2e-977b-50a25d3521d4",
    "_uuid": "96487335-2c48-482e-be5d-e80a6a096b5d",
    "collapsed": false,
    "execution": {
     "iopub.execute_input": "2024-09-21T01:30:20.480359Z",
     "iopub.status.busy": "2024-09-21T01:30:20.478743Z",
     "iopub.status.idle": "2024-09-21T01:30:20.496871Z",
     "shell.execute_reply": "2024-09-21T01:30:20.495250Z",
     "shell.execute_reply.started": "2024-09-21T01:30:20.480304Z"
    },
    "jupyter": {
     "outputs_hidden": false
    }
   },
   "outputs": [],
   "source": [
    "import numpy as np\n",
    "import pandas as pd\n",
    "import matplotlib.pyplot as plt\n",
    "import seaborn as sns\n",
    "from scipy.sparse import hstack\n",
    "%matplotlib inline\n",
    "\n",
    "from sklearn.model_selection import train_test_split\n",
    "from sklearn.feature_extraction.text import CountVectorizer, TfidfVectorizer\n",
    "from sklearn.preprocessing import OneHotEncoder\n",
    "\n",
    "from sklearn.metrics import mean_squared_log_error\n",
    "from sklearn.linear_model import Ridge\n",
    "\n",
    "import gc\n",
    "import warnings\n",
    "warnings.simplefilter(\"ignore\")"
   ]
  },
  {
   "cell_type": "markdown",
   "metadata": {
    "_cell_guid": "19582f35-5a6a-4551-84e0-300bacebdd4c",
    "_uuid": "1ded81ac-afbf-4cbe-a8d7-5395f4536e62"
   },
   "source": [
    "#### データの読み込み"
   ]
  },
  {
   "cell_type": "code",
   "execution_count": 29,
   "metadata": {
    "_cell_guid": "b774ed87-a143-49f9-a9fc-a1877e602cfc",
    "_uuid": "6498a732-29e5-4505-b622-dfe51d096f88",
    "collapsed": false,
    "execution": {
     "iopub.execute_input": "2024-09-21T01:30:20.500179Z",
     "iopub.status.busy": "2024-09-21T01:30:20.499565Z",
     "iopub.status.idle": "2024-09-21T01:30:32.647981Z",
     "shell.execute_reply": "2024-09-21T01:30:32.646197Z",
     "shell.execute_reply.started": "2024-09-21T01:30:20.500131Z"
    },
    "jupyter": {
     "outputs_hidden": false
    }
   },
   "outputs": [
    {
     "name": "stdout",
     "output_type": "stream",
     "text": [
      "CPU times: user 11 s, sys: 1.06 s, total: 12.1 s\n",
      "Wall time: 12.1 s\n"
     ]
    }
   ],
   "source": [
    "%%time\n",
    "train = pd.read_csv(\"/kaggle/input/mercari-dataset/train.tsv\", delimiter='\\t')\n",
    "test = pd.read_csv(\"/kaggle/input/mercari-dataset/test.tsv\", delimiter='\\t')"
   ]
  },
  {
   "cell_type": "code",
   "execution_count": 30,
   "metadata": {
    "_cell_guid": "d447b1d6-a78f-4ae2-93a5-c29364047100",
    "_uuid": "537791cb-2e65-4328-b786-e930e4cc47d3",
    "collapsed": false,
    "execution": {
     "iopub.execute_input": "2024-09-21T01:30:32.650111Z",
     "iopub.status.busy": "2024-09-21T01:30:32.649655Z",
     "iopub.status.idle": "2024-09-21T01:30:33.345378Z",
     "shell.execute_reply": "2024-09-21T01:30:33.343927Z",
     "shell.execute_reply.started": "2024-09-21T01:30:32.650068Z"
    },
    "jupyter": {
     "outputs_hidden": false
    }
   },
   "outputs": [
    {
     "name": "stdout",
     "output_type": "stream",
     "text": [
      "(1482535, 8)\n",
      "<class 'pandas.core.frame.DataFrame'>\n",
      "RangeIndex: 1482535 entries, 0 to 1482534\n",
      "Data columns (total 8 columns):\n",
      " #   Column             Non-Null Count    Dtype  \n",
      "---  ------             --------------    -----  \n",
      " 0   train_id           1482535 non-null  int64  \n",
      " 1   name               1482535 non-null  object \n",
      " 2   item_condition_id  1482535 non-null  int64  \n",
      " 3   category_name      1476208 non-null  object \n",
      " 4   brand_name         849853 non-null   object \n",
      " 5   price              1482535 non-null  float64\n",
      " 6   shipping           1482535 non-null  int64  \n",
      " 7   item_description   1482529 non-null  object \n",
      "dtypes: float64(1), int64(3), object(4)\n",
      "memory usage: 90.5+ MB\n",
      "None\n"
     ]
    },
    {
     "data": {
      "text/html": [
       "<div>\n",
       "<style scoped>\n",
       "    .dataframe tbody tr th:only-of-type {\n",
       "        vertical-align: middle;\n",
       "    }\n",
       "\n",
       "    .dataframe tbody tr th {\n",
       "        vertical-align: top;\n",
       "    }\n",
       "\n",
       "    .dataframe thead th {\n",
       "        text-align: right;\n",
       "    }\n",
       "</style>\n",
       "<table border=\"1\" class=\"dataframe\">\n",
       "  <thead>\n",
       "    <tr style=\"text-align: right;\">\n",
       "      <th></th>\n",
       "      <th>train_id</th>\n",
       "      <th>name</th>\n",
       "      <th>item_condition_id</th>\n",
       "      <th>category_name</th>\n",
       "      <th>brand_name</th>\n",
       "      <th>price</th>\n",
       "      <th>shipping</th>\n",
       "      <th>item_description</th>\n",
       "    </tr>\n",
       "  </thead>\n",
       "  <tbody>\n",
       "    <tr>\n",
       "      <th>0</th>\n",
       "      <td>0</td>\n",
       "      <td>MLB Cincinnati Reds T Shirt Size XL</td>\n",
       "      <td>3</td>\n",
       "      <td>Men/Tops/T-shirts</td>\n",
       "      <td>NaN</td>\n",
       "      <td>10.0</td>\n",
       "      <td>1</td>\n",
       "      <td>No description yet</td>\n",
       "    </tr>\n",
       "    <tr>\n",
       "      <th>1</th>\n",
       "      <td>1</td>\n",
       "      <td>Razer BlackWidow Chroma Keyboard</td>\n",
       "      <td>3</td>\n",
       "      <td>Electronics/Computers &amp; Tablets/Components &amp; P...</td>\n",
       "      <td>Razer</td>\n",
       "      <td>52.0</td>\n",
       "      <td>0</td>\n",
       "      <td>This keyboard is in great condition and works ...</td>\n",
       "    </tr>\n",
       "    <tr>\n",
       "      <th>2</th>\n",
       "      <td>2</td>\n",
       "      <td>AVA-VIV Blouse</td>\n",
       "      <td>1</td>\n",
       "      <td>Women/Tops &amp; Blouses/Blouse</td>\n",
       "      <td>Target</td>\n",
       "      <td>10.0</td>\n",
       "      <td>1</td>\n",
       "      <td>Adorable top with a hint of lace and a key hol...</td>\n",
       "    </tr>\n",
       "    <tr>\n",
       "      <th>3</th>\n",
       "      <td>3</td>\n",
       "      <td>Leather Horse Statues</td>\n",
       "      <td>1</td>\n",
       "      <td>Home/Home Décor/Home Décor Accents</td>\n",
       "      <td>NaN</td>\n",
       "      <td>35.0</td>\n",
       "      <td>1</td>\n",
       "      <td>New with tags. Leather horses. Retail for [rm]...</td>\n",
       "    </tr>\n",
       "    <tr>\n",
       "      <th>4</th>\n",
       "      <td>4</td>\n",
       "      <td>24K GOLD plated rose</td>\n",
       "      <td>1</td>\n",
       "      <td>Women/Jewelry/Necklaces</td>\n",
       "      <td>NaN</td>\n",
       "      <td>44.0</td>\n",
       "      <td>0</td>\n",
       "      <td>Complete with certificate of authenticity</td>\n",
       "    </tr>\n",
       "  </tbody>\n",
       "</table>\n",
       "</div>"
      ],
      "text/plain": [
       "   train_id                                 name  item_condition_id  \\\n",
       "0         0  MLB Cincinnati Reds T Shirt Size XL                  3   \n",
       "1         1     Razer BlackWidow Chroma Keyboard                  3   \n",
       "2         2                       AVA-VIV Blouse                  1   \n",
       "3         3                Leather Horse Statues                  1   \n",
       "4         4                 24K GOLD plated rose                  1   \n",
       "\n",
       "                                       category_name brand_name  price  \\\n",
       "0                                  Men/Tops/T-shirts        NaN   10.0   \n",
       "1  Electronics/Computers & Tablets/Components & P...      Razer   52.0   \n",
       "2                        Women/Tops & Blouses/Blouse     Target   10.0   \n",
       "3                 Home/Home Décor/Home Décor Accents        NaN   35.0   \n",
       "4                            Women/Jewelry/Necklaces        NaN   44.0   \n",
       "\n",
       "   shipping                                   item_description  \n",
       "0         1                                 No description yet  \n",
       "1         0  This keyboard is in great condition and works ...  \n",
       "2         1  Adorable top with a hint of lace and a key hol...  \n",
       "3         1  New with tags. Leather horses. Retail for [rm]...  \n",
       "4         0          Complete with certificate of authenticity  "
      ]
     },
     "metadata": {},
     "output_type": "display_data"
    }
   ],
   "source": [
    "print(train.shape)\n",
    "print(train.info())\n",
    "display(train.head())"
   ]
  },
  {
   "cell_type": "code",
   "execution_count": 31,
   "metadata": {
    "_cell_guid": "1a6f3a88-06c5-4be9-ac4e-447fec5a8f0a",
    "_uuid": "bb552642-3592-4b44-a9c5-3f375809f628",
    "collapsed": false,
    "execution": {
     "iopub.execute_input": "2024-09-21T01:30:33.349730Z",
     "iopub.status.busy": "2024-09-21T01:30:33.349058Z",
     "iopub.status.idle": "2024-09-21T01:30:33.697353Z",
     "shell.execute_reply": "2024-09-21T01:30:33.696001Z",
     "shell.execute_reply.started": "2024-09-21T01:30:33.349525Z"
    },
    "jupyter": {
     "outputs_hidden": false
    }
   },
   "outputs": [
    {
     "name": "stdout",
     "output_type": "stream",
     "text": [
      "(693359, 7)\n",
      "<class 'pandas.core.frame.DataFrame'>\n",
      "RangeIndex: 693359 entries, 0 to 693358\n",
      "Data columns (total 7 columns):\n",
      " #   Column             Non-Null Count   Dtype \n",
      "---  ------             --------------   ----- \n",
      " 0   test_id            693359 non-null  int64 \n",
      " 1   name               693359 non-null  object\n",
      " 2   item_condition_id  693359 non-null  int64 \n",
      " 3   category_name      690301 non-null  object\n",
      " 4   brand_name         397834 non-null  object\n",
      " 5   shipping           693359 non-null  int64 \n",
      " 6   item_description   693359 non-null  object\n",
      "dtypes: int64(3), object(4)\n",
      "memory usage: 37.0+ MB\n",
      "None\n"
     ]
    },
    {
     "data": {
      "text/html": [
       "<div>\n",
       "<style scoped>\n",
       "    .dataframe tbody tr th:only-of-type {\n",
       "        vertical-align: middle;\n",
       "    }\n",
       "\n",
       "    .dataframe tbody tr th {\n",
       "        vertical-align: top;\n",
       "    }\n",
       "\n",
       "    .dataframe thead th {\n",
       "        text-align: right;\n",
       "    }\n",
       "</style>\n",
       "<table border=\"1\" class=\"dataframe\">\n",
       "  <thead>\n",
       "    <tr style=\"text-align: right;\">\n",
       "      <th></th>\n",
       "      <th>test_id</th>\n",
       "      <th>name</th>\n",
       "      <th>item_condition_id</th>\n",
       "      <th>category_name</th>\n",
       "      <th>brand_name</th>\n",
       "      <th>shipping</th>\n",
       "      <th>item_description</th>\n",
       "    </tr>\n",
       "  </thead>\n",
       "  <tbody>\n",
       "    <tr>\n",
       "      <th>0</th>\n",
       "      <td>0</td>\n",
       "      <td>Breast cancer \"I fight like a girl\" ring</td>\n",
       "      <td>1</td>\n",
       "      <td>Women/Jewelry/Rings</td>\n",
       "      <td>NaN</td>\n",
       "      <td>1</td>\n",
       "      <td>Size 7</td>\n",
       "    </tr>\n",
       "    <tr>\n",
       "      <th>1</th>\n",
       "      <td>1</td>\n",
       "      <td>25 pcs NEW 7.5\"x12\" Kraft Bubble Mailers</td>\n",
       "      <td>1</td>\n",
       "      <td>Other/Office supplies/Shipping Supplies</td>\n",
       "      <td>NaN</td>\n",
       "      <td>1</td>\n",
       "      <td>25 pcs NEW 7.5\"x12\" Kraft Bubble Mailers Lined...</td>\n",
       "    </tr>\n",
       "    <tr>\n",
       "      <th>2</th>\n",
       "      <td>2</td>\n",
       "      <td>Coach bag</td>\n",
       "      <td>1</td>\n",
       "      <td>Vintage &amp; Collectibles/Bags and Purses/Handbag</td>\n",
       "      <td>Coach</td>\n",
       "      <td>1</td>\n",
       "      <td>Brand new coach bag. Bought for [rm] at a Coac...</td>\n",
       "    </tr>\n",
       "    <tr>\n",
       "      <th>3</th>\n",
       "      <td>3</td>\n",
       "      <td>Floral Kimono</td>\n",
       "      <td>2</td>\n",
       "      <td>Women/Sweaters/Cardigan</td>\n",
       "      <td>NaN</td>\n",
       "      <td>0</td>\n",
       "      <td>-floral kimono -never worn -lightweight and pe...</td>\n",
       "    </tr>\n",
       "    <tr>\n",
       "      <th>4</th>\n",
       "      <td>4</td>\n",
       "      <td>Life after Death</td>\n",
       "      <td>3</td>\n",
       "      <td>Other/Books/Religion &amp; Spirituality</td>\n",
       "      <td>NaN</td>\n",
       "      <td>1</td>\n",
       "      <td>Rediscovering life after the loss of a loved o...</td>\n",
       "    </tr>\n",
       "  </tbody>\n",
       "</table>\n",
       "</div>"
      ],
      "text/plain": [
       "   test_id                                      name  item_condition_id  \\\n",
       "0        0  Breast cancer \"I fight like a girl\" ring                  1   \n",
       "1        1  25 pcs NEW 7.5\"x12\" Kraft Bubble Mailers                  1   \n",
       "2        2                                 Coach bag                  1   \n",
       "3        3                             Floral Kimono                  2   \n",
       "4        4                          Life after Death                  3   \n",
       "\n",
       "                                    category_name brand_name  shipping  \\\n",
       "0                             Women/Jewelry/Rings        NaN         1   \n",
       "1         Other/Office supplies/Shipping Supplies        NaN         1   \n",
       "2  Vintage & Collectibles/Bags and Purses/Handbag      Coach         1   \n",
       "3                         Women/Sweaters/Cardigan        NaN         0   \n",
       "4             Other/Books/Religion & Spirituality        NaN         1   \n",
       "\n",
       "                                    item_description  \n",
       "0                                             Size 7  \n",
       "1  25 pcs NEW 7.5\"x12\" Kraft Bubble Mailers Lined...  \n",
       "2  Brand new coach bag. Bought for [rm] at a Coac...  \n",
       "3  -floral kimono -never worn -lightweight and pe...  \n",
       "4  Rediscovering life after the loss of a loved o...  "
      ]
     },
     "metadata": {},
     "output_type": "display_data"
    }
   ],
   "source": [
    "print(test.shape)\n",
    "print(test.info())\n",
    "display(test.head())"
   ]
  },
  {
   "cell_type": "markdown",
   "metadata": {
    "_cell_guid": "4baef1cf-63aa-4f3d-b518-0b7081686042",
    "_uuid": "0f17cbc3-5899-4c22-a0a0-26b0424db7d2"
   },
   "source": [
    "#### データの前処理"
   ]
  },
  {
   "cell_type": "markdown",
   "metadata": {},
   "source": [
    "#### `price`を対数変換"
   ]
  },
  {
   "cell_type": "code",
   "execution_count": 32,
   "metadata": {
    "execution": {
     "iopub.execute_input": "2024-09-21T01:30:33.699789Z",
     "iopub.status.busy": "2024-09-21T01:30:33.699313Z",
     "iopub.status.idle": "2024-09-21T01:30:35.750065Z",
     "shell.execute_reply": "2024-09-21T01:30:35.748675Z",
     "shell.execute_reply.started": "2024-09-21T01:30:33.699745Z"
    }
   },
   "outputs": [
    {
     "data": {
      "image/png": "[encoded data removed]",
      "text/plain": [
       "<Figure size 640x480 with 1 Axes>"
      ]
     },
     "metadata": {},
     "output_type": "display_data"
    }
   ],
   "source": [
    "plt.figure()\n",
    "sns.histplot(train['price'], element = 'poly')\n",
    "plt.show()"
   ]
  },
  {
   "cell_type": "code",
   "execution_count": 33,
   "metadata": {
    "execution": {
     "iopub.execute_input": "2024-09-21T01:30:35.751993Z",
     "iopub.status.busy": "2024-09-21T01:30:35.751584Z",
     "iopub.status.idle": "2024-09-21T01:30:35.798490Z",
     "shell.execute_reply": "2024-09-21T01:30:35.797212Z",
     "shell.execute_reply.started": "2024-09-21T01:30:35.751953Z"
    }
   },
   "outputs": [
    {
     "name": "stdout",
     "output_type": "stream",
     "text": [
      "CPU times: user 35.8 ms, sys: 7.21 ms, total: 43 ms\n",
      "Wall time: 39.8 ms\n"
     ]
    }
   ],
   "source": [
    "%%time\n",
    "train['price'] = np.log1p(train['price'])"
   ]
  },
  {
   "cell_type": "code",
   "execution_count": 34,
   "metadata": {
    "execution": {
     "iopub.execute_input": "2024-09-21T01:30:35.800644Z",
     "iopub.status.busy": "2024-09-21T01:30:35.800168Z",
     "iopub.status.idle": "2024-09-21T01:30:37.786205Z",
     "shell.execute_reply": "2024-09-21T01:30:37.784628Z",
     "shell.execute_reply.started": "2024-09-21T01:30:35.800600Z"
    }
   },
   "outputs": [
    {
     "data": {
      "image/png": "[encoded data removed]",
      "text/plain": [
       "<Figure size 640x480 with 1 Axes>"
      ]
     },
     "metadata": {},
     "output_type": "display_data"
    }
   ],
   "source": [
    "plt.figure()\n",
    "sns.histplot(train['price'], element = 'poly')\n",
    "plt.show()"
   ]
  },
  {
   "cell_type": "markdown",
   "metadata": {
    "_cell_guid": "8955724f-6ee3-4732-80dd-10f5c7fb9f4d",
    "_uuid": "13605d60-6537-408f-8820-c4c1523b115e"
   },
   "source": [
    "#### `category_name`を3等分する"
   ]
  },
  {
   "cell_type": "code",
   "execution_count": 35,
   "metadata": {
    "_cell_guid": "989abbe6-3632-4965-926c-bf32acba3c1b",
    "_uuid": "e2fab743-0672-4371-9356-144dc62ac84f",
    "collapsed": false,
    "execution": {
     "iopub.execute_input": "2024-09-21T01:30:37.788903Z",
     "iopub.status.busy": "2024-09-21T01:30:37.788310Z",
     "iopub.status.idle": "2024-09-21T01:31:26.339315Z",
     "shell.execute_reply": "2024-09-21T01:31:26.338104Z",
     "shell.execute_reply.started": "2024-09-21T01:30:37.788845Z"
    },
    "jupyter": {
     "outputs_hidden": false
    }
   },
   "outputs": [
    {
     "data": {
      "text/html": [
       "<div>\n",
       "<style scoped>\n",
       "    .dataframe tbody tr th:only-of-type {\n",
       "        vertical-align: middle;\n",
       "    }\n",
       "\n",
       "    .dataframe tbody tr th {\n",
       "        vertical-align: top;\n",
       "    }\n",
       "\n",
       "    .dataframe thead th {\n",
       "        text-align: right;\n",
       "    }\n",
       "</style>\n",
       "<table border=\"1\" class=\"dataframe\">\n",
       "  <thead>\n",
       "    <tr style=\"text-align: right;\">\n",
       "      <th></th>\n",
       "      <th>train_id</th>\n",
       "      <th>name</th>\n",
       "      <th>item_condition_id</th>\n",
       "      <th>category_name</th>\n",
       "      <th>brand_name</th>\n",
       "      <th>price</th>\n",
       "      <th>shipping</th>\n",
       "      <th>item_description</th>\n",
       "      <th>general_cat</th>\n",
       "      <th>sub_cat1</th>\n",
       "      <th>sub_cat2</th>\n",
       "    </tr>\n",
       "  </thead>\n",
       "  <tbody>\n",
       "    <tr>\n",
       "      <th>0</th>\n",
       "      <td>0</td>\n",
       "      <td>MLB Cincinnati Reds T Shirt Size XL</td>\n",
       "      <td>3</td>\n",
       "      <td>Men/Tops/T-shirts</td>\n",
       "      <td>NaN</td>\n",
       "      <td>2.397895</td>\n",
       "      <td>1</td>\n",
       "      <td>No description yet</td>\n",
       "      <td>Men</td>\n",
       "      <td>Tops</td>\n",
       "      <td>T-shirts</td>\n",
       "    </tr>\n",
       "    <tr>\n",
       "      <th>1</th>\n",
       "      <td>1</td>\n",
       "      <td>Razer BlackWidow Chroma Keyboard</td>\n",
       "      <td>3</td>\n",
       "      <td>Electronics/Computers &amp; Tablets/Components &amp; P...</td>\n",
       "      <td>Razer</td>\n",
       "      <td>3.970292</td>\n",
       "      <td>0</td>\n",
       "      <td>This keyboard is in great condition and works ...</td>\n",
       "      <td>Electronics</td>\n",
       "      <td>Computers &amp; Tablets</td>\n",
       "      <td>Components &amp; Parts</td>\n",
       "    </tr>\n",
       "    <tr>\n",
       "      <th>2</th>\n",
       "      <td>2</td>\n",
       "      <td>AVA-VIV Blouse</td>\n",
       "      <td>1</td>\n",
       "      <td>Women/Tops &amp; Blouses/Blouse</td>\n",
       "      <td>Target</td>\n",
       "      <td>2.397895</td>\n",
       "      <td>1</td>\n",
       "      <td>Adorable top with a hint of lace and a key hol...</td>\n",
       "      <td>Women</td>\n",
       "      <td>Tops &amp; Blouses</td>\n",
       "      <td>Blouse</td>\n",
       "    </tr>\n",
       "    <tr>\n",
       "      <th>3</th>\n",
       "      <td>3</td>\n",
       "      <td>Leather Horse Statues</td>\n",
       "      <td>1</td>\n",
       "      <td>Home/Home Décor/Home Décor Accents</td>\n",
       "      <td>NaN</td>\n",
       "      <td>3.583519</td>\n",
       "      <td>1</td>\n",
       "      <td>New with tags. Leather horses. Retail for [rm]...</td>\n",
       "      <td>Home</td>\n",
       "      <td>Home Décor</td>\n",
       "      <td>Home Décor Accents</td>\n",
       "    </tr>\n",
       "    <tr>\n",
       "      <th>4</th>\n",
       "      <td>4</td>\n",
       "      <td>24K GOLD plated rose</td>\n",
       "      <td>1</td>\n",
       "      <td>Women/Jewelry/Necklaces</td>\n",
       "      <td>NaN</td>\n",
       "      <td>3.806662</td>\n",
       "      <td>0</td>\n",
       "      <td>Complete with certificate of authenticity</td>\n",
       "      <td>Women</td>\n",
       "      <td>Jewelry</td>\n",
       "      <td>Necklaces</td>\n",
       "    </tr>\n",
       "  </tbody>\n",
       "</table>\n",
       "</div>"
      ],
      "text/plain": [
       "   train_id                                 name  item_condition_id  \\\n",
       "0         0  MLB Cincinnati Reds T Shirt Size XL                  3   \n",
       "1         1     Razer BlackWidow Chroma Keyboard                  3   \n",
       "2         2                       AVA-VIV Blouse                  1   \n",
       "3         3                Leather Horse Statues                  1   \n",
       "4         4                 24K GOLD plated rose                  1   \n",
       "\n",
       "                                       category_name brand_name     price  \\\n",
       "0                                  Men/Tops/T-shirts        NaN  2.397895   \n",
       "1  Electronics/Computers & Tablets/Components & P...      Razer  3.970292   \n",
       "2                        Women/Tops & Blouses/Blouse     Target  2.397895   \n",
       "3                 Home/Home Décor/Home Décor Accents        NaN  3.583519   \n",
       "4                            Women/Jewelry/Necklaces        NaN  3.806662   \n",
       "\n",
       "   shipping                                   item_description  general_cat  \\\n",
       "0         1                                 No description yet          Men   \n",
       "1         0  This keyboard is in great condition and works ...  Electronics   \n",
       "2         1  Adorable top with a hint of lace and a key hol...        Women   \n",
       "3         1  New with tags. Leather horses. Retail for [rm]...         Home   \n",
       "4         0          Complete with certificate of authenticity        Women   \n",
       "\n",
       "              sub_cat1            sub_cat2  \n",
       "0                 Tops            T-shirts  \n",
       "1  Computers & Tablets  Components & Parts  \n",
       "2       Tops & Blouses              Blouse  \n",
       "3           Home Décor  Home Décor Accents  \n",
       "4              Jewelry           Necklaces  "
      ]
     },
     "metadata": {},
     "output_type": "display_data"
    },
    {
     "data": {
      "text/html": [
       "<div>\n",
       "<style scoped>\n",
       "    .dataframe tbody tr th:only-of-type {\n",
       "        vertical-align: middle;\n",
       "    }\n",
       "\n",
       "    .dataframe tbody tr th {\n",
       "        vertical-align: top;\n",
       "    }\n",
       "\n",
       "    .dataframe thead th {\n",
       "        text-align: right;\n",
       "    }\n",
       "</style>\n",
       "<table border=\"1\" class=\"dataframe\">\n",
       "  <thead>\n",
       "    <tr style=\"text-align: right;\">\n",
       "      <th></th>\n",
       "      <th>test_id</th>\n",
       "      <th>name</th>\n",
       "      <th>item_condition_id</th>\n",
       "      <th>category_name</th>\n",
       "      <th>brand_name</th>\n",
       "      <th>shipping</th>\n",
       "      <th>item_description</th>\n",
       "      <th>general_cat</th>\n",
       "      <th>sub_cat1</th>\n",
       "      <th>sub_cat2</th>\n",
       "    </tr>\n",
       "  </thead>\n",
       "  <tbody>\n",
       "    <tr>\n",
       "      <th>0</th>\n",
       "      <td>0</td>\n",
       "      <td>Breast cancer \"I fight like a girl\" ring</td>\n",
       "      <td>1</td>\n",
       "      <td>Women/Jewelry/Rings</td>\n",
       "      <td>NaN</td>\n",
       "      <td>1</td>\n",
       "      <td>Size 7</td>\n",
       "      <td>Women</td>\n",
       "      <td>Jewelry</td>\n",
       "      <td>Rings</td>\n",
       "    </tr>\n",
       "    <tr>\n",
       "      <th>1</th>\n",
       "      <td>1</td>\n",
       "      <td>25 pcs NEW 7.5\"x12\" Kraft Bubble Mailers</td>\n",
       "      <td>1</td>\n",
       "      <td>Other/Office supplies/Shipping Supplies</td>\n",
       "      <td>NaN</td>\n",
       "      <td>1</td>\n",
       "      <td>25 pcs NEW 7.5\"x12\" Kraft Bubble Mailers Lined...</td>\n",
       "      <td>Other</td>\n",
       "      <td>Office supplies</td>\n",
       "      <td>Shipping Supplies</td>\n",
       "    </tr>\n",
       "    <tr>\n",
       "      <th>2</th>\n",
       "      <td>2</td>\n",
       "      <td>Coach bag</td>\n",
       "      <td>1</td>\n",
       "      <td>Vintage &amp; Collectibles/Bags and Purses/Handbag</td>\n",
       "      <td>Coach</td>\n",
       "      <td>1</td>\n",
       "      <td>Brand new coach bag. Bought for [rm] at a Coac...</td>\n",
       "      <td>Vintage &amp; Collectibles</td>\n",
       "      <td>Bags and Purses</td>\n",
       "      <td>Handbag</td>\n",
       "    </tr>\n",
       "    <tr>\n",
       "      <th>3</th>\n",
       "      <td>3</td>\n",
       "      <td>Floral Kimono</td>\n",
       "      <td>2</td>\n",
       "      <td>Women/Sweaters/Cardigan</td>\n",
       "      <td>NaN</td>\n",
       "      <td>0</td>\n",
       "      <td>-floral kimono -never worn -lightweight and pe...</td>\n",
       "      <td>Women</td>\n",
       "      <td>Sweaters</td>\n",
       "      <td>Cardigan</td>\n",
       "    </tr>\n",
       "    <tr>\n",
       "      <th>4</th>\n",
       "      <td>4</td>\n",
       "      <td>Life after Death</td>\n",
       "      <td>3</td>\n",
       "      <td>Other/Books/Religion &amp; Spirituality</td>\n",
       "      <td>NaN</td>\n",
       "      <td>1</td>\n",
       "      <td>Rediscovering life after the loss of a loved o...</td>\n",
       "      <td>Other</td>\n",
       "      <td>Books</td>\n",
       "      <td>Religion &amp; Spirituality</td>\n",
       "    </tr>\n",
       "  </tbody>\n",
       "</table>\n",
       "</div>"
      ],
      "text/plain": [
       "   test_id                                      name  item_condition_id  \\\n",
       "0        0  Breast cancer \"I fight like a girl\" ring                  1   \n",
       "1        1  25 pcs NEW 7.5\"x12\" Kraft Bubble Mailers                  1   \n",
       "2        2                                 Coach bag                  1   \n",
       "3        3                             Floral Kimono                  2   \n",
       "4        4                          Life after Death                  3   \n",
       "\n",
       "                                    category_name brand_name  shipping  \\\n",
       "0                             Women/Jewelry/Rings        NaN         1   \n",
       "1         Other/Office supplies/Shipping Supplies        NaN         1   \n",
       "2  Vintage & Collectibles/Bags and Purses/Handbag      Coach         1   \n",
       "3                         Women/Sweaters/Cardigan        NaN         0   \n",
       "4             Other/Books/Religion & Spirituality        NaN         1   \n",
       "\n",
       "                                    item_description             general_cat  \\\n",
       "0                                             Size 7                   Women   \n",
       "1  25 pcs NEW 7.5\"x12\" Kraft Bubble Mailers Lined...                   Other   \n",
       "2  Brand new coach bag. Bought for [rm] at a Coac...  Vintage & Collectibles   \n",
       "3  -floral kimono -never worn -lightweight and pe...                   Women   \n",
       "4  Rediscovering life after the loss of a loved o...                   Other   \n",
       "\n",
       "          sub_cat1                 sub_cat2  \n",
       "0          Jewelry                    Rings  \n",
       "1  Office supplies        Shipping Supplies  \n",
       "2  Bags and Purses                  Handbag  \n",
       "3         Sweaters                 Cardigan  \n",
       "4            Books  Religion & Spirituality  "
      ]
     },
     "metadata": {},
     "output_type": "display_data"
    },
    {
     "name": "stdout",
     "output_type": "stream",
     "text": [
      "CPU times: user 48 s, sys: 714 ms, total: 48.7 s\n",
      "Wall time: 48.5 s\n"
     ]
    }
   ],
   "source": [
    "%%time\n",
    "def split_cat(text):\n",
    "    try: return text.split(\"/\")\n",
    "    except: return (\"No Label\", \"No Label\", \"No Label\") # メモ: たとえば null としたらスコアは変化する？\n",
    "\n",
    "train['general_cat'], train['sub_cat1'], train['sub_cat2'] = zip(*train['category_name'].apply(lambda x: split_cat(x))) # zip(*df)で転置\n",
    "display(train.head())\n",
    "test['general_cat'], test['sub_cat1'], test['sub_cat2'] = zip(*test['category_name'].apply(lambda x: split_cat(x)))\n",
    "display(test.head())"
   ]
  },
  {
   "cell_type": "markdown",
   "metadata": {},
   "source": [
    "#### train, test を行方向に結合し、まとめて前処理できるようにする"
   ]
  },
  {
   "cell_type": "code",
   "execution_count": 36,
   "metadata": {
    "_cell_guid": "c002c856-7828-4f91-ad1d-f958c1caa0a2",
    "_uuid": "57d41e39-76dd-4de7-86d2-f0b53913634a",
    "collapsed": false,
    "execution": {
     "iopub.execute_input": "2024-09-21T01:31:26.341213Z",
     "iopub.status.busy": "2024-09-21T01:31:26.340858Z",
     "iopub.status.idle": "2024-09-21T01:31:27.386057Z",
     "shell.execute_reply": "2024-09-21T01:31:27.384457Z",
     "shell.execute_reply.started": "2024-09-21T01:31:26.341175Z"
    },
    "jupyter": {
     "outputs_hidden": false
    }
   },
   "outputs": [
    {
     "name": "stdout",
     "output_type": "stream",
     "text": [
      "(2175894, 10)\n"
     ]
    },
    {
     "data": {
      "text/html": [
       "<div>\n",
       "<style scoped>\n",
       "    .dataframe tbody tr th:only-of-type {\n",
       "        vertical-align: middle;\n",
       "    }\n",
       "\n",
       "    .dataframe tbody tr th {\n",
       "        vertical-align: top;\n",
       "    }\n",
       "\n",
       "    .dataframe thead th {\n",
       "        text-align: right;\n",
       "    }\n",
       "</style>\n",
       "<table border=\"1\" class=\"dataframe\">\n",
       "  <thead>\n",
       "    <tr style=\"text-align: right;\">\n",
       "      <th></th>\n",
       "      <th>id</th>\n",
       "      <th>name</th>\n",
       "      <th>item_condition_id</th>\n",
       "      <th>category_name</th>\n",
       "      <th>brand_name</th>\n",
       "      <th>shipping</th>\n",
       "      <th>item_description</th>\n",
       "      <th>general_cat</th>\n",
       "      <th>sub_cat1</th>\n",
       "      <th>sub_cat2</th>\n",
       "    </tr>\n",
       "  </thead>\n",
       "  <tbody>\n",
       "    <tr>\n",
       "      <th>0</th>\n",
       "      <td>0</td>\n",
       "      <td>MLB Cincinnati Reds T Shirt Size XL</td>\n",
       "      <td>3</td>\n",
       "      <td>Men/Tops/T-shirts</td>\n",
       "      <td>NaN</td>\n",
       "      <td>1</td>\n",
       "      <td>No description yet</td>\n",
       "      <td>Men</td>\n",
       "      <td>Tops</td>\n",
       "      <td>T-shirts</td>\n",
       "    </tr>\n",
       "    <tr>\n",
       "      <th>1</th>\n",
       "      <td>1</td>\n",
       "      <td>Razer BlackWidow Chroma Keyboard</td>\n",
       "      <td>3</td>\n",
       "      <td>Electronics/Computers &amp; Tablets/Components &amp; P...</td>\n",
       "      <td>Razer</td>\n",
       "      <td>0</td>\n",
       "      <td>This keyboard is in great condition and works ...</td>\n",
       "      <td>Electronics</td>\n",
       "      <td>Computers &amp; Tablets</td>\n",
       "      <td>Components &amp; Parts</td>\n",
       "    </tr>\n",
       "    <tr>\n",
       "      <th>2</th>\n",
       "      <td>2</td>\n",
       "      <td>AVA-VIV Blouse</td>\n",
       "      <td>1</td>\n",
       "      <td>Women/Tops &amp; Blouses/Blouse</td>\n",
       "      <td>Target</td>\n",
       "      <td>1</td>\n",
       "      <td>Adorable top with a hint of lace and a key hol...</td>\n",
       "      <td>Women</td>\n",
       "      <td>Tops &amp; Blouses</td>\n",
       "      <td>Blouse</td>\n",
       "    </tr>\n",
       "    <tr>\n",
       "      <th>3</th>\n",
       "      <td>3</td>\n",
       "      <td>Leather Horse Statues</td>\n",
       "      <td>1</td>\n",
       "      <td>Home/Home Décor/Home Décor Accents</td>\n",
       "      <td>NaN</td>\n",
       "      <td>1</td>\n",
       "      <td>New with tags. Leather horses. Retail for [rm]...</td>\n",
       "      <td>Home</td>\n",
       "      <td>Home Décor</td>\n",
       "      <td>Home Décor Accents</td>\n",
       "    </tr>\n",
       "    <tr>\n",
       "      <th>4</th>\n",
       "      <td>4</td>\n",
       "      <td>24K GOLD plated rose</td>\n",
       "      <td>1</td>\n",
       "      <td>Women/Jewelry/Necklaces</td>\n",
       "      <td>NaN</td>\n",
       "      <td>0</td>\n",
       "      <td>Complete with certificate of authenticity</td>\n",
       "      <td>Women</td>\n",
       "      <td>Jewelry</td>\n",
       "      <td>Necklaces</td>\n",
       "    </tr>\n",
       "  </tbody>\n",
       "</table>\n",
       "</div>"
      ],
      "text/plain": [
       "   id                                 name  item_condition_id  \\\n",
       "0   0  MLB Cincinnati Reds T Shirt Size XL                  3   \n",
       "1   1     Razer BlackWidow Chroma Keyboard                  3   \n",
       "2   2                       AVA-VIV Blouse                  1   \n",
       "3   3                Leather Horse Statues                  1   \n",
       "4   4                 24K GOLD plated rose                  1   \n",
       "\n",
       "                                       category_name brand_name  shipping  \\\n",
       "0                                  Men/Tops/T-shirts        NaN         1   \n",
       "1  Electronics/Computers & Tablets/Components & P...      Razer         0   \n",
       "2                        Women/Tops & Blouses/Blouse     Target         1   \n",
       "3                 Home/Home Décor/Home Décor Accents        NaN         1   \n",
       "4                            Women/Jewelry/Necklaces        NaN         0   \n",
       "\n",
       "                                    item_description  general_cat  \\\n",
       "0                                 No description yet          Men   \n",
       "1  This keyboard is in great condition and works ...  Electronics   \n",
       "2  Adorable top with a hint of lace and a key hol...        Women   \n",
       "3  New with tags. Leather horses. Retail for [rm]...         Home   \n",
       "4          Complete with certificate of authenticity        Women   \n",
       "\n",
       "              sub_cat1            sub_cat2  \n",
       "0                 Tops            T-shirts  \n",
       "1  Computers & Tablets  Components & Parts  \n",
       "2       Tops & Blouses              Blouse  \n",
       "3           Home Décor  Home Décor Accents  \n",
       "4              Jewelry           Necklaces  "
      ]
     },
     "execution_count": 36,
     "metadata": {},
     "output_type": "execute_result"
    }
   ],
   "source": [
    "y = train['price'] # 目的変数\n",
    "train.drop(['price'], axis=1, inplace=True)\n",
    "\n",
    "# 列名をidに変更\n",
    "train.rename(columns={'train_id': 'id'}, inplace=True)\n",
    "test.rename(columns={'test_id': 'id'}, inplace=True)\n",
    "\n",
    "# データフレームを結合\n",
    "train_test_combine = pd.concat([train,test]) # axis=0で行、axis=1で列に結合 デフォルトはaxis=0\n",
    "print(train_test_combine.shape)\n",
    "train_test_combine.head()"
   ]
  },
  {
   "cell_type": "markdown",
   "metadata": {
    "_cell_guid": "c861de08-477e-4069-9b27-f9f9b8d11f79",
    "_uuid": "aa08a666-8684-4bc2-9e36-3654fdf11c25"
   },
   "source": [
    "#### 欠損値処理\n"
   ]
  },
  {
   "cell_type": "code",
   "execution_count": 37,
   "metadata": {
    "execution": {
     "iopub.execute_input": "2024-09-21T01:31:27.388597Z",
     "iopub.status.busy": "2024-09-21T01:31:27.387601Z",
     "iopub.status.idle": "2024-09-21T01:31:29.269213Z",
     "shell.execute_reply": "2024-09-21T01:31:29.267699Z",
     "shell.execute_reply.started": "2024-09-21T01:31:27.388551Z"
    }
   },
   "outputs": [
    {
     "data": {
      "text/plain": [
       "id                        0\n",
       "name                      0\n",
       "item_condition_id         0\n",
       "category_name          9385\n",
       "brand_name           928207\n",
       "shipping                  0\n",
       "item_description          6\n",
       "general_cat               0\n",
       "sub_cat1                  0\n",
       "sub_cat2                  0\n",
       "dtype: int64"
      ]
     },
     "execution_count": 37,
     "metadata": {},
     "output_type": "execute_result"
    }
   ],
   "source": [
    "train_test_combine.isnull().sum()"
   ]
  },
  {
   "cell_type": "code",
   "execution_count": 38,
   "metadata": {
    "_cell_guid": "61cc0cbb-0e67-43da-bab8-ac4a7cf9414b",
    "_uuid": "58227ec9-cd8d-461b-ad88-765efaf45f5b",
    "collapsed": false,
    "execution": {
     "iopub.execute_input": "2024-09-21T01:31:29.271398Z",
     "iopub.status.busy": "2024-09-21T01:31:29.270854Z",
     "iopub.status.idle": "2024-09-21T01:31:30.167498Z",
     "shell.execute_reply": "2024-09-21T01:31:30.165810Z",
     "shell.execute_reply.started": "2024-09-21T01:31:29.271334Z"
    },
    "jupyter": {
     "outputs_hidden": false
    }
   },
   "outputs": [
    {
     "name": "stdout",
     "output_type": "stream",
     "text": [
      "CPU times: user 889 ms, sys: 2.38 ms, total: 891 ms\n",
      "Wall time: 888 ms\n"
     ]
    }
   ],
   "source": [
    "%%time\n",
    "# 欠損値を 'missing'で埋める\n",
    "# メモ: null にしたらスコアは変化する？\n",
    "train_test_combine['brand_name'].fillna(value='missing', inplace=True)\n",
    "train_test_combine['category_name'].fillna(value='missing', inplace=True)\n",
    "train_test_combine['item_description'].fillna(value='missing', inplace=True)"
   ]
  },
  {
   "cell_type": "code",
   "execution_count": 39,
   "metadata": {
    "execution": {
     "iopub.execute_input": "2024-09-21T01:31:30.169636Z",
     "iopub.status.busy": "2024-09-21T01:31:30.169156Z",
     "iopub.status.idle": "2024-09-21T01:31:33.540228Z",
     "shell.execute_reply": "2024-09-21T01:31:33.538440Z",
     "shell.execute_reply.started": "2024-09-21T01:31:30.169593Z"
    }
   },
   "outputs": [
    {
     "data": {
      "text/plain": [
       "0"
      ]
     },
     "execution_count": 39,
     "metadata": {},
     "output_type": "execute_result"
    }
   ],
   "source": [
    "# ベクトル化（カウントやTF-IDF）およびエンコーディング（ONE-HOT）の前にメモリをクリアしておく\n",
    "gc.collect()"
   ]
  },
  {
   "cell_type": "markdown",
   "metadata": {
    "execution": {
     "iopub.execute_input": "2024-09-20T00:08:44.468218Z",
     "iopub.status.busy": "2024-09-20T00:08:44.467615Z",
     "iopub.status.idle": "2024-09-20T00:08:44.474987Z",
     "shell.execute_reply": "2024-09-20T00:08:44.473601Z",
     "shell.execute_reply.started": "2024-09-20T00:08:44.468138Z"
    }
   },
   "source": [
    "#### 特徴エンコーディング｜CountVectorizer(), TfidfVectorizer()"
   ]
  },
  {
   "cell_type": "markdown",
   "metadata": {},
   "source": [
    "**`name`に CountVectorizer を使用する理由**\n",
    "- **短いテキスト**: 商品名は通常短いテキストで、単語の出現回数が直接的な特徴として有用であることが多い。\n",
    "- **単純な頻度**: 単語の出現頻度を重視することで、商品名の違いを強調できる。\n",
    "\n",
    "**`item_description`に TfidfVectorizer を使用する理由**\n",
    "- **長いテキスト**: 商品説明は通常長めで、単語数が多く、情報量が多い。\n",
    "- **重要度の重み付け**: TF-IDFは、頻出しすぎる単語の影響を抑え、より重要な単語に重みを置く。これにより、商品説明内の特徴的な情報を抽出しやすくなる。\n",
    "- **n-gram考慮**: n-gramを使うことで、単語の組み合わせが持つ特徴も捉えることができる。"
   ]
  },
  {
   "cell_type": "code",
   "execution_count": 40,
   "metadata": {
    "execution": {
     "iopub.execute_input": "2024-09-21T01:31:33.547362Z",
     "iopub.status.busy": "2024-09-21T01:31:33.546905Z",
     "iopub.status.idle": "2024-09-21T01:38:59.588471Z",
     "shell.execute_reply": "2024-09-21T01:38:59.586892Z",
     "shell.execute_reply.started": "2024-09-21T01:31:33.547318Z"
    }
   },
   "outputs": [
    {
     "name": "stdout",
     "output_type": "stream",
     "text": [
      "name vectorization shape: (2175894, 131042)\n",
      "item_description vectorization shape: (2175894, 50000)\n",
      "CPU times: user 7min 15s, sys: 10.9 s, total: 7min 26s\n",
      "Wall time: 7min 26s\n"
     ]
    }
   ],
   "source": [
    "%%time\n",
    "cnt_vec = CountVectorizer()\n",
    "X_name = cnt_vec.fit_transform(train_test_combine['name'])\n",
    "\n",
    "tfidf = TfidfVectorizer(max_features = 50000, ngram_range= (1,3) , stop_words='english')\n",
    "X_descp = tfidf.fit_transform(train_test_combine['item_description'])\n",
    "\n",
    "print('name vectorization shape:',X_name.shape)\n",
    "print('item_description vectorization shape:',X_descp.shape)"
   ]
  },
  {
   "cell_type": "markdown",
   "metadata": {},
   "source": [
    "#### 特徴エンコーディング｜OneHotEncoder()"
   ]
  },
  {
   "cell_type": "markdown",
   "metadata": {},
   "source": [
    "#### `brand_name`に CountVectorizer() や TfidfVectorizer() ではなく OneHotEncoder() を使う理由\n",
    "\n",
    "1. **カテゴリデータの性質**:\n",
    "   - `brand_name`は通常、固有名詞で構成されるカテゴリデータである。\n",
    "   - 単語の頻度や重要度ではなく、単純なカテゴリとして扱うのが適切である。\n",
    "\n",
    "2. **OneHotEncoderの適用**:\n",
    "   - 各ブランドを個別のカテゴリとしてエンコードし、独立した特徴量に変換する。\n",
    "   - この方法により、ブランド間の違いを明確にモデルに示すことができる。\n",
    "\n",
    "3. **CountVectorizerやTfidfVectorizerの不適性**:\n",
    "   - これらはテキストデータの単語頻度や重要度を計算するための手法であり、カテゴリデータの単純な区別には向いていない。"
   ]
  },
  {
   "cell_type": "markdown",
   "metadata": {},
   "source": [
    "#### `item_condition_id`や`shipping`に OneHotEncoder() を適用する理由は、これらのデータがカテゴリデータとして扱われるべきだからである。\n",
    "\n",
    "1. **カテゴリデータとしての扱い**:\n",
    "   - これらの変数は整数型だが、実際にはカテゴリ的な意味合いを持つ。\n",
    "   - 例えば、`item_condition_id`は商品の状態を表すカテゴリであり、数値の大小に意味はない。\n",
    "\n",
    "2. **モデルへの影響**:\n",
    "   - 数値のまま扱うと、モデルはそれらに順序や距離の情報があると誤解する可能性がある。\n",
    "   - ワンホットエンコーディングにより、各カテゴリを独立した特徴量として扱うことで、誤解を防ぐ。\n",
    "\n",
    "3. **情報の独立性**:\n",
    "   - 各条件や配送方法を独立した特徴量にすることで、モデルが個別の影響を学習しやすくなる。"
   ]
  },
  {
   "cell_type": "code",
   "execution_count": 41,
   "metadata": {
    "execution": {
     "iopub.execute_input": "2024-09-21T01:38:59.590670Z",
     "iopub.status.busy": "2024-09-21T01:38:59.590239Z",
     "iopub.status.idle": "2024-09-21T01:39:04.410130Z",
     "shell.execute_reply": "2024-09-21T01:39:04.408594Z",
     "shell.execute_reply.started": "2024-09-21T01:38:59.590627Z"
    }
   },
   "outputs": [
    {
     "name": "stdout",
     "output_type": "stream",
     "text": [
      "CPU times: user 4.79 s, sys: 16.9 ms, total: 4.81 s\n",
      "Wall time: 4.81 s\n"
     ]
    }
   ],
   "source": [
    "%%time\n",
    "ohe = OneHotEncoder()\n",
    "\n",
    "# OneHotEncoderは2次元の入力を必要とするため、.reshape(-1, 1)で1次元のSeriesを2次元に変換\n",
    "X_brand_name = ohe.fit_transform(train_test_combine['brand_name'].values.reshape(-1, 1))\n",
    "X_item_condition_id = ohe.fit_transform(train_test_combine['item_condition_id'].values.reshape(-1, 1))\n",
    "X_shipping = ohe.fit_transform(train_test_combine['shipping'].values.reshape(-1, 1))\n",
    "X_general_cat = ohe.fit_transform(train_test_combine['general_cat'].values.reshape(-1, 1))\n",
    "X_sub_cat1 = ohe.fit_transform(train_test_combine['sub_cat1'].values.reshape(-1, 1))\n",
    "X_sub_cat2 = ohe.fit_transform(train_test_combine['sub_cat2'].values.reshape(-1, 1))"
   ]
  },
  {
   "cell_type": "code",
   "execution_count": 42,
   "metadata": {
    "execution": {
     "iopub.execute_input": "2024-09-21T01:39:04.412249Z",
     "iopub.status.busy": "2024-09-21T01:39:04.411815Z",
     "iopub.status.idle": "2024-09-21T01:39:04.420949Z",
     "shell.execute_reply": "2024-09-21T01:39:04.419219Z",
     "shell.execute_reply.started": "2024-09-21T01:39:04.412206Z"
    }
   },
   "outputs": [
    {
     "name": "stdout",
     "output_type": "stream",
     "text": [
      "brand encoding shape: (2175894, 5290)\n",
      "item condition id encoding shape: (2175894, 5)\n",
      "shipping encoding shape: (2175894, 2)\n",
      "general_cat encoding shape: (2175894, 11)\n",
      "sub_cat1 encoding shape: (2175894, 114)\n",
      "sub_cat2 encoding shape: (2175894, 883)\n"
     ]
    }
   ],
   "source": [
    "print('brand encoding shape:', X_brand_name.shape)\n",
    "print('item condition id encoding shape:', X_item_condition_id.shape)\n",
    "print('shipping encoding shape:', X_shipping.shape)\n",
    "print('general_cat encoding shape:', X_general_cat.shape)\n",
    "print('sub_cat1 encoding shape:', X_sub_cat1.shape)\n",
    "print('sub_cat2 encoding shape:', X_sub_cat2.shape)"
   ]
  },
  {
   "cell_type": "markdown",
   "metadata": {
    "_cell_guid": "eae9c3fb-9db6-4d7b-afcb-77c6a012bd70",
    "_uuid": "c4f7377c-c3f9-49b6-a8cc-8b6da169040d"
   },
   "source": [
    "#### name, item_description の単語数をカウントした列を追加"
   ]
  },
  {
   "cell_type": "code",
   "execution_count": 43,
   "metadata": {
    "_cell_guid": "2dac00f4-1573-4e0d-bd2f-195dea2f7288",
    "_uuid": "9a854888-230c-4830-a1ed-62dfcec40179",
    "collapsed": false,
    "execution": {
     "iopub.execute_input": "2024-09-21T01:39:04.423435Z",
     "iopub.status.busy": "2024-09-21T01:39:04.422954Z",
     "iopub.status.idle": "2024-09-21T01:39:04.438357Z",
     "shell.execute_reply": "2024-09-21T01:39:04.436537Z",
     "shell.execute_reply.started": "2024-09-21T01:39:04.423391Z"
    },
    "jupyter": {
     "outputs_hidden": false
    }
   },
   "outputs": [],
   "source": [
    "# %%time\n",
    "# import re\n",
    "# import string\n",
    "# from sklearn.feature_extraction.text import ENGLISH_STOP_WORDS\n",
    "\n",
    "# def wordCount(text):\n",
    "#     \"\"\"\n",
    "#     Parameters:\n",
    "#       text(str): 商品名、商品の説明文\n",
    "#     \"\"\"\n",
    "#     try:\n",
    "#         if text == 'No description yet':\n",
    "#             return 1  # 商品名や説明が'No description yet'の場合は1を返す\n",
    "#         else:\n",
    "#             text = text.lower()  # すべて小文字にする\n",
    "#             # 正規表現を使用して句読点や数字を削除\n",
    "#             regex = re.compile('[' + re.escape(string.punctuation) + '0-9\\\\r\\\\t\\\\n]')\n",
    "#             text = regex.sub(\" \", text)\n",
    "#             # ストップワードを除去\n",
    "#             words = [w for w in text.split() if w and w not in ENGLISH_STOP_WORDS and len(w) >= 3]\n",
    "#             return len(words)  # 単語の数を返す\n",
    "#     except: \n",
    "#         return 0\n",
    "\n",
    "\n",
    "# # 'name'の各フィールドの単語数を'name_len'に登録\n",
    "# train_test_combine['name_len'] = train_test_combine['name'].apply(lambda x: wordCount(x))\n",
    "# # 'item_description'の各フィールドの単語数を'desc_len'に登録\n",
    "# train_test_combine['desc_len'] = train_test_combine['item_description'].apply(lambda x: wordCount(x))"
   ]
  },
  {
   "cell_type": "markdown",
   "metadata": {},
   "source": [
    "#### 特徴ベクトル化されたスパース行列とワンホットエンコードされたスパース行列を結合する"
   ]
  },
  {
   "cell_type": "markdown",
   "metadata": {},
   "source": [
    "このコードは、データを訓練用とテスト用に分割し、各特徴量を結合して疎行列（sparse matrix）を作成している。\n",
    "\n",
    "1. **データ分割**:\n",
    "   - `1482535`は訓練データとテストデータを分けるインデックス。\n",
    "   - `[:1482535]`は訓練データの範囲。\n",
    "   - `[1482535:]`はテストデータの範囲。\n",
    "\n",
    "2. **特徴量の結合**:\n",
    "   - `hstack()`を使用して各特徴量の行列を水平に結合。\n",
    "   - 結果として、全ての特徴量が一つの大きな行列として表現される。\n",
    "\n",
    "3. **疎行列（sparse matrix）**:\n",
    "   - `tocsr()`は、行圧縮形式（Compressed Sparse Row format）で格納。\n",
    "   - メモリ効率が良く、大規模データに適している。\n",
    "\n",
    "4. **ターゲット変数**:\n",
    "   - `y_train`は訓練データのターゲット変数を格納。"
   ]
  },
  {
   "cell_type": "markdown",
   "metadata": {},
   "source": [
    "**エンコーディングする前の列は説明変数に加えない**  \n",
    "情報の重複と多重共線性のリスクを避けるためである。エンコーディングされたデータは元のテキストデータの情報を包含しているため、元の列を残すと過剰な情報がモデルの性能を低下させる可能性がある。"
   ]
  },
  {
   "cell_type": "code",
   "execution_count": 44,
   "metadata": {
    "execution": {
     "iopub.execute_input": "2024-09-21T01:39:04.441419Z",
     "iopub.status.busy": "2024-09-21T01:39:04.440838Z",
     "iopub.status.idle": "2024-09-21T01:39:07.500016Z",
     "shell.execute_reply": "2024-09-21T01:39:07.498587Z",
     "shell.execute_reply.started": "2024-09-21T01:39:04.441352Z"
    }
   },
   "outputs": [
    {
     "name": "stdout",
     "output_type": "stream",
     "text": [
      "CPU times: user 1.89 s, sys: 1.15 s, total: 3.04 s\n",
      "Wall time: 3.05 s\n"
     ]
    }
   ],
   "source": [
    "%%time\n",
    "combined_matrix_train = (X_name[:1482535], X_descp[:1482535], X_brand_name[:1482535], X_item_condition_id[:1482535], X_shipping[:1482535],\n",
    "                   X_general_cat[:1482535], X_sub_cat1[:1482535], X_sub_cat2[:1482535])\n",
    "X = hstack(combined_matrix_train).tocsr() # 説明変数\n",
    "\n",
    "combined_matrix_test = (X_name[1482535:], X_descp[1482535:], X_brand_name[1482535:], X_item_condition_id[1482535:], X_shipping[1482535:],\n",
    "                   X_general_cat[1482535:], X_sub_cat1[1482535:], X_sub_cat2[1482535:])\n",
    "test = hstack(combined_matrix_test).tocsr()"
   ]
  },
  {
   "cell_type": "code",
   "execution_count": 45,
   "metadata": {
    "_cell_guid": "a394948e-7765-4485-a8d0-523a8ac3f28f",
    "_uuid": "32bb95a2-a057-49e3-adfb-da07de4ebc41",
    "collapsed": false,
    "execution": {
     "iopub.execute_input": "2024-09-21T01:39:07.502076Z",
     "iopub.status.busy": "2024-09-21T01:39:07.501621Z",
     "iopub.status.idle": "2024-09-21T01:39:07.509152Z",
     "shell.execute_reply": "2024-09-21T01:39:07.507676Z",
     "shell.execute_reply.started": "2024-09-21T01:39:07.502034Z"
    },
    "jupyter": {
     "outputs_hidden": false
    }
   },
   "outputs": [
    {
     "name": "stdout",
     "output_type": "stream",
     "text": [
      "(1482535, 187347)\n",
      "(693359, 187347)\n"
     ]
    }
   ],
   "source": [
    "print(X.shape) # 説明変数\n",
    "print(test.shape)"
   ]
  },
  {
   "cell_type": "markdown",
   "metadata": {
    "_cell_guid": "d3894bae-96bd-4af9-9fb1-ae6871dfa661",
    "_uuid": "37cb4194-3c2b-42bc-b202-da5c84db592e"
   },
   "source": [
    "#### モデルの作成と学習"
   ]
  },
  {
   "cell_type": "markdown",
   "metadata": {
    "_cell_guid": "288926f5-9a0a-4d68-b124-47283ce934d4",
    "_uuid": "c575fffd-2cdb-4a6a-a648-7f7d38c405c5"
   },
   "source": [
    "#### X と y のうち、7割を訓練用 (train)、3割を検証用 (test) に分割する"
   ]
  },
  {
   "cell_type": "code",
   "execution_count": 46,
   "metadata": {
    "_cell_guid": "92de30b5-b5a4-4422-8d7a-d60dca400334",
    "_uuid": "d322bae4-149a-4cbe-81ea-2b40daf3fc27",
    "collapsed": false,
    "execution": {
     "iopub.execute_input": "2024-09-21T01:39:07.511524Z",
     "iopub.status.busy": "2024-09-21T01:39:07.511056Z",
     "iopub.status.idle": "2024-09-21T01:39:08.091351Z",
     "shell.execute_reply": "2024-09-21T01:39:08.089979Z",
     "shell.execute_reply.started": "2024-09-21T01:39:07.511471Z"
    },
    "jupyter": {
     "outputs_hidden": false
    }
   },
   "outputs": [],
   "source": [
    "X_train, X_test, y_train, y_test = train_test_split(X, y, test_size=0.3, random_state=0)"
   ]
  },
  {
   "cell_type": "code",
   "execution_count": 47,
   "metadata": {
    "_cell_guid": "7d5727b1-68e1-4d3c-8697-afee413f7623",
    "_uuid": "0dbd1d10-6545-4423-8d0b-ea34352e1772",
    "collapsed": false,
    "execution": {
     "iopub.execute_input": "2024-09-21T01:39:08.093509Z",
     "iopub.status.busy": "2024-09-21T01:39:08.093087Z",
     "iopub.status.idle": "2024-09-21T01:39:08.101006Z",
     "shell.execute_reply": "2024-09-21T01:39:08.099501Z",
     "shell.execute_reply.started": "2024-09-21T01:39:08.093468Z"
    },
    "jupyter": {
     "outputs_hidden": false
    }
   },
   "outputs": [
    {
     "name": "stdout",
     "output_type": "stream",
     "text": [
      "(1037774, 187347)\n",
      "(1037774,)\n",
      "(444761, 187347)\n",
      "(444761,)\n"
     ]
    }
   ],
   "source": [
    "print(X_train.shape)\n",
    "print(y_train.shape)\n",
    "print(X_test.shape)\n",
    "print(y_test.shape)"
   ]
  },
  {
   "cell_type": "markdown",
   "metadata": {},
   "source": [
    "#### モデルの学習｜Ridge回帰"
   ]
  },
  {
   "cell_type": "code",
   "execution_count": 48,
   "metadata": {
    "execution": {
     "iopub.execute_input": "2024-09-21T01:39:08.102967Z",
     "iopub.status.busy": "2024-09-21T01:39:08.102564Z",
     "iopub.status.idle": "2024-09-21T01:41:31.223830Z",
     "shell.execute_reply": "2024-09-21T01:41:31.219701Z",
     "shell.execute_reply.started": "2024-09-21T01:39:08.102926Z"
    }
   },
   "outputs": [
    {
     "name": "stdout",
     "output_type": "stream",
     "text": [
      "CPU times: user 4min 14s, sys: 2min 44s, total: 6min 59s\n",
      "Wall time: 2min 23s\n"
     ]
    },
    {
     "data": {
      "text/html": [
       "<style>#sk-container-id-2 {color: black;background-color: white;}#sk-container-id-2 pre{padding: 0;}#sk-container-id-2 div.sk-toggleable {background-color: white;}#sk-container-id-2 label.sk-toggleable__label {cursor: pointer;display: block;width: 100%;margin-bottom: 0;padding: 0.3em;box-sizing: border-box;text-align: center;}#sk-container-id-2 label.sk-toggleable__label-arrow:before {content: \"▸\";float: left;margin-right: 0.25em;color: #696969;}#sk-container-id-2 label.sk-toggleable__label-arrow:hover:before {color: black;}#sk-container-id-2 div.sk-estimator:hover label.sk-toggleable__label-arrow:before {color: black;}#sk-container-id-2 div.sk-toggleable__content {max-height: 0;max-width: 0;overflow: hidden;text-align: left;background-color: #f0f8ff;}#sk-container-id-2 div.sk-toggleable__content pre {margin: 0.2em;color: black;border-radius: 0.25em;background-color: #f0f8ff;}#sk-container-id-2 input.sk-toggleable__control:checked~div.sk-toggleable__content {max-height: 200px;max-width: 100%;overflow: auto;}#sk-container-id-2 input.sk-toggleable__control:checked~label.sk-toggleable__label-arrow:before {content: \"▾\";}#sk-container-id-2 div.sk-estimator input.sk-toggleable__control:checked~label.sk-toggleable__label {background-color: #d4ebff;}#sk-container-id-2 div.sk-label input.sk-toggleable__control:checked~label.sk-toggleable__label {background-color: #d4ebff;}#sk-container-id-2 input.sk-hidden--visually {border: 0;clip: rect(1px 1px 1px 1px);clip: rect(1px, 1px, 1px, 1px);height: 1px;margin: -1px;overflow: hidden;padding: 0;position: absolute;width: 1px;}#sk-container-id-2 div.sk-estimator {font-family: monospace;background-color: #f0f8ff;border: 1px dotted black;border-radius: 0.25em;box-sizing: border-box;margin-bottom: 0.5em;}#sk-container-id-2 div.sk-estimator:hover {background-color: #d4ebff;}#sk-container-id-2 div.sk-parallel-item::after {content: \"\";width: 100%;border-bottom: 1px solid gray;flex-grow: 1;}#sk-container-id-2 div.sk-label:hover label.sk-toggleable__label {background-color: #d4ebff;}#sk-container-id-2 div.sk-serial::before {content: \"\";position: absolute;border-left: 1px solid gray;box-sizing: border-box;top: 0;bottom: 0;left: 50%;z-index: 0;}#sk-container-id-2 div.sk-serial {display: flex;flex-direction: column;align-items: center;background-color: white;padding-right: 0.2em;padding-left: 0.2em;position: relative;}#sk-container-id-2 div.sk-item {position: relative;z-index: 1;}#sk-container-id-2 div.sk-parallel {display: flex;align-items: stretch;justify-content: center;background-color: white;position: relative;}#sk-container-id-2 div.sk-item::before, #sk-container-id-2 div.sk-parallel-item::before {content: \"\";position: absolute;border-left: 1px solid gray;box-sizing: border-box;top: 0;bottom: 0;left: 50%;z-index: -1;}#sk-container-id-2 div.sk-parallel-item {display: flex;flex-direction: column;z-index: 1;position: relative;background-color: white;}#sk-container-id-2 div.sk-parallel-item:first-child::after {align-self: flex-end;width: 50%;}#sk-container-id-2 div.sk-parallel-item:last-child::after {align-self: flex-start;width: 50%;}#sk-container-id-2 div.sk-parallel-item:only-child::after {width: 0;}#sk-container-id-2 div.sk-dashed-wrapped {border: 1px dashed gray;margin: 0 0.4em 0.5em 0.4em;box-sizing: border-box;padding-bottom: 0.4em;background-color: white;}#sk-container-id-2 div.sk-label label {font-family: monospace;font-weight: bold;display: inline-block;line-height: 1.2em;}#sk-container-id-2 div.sk-label-container {text-align: center;}#sk-container-id-2 div.sk-container {/* jupyter's `normalize.less` sets `[hidden] { display: none; }` but bootstrap.min.css set `[hidden] { display: none !important; }` so we also need the `!important` here to be able to override the default hidden behavior on the sphinx rendered scikit-learn.org. See: https://github.com/scikit-learn/scikit-learn/issues/21755 */display: inline-block !important;position: relative;}#sk-container-id-2 div.sk-text-repr-fallback {display: none;}</style><div id=\"sk-container-id-2\" class=\"sk-top-container\"><div class=\"sk-text-repr-fallback\"><pre>Ridge(fit_intercept=False, random_state=0, solver=&#x27;lsqr&#x27;)</pre><b>In a Jupyter environment, please rerun this cell to show the HTML representation or trust the notebook. <br />On GitHub, the HTML representation is unable to render, please try loading this page with nbviewer.org.</b></div><div class=\"sk-container\" hidden><div class=\"sk-item\"><div class=\"sk-estimator sk-toggleable\"><input class=\"sk-toggleable__control sk-hidden--visually\" id=\"sk-estimator-id-2\" type=\"checkbox\" checked><label for=\"sk-estimator-id-2\" class=\"sk-toggleable__label sk-toggleable__label-arrow\">Ridge</label><div class=\"sk-toggleable__content\"><pre>Ridge(fit_intercept=False, random_state=0, solver=&#x27;lsqr&#x27;)</pre></div></div></div></div></div>"
      ],
      "text/plain": [
       "Ridge(fit_intercept=False, random_state=0, solver='lsqr')"
      ]
     },
     "execution_count": 48,
     "metadata": {},
     "output_type": "execute_result"
    }
   ],
   "source": [
    "%%time\n",
    "ridge = Ridge(solver=\"lsqr\", fit_intercept=False, random_state=0)\n",
    "ridge.fit(X_train, y_train)"
   ]
  },
  {
   "cell_type": "markdown",
   "metadata": {},
   "source": [
    "#### 訓練データに対する予測｜Ridge回帰"
   ]
  },
  {
   "cell_type": "code",
   "execution_count": 49,
   "metadata": {
    "execution": {
     "iopub.execute_input": "2024-09-21T01:41:31.227552Z",
     "iopub.status.busy": "2024-09-21T01:41:31.226475Z",
     "iopub.status.idle": "2024-09-21T01:41:31.399574Z",
     "shell.execute_reply": "2024-09-21T01:41:31.398274Z",
     "shell.execute_reply.started": "2024-09-21T01:41:31.227464Z"
    }
   },
   "outputs": [],
   "source": [
    "y_train_pred = ridge.predict(X_train)"
   ]
  },
  {
   "cell_type": "code",
   "execution_count": 50,
   "metadata": {
    "execution": {
     "iopub.execute_input": "2024-09-21T01:41:31.401664Z",
     "iopub.status.busy": "2024-09-21T01:41:31.401219Z",
     "iopub.status.idle": "2024-09-21T01:41:31.419555Z",
     "shell.execute_reply": "2024-09-21T01:41:31.418175Z",
     "shell.execute_reply.started": "2024-09-21T01:41:31.401614Z"
    }
   },
   "outputs": [],
   "source": [
    "y_min = np.append(y_train_pred, y_train).min()\n",
    "y_max = np.append(y_train_pred, y_train).max()\n",
    "y_margin = (y_max - y_min) * 0.1\n",
    "y_min -= y_margin\n",
    "y_max += y_margin"
   ]
  },
  {
   "cell_type": "code",
   "execution_count": 51,
   "metadata": {
    "execution": {
     "iopub.execute_input": "2024-09-21T01:41:31.421829Z",
     "iopub.status.busy": "2024-09-21T01:41:31.421131Z",
     "iopub.status.idle": "2024-09-21T01:41:34.436493Z",
     "shell.execute_reply": "2024-09-21T01:41:34.435134Z",
     "shell.execute_reply.started": "2024-09-21T01:41:31.421765Z"
    }
   },
   "outputs": [
    {
     "data": {
      "image/png": "[encoded data removed]",
      "text/plain": [
       "<Figure size 640x480 with 1 Axes>"
      ]
     },
     "metadata": {},
     "output_type": "display_data"
    }
   ],
   "source": [
    "plt.scatter(y_train_pred, y_train, alpha=0.3)\n",
    "plt.plot([y_min,y_max], [y_min,y_max])\n",
    "plt.gca().set_aspect('equal', adjustable='box')\n",
    "plt.xlim(y_min, y_max)\n",
    "plt.ylim(y_min, y_max)\n",
    "plt.title('Train data')\n",
    "plt.xlabel('Pred')\n",
    "plt.ylabel('True')\n",
    "plt.show()"
   ]
  },
  {
   "cell_type": "code",
   "execution_count": 52,
   "metadata": {
    "execution": {
     "iopub.execute_input": "2024-09-21T01:41:34.438522Z",
     "iopub.status.busy": "2024-09-21T01:41:34.438087Z",
     "iopub.status.idle": "2024-09-21T01:41:34.444962Z",
     "shell.execute_reply": "2024-09-21T01:41:34.443568Z",
     "shell.execute_reply.started": "2024-09-21T01:41:34.438478Z"
    }
   },
   "outputs": [],
   "source": [
    "# RMSLE関数の定義\n",
    "def rmsle(y_true, y_pred):  \n",
    "    return np.sqrt(mean_squared_log_error(y_true, y_pred))"
   ]
  },
  {
   "cell_type": "code",
   "execution_count": 53,
   "metadata": {
    "execution": {
     "iopub.execute_input": "2024-09-21T01:41:34.446980Z",
     "iopub.status.busy": "2024-09-21T01:41:34.446558Z",
     "iopub.status.idle": "2024-09-21T01:41:34.554917Z",
     "shell.execute_reply": "2024-09-21T01:41:34.553568Z",
     "shell.execute_reply.started": "2024-09-21T01:41:34.446939Z"
    }
   },
   "outputs": [
    {
     "name": "stdout",
     "output_type": "stream",
     "text": [
      "RMSLE for train data: 0.424509271667409\n"
     ]
    }
   ],
   "source": [
    "# モデルの評価\n",
    "ridge_train_rmsle = rmsle(np.expm1(y_train), np.expm1(y_train_pred))\n",
    "print(\"RMSLE for train data:\", ridge_train_rmsle)"
   ]
  },
  {
   "cell_type": "markdown",
   "metadata": {},
   "source": [
    "#### テストデータに対する予測｜Ridge回帰"
   ]
  },
  {
   "cell_type": "code",
   "execution_count": 54,
   "metadata": {
    "execution": {
     "iopub.execute_input": "2024-09-21T01:41:34.556691Z",
     "iopub.status.busy": "2024-09-21T01:41:34.556273Z",
     "iopub.status.idle": "2024-09-21T01:41:34.618305Z",
     "shell.execute_reply": "2024-09-21T01:41:34.616899Z",
     "shell.execute_reply.started": "2024-09-21T01:41:34.556649Z"
    }
   },
   "outputs": [],
   "source": [
    "y_test_pred = ridge.predict(X_test)"
   ]
  },
  {
   "cell_type": "code",
   "execution_count": 55,
   "metadata": {
    "execution": {
     "iopub.execute_input": "2024-09-21T01:41:34.620566Z",
     "iopub.status.busy": "2024-09-21T01:41:34.620151Z",
     "iopub.status.idle": "2024-09-21T01:41:34.633191Z",
     "shell.execute_reply": "2024-09-21T01:41:34.631252Z",
     "shell.execute_reply.started": "2024-09-21T01:41:34.620525Z"
    }
   },
   "outputs": [],
   "source": [
    "y_min = np.append(y_test_pred, y_test).min()\n",
    "y_max = np.append(y_test_pred, y_test).max()\n",
    "y_margin = (y_max - y_min) * 0.1\n",
    "y_min -= y_margin\n",
    "y_max += y_margin"
   ]
  },
  {
   "cell_type": "code",
   "execution_count": 56,
   "metadata": {
    "execution": {
     "iopub.execute_input": "2024-09-21T01:41:34.636446Z",
     "iopub.status.busy": "2024-09-21T01:41:34.635940Z",
     "iopub.status.idle": "2024-09-21T01:41:36.040301Z",
     "shell.execute_reply": "2024-09-21T01:41:36.038955Z",
     "shell.execute_reply.started": "2024-09-21T01:41:34.636396Z"
    }
   },
   "outputs": [
    {
     "data": {
      "image/png": "[encoded data removed]",
      "text/plain": [
       "<Figure size 640x480 with 1 Axes>"
      ]
     },
     "metadata": {},
     "output_type": "display_data"
    }
   ],
   "source": [
    "plt.scatter(y_test_pred, y_test, alpha=0.3)\n",
    "plt.plot([y_min,y_max], [y_min,y_max])\n",
    "plt.gca().set_aspect('equal', adjustable='box')\n",
    "plt.xlim(y_min, y_max)\n",
    "plt.ylim(y_min, y_max)\n",
    "plt.title('Test data')\n",
    "plt.xlabel('Pred')\n",
    "plt.ylabel('True')\n",
    "plt.show()"
   ]
  },
  {
   "cell_type": "code",
   "execution_count": 57,
   "metadata": {
    "execution": {
     "iopub.execute_input": "2024-09-21T01:41:36.042151Z",
     "iopub.status.busy": "2024-09-21T01:41:36.041782Z",
     "iopub.status.idle": "2024-09-21T01:41:36.099354Z",
     "shell.execute_reply": "2024-09-21T01:41:36.097766Z",
     "shell.execute_reply.started": "2024-09-21T01:41:36.042112Z"
    }
   },
   "outputs": [
    {
     "name": "stdout",
     "output_type": "stream",
     "text": [
      "RMSLE for test data: 0.46815809066679087\n"
     ]
    }
   ],
   "source": [
    "# モデルの評価\n",
    "ridge_test_rmsle = rmsle(np.expm1(y_test), np.expm1(y_test_pred))\n",
    "print(\"RMSLE for test data:\", ridge_test_rmsle)"
   ]
  },
  {
   "cell_type": "code",
   "execution_count": 59,
   "metadata": {
    "_cell_guid": "e6e547d9-1b13-44a7-9cfa-1f4e6b1fe043",
    "_uuid": "1d836e0c-8b07-433b-96bd-682afbc0e650",
    "collapsed": false,
    "execution": {
     "iopub.execute_input": "2024-09-21T01:43:08.957357Z",
     "iopub.status.busy": "2024-09-21T01:43:08.956476Z",
     "iopub.status.idle": "2024-09-21T01:43:08.967264Z",
     "shell.execute_reply": "2024-09-21T01:43:08.965540Z",
     "shell.execute_reply.started": "2024-09-21T01:43:08.957299Z"
    },
    "jupyter": {
     "outputs_hidden": false
    }
   },
   "outputs": [
    {
     "name": "stdout",
     "output_type": "stream",
     "text": [
      "0:12:48.490017\n"
     ]
    }
   ],
   "source": [
    "stop_real = datetime.now()\n",
    "execution_time_real = stop_real - start_real\n",
    "print(execution_time_real)"
   ]
  },
  {
   "cell_type": "code",
   "execution_count": null,
   "metadata": {
    "_cell_guid": "4697644d-2ed2-4801-a470-e74985f7a88c",
    "_uuid": "26324831-d894-4db8-8063-63251640f236",
    "collapsed": false,
    "jupyter": {
     "outputs_hidden": false
    }
   },
   "outputs": [],
   "source": []
  }
 ],
 "metadata": {
  "kaggle": {
   "accelerator": "none",
   "dataSources": [
    {
     "datasetId": 5545433,
     "sourceId": 9175870,
     "sourceType": "datasetVersion"
    }
   ],
   "dockerImageVersionId": 30761,
   "isGpuEnabled": false,
   "isInternetEnabled": false,
   "language": "python",
   "sourceType": "notebook"
  },
  "kernelspec": {
   "display_name": "Python 3 (ipykernel)",
   "language": "python",
   "name": "python3"
  },
  "language_info": {
   "codemirror_mode": {
    "name": "ipython",
    "version": 3
   },
   "file_extension": ".py",
   "mimetype": "text/x-python",
   "name": "python",
   "nbconvert_exporter": "python",
   "pygments_lexer": "ipython3",
   "version": "3.9.15"
  }
 },
 "nbformat": 4,
 "nbformat_minor": 4
}
