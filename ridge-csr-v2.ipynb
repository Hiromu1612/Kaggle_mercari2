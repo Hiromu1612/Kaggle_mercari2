{
 "cells": [
  {
   "cell_type": "markdown",
   "metadata": {
    "_cell_guid": "af1d9dae-a336-4558-8200-98ce0a82acfb",
    "_uuid": "c0b2c54f-5e49-46ec-b07e-50f4ca3001d4"
   },
   "source": [
    "#### データの全体像\n",
    "train：1,482,535個のユーザーが投稿した商品\n",
    "\n",
    "test：693,359行で「価格（Price）」の項目がテストデータは含まれていないため、列数は「7」となっている \n",
    "\n",
    "* train_id / test _id – ユーザー投稿のID\n",
    "* name – 投稿のタイトル。タイトルに価格に関する情報がある場合（例：$20）はメルカリが事前に削除をして[rm]と置き換えている。\n",
    "* item_condition_id – ユーザーが指定した商品の状態(1~5,大きい方が状態が良い)\n",
    "* category_name – 投稿カテゴリー\n",
    "* brand_name – ブランドの名前\n",
    "* price – 訓練データのみ。実際に売られた価格。米ドル表示。今回のチャレンジの予測ターゲットとなる。\n",
    "* shipping – 送料のフラグ。「1」は販売者負担。「0」は購入者負担。\n",
    "* item_description – ユーザーが投稿した商品説明の全文。タイトルと同様に価格情報がある場合は[rm]と置き換えられている。"
   ]
  },
  {
   "cell_type": "code",
   "execution_count": 1,
   "metadata": {
    "execution": {
     "iopub.execute_input": "2024-09-21T01:30:20.464170Z",
     "iopub.status.busy": "2024-09-21T01:30:20.460574Z",
     "iopub.status.idle": "2024-09-21T01:30:20.475079Z",
     "shell.execute_reply": "2024-09-21T01:30:20.473139Z",
     "shell.execute_reply.started": "2024-09-21T01:30:20.464057Z"
    }
   },
   "outputs": [],
   "source": [
    "from datetime import datetime\n",
    "start_real = datetime.now() # 全体の処理時間の計測を開始する"
   ]
  },
  {
   "cell_type": "markdown",
   "metadata": {},
   "source": [
    "#### ライブラリのインポート"
   ]
  },
  {
   "cell_type": "code",
   "execution_count": 2,
   "metadata": {
    "_cell_guid": "e189abd2-46d2-4f2e-977b-50a25d3521d4",
    "_uuid": "96487335-2c48-482e-be5d-e80a6a096b5d",
    "collapsed": false,
    "execution": {
     "iopub.execute_input": "2024-09-21T01:30:20.480359Z",
     "iopub.status.busy": "2024-09-21T01:30:20.478743Z",
     "iopub.status.idle": "2024-09-21T01:30:20.496871Z",
     "shell.execute_reply": "2024-09-21T01:30:20.495250Z",
     "shell.execute_reply.started": "2024-09-21T01:30:20.480304Z"
    },
    "jupyter": {
     "outputs_hidden": false
    }
   },
   "outputs": [],
   "source": [
    "import numpy as np\n",
    "import pandas as pd\n",
    "import matplotlib.pyplot as plt\n",
    "import seaborn as sns\n",
    "from scipy.sparse import hstack\n",
    "%matplotlib inline\n",
    "\n",
    "from sklearn.model_selection import train_test_split\n",
    "from sklearn.feature_extraction.text import CountVectorizer, TfidfVectorizer\n",
    "from sklearn.preprocessing import OneHotEncoder\n",
    "\n",
    "from sklearn.metrics import mean_squared_log_error\n",
    "from sklearn.linear_model import Ridge\n",
    "\n",
    "import gc\n",
    "import warnings\n",
    "warnings.simplefilter(\"ignore\")"
   ]
  },
  {
   "cell_type": "markdown",
   "metadata": {
    "_cell_guid": "19582f35-5a6a-4551-84e0-300bacebdd4c",
    "_uuid": "1ded81ac-afbf-4cbe-a8d7-5395f4536e62"
   },
   "source": [
    "#### データの読み込み"
   ]
  },
  {
   "cell_type": "code",
   "execution_count": 3,
   "metadata": {
    "_cell_guid": "b774ed87-a143-49f9-a9fc-a1877e602cfc",
    "_uuid": "6498a732-29e5-4505-b622-dfe51d096f88",
    "collapsed": false,
    "execution": {
     "iopub.execute_input": "2024-09-21T01:30:20.500179Z",
     "iopub.status.busy": "2024-09-21T01:30:20.499565Z",
     "iopub.status.idle": "2024-09-21T01:30:32.647981Z",
     "shell.execute_reply": "2024-09-21T01:30:32.646197Z",
     "shell.execute_reply.started": "2024-09-21T01:30:20.500131Z"
    },
    "jupyter": {
     "outputs_hidden": false
    }
   },
   "outputs": [
    {
     "name": "stdout",
     "output_type": "stream",
     "text": [
      "CPU times: user 3.37 s, sys: 300 ms, total: 3.67 s\n",
      "Wall time: 3.7 s\n"
     ]
    }
   ],
   "source": [
    "%%time\n",
    "# train = pd.read_csv(\"/kaggle/input/mercari-dataset/train.tsv\", delimiter='\\t')\n",
    "# test = pd.read_csv(\"/kaggle/input/mercari-dataset/test.tsv\", delimiter='\\t')\n",
    "train = pd.read_csv(\"train.tsv\", delimiter='\\t')\n",
    "test = pd.read_csv(\"test.tsv\", delimiter='\\t')"
   ]
  },
  {
   "cell_type": "code",
   "execution_count": 4,
   "metadata": {},
   "outputs": [
    {
     "name": "stdout",
     "output_type": "stream",
     "text": [
      "3ドル以下の割合 0.0005895307699312327\n",
      "3-10ドルの割合 18.64117365578226\n",
      "3-20ドルの割合 56.20617671653637\n",
      "3-30ドルの割合 75.1545731445992\n",
      "3-40ドルの割合 84.15096300705761\n",
      "3-50ドルの割合 89.24497574006469\n",
      "3-60ドルの割合 92.29661845725843\n",
      "3-70ドルの割合 94.25678343426735\n",
      "3-80ドルの割合 95.49195126280573\n",
      "3-90ドルの割合 96.42084120456703\n",
      "3-100ドルの割合 97.00923490596027\n",
      "3-150ドルの割合 98.624516674192\n",
      "3-250ドルの割合 99.56494771746033\n",
      "3-2000ドルの割合 99.9993925736049\n"
     ]
    }
   ],
   "source": [
    "#trainのpriceで3ドル未満の割合\n",
    "print(\"3ドル以下の割合\", train[train[\"price\"] < 3].shape[0] / train.shape[0])\n",
    "#3ドル未満のデータを削除\n",
    "train = train.drop(train[train[\"price\"] < 3].index)\n",
    "\n",
    "#train[\"price\"]で範囲別の割合\n",
    "print(\"3-10ドルの割合\", train[train[\"price\"] < 10].shape[0] / (train.shape[0]*0.01))\n",
    "print(\"3-20ドルの割合\", train[train[\"price\"] < 20].shape[0] / (train.shape[0]*0.01))\n",
    "print(\"3-30ドルの割合\", train[train[\"price\"] < 30].shape[0] / (train.shape[0]*0.01))\n",
    "print(\"3-40ドルの割合\", train[train[\"price\"] < 40].shape[0] / (train.shape[0]*0.01))\n",
    "print(\"3-50ドルの割合\", train[train[\"price\"] < 50].shape[0] / (train.shape[0]*0.01))\n",
    "print(\"3-60ドルの割合\", train[train[\"price\"] < 60].shape[0] / (train.shape[0]*0.01))\n",
    "print(\"3-70ドルの割合\", train[train[\"price\"] < 70].shape[0] / (train.shape[0]*0.01))\n",
    "print(\"3-80ドルの割合\", train[train[\"price\"] < 80].shape[0] / (train.shape[0]*0.01))\n",
    "print(\"3-90ドルの割合\", train[train[\"price\"] < 90].shape[0] / (train.shape[0]*0.01))\n",
    "print(\"3-100ドルの割合\", train[train[\"price\"] < 100].shape[0] / (train.shape[0]*0.01))\n",
    "print(\"3-150ドルの割合\", train[train[\"price\"] < 150].shape[0] / (train.shape[0]*0.01))\n",
    "print(\"3-250ドルの割合\", train[train[\"price\"] < 250].shape[0] / (train.shape[0]*0.01))\n",
    "print(\"3-2000ドルの割合\", train[train[\"price\"] < 2000].shape[0] / (train.shape[0]*0.01))"
   ]
  },
  {
   "cell_type": "markdown",
   "metadata": {
    "_cell_guid": "4baef1cf-63aa-4f3d-b518-0b7081686042",
    "_uuid": "0f17cbc3-5899-4c22-a0a0-26b0424db7d2"
   },
   "source": [
    "#### データの前処理"
   ]
  },
  {
   "cell_type": "code",
   "execution_count": 5,
   "metadata": {},
   "outputs": [],
   "source": [
    "# 変更点4 3ドル以上2000ドル以下のデータのみを使用する -0.0042\n",
    "train = train[(train[\"price\"] >= 3) & (train[\"price\"] <= 2000)]"
   ]
  },
  {
   "cell_type": "markdown",
   "metadata": {},
   "source": [
    "#### `price`を対数変換"
   ]
  },
  {
   "cell_type": "code",
   "execution_count": 6,
   "metadata": {
    "execution": {
     "iopub.execute_input": "2024-09-21T01:30:35.751993Z",
     "iopub.status.busy": "2024-09-21T01:30:35.751584Z",
     "iopub.status.idle": "2024-09-21T01:30:35.798490Z",
     "shell.execute_reply": "2024-09-21T01:30:35.797212Z",
     "shell.execute_reply.started": "2024-09-21T01:30:35.751953Z"
    }
   },
   "outputs": [
    {
     "name": "stdout",
     "output_type": "stream",
     "text": [
      "count    1.481658e+06\n",
      "mean     2.980807e+00\n",
      "std      7.458991e-01\n",
      "min      1.386294e+00\n",
      "25%      2.397895e+00\n",
      "50%      2.890372e+00\n",
      "75%      3.401197e+00\n",
      "max      7.601402e+00\n",
      "Name: price, dtype: float64\n",
      "CPU times: user 36.2 ms, sys: 3.29 ms, total: 39.5 ms\n",
      "Wall time: 38.7 ms\n"
     ]
    }
   ],
   "source": [
    "%%time\n",
    "train['price'] = np.log1p(train['price'])\n",
    "print(train['price'].describe())"
   ]
  },
  {
   "cell_type": "code",
   "execution_count": 7,
   "metadata": {},
   "outputs": [],
   "source": [
    "#変更点4　217万点中1万点削除 -0.0052\n",
    "#母数217万点に対して、category_nameの1万点は少ないからmissingに置き換えず、単純にdrop\n",
    "train.dropna(subset=['category_name'], inplace=True)\n",
    "test.dropna(subset=['category_name'], inplace=True)"
   ]
  },
  {
   "cell_type": "markdown",
   "metadata": {
    "_cell_guid": "8955724f-6ee3-4732-80dd-10f5c7fb9f4d",
    "_uuid": "13605d60-6537-408f-8820-c4c1523b115e"
   },
   "source": [
    "#### `category_name`を3等分する"
   ]
  },
  {
   "cell_type": "code",
   "execution_count": 8,
   "metadata": {
    "_cell_guid": "989abbe6-3632-4965-926c-bf32acba3c1b",
    "_uuid": "e2fab743-0672-4371-9356-144dc62ac84f",
    "collapsed": false,
    "execution": {
     "iopub.execute_input": "2024-09-21T01:30:37.788903Z",
     "iopub.status.busy": "2024-09-21T01:30:37.788310Z",
     "iopub.status.idle": "2024-09-21T01:31:26.339315Z",
     "shell.execute_reply": "2024-09-21T01:31:26.338104Z",
     "shell.execute_reply.started": "2024-09-21T01:30:37.788845Z"
    },
    "jupyter": {
     "outputs_hidden": false
    }
   },
   "outputs": [
    {
     "data": {
      "text/html": [
       "<div>\n",
       "<style scoped>\n",
       "    .dataframe tbody tr th:only-of-type {\n",
       "        vertical-align: middle;\n",
       "    }\n",
       "\n",
       "    .dataframe tbody tr th {\n",
       "        vertical-align: top;\n",
       "    }\n",
       "\n",
       "    .dataframe thead th {\n",
       "        text-align: right;\n",
       "    }\n",
       "</style>\n",
       "<table border=\"1\" class=\"dataframe\">\n",
       "  <thead>\n",
       "    <tr style=\"text-align: right;\">\n",
       "      <th></th>\n",
       "      <th>train_id</th>\n",
       "      <th>name</th>\n",
       "      <th>item_condition_id</th>\n",
       "      <th>category_name</th>\n",
       "      <th>brand_name</th>\n",
       "      <th>price</th>\n",
       "      <th>shipping</th>\n",
       "      <th>item_description</th>\n",
       "      <th>general_cat</th>\n",
       "      <th>sub_cat1</th>\n",
       "      <th>sub_cat2</th>\n",
       "    </tr>\n",
       "  </thead>\n",
       "  <tbody>\n",
       "    <tr>\n",
       "      <th>0</th>\n",
       "      <td>0</td>\n",
       "      <td>MLB Cincinnati Reds T Shirt Size XL</td>\n",
       "      <td>3</td>\n",
       "      <td>Men/Tops/T-shirts</td>\n",
       "      <td>NaN</td>\n",
       "      <td>2.397895</td>\n",
       "      <td>1</td>\n",
       "      <td>No description yet</td>\n",
       "      <td>Men</td>\n",
       "      <td>Tops</td>\n",
       "      <td>T-shirts</td>\n",
       "    </tr>\n",
       "    <tr>\n",
       "      <th>1</th>\n",
       "      <td>1</td>\n",
       "      <td>Razer BlackWidow Chroma Keyboard</td>\n",
       "      <td>3</td>\n",
       "      <td>Electronics/Computers &amp; Tablets/Components &amp; P...</td>\n",
       "      <td>Razer</td>\n",
       "      <td>3.970292</td>\n",
       "      <td>0</td>\n",
       "      <td>This keyboard is in great condition and works ...</td>\n",
       "      <td>Electronics</td>\n",
       "      <td>Computers &amp; Tablets</td>\n",
       "      <td>Components &amp; Parts</td>\n",
       "    </tr>\n",
       "    <tr>\n",
       "      <th>2</th>\n",
       "      <td>2</td>\n",
       "      <td>AVA-VIV Blouse</td>\n",
       "      <td>1</td>\n",
       "      <td>Women/Tops &amp; Blouses/Blouse</td>\n",
       "      <td>Target</td>\n",
       "      <td>2.397895</td>\n",
       "      <td>1</td>\n",
       "      <td>Adorable top with a hint of lace and a key hol...</td>\n",
       "      <td>Women</td>\n",
       "      <td>Tops &amp; Blouses</td>\n",
       "      <td>Blouse</td>\n",
       "    </tr>\n",
       "    <tr>\n",
       "      <th>3</th>\n",
       "      <td>3</td>\n",
       "      <td>Leather Horse Statues</td>\n",
       "      <td>1</td>\n",
       "      <td>Home/Home Décor/Home Décor Accents</td>\n",
       "      <td>NaN</td>\n",
       "      <td>3.583519</td>\n",
       "      <td>1</td>\n",
       "      <td>New with tags. Leather horses. Retail for [rm]...</td>\n",
       "      <td>Home</td>\n",
       "      <td>Home Décor</td>\n",
       "      <td>Home Décor Accents</td>\n",
       "    </tr>\n",
       "    <tr>\n",
       "      <th>4</th>\n",
       "      <td>4</td>\n",
       "      <td>24K GOLD plated rose</td>\n",
       "      <td>1</td>\n",
       "      <td>Women/Jewelry/Necklaces</td>\n",
       "      <td>NaN</td>\n",
       "      <td>3.806662</td>\n",
       "      <td>0</td>\n",
       "      <td>Complete with certificate of authenticity</td>\n",
       "      <td>Women</td>\n",
       "      <td>Jewelry</td>\n",
       "      <td>Necklaces</td>\n",
       "    </tr>\n",
       "  </tbody>\n",
       "</table>\n",
       "</div>"
      ],
      "text/plain": [
       "   train_id                                 name  item_condition_id  \\\n",
       "0         0  MLB Cincinnati Reds T Shirt Size XL                  3   \n",
       "1         1     Razer BlackWidow Chroma Keyboard                  3   \n",
       "2         2                       AVA-VIV Blouse                  1   \n",
       "3         3                Leather Horse Statues                  1   \n",
       "4         4                 24K GOLD plated rose                  1   \n",
       "\n",
       "                                       category_name brand_name     price  \\\n",
       "0                                  Men/Tops/T-shirts        NaN  2.397895   \n",
       "1  Electronics/Computers & Tablets/Components & P...      Razer  3.970292   \n",
       "2                        Women/Tops & Blouses/Blouse     Target  2.397895   \n",
       "3                 Home/Home Décor/Home Décor Accents        NaN  3.583519   \n",
       "4                            Women/Jewelry/Necklaces        NaN  3.806662   \n",
       "\n",
       "   shipping                                   item_description  general_cat  \\\n",
       "0         1                                 No description yet          Men   \n",
       "1         0  This keyboard is in great condition and works ...  Electronics   \n",
       "2         1  Adorable top with a hint of lace and a key hol...        Women   \n",
       "3         1  New with tags. Leather horses. Retail for [rm]...         Home   \n",
       "4         0          Complete with certificate of authenticity        Women   \n",
       "\n",
       "              sub_cat1            sub_cat2  \n",
       "0                 Tops            T-shirts  \n",
       "1  Computers & Tablets  Components & Parts  \n",
       "2       Tops & Blouses              Blouse  \n",
       "3           Home Décor  Home Décor Accents  \n",
       "4              Jewelry           Necklaces  "
      ]
     },
     "metadata": {},
     "output_type": "display_data"
    },
    {
     "data": {
      "text/html": [
       "<div>\n",
       "<style scoped>\n",
       "    .dataframe tbody tr th:only-of-type {\n",
       "        vertical-align: middle;\n",
       "    }\n",
       "\n",
       "    .dataframe tbody tr th {\n",
       "        vertical-align: top;\n",
       "    }\n",
       "\n",
       "    .dataframe thead th {\n",
       "        text-align: right;\n",
       "    }\n",
       "</style>\n",
       "<table border=\"1\" class=\"dataframe\">\n",
       "  <thead>\n",
       "    <tr style=\"text-align: right;\">\n",
       "      <th></th>\n",
       "      <th>test_id</th>\n",
       "      <th>name</th>\n",
       "      <th>item_condition_id</th>\n",
       "      <th>category_name</th>\n",
       "      <th>brand_name</th>\n",
       "      <th>shipping</th>\n",
       "      <th>item_description</th>\n",
       "      <th>general_cat</th>\n",
       "      <th>sub_cat1</th>\n",
       "      <th>sub_cat2</th>\n",
       "    </tr>\n",
       "  </thead>\n",
       "  <tbody>\n",
       "    <tr>\n",
       "      <th>0</th>\n",
       "      <td>0</td>\n",
       "      <td>Breast cancer \"I fight like a girl\" ring</td>\n",
       "      <td>1</td>\n",
       "      <td>Women/Jewelry/Rings</td>\n",
       "      <td>NaN</td>\n",
       "      <td>1</td>\n",
       "      <td>Size 7</td>\n",
       "      <td>Women</td>\n",
       "      <td>Jewelry</td>\n",
       "      <td>Rings</td>\n",
       "    </tr>\n",
       "    <tr>\n",
       "      <th>1</th>\n",
       "      <td>1</td>\n",
       "      <td>25 pcs NEW 7.5\"x12\" Kraft Bubble Mailers</td>\n",
       "      <td>1</td>\n",
       "      <td>Other/Office supplies/Shipping Supplies</td>\n",
       "      <td>NaN</td>\n",
       "      <td>1</td>\n",
       "      <td>25 pcs NEW 7.5\"x12\" Kraft Bubble Mailers Lined...</td>\n",
       "      <td>Other</td>\n",
       "      <td>Office supplies</td>\n",
       "      <td>Shipping Supplies</td>\n",
       "    </tr>\n",
       "    <tr>\n",
       "      <th>2</th>\n",
       "      <td>2</td>\n",
       "      <td>Coach bag</td>\n",
       "      <td>1</td>\n",
       "      <td>Vintage &amp; Collectibles/Bags and Purses/Handbag</td>\n",
       "      <td>Coach</td>\n",
       "      <td>1</td>\n",
       "      <td>Brand new coach bag. Bought for [rm] at a Coac...</td>\n",
       "      <td>Vintage &amp; Collectibles</td>\n",
       "      <td>Bags and Purses</td>\n",
       "      <td>Handbag</td>\n",
       "    </tr>\n",
       "    <tr>\n",
       "      <th>3</th>\n",
       "      <td>3</td>\n",
       "      <td>Floral Kimono</td>\n",
       "      <td>2</td>\n",
       "      <td>Women/Sweaters/Cardigan</td>\n",
       "      <td>NaN</td>\n",
       "      <td>0</td>\n",
       "      <td>-floral kimono -never worn -lightweight and pe...</td>\n",
       "      <td>Women</td>\n",
       "      <td>Sweaters</td>\n",
       "      <td>Cardigan</td>\n",
       "    </tr>\n",
       "    <tr>\n",
       "      <th>4</th>\n",
       "      <td>4</td>\n",
       "      <td>Life after Death</td>\n",
       "      <td>3</td>\n",
       "      <td>Other/Books/Religion &amp; Spirituality</td>\n",
       "      <td>NaN</td>\n",
       "      <td>1</td>\n",
       "      <td>Rediscovering life after the loss of a loved o...</td>\n",
       "      <td>Other</td>\n",
       "      <td>Books</td>\n",
       "      <td>Religion &amp; Spirituality</td>\n",
       "    </tr>\n",
       "  </tbody>\n",
       "</table>\n",
       "</div>"
      ],
      "text/plain": [
       "   test_id                                      name  item_condition_id  \\\n",
       "0        0  Breast cancer \"I fight like a girl\" ring                  1   \n",
       "1        1  25 pcs NEW 7.5\"x12\" Kraft Bubble Mailers                  1   \n",
       "2        2                                 Coach bag                  1   \n",
       "3        3                             Floral Kimono                  2   \n",
       "4        4                          Life after Death                  3   \n",
       "\n",
       "                                    category_name brand_name  shipping  \\\n",
       "0                             Women/Jewelry/Rings        NaN         1   \n",
       "1         Other/Office supplies/Shipping Supplies        NaN         1   \n",
       "2  Vintage & Collectibles/Bags and Purses/Handbag      Coach         1   \n",
       "3                         Women/Sweaters/Cardigan        NaN         0   \n",
       "4             Other/Books/Religion & Spirituality        NaN         1   \n",
       "\n",
       "                                    item_description             general_cat  \\\n",
       "0                                             Size 7                   Women   \n",
       "1  25 pcs NEW 7.5\"x12\" Kraft Bubble Mailers Lined...                   Other   \n",
       "2  Brand new coach bag. Bought for [rm] at a Coac...  Vintage & Collectibles   \n",
       "3  -floral kimono -never worn -lightweight and pe...                   Women   \n",
       "4  Rediscovering life after the loss of a loved o...                   Other   \n",
       "\n",
       "          sub_cat1                 sub_cat2  \n",
       "0          Jewelry                    Rings  \n",
       "1  Office supplies        Shipping Supplies  \n",
       "2  Bags and Purses                  Handbag  \n",
       "3         Sweaters                 Cardigan  \n",
       "4            Books  Religion & Spirituality  "
      ]
     },
     "metadata": {},
     "output_type": "display_data"
    },
    {
     "name": "stdout",
     "output_type": "stream",
     "text": [
      "CPU times: user 1.2 s, sys: 50.2 ms, total: 1.25 s\n",
      "Wall time: 1.25 s\n"
     ]
    }
   ],
   "source": [
    "%%time\n",
    "def split_cat(text):\n",
    "    try: return text.split(\"/\")\n",
    "    except: return (\"No Label\", \"No Label\", \"No Label\") # メモ: たとえば null としたらスコアは変化する？\n",
    "\n",
    "train['general_cat'] = train['category_name'].apply(lambda x: split_cat(x)[0])\n",
    "train['sub_cat1'] = train['category_name'].apply(lambda x: split_cat(x)[1])\n",
    "train['sub_cat2'] = train['category_name'].apply(lambda x: split_cat(x)[2])\n",
    "display(train.head())\n",
    "\n",
    "test['general_cat'] = test['category_name'].apply(lambda x: split_cat(x)[0])\n",
    "test['sub_cat1'] = test['category_name'].apply(lambda x: split_cat(x)[1])\n",
    "test['sub_cat2'] = test['category_name'].apply(lambda x: split_cat(x)[2])\n",
    "display(test.head())"
   ]
  },
  {
   "cell_type": "markdown",
   "metadata": {},
   "source": [
    "#### train, test を行方向に結合し、まとめて前処理できるようにする"
   ]
  },
  {
   "cell_type": "code",
   "execution_count": 9,
   "metadata": {
    "_cell_guid": "c002c856-7828-4f91-ad1d-f958c1caa0a2",
    "_uuid": "57d41e39-76dd-4de7-86d2-f0b53913634a",
    "collapsed": false,
    "execution": {
     "iopub.execute_input": "2024-09-21T01:31:26.341213Z",
     "iopub.status.busy": "2024-09-21T01:31:26.340858Z",
     "iopub.status.idle": "2024-09-21T01:31:27.386057Z",
     "shell.execute_reply": "2024-09-21T01:31:27.384457Z",
     "shell.execute_reply.started": "2024-09-21T01:31:26.341175Z"
    },
    "jupyter": {
     "outputs_hidden": false
    }
   },
   "outputs": [
    {
     "name": "stdout",
     "output_type": "stream",
     "text": [
      "(2165645, 10)\n"
     ]
    },
    {
     "data": {
      "text/html": [
       "<div>\n",
       "<style scoped>\n",
       "    .dataframe tbody tr th:only-of-type {\n",
       "        vertical-align: middle;\n",
       "    }\n",
       "\n",
       "    .dataframe tbody tr th {\n",
       "        vertical-align: top;\n",
       "    }\n",
       "\n",
       "    .dataframe thead th {\n",
       "        text-align: right;\n",
       "    }\n",
       "</style>\n",
       "<table border=\"1\" class=\"dataframe\">\n",
       "  <thead>\n",
       "    <tr style=\"text-align: right;\">\n",
       "      <th></th>\n",
       "      <th>id</th>\n",
       "      <th>name</th>\n",
       "      <th>item_condition_id</th>\n",
       "      <th>category_name</th>\n",
       "      <th>brand_name</th>\n",
       "      <th>shipping</th>\n",
       "      <th>item_description</th>\n",
       "      <th>general_cat</th>\n",
       "      <th>sub_cat1</th>\n",
       "      <th>sub_cat2</th>\n",
       "    </tr>\n",
       "  </thead>\n",
       "  <tbody>\n",
       "    <tr>\n",
       "      <th>0</th>\n",
       "      <td>0</td>\n",
       "      <td>MLB Cincinnati Reds T Shirt Size XL</td>\n",
       "      <td>3</td>\n",
       "      <td>Men/Tops/T-shirts</td>\n",
       "      <td>NaN</td>\n",
       "      <td>1</td>\n",
       "      <td>No description yet</td>\n",
       "      <td>Men</td>\n",
       "      <td>Tops</td>\n",
       "      <td>T-shirts</td>\n",
       "    </tr>\n",
       "    <tr>\n",
       "      <th>1</th>\n",
       "      <td>1</td>\n",
       "      <td>Razer BlackWidow Chroma Keyboard</td>\n",
       "      <td>3</td>\n",
       "      <td>Electronics/Computers &amp; Tablets/Components &amp; P...</td>\n",
       "      <td>Razer</td>\n",
       "      <td>0</td>\n",
       "      <td>This keyboard is in great condition and works ...</td>\n",
       "      <td>Electronics</td>\n",
       "      <td>Computers &amp; Tablets</td>\n",
       "      <td>Components &amp; Parts</td>\n",
       "    </tr>\n",
       "    <tr>\n",
       "      <th>2</th>\n",
       "      <td>2</td>\n",
       "      <td>AVA-VIV Blouse</td>\n",
       "      <td>1</td>\n",
       "      <td>Women/Tops &amp; Blouses/Blouse</td>\n",
       "      <td>Target</td>\n",
       "      <td>1</td>\n",
       "      <td>Adorable top with a hint of lace and a key hol...</td>\n",
       "      <td>Women</td>\n",
       "      <td>Tops &amp; Blouses</td>\n",
       "      <td>Blouse</td>\n",
       "    </tr>\n",
       "    <tr>\n",
       "      <th>3</th>\n",
       "      <td>3</td>\n",
       "      <td>Leather Horse Statues</td>\n",
       "      <td>1</td>\n",
       "      <td>Home/Home Décor/Home Décor Accents</td>\n",
       "      <td>NaN</td>\n",
       "      <td>1</td>\n",
       "      <td>New with tags. Leather horses. Retail for [rm]...</td>\n",
       "      <td>Home</td>\n",
       "      <td>Home Décor</td>\n",
       "      <td>Home Décor Accents</td>\n",
       "    </tr>\n",
       "    <tr>\n",
       "      <th>4</th>\n",
       "      <td>4</td>\n",
       "      <td>24K GOLD plated rose</td>\n",
       "      <td>1</td>\n",
       "      <td>Women/Jewelry/Necklaces</td>\n",
       "      <td>NaN</td>\n",
       "      <td>0</td>\n",
       "      <td>Complete with certificate of authenticity</td>\n",
       "      <td>Women</td>\n",
       "      <td>Jewelry</td>\n",
       "      <td>Necklaces</td>\n",
       "    </tr>\n",
       "  </tbody>\n",
       "</table>\n",
       "</div>"
      ],
      "text/plain": [
       "   id                                 name  item_condition_id  \\\n",
       "0   0  MLB Cincinnati Reds T Shirt Size XL                  3   \n",
       "1   1     Razer BlackWidow Chroma Keyboard                  3   \n",
       "2   2                       AVA-VIV Blouse                  1   \n",
       "3   3                Leather Horse Statues                  1   \n",
       "4   4                 24K GOLD plated rose                  1   \n",
       "\n",
       "                                       category_name brand_name  shipping  \\\n",
       "0                                  Men/Tops/T-shirts        NaN         1   \n",
       "1  Electronics/Computers & Tablets/Components & P...      Razer         0   \n",
       "2                        Women/Tops & Blouses/Blouse     Target         1   \n",
       "3                 Home/Home Décor/Home Décor Accents        NaN         1   \n",
       "4                            Women/Jewelry/Necklaces        NaN         0   \n",
       "\n",
       "                                    item_description  general_cat  \\\n",
       "0                                 No description yet          Men   \n",
       "1  This keyboard is in great condition and works ...  Electronics   \n",
       "2  Adorable top with a hint of lace and a key hol...        Women   \n",
       "3  New with tags. Leather horses. Retail for [rm]...         Home   \n",
       "4          Complete with certificate of authenticity        Women   \n",
       "\n",
       "              sub_cat1            sub_cat2  \n",
       "0                 Tops            T-shirts  \n",
       "1  Computers & Tablets  Components & Parts  \n",
       "2       Tops & Blouses              Blouse  \n",
       "3           Home Décor  Home Décor Accents  \n",
       "4              Jewelry           Necklaces  "
      ]
     },
     "execution_count": 9,
     "metadata": {},
     "output_type": "execute_result"
    }
   ],
   "source": [
    "y = train['price'] # 目的変数\n",
    "train.drop(['price'], axis=1, inplace=True)\n",
    "\n",
    "# 列名をidに変更\n",
    "train.rename(columns={'train_id': 'id'}, inplace=True)\n",
    "test.rename(columns={'test_id': 'id'}, inplace=True)\n",
    "\n",
    "# データフレームを結合\n",
    "train_test_combine = pd.concat([train,test]) # axis=0で行、axis=1で列に結合 デフォルトはaxis=0\n",
    "print(train_test_combine.shape)\n",
    "train_test_combine.head()"
   ]
  },
  {
   "cell_type": "markdown",
   "metadata": {
    "_cell_guid": "c861de08-477e-4069-9b27-f9f9b8d11f79",
    "_uuid": "aa08a666-8684-4bc2-9e36-3654fdf11c25"
   },
   "source": [
    "#### 欠損値処理\n"
   ]
  },
  {
   "cell_type": "code",
   "execution_count": 10,
   "metadata": {
    "execution": {
     "iopub.execute_input": "2024-09-21T01:31:27.388597Z",
     "iopub.status.busy": "2024-09-21T01:31:27.387601Z",
     "iopub.status.idle": "2024-09-21T01:31:29.269213Z",
     "shell.execute_reply": "2024-09-21T01:31:29.267699Z",
     "shell.execute_reply.started": "2024-09-21T01:31:27.388551Z"
    }
   },
   "outputs": [
    {
     "data": {
      "text/plain": [
       "id                        0\n",
       "name                      0\n",
       "item_condition_id         0\n",
       "category_name             0\n",
       "brand_name           922755\n",
       "shipping                  0\n",
       "item_description          4\n",
       "general_cat               0\n",
       "sub_cat1                  0\n",
       "sub_cat2                  0\n",
       "dtype: int64"
      ]
     },
     "execution_count": 10,
     "metadata": {},
     "output_type": "execute_result"
    }
   ],
   "source": [
    "train_test_combine.isnull().sum()"
   ]
  },
  {
   "cell_type": "code",
   "execution_count": 11,
   "metadata": {
    "_cell_guid": "61cc0cbb-0e67-43da-bab8-ac4a7cf9414b",
    "_uuid": "58227ec9-cd8d-461b-ad88-765efaf45f5b",
    "collapsed": false,
    "execution": {
     "iopub.execute_input": "2024-09-21T01:31:29.271398Z",
     "iopub.status.busy": "2024-09-21T01:31:29.270854Z",
     "iopub.status.idle": "2024-09-21T01:31:30.167498Z",
     "shell.execute_reply": "2024-09-21T01:31:30.165810Z",
     "shell.execute_reply.started": "2024-09-21T01:31:29.271334Z"
    },
    "jupyter": {
     "outputs_hidden": false
    }
   },
   "outputs": [
    {
     "name": "stdout",
     "output_type": "stream",
     "text": [
      "CPU times: user 117 ms, sys: 2.78 ms, total: 119 ms\n",
      "Wall time: 119 ms\n"
     ]
    }
   ],
   "source": [
    "%%time\n",
    "# 欠損値を 'missing'で埋める\n",
    "# メモ: null にしたらスコアは変化する？ missingと意味は同じだから変わらない\n",
    "train_test_combine['brand_name'].fillna(value='missing', inplace=True)\n",
    "train_test_combine['category_name'].fillna(value='missing', inplace=True)\n",
    "train_test_combine['item_description'].fillna(value='missing', inplace=True)"
   ]
  },
  {
   "cell_type": "code",
   "execution_count": 15,
   "metadata": {},
   "outputs": [
    {
     "data": {
      "text/html": [
       "<div>\n",
       "<style scoped>\n",
       "    .dataframe tbody tr th:only-of-type {\n",
       "        vertical-align: middle;\n",
       "    }\n",
       "\n",
       "    .dataframe tbody tr th {\n",
       "        vertical-align: top;\n",
       "    }\n",
       "\n",
       "    .dataframe thead th {\n",
       "        text-align: right;\n",
       "    }\n",
       "</style>\n",
       "<table border=\"1\" class=\"dataframe\">\n",
       "  <thead>\n",
       "    <tr style=\"text-align: right;\">\n",
       "      <th></th>\n",
       "      <th>brand_name</th>\n",
       "      <th>name</th>\n",
       "    </tr>\n",
       "  </thead>\n",
       "  <tbody>\n",
       "    <tr>\n",
       "      <th>0</th>\n",
       "      <td>MLB</td>\n",
       "      <td>MLB Cincinnati Reds T Shirt Size XL</td>\n",
       "    </tr>\n",
       "    <tr>\n",
       "      <th>1</th>\n",
       "      <td>Razer</td>\n",
       "      <td>Razer BlackWidow Chroma Keyboard</td>\n",
       "    </tr>\n",
       "    <tr>\n",
       "      <th>2</th>\n",
       "      <td>Target</td>\n",
       "      <td>AVA-VIV Blouse</td>\n",
       "    </tr>\n",
       "    <tr>\n",
       "      <th>3</th>\n",
       "      <td>missing</td>\n",
       "      <td>Leather Horse Statues</td>\n",
       "    </tr>\n",
       "    <tr>\n",
       "      <th>4</th>\n",
       "      <td>missing</td>\n",
       "      <td>24K GOLD plated rose</td>\n",
       "    </tr>\n",
       "    <tr>\n",
       "      <th>5</th>\n",
       "      <td>missing</td>\n",
       "      <td>Bundled items requested for Ruie</td>\n",
       "    </tr>\n",
       "    <tr>\n",
       "      <th>6</th>\n",
       "      <td>Acacia Swimwear</td>\n",
       "      <td>Acacia pacific tides santorini top</td>\n",
       "    </tr>\n",
       "    <tr>\n",
       "      <th>7</th>\n",
       "      <td>Soffe</td>\n",
       "      <td>Girls cheer and tumbling bundle of 7</td>\n",
       "    </tr>\n",
       "    <tr>\n",
       "      <th>8</th>\n",
       "      <td>Nike</td>\n",
       "      <td>Girls Nike Pro shorts</td>\n",
       "    </tr>\n",
       "    <tr>\n",
       "      <th>9</th>\n",
       "      <td>missing</td>\n",
       "      <td>Porcelain clown doll checker pants VTG</td>\n",
       "    </tr>\n",
       "  </tbody>\n",
       "</table>\n",
       "</div>"
      ],
      "text/plain": [
       "        brand_name                                    name\n",
       "0              MLB     MLB Cincinnati Reds T Shirt Size XL\n",
       "1            Razer        Razer BlackWidow Chroma Keyboard\n",
       "2           Target                          AVA-VIV Blouse\n",
       "3          missing                   Leather Horse Statues\n",
       "4          missing                    24K GOLD plated rose\n",
       "5          missing        Bundled items requested for Ruie\n",
       "6  Acacia Swimwear      Acacia pacific tides santorini top\n",
       "7            Soffe    Girls cheer and tumbling bundle of 7\n",
       "8             Nike                   Girls Nike Pro shorts\n",
       "9          missing  Porcelain clown doll checker pants VTG"
      ]
     },
     "execution_count": 15,
     "metadata": {},
     "output_type": "execute_result"
    }
   ],
   "source": [
    "#変更点4 ブランドリストあり -0.0041\n",
    "#brand_nameの重複なしのリストを作成\n",
    "brand_name_list = set(train_test_combine[\"brand_name\"].values) #set()で重複を削除\n",
    "def brandfinder(line):\n",
    "    brand = line[0] # 第1要素はブランド名\n",
    "    name = line[1]  # 第2要素は商品名\n",
    "    namesplit = name.split(' ') # 商品名をスペースで切り分ける\n",
    "    \n",
    "    if brand == 'missing':  # ブランド名が'missing'の場合\n",
    "        for x in namesplit: # 商品名から切り分けた単語を取り出す\n",
    "            if x in brand_name_list: # 単語がブランドリストに存在すればブランド名を返す              \n",
    "                return x # 単語がブランドリストに一致したら商品名を返す  変更点3 name(商品名全体)を返すのではなく、x(ブランド名)のみを返す\n",
    "    if name in brand_name_list:  # 商品名がブランドリストに存在すれば商品名を返す\n",
    "        return name\n",
    "    \n",
    "    return brand            # どれにも一致しなければブランド名を返す\n",
    "\n",
    "# ブランド名の付替えを実施\n",
    "train_test_combine['brand_name'] = train_test_combine[['brand_name','name']].apply(brandfinder, axis = 1) #axis=1で行方向\n",
    "\n",
    "#brandfinderの中身\n",
    "train_test_combine[['brand_name','name']].head(10)"
   ]
  },
  {
   "cell_type": "code",
   "execution_count": 16,
   "metadata": {
    "execution": {
     "iopub.execute_input": "2024-09-21T01:31:30.169636Z",
     "iopub.status.busy": "2024-09-21T01:31:30.169156Z",
     "iopub.status.idle": "2024-09-21T01:31:33.540228Z",
     "shell.execute_reply": "2024-09-21T01:31:33.538440Z",
     "shell.execute_reply.started": "2024-09-21T01:31:30.169593Z"
    }
   },
   "outputs": [
    {
     "data": {
      "text/plain": [
       "1169"
      ]
     },
     "execution_count": 16,
     "metadata": {},
     "output_type": "execute_result"
    }
   ],
   "source": [
    "# ベクトル化（カウントやTF-IDF）およびエンコーディング（ONE-HOT）の前にメモリをクリアしておく\n",
    "gc.collect()"
   ]
  },
  {
   "cell_type": "markdown",
   "metadata": {
    "execution": {
     "iopub.execute_input": "2024-09-20T00:08:44.468218Z",
     "iopub.status.busy": "2024-09-20T00:08:44.467615Z",
     "iopub.status.idle": "2024-09-20T00:08:44.474987Z",
     "shell.execute_reply": "2024-09-20T00:08:44.473601Z",
     "shell.execute_reply.started": "2024-09-20T00:08:44.468138Z"
    }
   },
   "source": [
    "#### 特徴エンコーディング｜CountVectorizer(), TfidfVectorizer()"
   ]
  },
  {
   "cell_type": "markdown",
   "metadata": {},
   "source": [
    "**`name`に CountVectorizer を使用する理由**\n",
    "- **短いテキスト**: 商品名は通常短いテキストで、単語の出現回数が直接的な特徴として有用であることが多い。\n",
    "- **単純な頻度**: 単語の出現頻度を重視することで、商品名の違いを強調できる。\n",
    "\n",
    "**`item_description`に TfidfVectorizer を使用する理由**\n",
    "- **長いテキスト**: 商品説明は通常長めで、単語数が多く、情報量が多い。\n",
    "- **重要度の重み付け**: TF-IDFは、頻出しすぎる単語の影響を抑え、より重要な単語に重みを置く。これにより、商品説明内の特徴的な情報を抽出しやすくなる。\n",
    "- **n-gram考慮**: n-gramを使うことで、単語の組み合わせが持つ特徴も捉えることができる。"
   ]
  },
  {
   "cell_type": "markdown",
   "metadata": {},
   "source": [
    "in', 'no', 'put', 'her', 'it', 'ltd', 'not', 'two', 'etc', 'via', 'has', 'we', 'an', 'can', 'own', 'be', 'yet', 'i', 'but', 'up', 're', 'its', 'off', 'if', 'nor', 'of', 'as', 'so', 'eg', 'to', 'you', 'is', 'go', 'may'とかがストップワード"
   ]
  },
  {
   "cell_type": "code",
   "execution_count": 17,
   "metadata": {
    "execution": {
     "iopub.execute_input": "2024-09-21T01:31:33.547362Z",
     "iopub.status.busy": "2024-09-21T01:31:33.546905Z",
     "iopub.status.idle": "2024-09-21T01:38:59.588471Z",
     "shell.execute_reply": "2024-09-21T01:38:59.586892Z",
     "shell.execute_reply.started": "2024-09-21T01:31:33.547318Z"
    }
   },
   "outputs": [
    {
     "name": "stdout",
     "output_type": "stream",
     "text": [
      "name vectorization shape: (2165645, 130463)\n",
      "item_description vectorization shape: (2165645, 50000)\n",
      "CPU times: user 1min 41s, sys: 6.34 s, total: 1min 48s\n",
      "Wall time: 1min 49s\n"
     ]
    }
   ],
   "source": [
    "%%time\n",
    "cnt_vec = CountVectorizer()\n",
    "X_name = cnt_vec.fit_transform(train_test_combine['name'])\n",
    "\n",
    "tfidf = TfidfVectorizer(max_features = 50000, ngram_range= (1,3) , stop_words='english')\n",
    "X_descp = tfidf.fit_transform(train_test_combine['item_description'])\n",
    "\n",
    "print('name vectorization shape:',X_name.shape)\n",
    "print('item_description vectorization shape:',X_descp.shape)"
   ]
  },
  {
   "cell_type": "markdown",
   "metadata": {},
   "source": [
    "## PCAで次元削減(スコア上がらないからコメントアウト)"
   ]
  },
  {
   "cell_type": "code",
   "execution_count": 18,
   "metadata": {},
   "outputs": [],
   "source": [
    "# #tf-idfでベクトル化したnameとitem_descriptionをPCAで次元削減\n",
    "# from sklearn.decomposition import PCA\n",
    "\n",
    "# def pca_reduce(input_df: pd.Series, col_prefix: str=None, n_components: int=2):\n",
    "#     \"\"\"PCAで圧縮\n",
    "#     \"\"\"\n",
    "#     _prefix = \"pca\"\n",
    "#     if col_prefix:\n",
    "#         _prefix = col_prefix + '_' + _prefix\n",
    "#     columns=[_prefix + f'_{i:03}' for i in range(n_components)]\n",
    "#     return pd.DataFrame(\n",
    "#             PCA(n_components=n_components).fit_transform(input_df),\n",
    "#             columns=columns,\n",
    "#         )\n",
    "\n",
    "# # nameとitem_descriptionをPCAで次元削減\n",
    "# X_name = pca_reduce(X_name, col_prefix='name', n_components=524)  #次元数\n",
    "# X_descp = pca_reduce(X_descp, col_prefix='descp', n_components=200)"
   ]
  },
  {
   "cell_type": "code",
   "execution_count": 19,
   "metadata": {},
   "outputs": [],
   "source": [
    "# print('name vectorization shape:',X_name.shape)\n",
    "# print('item_description vectorization shape:',X_descp.shape)"
   ]
  },
  {
   "cell_type": "markdown",
   "metadata": {},
   "source": [
    "## TF-IDFの代わりにWord2Vecを使用(スコア上がらないからコメントアウト)"
   ]
  },
  {
   "cell_type": "code",
   "execution_count": 20,
   "metadata": {},
   "outputs": [],
   "source": [
    "# !pip uninstall -y scipy\n",
    "# !pip install scipy\n",
    "# !pip uninstall -y gensim\n",
    "# !pip install gensim"
   ]
  },
  {
   "cell_type": "code",
   "execution_count": 21,
   "metadata": {},
   "outputs": [],
   "source": [
    "#TF-IDFの代わりにWord2Vecを使用\n",
    "# # ライブラリのインポート\n",
    "# from gensim.models import Word2Vec\n",
    "# from sklearn.preprocessing import scale\n",
    "\n",
    "# # データの前処理\n",
    "# sentences = train_test_combine['item_description'].apply(lambda x: x.split())\n",
    "\n",
    "# # Word2Vecモデルのトレーニング\n",
    "# word2vec_model = Word2Vec(sentences, vector_size=100, window=5, min_count=1, workers=4)\n",
    "\n",
    "# # ベクトル化関数の定義\n",
    "# def build_word_vector(text, size):\n",
    "#     vec = np.zeros(size).reshape((1, size))\n",
    "#     count = 0\n",
    "#     for word in text:\n",
    "#         try:\n",
    "#             vec += word2vec_model.wv[word].reshape((1, size))\n",
    "#             count += 1\n",
    "#         except KeyError:  # Word2Vecモデルに存在しない単語は無視\n",
    "#             continue\n",
    "#     if count != 0:\n",
    "#         vec /= count\n",
    "#     return vec\n",
    "\n",
    "# # 商品説明をベクトル化\n",
    "# X_descp = np.concatenate([build_word_vector(z, 100) for z in sentences])\n",
    "# X_descp = scale(X_descp)\n",
    "\n",
    "# print('item_description vectorization shape:', X_descp.shape)"
   ]
  },
  {
   "cell_type": "markdown",
   "metadata": {},
   "source": [
    "#### 特徴エンコーディング｜OneHotEncoder()"
   ]
  },
  {
   "cell_type": "markdown",
   "metadata": {},
   "source": [
    "#### `brand_name`に CountVectorizer() や TfidfVectorizer() ではなく OneHotEncoder() を使う理由\n",
    "\n",
    "1. **カテゴリデータの性質**:\n",
    "   - `brand_name`は通常、固有名詞で構成されるカテゴリデータである。\n",
    "   - 単語の頻度や重要度ではなく、単純なカテゴリとして扱うのが適切である。\n",
    "\n",
    "2. **OneHotEncoderの適用**:\n",
    "   - 各ブランドを個別のカテゴリとしてエンコードし、独立した特徴量に変換する。\n",
    "   - この方法により、ブランド間の違いを明確にモデルに示すことができる。\n",
    "\n",
    "3. **CountVectorizerやTfidfVectorizerの不適性**:\n",
    "   - これらはテキストデータの単語頻度や重要度を計算するための手法であり、カテゴリデータの単純な区別には向いていない。"
   ]
  },
  {
   "cell_type": "markdown",
   "metadata": {},
   "source": [
    "#### `item_condition_id`や`shipping`に OneHotEncoder() を適用する理由は、これらのデータがカテゴリデータとして扱われるべきだからである。\n",
    "\n",
    "1. **カテゴリデータとしての扱い**:\n",
    "   - これらの変数は整数型だが、実際にはカテゴリ的な意味合いを持つ。\n",
    "   - 例えば、`item_condition_id`は商品の状態を表すカテゴリであり、数値の大小に意味はない。\n",
    "\n",
    "2. **モデルへの影響**:\n",
    "   - 数値のまま扱うと、モデルはそれらに順序や距離の情報があると誤解する可能性がある。\n",
    "   - ワンホットエンコーディングにより、各カテゴリを独立した特徴量として扱うことで、誤解を防ぐ。\n",
    "\n",
    "3. **情報の独立性**:\n",
    "   - 各条件や配送方法を独立した特徴量にすることで、モデルが個別の影響を学習しやすくなる。"
   ]
  },
  {
   "cell_type": "code",
   "execution_count": 22,
   "metadata": {
    "execution": {
     "iopub.execute_input": "2024-09-21T01:38:59.590670Z",
     "iopub.status.busy": "2024-09-21T01:38:59.590239Z",
     "iopub.status.idle": "2024-09-21T01:39:04.410130Z",
     "shell.execute_reply": "2024-09-21T01:39:04.408594Z",
     "shell.execute_reply.started": "2024-09-21T01:38:59.590627Z"
    }
   },
   "outputs": [
    {
     "name": "stdout",
     "output_type": "stream",
     "text": [
      "CPU times: user 1.2 s, sys: 152 ms, total: 1.35 s\n",
      "Wall time: 1.35 s\n"
     ]
    }
   ],
   "source": [
    "%%time\n",
    "ohe = OneHotEncoder()\n",
    "\n",
    "# OneHotEncoderは2次元の入力を必要とするため、.reshape(-1, 1)で1次元のSeriesを2次元に変換\n",
    "X_brand_name = ohe.fit_transform(train_test_combine['brand_name'].values.reshape(-1, 1))\n",
    "X_item_condition_id = ohe.fit_transform(train_test_combine['item_condition_id'].values.reshape(-1, 1))\n",
    "X_shipping = ohe.fit_transform(train_test_combine['shipping'].values.reshape(-1, 1))\n",
    "X_general_cat = ohe.fit_transform(train_test_combine['general_cat'].values.reshape(-1, 1))\n",
    "X_sub_cat1 = ohe.fit_transform(train_test_combine['sub_cat1'].values.reshape(-1, 1))\n",
    "X_sub_cat2 = ohe.fit_transform(train_test_combine['sub_cat2'].values.reshape(-1, 1))"
   ]
  },
  {
   "cell_type": "code",
   "execution_count": 23,
   "metadata": {
    "execution": {
     "iopub.execute_input": "2024-09-21T01:39:04.412249Z",
     "iopub.status.busy": "2024-09-21T01:39:04.411815Z",
     "iopub.status.idle": "2024-09-21T01:39:04.420949Z",
     "shell.execute_reply": "2024-09-21T01:39:04.419219Z",
     "shell.execute_reply.started": "2024-09-21T01:39:04.412206Z"
    }
   },
   "outputs": [
    {
     "name": "stdout",
     "output_type": "stream",
     "text": [
      "brand encoding shape: (2165645, 5265)\n",
      "item condition id encoding shape: (2165645, 5)\n",
      "shipping encoding shape: (2165645, 2)\n",
      "general_cat encoding shape: (2165645, 10)\n",
      "sub_cat1 encoding shape: (2165645, 113)\n",
      "sub_cat2 encoding shape: (2165645, 882)\n"
     ]
    }
   ],
   "source": [
    "print('brand encoding shape:', X_brand_name.shape)\n",
    "print('item condition id encoding shape:', X_item_condition_id.shape)\n",
    "print('shipping encoding shape:', X_shipping.shape)\n",
    "print('general_cat encoding shape:', X_general_cat.shape)\n",
    "print('sub_cat1 encoding shape:', X_sub_cat1.shape)\n",
    "print('sub_cat2 encoding shape:', X_sub_cat2.shape)"
   ]
  },
  {
   "cell_type": "markdown",
   "metadata": {},
   "source": [
    "#### 特徴ベクトル化されたスパース行列とワンホットエンコードされたスパース行列を結合する"
   ]
  },
  {
   "cell_type": "markdown",
   "metadata": {},
   "source": [
    "このコードは、データを訓練用とテスト用に分割し、各特徴量を結合して疎行列（sparse matrix）を作成している。\n",
    "\n",
    "1. **データ分割**:\n",
    "   - `1482535`は訓練データとテストデータを分けるインデックス。\n",
    "   - `[:1482535]`は訓練データの範囲。\n",
    "   - `[1482535:]`はテストデータの範囲。\n",
    "\n",
    "2. **特徴量の結合**:\n",
    "   - `hstack()`を使用して各特徴量の行列を水平に結合。\n",
    "   - 結果として、全ての特徴量が一つの大きな行列として表現される。\n",
    "\n",
    "3. **疎行列（sparse matrix）**:\n",
    "   - `tocsr()`は、行圧縮形式（Compressed Sparse Row format）で格納。\n",
    "   - メモリ効率が良く、大規模データに適している。\n",
    "\n",
    "4. **ターゲット変数**:\n",
    "   - `y_train`は訓練データのターゲット変数を格納。"
   ]
  },
  {
   "cell_type": "markdown",
   "metadata": {},
   "source": [
    "**エンコーディングする前の列は説明変数に加えない**  \n",
    "情報の重複と多重共線性のリスクを避けるためである。エンコーディングされたデータは元のテキストデータの情報を包含しているため、元の列を残すと過剰な情報がモデルの性能を低下させる可能性がある。"
   ]
  },
  {
   "cell_type": "code",
   "execution_count": 24,
   "metadata": {},
   "outputs": [
    {
     "name": "stdout",
     "output_type": "stream",
     "text": [
      "(1475344, 10)\n"
     ]
    }
   ],
   "source": [
    "print(train.shape)"
   ]
  },
  {
   "cell_type": "code",
   "execution_count": 29,
   "metadata": {
    "execution": {
     "iopub.execute_input": "2024-09-21T01:39:04.441419Z",
     "iopub.status.busy": "2024-09-21T01:39:04.440838Z",
     "iopub.status.idle": "2024-09-21T01:39:07.500016Z",
     "shell.execute_reply": "2024-09-21T01:39:07.498587Z",
     "shell.execute_reply.started": "2024-09-21T01:39:04.441352Z"
    }
   },
   "outputs": [
    {
     "name": "stdout",
     "output_type": "stream",
     "text": [
      "CPU times: user 445 ms, sys: 626 ms, total: 1.07 s\n",
      "Wall time: 1.15 s\n"
     ]
    }
   ],
   "source": [
    "%%time\n",
    "combined_matrix_train = (X_name[:1475344], X_descp[:1475344], X_brand_name[:1475344], X_item_condition_id[:1475344], X_shipping[:1475344],\n",
    "                   X_general_cat[:1475344], X_sub_cat1[:1475344], X_sub_cat2[:1475344])\n",
    "X = hstack(combined_matrix_train).tocsr() # 説明変数\n",
    "\n",
    "combined_matrix_test = (X_name[1475344:], X_descp[1475344:], X_brand_name[1475344:], X_item_condition_id[1475344:], X_shipping[1475344:],\n",
    "                   X_general_cat[1475344:], X_sub_cat1[1475344:], X_sub_cat2[1475344:])\n",
    "test = hstack(combined_matrix_test).tocsr()"
   ]
  },
  {
   "cell_type": "code",
   "execution_count": 30,
   "metadata": {
    "_cell_guid": "a394948e-7765-4485-a8d0-523a8ac3f28f",
    "_uuid": "32bb95a2-a057-49e3-adfb-da07de4ebc41",
    "collapsed": false,
    "execution": {
     "iopub.execute_input": "2024-09-21T01:39:07.502076Z",
     "iopub.status.busy": "2024-09-21T01:39:07.501621Z",
     "iopub.status.idle": "2024-09-21T01:39:07.509152Z",
     "shell.execute_reply": "2024-09-21T01:39:07.507676Z",
     "shell.execute_reply.started": "2024-09-21T01:39:07.502034Z"
    },
    "jupyter": {
     "outputs_hidden": false
    }
   },
   "outputs": [
    {
     "name": "stdout",
     "output_type": "stream",
     "text": [
      "(1475344, 186740)\n",
      "(690301, 186740)\n"
     ]
    }
   ],
   "source": [
    "print(X.shape) # 説明変数\n",
    "print(test.shape)"
   ]
  },
  {
   "cell_type": "markdown",
   "metadata": {
    "_cell_guid": "d3894bae-96bd-4af9-9fb1-ae6871dfa661",
    "_uuid": "37cb4194-3c2b-42bc-b202-da5c84db592e"
   },
   "source": [
    "#### モデルの作成と学習"
   ]
  },
  {
   "cell_type": "markdown",
   "metadata": {
    "_cell_guid": "288926f5-9a0a-4d68-b124-47283ce934d4",
    "_uuid": "c575fffd-2cdb-4a6a-a648-7f7d38c405c5"
   },
   "source": [
    "#### X と y のうち、7割を訓練用 (train)、3割を検証用 (test) に分割する"
   ]
  },
  {
   "cell_type": "code",
   "execution_count": 31,
   "metadata": {},
   "outputs": [
    {
     "name": "stdout",
     "output_type": "stream",
     "text": [
      "Length of X: 1475344\n",
      "Length of y: 1475344\n"
     ]
    }
   ],
   "source": [
    "print(f\"Length of X: {X.shape[0]}\")\n",
    "print(f\"Length of y: {len(y)}\")"
   ]
  },
  {
   "cell_type": "code",
   "execution_count": 32,
   "metadata": {
    "_cell_guid": "92de30b5-b5a4-4422-8d7a-d60dca400334",
    "_uuid": "d322bae4-149a-4cbe-81ea-2b40daf3fc27",
    "collapsed": false,
    "execution": {
     "iopub.execute_input": "2024-09-21T01:39:07.511524Z",
     "iopub.status.busy": "2024-09-21T01:39:07.511056Z",
     "iopub.status.idle": "2024-09-21T01:39:08.091351Z",
     "shell.execute_reply": "2024-09-21T01:39:08.089979Z",
     "shell.execute_reply.started": "2024-09-21T01:39:07.511471Z"
    },
    "jupyter": {
     "outputs_hidden": false
    }
   },
   "outputs": [],
   "source": [
    "X_train, X_test, y_train, y_test = train_test_split(X, y, test_size=0.3, random_state=0)"
   ]
  },
  {
   "cell_type": "code",
   "execution_count": 33,
   "metadata": {
    "_cell_guid": "7d5727b1-68e1-4d3c-8697-afee413f7623",
    "_uuid": "0dbd1d10-6545-4423-8d0b-ea34352e1772",
    "collapsed": false,
    "execution": {
     "iopub.execute_input": "2024-09-21T01:39:08.093509Z",
     "iopub.status.busy": "2024-09-21T01:39:08.093087Z",
     "iopub.status.idle": "2024-09-21T01:39:08.101006Z",
     "shell.execute_reply": "2024-09-21T01:39:08.099501Z",
     "shell.execute_reply.started": "2024-09-21T01:39:08.093468Z"
    },
    "jupyter": {
     "outputs_hidden": false
    }
   },
   "outputs": [
    {
     "name": "stdout",
     "output_type": "stream",
     "text": [
      "(1032740, 186740)\n",
      "(1032740,)\n",
      "(442604, 186740)\n",
      "(442604,)\n"
     ]
    }
   ],
   "source": [
    "print(X_train.shape)\n",
    "print(y_train.shape)\n",
    "print(X_test.shape)\n",
    "print(y_test.shape)"
   ]
  },
  {
   "cell_type": "markdown",
   "metadata": {},
   "source": [
    "## Optuna"
   ]
  },
  {
   "cell_type": "markdown",
   "metadata": {},
   "source": [
    "#### モデルの学習｜Ridge回帰"
   ]
  },
  {
   "cell_type": "code",
   "execution_count": 35,
   "metadata": {},
   "outputs": [
    {
     "name": "stdout",
     "output_type": "stream",
     "text": [
      "Requirement already satisfied: optuna in /Users/1612h/.pyenv/versions/3.9.7/lib/python3.9/site-packages (3.6.1)\n",
      "Requirement already satisfied: alembic>=1.5.0 in /Users/1612h/.pyenv/versions/3.9.7/lib/python3.9/site-packages (from optuna) (1.13.2)\n",
      "Requirement already satisfied: colorlog in /Users/1612h/.pyenv/versions/3.9.7/lib/python3.9/site-packages (from optuna) (6.8.2)\n",
      "Requirement already satisfied: numpy in /Users/1612h/.pyenv/versions/3.9.7/lib/python3.9/site-packages (from optuna) (1.26.4)\n",
      "Requirement already satisfied: packaging>=20.0 in /Users/1612h/.pyenv/versions/3.9.7/lib/python3.9/site-packages (from optuna) (24.1)\n",
      "Requirement already satisfied: sqlalchemy>=1.3.0 in /Users/1612h/.pyenv/versions/3.9.7/lib/python3.9/site-packages (from optuna) (2.0.32)\n",
      "Requirement already satisfied: tqdm in /Users/1612h/.pyenv/versions/3.9.7/lib/python3.9/site-packages (from optuna) (4.66.5)\n",
      "Requirement already satisfied: PyYAML in /Users/1612h/.pyenv/versions/3.9.7/lib/python3.9/site-packages (from optuna) (6.0.2)\n",
      "Requirement already satisfied: Mako in /Users/1612h/.pyenv/versions/3.9.7/lib/python3.9/site-packages (from alembic>=1.5.0->optuna) (1.3.5)\n",
      "Requirement already satisfied: typing-extensions>=4 in /Users/1612h/.pyenv/versions/3.9.7/lib/python3.9/site-packages (from alembic>=1.5.0->optuna) (4.12.2)\n",
      "Requirement already satisfied: MarkupSafe>=0.9.2 in /Users/1612h/.pyenv/versions/3.9.7/lib/python3.9/site-packages (from Mako->alembic>=1.5.0->optuna) (2.1.5)\n"
     ]
    },
    {
     "name": "stderr",
     "output_type": "stream",
     "text": [
      "[I 2024-09-29 12:03:52,052] A new study created in memory with name: no-name-d2a74cfd-da4d-49d0-b674-518b1ef4ab23\n",
      "[I 2024-09-29 12:04:23,955] Trial 0 finished with value: 0.11852176279506652 and parameters: {'alpha': 0.0366937195083305, 'fit_intercept': True, 'solver': 'lsqr', 'random_state': 40}. Best is trial 0 with value: 0.11852176279506652.\n",
      "[I 2024-09-29 12:04:55,692] Trial 1 finished with value: 0.11866074270417655 and parameters: {'alpha': 0.011113789790960032, 'fit_intercept': True, 'solver': 'lsqr', 'random_state': 56}. Best is trial 0 with value: 0.11852176279506652.\n",
      "[I 2024-09-29 12:06:12,063] Trial 2 finished with value: 0.11765057942716783 and parameters: {'alpha': 0.2329945880967567, 'fit_intercept': True, 'solver': 'auto', 'random_state': 8}. Best is trial 2 with value: 0.11765057942716783.\n",
      "[I 2024-09-29 12:06:24,136] Trial 3 finished with value: 0.11563902040062556 and parameters: {'alpha': 10.497156028495988, 'fit_intercept': True, 'solver': 'lsqr', 'random_state': 16}. Best is trial 3 with value: 0.11563902040062556.\n",
      "[I 2024-09-29 12:06:57,709] Trial 4 finished with value: 0.11870119575802715 and parameters: {'alpha': 0.004689396724868036, 'fit_intercept': True, 'solver': 'lsqr', 'random_state': 14}. Best is trial 3 with value: 0.11563902040062556.\n",
      "[I 2024-09-29 12:07:13,617] Trial 5 finished with value: 0.11536801703426516 and parameters: {'alpha': 4.467610217326253, 'fit_intercept': True, 'solver': 'lsqr', 'random_state': 99}. Best is trial 5 with value: 0.11536801703426516.\n",
      "[I 2024-09-29 12:08:14,419] Trial 6 finished with value: 0.11683549907683595 and parameters: {'alpha': 0.5073419685961366, 'fit_intercept': True, 'solver': 'auto', 'random_state': 43}. Best is trial 5 with value: 0.11536801703426516.\n",
      "[I 2024-09-29 12:08:22,802] Trial 7 finished with value: 0.11645933552989089 and parameters: {'alpha': 21.854358617187163, 'fit_intercept': False, 'solver': 'auto', 'random_state': 3}. Best is trial 5 with value: 0.11536801703426516.\n",
      "[I 2024-09-29 12:11:20,078] Trial 8 finished with value: 0.1193160186012172 and parameters: {'alpha': 0.010350261875849975, 'fit_intercept': True, 'solver': 'sparse_cg', 'random_state': 39}. Best is trial 5 with value: 0.11536801703426516.\n",
      "[I 2024-09-29 12:11:50,499] Trial 9 finished with value: 0.11832141916424228 and parameters: {'alpha': 0.07478072986256766, 'fit_intercept': False, 'solver': 'lsqr', 'random_state': 61}. Best is trial 5 with value: 0.11536801703426516.\n"
     ]
    },
    {
     "name": "stdout",
     "output_type": "stream",
     "text": [
      "{'alpha': 4.467610217326253, 'fit_intercept': True, 'solver': 'lsqr', 'random_state': 99}\n"
     ]
    }
   ],
   "source": [
    "# 変更点4 Optunaで90回の最適化を実行する -0.0076\n",
    "!pip install optuna\n",
    "import optuna\n",
    "import numpy as np\n",
    "from sklearn.linear_model import Ridge\n",
    "from sklearn.metrics import mean_squared_log_error\n",
    "\n",
    "# RMSLE関数の定義\n",
    "def rmsle(y_true, y_pred):\n",
    "    # クリップして無限大や非常に大きな値を避ける\n",
    "    y_true_clipped = np.clip(y_true, 0, np.log(np.finfo(np.float64).max))\n",
    "    y_pred_clipped = np.clip(y_pred, 0, np.log(np.finfo(np.float64).max))\n",
    "    \n",
    "    return np.sqrt(mean_squared_log_error(y_true_clipped, y_pred_clipped))\n",
    "\n",
    "def objective(trial):\n",
    "    # ハイパーパラメータの設定\n",
    "    alpha = trial.suggest_loguniform('alpha', 1e-3, 1e+2)  # 正則化パラメータ\n",
    "    fit_intercept = trial.suggest_categorical('fit_intercept', [True, False])\n",
    "    solver = trial.suggest_categorical('solver', ['auto','lsqr','sparse_cg'])\n",
    "    random_state = trial.suggest_int('random_state', 0, 100)\n",
    "\n",
    "    # モデルの定義\n",
    "    model = Ridge(\n",
    "        alpha=alpha,\n",
    "        fit_intercept=fit_intercept,\n",
    "        solver=solver,\n",
    "        random_state=random_state\n",
    "    )\n",
    "    model.fit(X_train, y_train)\n",
    "    y_pred = model.predict(X_test)\n",
    "    return rmsle(y_test, y_pred)\n",
    "\n",
    "study = optuna.create_study(direction='minimize')\n",
    "# 最適化の実行\n",
    "study.optimize(objective, n_trials=10)\n",
    "\n",
    "print(study.best_params)  # 最適なパラメータ"
   ]
  },
  {
   "cell_type": "markdown",
   "metadata": {},
   "source": [
    "### optuna 50回最適化\n",
    "{'alpha': 5.026270314898842, 'fit_intercept': True, 'solver': 'lsqr', 'random_state': 35}\n",
    "### optuna 100回最適化\n",
    "{'alpha': 4.5554246746989415, 'fit_intercept': True, 'solver': 'auto', 'random_state': 24}"
   ]
  },
  {
   "cell_type": "markdown",
   "metadata": {},
   "source": [
    "## Grid search(スコア上がらないからコメントアウト)"
   ]
  },
  {
   "cell_type": "code",
   "execution_count": 34,
   "metadata": {},
   "outputs": [],
   "source": [
    "# # 必要なライブラリのインポート\n",
    "# import numpy as np\n",
    "# from sklearn.linear_model import Ridge\n",
    "# from sklearn.metrics import mean_squared_log_error\n",
    "# from sklearn.model_selection import GridSearchCV\n",
    "\n",
    "# # RMSLE関数の定義\n",
    "# def rmsle(y_true, y_pred):\n",
    "#     y_true_clipped = np.clip(y_true, 0, np.log(np.finfo(np.float64).max))\n",
    "#     y_pred_clipped = np.clip(y_pred, 0, np.log(np.finfo(np.float64).max))\n",
    "#     return np.sqrt(mean_squared_log_error(y_true_clipped, y_pred_clipped))\n",
    "\n",
    "# # ハイパーパラメータの設定\n",
    "# param_grid = {\n",
    "#     'alpha': [0.001, 0.01, 0.1, 1, 10, 100],\n",
    "#     'fit_intercept': [True, False],\n",
    "#     'solver': ['auto', 'lsqr', 'sparse_cg'],\n",
    "#     'random_state': [0, 42, 100]\n",
    "# }\n",
    "\n",
    "# # モデルの定義\n",
    "# model = Ridge()\n",
    "\n",
    "# # GridSearchCVの設定\n",
    "# grid_search = GridSearchCV(estimator=model, param_grid=param_grid, scoring='neg_mean_squared_log_error', cv=5, n_jobs=-1) #50回のクロスバリデーション\n",
    "\n",
    "# # モデルのトレーニング\n",
    "# grid_search.fit(X_train, y_train)\n",
    "\n",
    "# # 最適なパラメータの表示\n",
    "# print(\"Best parameters found: \", grid_search.best_params_)\n"
   ]
  },
  {
   "cell_type": "markdown",
   "metadata": {},
   "source": [
    "## ランダムサーチ(スコア上がらないからコメントアウト)"
   ]
  },
  {
   "cell_type": "code",
   "execution_count": 35,
   "metadata": {},
   "outputs": [],
   "source": [
    "# # 必要なライブラリのインポート\n",
    "# import numpy as np\n",
    "# from sklearn.linear_model import Ridge\n",
    "# from sklearn.metrics import mean_squared_log_error\n",
    "# from sklearn.model_selection import RandomizedSearchCV\n",
    "\n",
    "# # RMSLE関数の定義\n",
    "# def rmsle(y_true, y_pred):\n",
    "#     y_true_clipped = np.clip(y_true, 0, np.log(np.finfo(np.float64).max))\n",
    "#     y_pred_clipped = np.clip(y_pred, 0, np.log(np.finfo(np.float64).max))\n",
    "#     return np.sqrt(mean_squared_log_error(y_true_clipped, y_pred_clipped))\n",
    "\n",
    "# # ターゲットデータの負の値を0にクリップ\n",
    "# y_train_clipped = np.clip(y_train, 0, None)\n",
    "# y_test_clipped = np.clip(y_test, 0, None)\n",
    "\n",
    "# # ハイパーパラメータの設定\n",
    "# param_distributions = {\n",
    "#     'alpha': [0.001, 0.01, 0.1, 1, 10, 100],\n",
    "#     'fit_intercept': [True, False],\n",
    "#     'solver': ['auto', 'lsqr', 'sparse_cg'],\n",
    "#     'random_state': np.random.randint(0, 11, size=10)  # 0から100の間でランダムに選ぶ\n",
    "# }\n",
    "\n",
    "# # モデルの定義\n",
    "# model = Ridge()\n",
    "\n",
    "# # RandomizedSearchCVの設定（施行回数を30回に設定） 100回だと150分かかる\n",
    "# random_search = RandomizedSearchCV(estimator=model, param_distributions=param_distributions, scoring='neg_mean_squared_log_error', n_iter=10, cv=5, random_state=42)\n",
    "\n",
    "# # モデルのトレーニング\n",
    "# random_search.fit(X_train, y_train_clipped)\n",
    "\n",
    "# # 最適なパラメータの表示\n",
    "# print(\"Best parameters found: \", random_search.best_params_)"
   ]
  },
  {
   "cell_type": "code",
   "execution_count": null,
   "metadata": {},
   "outputs": [],
   "source": [
    "# {'alpha': 4.467610217326253, 'fit_intercept': True, 'solver': 'lsqr', 'random_state': 99}"
   ]
  },
  {
   "cell_type": "code",
   "execution_count": 36,
   "metadata": {
    "execution": {
     "iopub.execute_input": "2024-09-21T01:39:08.102967Z",
     "iopub.status.busy": "2024-09-21T01:39:08.102564Z",
     "iopub.status.idle": "2024-09-21T01:41:31.223830Z",
     "shell.execute_reply": "2024-09-21T01:41:31.219701Z",
     "shell.execute_reply.started": "2024-09-21T01:39:08.102926Z"
    }
   },
   "outputs": [
    {
     "data": {
      "text/html": [
       "<style>#sk-container-id-1 {\n",
       "  /* Definition of color scheme common for light and dark mode */\n",
       "  --sklearn-color-text: black;\n",
       "  --sklearn-color-line: gray;\n",
       "  /* Definition of color scheme for unfitted estimators */\n",
       "  --sklearn-color-unfitted-level-0: #fff5e6;\n",
       "  --sklearn-color-unfitted-level-1: #f6e4d2;\n",
       "  --sklearn-color-unfitted-level-2: #ffe0b3;\n",
       "  --sklearn-color-unfitted-level-3: chocolate;\n",
       "  /* Definition of color scheme for fitted estimators */\n",
       "  --sklearn-color-fitted-level-0: #f0f8ff;\n",
       "  --sklearn-color-fitted-level-1: #d4ebff;\n",
       "  --sklearn-color-fitted-level-2: #b3dbfd;\n",
       "  --sklearn-color-fitted-level-3: cornflowerblue;\n",
       "\n",
       "  /* Specific color for light theme */\n",
       "  --sklearn-color-text-on-default-background: var(--sg-text-color, var(--theme-code-foreground, var(--jp-content-font-color1, black)));\n",
       "  --sklearn-color-background: var(--sg-background-color, var(--theme-background, var(--jp-layout-color0, white)));\n",
       "  --sklearn-color-border-box: var(--sg-text-color, var(--theme-code-foreground, var(--jp-content-font-color1, black)));\n",
       "  --sklearn-color-icon: #696969;\n",
       "\n",
       "  @media (prefers-color-scheme: dark) {\n",
       "    /* Redefinition of color scheme for dark theme */\n",
       "    --sklearn-color-text-on-default-background: var(--sg-text-color, var(--theme-code-foreground, var(--jp-content-font-color1, white)));\n",
       "    --sklearn-color-background: var(--sg-background-color, var(--theme-background, var(--jp-layout-color0, #111)));\n",
       "    --sklearn-color-border-box: var(--sg-text-color, var(--theme-code-foreground, var(--jp-content-font-color1, white)));\n",
       "    --sklearn-color-icon: #878787;\n",
       "  }\n",
       "}\n",
       "\n",
       "#sk-container-id-1 {\n",
       "  color: var(--sklearn-color-text);\n",
       "}\n",
       "\n",
       "#sk-container-id-1 pre {\n",
       "  padding: 0;\n",
       "}\n",
       "\n",
       "#sk-container-id-1 input.sk-hidden--visually {\n",
       "  border: 0;\n",
       "  clip: rect(1px 1px 1px 1px);\n",
       "  clip: rect(1px, 1px, 1px, 1px);\n",
       "  height: 1px;\n",
       "  margin: -1px;\n",
       "  overflow: hidden;\n",
       "  padding: 0;\n",
       "  position: absolute;\n",
       "  width: 1px;\n",
       "}\n",
       "\n",
       "#sk-container-id-1 div.sk-dashed-wrapped {\n",
       "  border: 1px dashed var(--sklearn-color-line);\n",
       "  margin: 0 0.4em 0.5em 0.4em;\n",
       "  box-sizing: border-box;\n",
       "  padding-bottom: 0.4em;\n",
       "  background-color: var(--sklearn-color-background);\n",
       "}\n",
       "\n",
       "#sk-container-id-1 div.sk-container {\n",
       "  /* jupyter's `normalize.less` sets `[hidden] { display: none; }`\n",
       "     but bootstrap.min.css set `[hidden] { display: none !important; }`\n",
       "     so we also need the `!important` here to be able to override the\n",
       "     default hidden behavior on the sphinx rendered scikit-learn.org.\n",
       "     See: https://github.com/scikit-learn/scikit-learn/issues/21755 */\n",
       "  display: inline-block !important;\n",
       "  position: relative;\n",
       "}\n",
       "\n",
       "#sk-container-id-1 div.sk-text-repr-fallback {\n",
       "  display: none;\n",
       "}\n",
       "\n",
       "div.sk-parallel-item,\n",
       "div.sk-serial,\n",
       "div.sk-item {\n",
       "  /* draw centered vertical line to link estimators */\n",
       "  background-image: linear-gradient(var(--sklearn-color-text-on-default-background), var(--sklearn-color-text-on-default-background));\n",
       "  background-size: 2px 100%;\n",
       "  background-repeat: no-repeat;\n",
       "  background-position: center center;\n",
       "}\n",
       "\n",
       "/* Parallel-specific style estimator block */\n",
       "\n",
       "#sk-container-id-1 div.sk-parallel-item::after {\n",
       "  content: \"\";\n",
       "  width: 100%;\n",
       "  border-bottom: 2px solid var(--sklearn-color-text-on-default-background);\n",
       "  flex-grow: 1;\n",
       "}\n",
       "\n",
       "#sk-container-id-1 div.sk-parallel {\n",
       "  display: flex;\n",
       "  align-items: stretch;\n",
       "  justify-content: center;\n",
       "  background-color: var(--sklearn-color-background);\n",
       "  position: relative;\n",
       "}\n",
       "\n",
       "#sk-container-id-1 div.sk-parallel-item {\n",
       "  display: flex;\n",
       "  flex-direction: column;\n",
       "}\n",
       "\n",
       "#sk-container-id-1 div.sk-parallel-item:first-child::after {\n",
       "  align-self: flex-end;\n",
       "  width: 50%;\n",
       "}\n",
       "\n",
       "#sk-container-id-1 div.sk-parallel-item:last-child::after {\n",
       "  align-self: flex-start;\n",
       "  width: 50%;\n",
       "}\n",
       "\n",
       "#sk-container-id-1 div.sk-parallel-item:only-child::after {\n",
       "  width: 0;\n",
       "}\n",
       "\n",
       "/* Serial-specific style estimator block */\n",
       "\n",
       "#sk-container-id-1 div.sk-serial {\n",
       "  display: flex;\n",
       "  flex-direction: column;\n",
       "  align-items: center;\n",
       "  background-color: var(--sklearn-color-background);\n",
       "  padding-right: 1em;\n",
       "  padding-left: 1em;\n",
       "}\n",
       "\n",
       "\n",
       "/* Toggleable style: style used for estimator/Pipeline/ColumnTransformer box that is\n",
       "clickable and can be expanded/collapsed.\n",
       "- Pipeline and ColumnTransformer use this feature and define the default style\n",
       "- Estimators will overwrite some part of the style using the `sk-estimator` class\n",
       "*/\n",
       "\n",
       "/* Pipeline and ColumnTransformer style (default) */\n",
       "\n",
       "#sk-container-id-1 div.sk-toggleable {\n",
       "  /* Default theme specific background. It is overwritten whether we have a\n",
       "  specific estimator or a Pipeline/ColumnTransformer */\n",
       "  background-color: var(--sklearn-color-background);\n",
       "}\n",
       "\n",
       "/* Toggleable label */\n",
       "#sk-container-id-1 label.sk-toggleable__label {\n",
       "  cursor: pointer;\n",
       "  display: block;\n",
       "  width: 100%;\n",
       "  margin-bottom: 0;\n",
       "  padding: 0.5em;\n",
       "  box-sizing: border-box;\n",
       "  text-align: center;\n",
       "}\n",
       "\n",
       "#sk-container-id-1 label.sk-toggleable__label-arrow:before {\n",
       "  /* Arrow on the left of the label */\n",
       "  content: \"▸\";\n",
       "  float: left;\n",
       "  margin-right: 0.25em;\n",
       "  color: var(--sklearn-color-icon);\n",
       "}\n",
       "\n",
       "#sk-container-id-1 label.sk-toggleable__label-arrow:hover:before {\n",
       "  color: var(--sklearn-color-text);\n",
       "}\n",
       "\n",
       "/* Toggleable content - dropdown */\n",
       "\n",
       "#sk-container-id-1 div.sk-toggleable__content {\n",
       "  max-height: 0;\n",
       "  max-width: 0;\n",
       "  overflow: hidden;\n",
       "  text-align: left;\n",
       "  /* unfitted */\n",
       "  background-color: var(--sklearn-color-unfitted-level-0);\n",
       "}\n",
       "\n",
       "#sk-container-id-1 div.sk-toggleable__content.fitted {\n",
       "  /* fitted */\n",
       "  background-color: var(--sklearn-color-fitted-level-0);\n",
       "}\n",
       "\n",
       "#sk-container-id-1 div.sk-toggleable__content pre {\n",
       "  margin: 0.2em;\n",
       "  border-radius: 0.25em;\n",
       "  color: var(--sklearn-color-text);\n",
       "  /* unfitted */\n",
       "  background-color: var(--sklearn-color-unfitted-level-0);\n",
       "}\n",
       "\n",
       "#sk-container-id-1 div.sk-toggleable__content.fitted pre {\n",
       "  /* unfitted */\n",
       "  background-color: var(--sklearn-color-fitted-level-0);\n",
       "}\n",
       "\n",
       "#sk-container-id-1 input.sk-toggleable__control:checked~div.sk-toggleable__content {\n",
       "  /* Expand drop-down */\n",
       "  max-height: 200px;\n",
       "  max-width: 100%;\n",
       "  overflow: auto;\n",
       "}\n",
       "\n",
       "#sk-container-id-1 input.sk-toggleable__control:checked~label.sk-toggleable__label-arrow:before {\n",
       "  content: \"▾\";\n",
       "}\n",
       "\n",
       "/* Pipeline/ColumnTransformer-specific style */\n",
       "\n",
       "#sk-container-id-1 div.sk-label input.sk-toggleable__control:checked~label.sk-toggleable__label {\n",
       "  color: var(--sklearn-color-text);\n",
       "  background-color: var(--sklearn-color-unfitted-level-2);\n",
       "}\n",
       "\n",
       "#sk-container-id-1 div.sk-label.fitted input.sk-toggleable__control:checked~label.sk-toggleable__label {\n",
       "  background-color: var(--sklearn-color-fitted-level-2);\n",
       "}\n",
       "\n",
       "/* Estimator-specific style */\n",
       "\n",
       "/* Colorize estimator box */\n",
       "#sk-container-id-1 div.sk-estimator input.sk-toggleable__control:checked~label.sk-toggleable__label {\n",
       "  /* unfitted */\n",
       "  background-color: var(--sklearn-color-unfitted-level-2);\n",
       "}\n",
       "\n",
       "#sk-container-id-1 div.sk-estimator.fitted input.sk-toggleable__control:checked~label.sk-toggleable__label {\n",
       "  /* fitted */\n",
       "  background-color: var(--sklearn-color-fitted-level-2);\n",
       "}\n",
       "\n",
       "#sk-container-id-1 div.sk-label label.sk-toggleable__label,\n",
       "#sk-container-id-1 div.sk-label label {\n",
       "  /* The background is the default theme color */\n",
       "  color: var(--sklearn-color-text-on-default-background);\n",
       "}\n",
       "\n",
       "/* On hover, darken the color of the background */\n",
       "#sk-container-id-1 div.sk-label:hover label.sk-toggleable__label {\n",
       "  color: var(--sklearn-color-text);\n",
       "  background-color: var(--sklearn-color-unfitted-level-2);\n",
       "}\n",
       "\n",
       "/* Label box, darken color on hover, fitted */\n",
       "#sk-container-id-1 div.sk-label.fitted:hover label.sk-toggleable__label.fitted {\n",
       "  color: var(--sklearn-color-text);\n",
       "  background-color: var(--sklearn-color-fitted-level-2);\n",
       "}\n",
       "\n",
       "/* Estimator label */\n",
       "\n",
       "#sk-container-id-1 div.sk-label label {\n",
       "  font-family: monospace;\n",
       "  font-weight: bold;\n",
       "  display: inline-block;\n",
       "  line-height: 1.2em;\n",
       "}\n",
       "\n",
       "#sk-container-id-1 div.sk-label-container {\n",
       "  text-align: center;\n",
       "}\n",
       "\n",
       "/* Estimator-specific */\n",
       "#sk-container-id-1 div.sk-estimator {\n",
       "  font-family: monospace;\n",
       "  border: 1px dotted var(--sklearn-color-border-box);\n",
       "  border-radius: 0.25em;\n",
       "  box-sizing: border-box;\n",
       "  margin-bottom: 0.5em;\n",
       "  /* unfitted */\n",
       "  background-color: var(--sklearn-color-unfitted-level-0);\n",
       "}\n",
       "\n",
       "#sk-container-id-1 div.sk-estimator.fitted {\n",
       "  /* fitted */\n",
       "  background-color: var(--sklearn-color-fitted-level-0);\n",
       "}\n",
       "\n",
       "/* on hover */\n",
       "#sk-container-id-1 div.sk-estimator:hover {\n",
       "  /* unfitted */\n",
       "  background-color: var(--sklearn-color-unfitted-level-2);\n",
       "}\n",
       "\n",
       "#sk-container-id-1 div.sk-estimator.fitted:hover {\n",
       "  /* fitted */\n",
       "  background-color: var(--sklearn-color-fitted-level-2);\n",
       "}\n",
       "\n",
       "/* Specification for estimator info (e.g. \"i\" and \"?\") */\n",
       "\n",
       "/* Common style for \"i\" and \"?\" */\n",
       "\n",
       ".sk-estimator-doc-link,\n",
       "a:link.sk-estimator-doc-link,\n",
       "a:visited.sk-estimator-doc-link {\n",
       "  float: right;\n",
       "  font-size: smaller;\n",
       "  line-height: 1em;\n",
       "  font-family: monospace;\n",
       "  background-color: var(--sklearn-color-background);\n",
       "  border-radius: 1em;\n",
       "  height: 1em;\n",
       "  width: 1em;\n",
       "  text-decoration: none !important;\n",
       "  margin-left: 1ex;\n",
       "  /* unfitted */\n",
       "  border: var(--sklearn-color-unfitted-level-1) 1pt solid;\n",
       "  color: var(--sklearn-color-unfitted-level-1);\n",
       "}\n",
       "\n",
       ".sk-estimator-doc-link.fitted,\n",
       "a:link.sk-estimator-doc-link.fitted,\n",
       "a:visited.sk-estimator-doc-link.fitted {\n",
       "  /* fitted */\n",
       "  border: var(--sklearn-color-fitted-level-1) 1pt solid;\n",
       "  color: var(--sklearn-color-fitted-level-1);\n",
       "}\n",
       "\n",
       "/* On hover */\n",
       "div.sk-estimator:hover .sk-estimator-doc-link:hover,\n",
       ".sk-estimator-doc-link:hover,\n",
       "div.sk-label-container:hover .sk-estimator-doc-link:hover,\n",
       ".sk-estimator-doc-link:hover {\n",
       "  /* unfitted */\n",
       "  background-color: var(--sklearn-color-unfitted-level-3);\n",
       "  color: var(--sklearn-color-background);\n",
       "  text-decoration: none;\n",
       "}\n",
       "\n",
       "div.sk-estimator.fitted:hover .sk-estimator-doc-link.fitted:hover,\n",
       ".sk-estimator-doc-link.fitted:hover,\n",
       "div.sk-label-container:hover .sk-estimator-doc-link.fitted:hover,\n",
       ".sk-estimator-doc-link.fitted:hover {\n",
       "  /* fitted */\n",
       "  background-color: var(--sklearn-color-fitted-level-3);\n",
       "  color: var(--sklearn-color-background);\n",
       "  text-decoration: none;\n",
       "}\n",
       "\n",
       "/* Span, style for the box shown on hovering the info icon */\n",
       ".sk-estimator-doc-link span {\n",
       "  display: none;\n",
       "  z-index: 9999;\n",
       "  position: relative;\n",
       "  font-weight: normal;\n",
       "  right: .2ex;\n",
       "  padding: .5ex;\n",
       "  margin: .5ex;\n",
       "  width: min-content;\n",
       "  min-width: 20ex;\n",
       "  max-width: 50ex;\n",
       "  color: var(--sklearn-color-text);\n",
       "  box-shadow: 2pt 2pt 4pt #999;\n",
       "  /* unfitted */\n",
       "  background: var(--sklearn-color-unfitted-level-0);\n",
       "  border: .5pt solid var(--sklearn-color-unfitted-level-3);\n",
       "}\n",
       "\n",
       ".sk-estimator-doc-link.fitted span {\n",
       "  /* fitted */\n",
       "  background: var(--sklearn-color-fitted-level-0);\n",
       "  border: var(--sklearn-color-fitted-level-3);\n",
       "}\n",
       "\n",
       ".sk-estimator-doc-link:hover span {\n",
       "  display: block;\n",
       "}\n",
       "\n",
       "/* \"?\"-specific style due to the `<a>` HTML tag */\n",
       "\n",
       "#sk-container-id-1 a.estimator_doc_link {\n",
       "  float: right;\n",
       "  font-size: 1rem;\n",
       "  line-height: 1em;\n",
       "  font-family: monospace;\n",
       "  background-color: var(--sklearn-color-background);\n",
       "  border-radius: 1rem;\n",
       "  height: 1rem;\n",
       "  width: 1rem;\n",
       "  text-decoration: none;\n",
       "  /* unfitted */\n",
       "  color: var(--sklearn-color-unfitted-level-1);\n",
       "  border: var(--sklearn-color-unfitted-level-1) 1pt solid;\n",
       "}\n",
       "\n",
       "#sk-container-id-1 a.estimator_doc_link.fitted {\n",
       "  /* fitted */\n",
       "  border: var(--sklearn-color-fitted-level-1) 1pt solid;\n",
       "  color: var(--sklearn-color-fitted-level-1);\n",
       "}\n",
       "\n",
       "/* On hover */\n",
       "#sk-container-id-1 a.estimator_doc_link:hover {\n",
       "  /* unfitted */\n",
       "  background-color: var(--sklearn-color-unfitted-level-3);\n",
       "  color: var(--sklearn-color-background);\n",
       "  text-decoration: none;\n",
       "}\n",
       "\n",
       "#sk-container-id-1 a.estimator_doc_link.fitted:hover {\n",
       "  /* fitted */\n",
       "  background-color: var(--sklearn-color-fitted-level-3);\n",
       "}\n",
       "</style><div id=\"sk-container-id-1\" class=\"sk-top-container\"><div class=\"sk-text-repr-fallback\"><pre>Ridge(alpha=4.467610217326253, random_state=99, solver=&#x27;lsqr&#x27;)</pre><b>In a Jupyter environment, please rerun this cell to show the HTML representation or trust the notebook. <br />On GitHub, the HTML representation is unable to render, please try loading this page with nbviewer.org.</b></div><div class=\"sk-container\" hidden><div class=\"sk-item\"><div class=\"sk-estimator fitted sk-toggleable\"><input class=\"sk-toggleable__control sk-hidden--visually\" id=\"sk-estimator-id-1\" type=\"checkbox\" checked><label for=\"sk-estimator-id-1\" class=\"sk-toggleable__label fitted sk-toggleable__label-arrow fitted\">&nbsp;&nbsp;Ridge<a class=\"sk-estimator-doc-link fitted\" rel=\"noreferrer\" target=\"_blank\" href=\"https://scikit-learn.org/1.5/modules/generated/sklearn.linear_model.Ridge.html\">?<span>Documentation for Ridge</span></a><span class=\"sk-estimator-doc-link fitted\">i<span>Fitted</span></span></label><div class=\"sk-toggleable__content fitted\"><pre>Ridge(alpha=4.467610217326253, random_state=99, solver=&#x27;lsqr&#x27;)</pre></div> </div></div></div></div>"
      ],
      "text/plain": [
       "Ridge(alpha=4.467610217326253, random_state=99, solver='lsqr')"
      ]
     },
     "execution_count": 36,
     "metadata": {},
     "output_type": "execute_result"
    }
   ],
   "source": [
    "# %%time\n",
    "ridge = Ridge(solver=\"lsqr\", fit_intercept=True, random_state=99,alpha=4.467610217326253) #今までの最適化前のパラメータ\n",
    "# ridge = Ridge(alpha=4.5554246746989415, fit_intercept=True, solver='auto', random_state=24) #変更点4 最適化後のパラメータ Optunaのbest_paramを代入して\n",
    "ridge.fit(X_train, y_train)"
   ]
  },
  {
   "cell_type": "markdown",
   "metadata": {},
   "source": [
    "#### 訓練データに対する予測｜Ridge回帰"
   ]
  },
  {
   "cell_type": "code",
   "execution_count": 37,
   "metadata": {
    "execution": {
     "iopub.execute_input": "2024-09-21T01:41:31.227552Z",
     "iopub.status.busy": "2024-09-21T01:41:31.226475Z",
     "iopub.status.idle": "2024-09-21T01:41:31.399574Z",
     "shell.execute_reply": "2024-09-21T01:41:31.398274Z",
     "shell.execute_reply.started": "2024-09-21T01:41:31.227464Z"
    }
   },
   "outputs": [],
   "source": [
    "y_train_pred = ridge.predict(X_train)"
   ]
  },
  {
   "cell_type": "code",
   "execution_count": 38,
   "metadata": {
    "execution": {
     "iopub.execute_input": "2024-09-21T01:41:31.401664Z",
     "iopub.status.busy": "2024-09-21T01:41:31.401219Z",
     "iopub.status.idle": "2024-09-21T01:41:31.419555Z",
     "shell.execute_reply": "2024-09-21T01:41:31.418175Z",
     "shell.execute_reply.started": "2024-09-21T01:41:31.401614Z"
    }
   },
   "outputs": [],
   "source": [
    "y_min = np.append(y_train_pred, y_train).min()\n",
    "y_max = np.append(y_train_pred, y_train).max()\n",
    "y_margin = (y_max - y_min) * 0.1\n",
    "y_min -= y_margin\n",
    "y_max += y_margin"
   ]
  },
  {
   "cell_type": "code",
   "execution_count": 39,
   "metadata": {
    "execution": {
     "iopub.execute_input": "2024-09-21T01:41:31.421829Z",
     "iopub.status.busy": "2024-09-21T01:41:31.421131Z",
     "iopub.status.idle": "2024-09-21T01:41:34.436493Z",
     "shell.execute_reply": "2024-09-21T01:41:34.435134Z",
     "shell.execute_reply.started": "2024-09-21T01:41:31.421765Z"
    }
   },
   "outputs": [
    {
     "data": {
      "image/png": "[encoded data removed]",
      "text/plain": [
       "<Figure size 640x480 with 1 Axes>"
      ]
     },
     "metadata": {},
     "output_type": "display_data"
    }
   ],
   "source": [
    "plt.scatter(y_train_pred, y_train, alpha=0.3)\n",
    "plt.plot([y_min,y_max], [y_min,y_max])\n",
    "plt.gca().set_aspect('equal', adjustable='box')\n",
    "plt.xlim(y_min, y_max)\n",
    "plt.ylim(y_min, y_max)\n",
    "plt.title('Train data')\n",
    "plt.xlabel('Pred')\n",
    "plt.ylabel('True')\n",
    "plt.show()"
   ]
  },
  {
   "cell_type": "code",
   "execution_count": 40,
   "metadata": {
    "execution": {
     "iopub.execute_input": "2024-09-21T01:41:34.438522Z",
     "iopub.status.busy": "2024-09-21T01:41:34.438087Z",
     "iopub.status.idle": "2024-09-21T01:41:34.444962Z",
     "shell.execute_reply": "2024-09-21T01:41:34.443568Z",
     "shell.execute_reply.started": "2024-09-21T01:41:34.438478Z"
    }
   },
   "outputs": [],
   "source": [
    "# RMSLE関数の定義\n",
    "def rmsle(y_true, y_pred):  \n",
    "    return np.sqrt(mean_squared_log_error(y_true, y_pred))"
   ]
  },
  {
   "cell_type": "code",
   "execution_count": 41,
   "metadata": {
    "execution": {
     "iopub.execute_input": "2024-09-21T01:41:34.446980Z",
     "iopub.status.busy": "2024-09-21T01:41:34.446558Z",
     "iopub.status.idle": "2024-09-21T01:41:34.554917Z",
     "shell.execute_reply": "2024-09-21T01:41:34.553568Z",
     "shell.execute_reply.started": "2024-09-21T01:41:34.446939Z"
    }
   },
   "outputs": [
    {
     "name": "stdout",
     "output_type": "stream",
     "text": [
      "RMSLE for train data: 0.43086020704262584\n"
     ]
    }
   ],
   "source": [
    "# モデルの評価\n",
    "ridge_train_rmsle = rmsle(np.expm1(y_train), np.expm1(y_train_pred))\n",
    "print(\"RMSLE for train data:\", ridge_train_rmsle)"
   ]
  },
  {
   "cell_type": "markdown",
   "metadata": {},
   "source": [
    "#### テストデータに対する予測｜Ridge回帰"
   ]
  },
  {
   "cell_type": "code",
   "execution_count": 42,
   "metadata": {
    "execution": {
     "iopub.execute_input": "2024-09-21T01:41:34.556691Z",
     "iopub.status.busy": "2024-09-21T01:41:34.556273Z",
     "iopub.status.idle": "2024-09-21T01:41:34.618305Z",
     "shell.execute_reply": "2024-09-21T01:41:34.616899Z",
     "shell.execute_reply.started": "2024-09-21T01:41:34.556649Z"
    }
   },
   "outputs": [],
   "source": [
    "y_test_pred = ridge.predict(X_test)"
   ]
  },
  {
   "cell_type": "code",
   "execution_count": 43,
   "metadata": {
    "execution": {
     "iopub.execute_input": "2024-09-21T01:41:34.620566Z",
     "iopub.status.busy": "2024-09-21T01:41:34.620151Z",
     "iopub.status.idle": "2024-09-21T01:41:34.633191Z",
     "shell.execute_reply": "2024-09-21T01:41:34.631252Z",
     "shell.execute_reply.started": "2024-09-21T01:41:34.620525Z"
    }
   },
   "outputs": [],
   "source": [
    "y_min = np.append(y_test_pred, y_test).min()\n",
    "y_max = np.append(y_test_pred, y_test).max()\n",
    "y_margin = (y_max - y_min) * 0.1\n",
    "y_min -= y_margin\n",
    "y_max += y_margin"
   ]
  },
  {
   "cell_type": "code",
   "execution_count": 44,
   "metadata": {
    "execution": {
     "iopub.execute_input": "2024-09-21T01:41:34.636446Z",
     "iopub.status.busy": "2024-09-21T01:41:34.635940Z",
     "iopub.status.idle": "2024-09-21T01:41:36.040301Z",
     "shell.execute_reply": "2024-09-21T01:41:36.038955Z",
     "shell.execute_reply.started": "2024-09-21T01:41:34.636396Z"
    }
   },
   "outputs": [
    {
     "data": {
      "image/png": "[encoded data removed]",
      "text/plain": [
       "<Figure size 640x480 with 1 Axes>"
      ]
     },
     "metadata": {},
     "output_type": "display_data"
    }
   ],
   "source": [
    "plt.scatter(y_test_pred, y_test, alpha=0.3)\n",
    "plt.plot([y_min,y_max], [y_min,y_max])\n",
    "plt.gca().set_aspect('equal', adjustable='box')\n",
    "plt.xlim(y_min, y_max)\n",
    "plt.ylim(y_min, y_max)\n",
    "plt.title('Test data')\n",
    "plt.xlabel('Pred')\n",
    "plt.ylabel('True')\n",
    "plt.show()"
   ]
  },
  {
   "cell_type": "code",
   "execution_count": 45,
   "metadata": {
    "execution": {
     "iopub.execute_input": "2024-09-21T01:41:36.042151Z",
     "iopub.status.busy": "2024-09-21T01:41:36.041782Z",
     "iopub.status.idle": "2024-09-21T01:41:36.099354Z",
     "shell.execute_reply": "2024-09-21T01:41:36.097766Z",
     "shell.execute_reply.started": "2024-09-21T01:41:36.042112Z"
    }
   },
   "outputs": [
    {
     "name": "stdout",
     "output_type": "stream",
     "text": [
      "RMSLE for test data: 0.45961817077198835\n"
     ]
    }
   ],
   "source": [
    "# モデルの評価\n",
    "ridge_test_rmsle = rmsle(np.expm1(y_test), np.expm1(y_test_pred))\n",
    "print(\"RMSLE for test data:\", ridge_test_rmsle)"
   ]
  },
  {
   "cell_type": "code",
   "execution_count": 46,
   "metadata": {
    "_cell_guid": "e6e547d9-1b13-44a7-9cfa-1f4e6b1fe043",
    "_uuid": "1d836e0c-8b07-433b-96bd-682afbc0e650",
    "collapsed": false,
    "execution": {
     "iopub.execute_input": "2024-09-21T01:43:08.957357Z",
     "iopub.status.busy": "2024-09-21T01:43:08.956476Z",
     "iopub.status.idle": "2024-09-21T01:43:08.967264Z",
     "shell.execute_reply": "2024-09-21T01:43:08.965540Z",
     "shell.execute_reply.started": "2024-09-21T01:43:08.957299Z"
    },
    "jupyter": {
     "outputs_hidden": false
    }
   },
   "outputs": [
    {
     "name": "stdout",
     "output_type": "stream",
     "text": [
      "0:16:32.565547\n"
     ]
    }
   ],
   "source": [
    "stop_real = datetime.now()\n",
    "execution_time_real = stop_real - start_real\n",
    "print(execution_time_real)"
   ]
  }
 ],
 "metadata": {
  "kaggle": {
   "accelerator": "none",
   "dataSources": [
    {
     "datasetId": 5545433,
     "sourceId": 9175870,
     "sourceType": "datasetVersion"
    }
   ],
   "dockerImageVersionId": 30761,
   "isGpuEnabled": false,
   "isInternetEnabled": false,
   "language": "python",
   "sourceType": "notebook"
  },
  "kernelspec": {
   "display_name": "Python 3 (ipykernel)",
   "language": "python",
   "name": "python3"
  },
  "language_info": {
   "codemirror_mode": {
    "name": "ipython",
    "version": 3
   },
   "file_extension": ".py",
   "mimetype": "text/x-python",
   "name": "python",
   "nbconvert_exporter": "python",
   "pygments_lexer": "ipython3",
   "version": "3.9.7"
  }
 },
 "nbformat": 4,
 "nbformat_minor": 4
}
