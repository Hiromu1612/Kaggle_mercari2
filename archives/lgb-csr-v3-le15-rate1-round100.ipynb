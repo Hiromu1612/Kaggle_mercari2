{
 "cells": [
  {
   "cell_type": "code",
   "execution_count": 1,
   "metadata": {
    "execution": {
     "iopub.execute_input": "2024-10-08T01:49:36.300715Z",
     "iopub.status.busy": "2024-10-08T01:49:36.300239Z",
     "iopub.status.idle": "2024-10-08T01:49:36.312947Z",
     "shell.execute_reply": "2024-10-08T01:49:36.311771Z",
     "shell.execute_reply.started": "2024-10-08T01:49:36.300673Z"
    }
   },
   "outputs": [],
   "source": [
    "from datetime import datetime\n",
    "start_real = datetime.now() # 全体の処理時間の計測を開始する"
   ]
  },
  {
   "cell_type": "markdown",
   "metadata": {},
   "source": [
    "#### ライブラリのインポート"
   ]
  },
  {
   "cell_type": "code",
   "execution_count": 2,
   "metadata": {
    "_cell_guid": "e189abd2-46d2-4f2e-977b-50a25d3521d4",
    "_uuid": "96487335-2c48-482e-be5d-e80a6a096b5d",
    "collapsed": false,
    "execution": {
     "iopub.execute_input": "2024-10-08T01:49:36.320182Z",
     "iopub.status.busy": "2024-10-08T01:49:36.319793Z",
     "iopub.status.idle": "2024-10-08T01:49:38.220952Z",
     "shell.execute_reply": "2024-10-08T01:49:38.219937Z",
     "shell.execute_reply.started": "2024-10-08T01:49:36.320136Z"
    },
    "jupyter": {
     "outputs_hidden": false
    }
   },
   "outputs": [],
   "source": [
    "import numpy as np\n",
    "import pandas as pd\n",
    "import matplotlib.pyplot as plt\n",
    "%matplotlib inline\n",
    "\n",
    "from scipy.sparse import load_npz\n",
    "\n",
    "from sklearn.model_selection import train_test_split\n",
    "from sklearn.metrics import mean_squared_log_error\n",
    "import lightgbm as lgb\n",
    "\n",
    "import warnings\n",
    "warnings.simplefilter(\"ignore\")"
   ]
  },
  {
   "cell_type": "markdown",
   "metadata": {},
   "source": [
    "#### X と y の読み込み"
   ]
  },
  {
   "cell_type": "code",
   "execution_count": 3,
   "metadata": {
    "execution": {
     "iopub.execute_input": "2024-10-08T01:49:38.223163Z",
     "iopub.status.busy": "2024-10-08T01:49:38.222458Z",
     "iopub.status.idle": "2024-10-08T01:49:42.304745Z",
     "shell.execute_reply": "2024-10-08T01:49:42.303518Z",
     "shell.execute_reply.started": "2024-10-08T01:49:38.223108Z"
    }
   },
   "outputs": [],
   "source": [
    "# Kaggle Notebook\n",
    "X = load_npz('/kaggle/input/mercari-preprocessed/X.npz')\n",
    "y = pd.read_csv('/kaggle/input/mercari-preprocessed/y.csv')"
   ]
  },
  {
   "cell_type": "markdown",
   "metadata": {
    "_cell_guid": "d3894bae-96bd-4af9-9fb1-ae6871dfa661",
    "_uuid": "37cb4194-3c2b-42bc-b202-da5c84db592e"
   },
   "source": [
    "#### モデルの作成と学習"
   ]
  },
  {
   "cell_type": "markdown",
   "metadata": {
    "_cell_guid": "288926f5-9a0a-4d68-b124-47283ce934d4",
    "_uuid": "c575fffd-2cdb-4a6a-a648-7f7d38c405c5"
   },
   "source": [
    "#### X と y のうち、7割を訓練用 (train)、3割を検証用 (test) に分割する"
   ]
  },
  {
   "cell_type": "code",
   "execution_count": 4,
   "metadata": {
    "_cell_guid": "92de30b5-b5a4-4422-8d7a-d60dca400334",
    "_uuid": "d322bae4-149a-4cbe-81ea-2b40daf3fc27",
    "collapsed": false,
    "execution": {
     "iopub.execute_input": "2024-10-08T01:49:42.308236Z",
     "iopub.status.busy": "2024-10-08T01:49:42.307808Z",
     "iopub.status.idle": "2024-10-08T01:49:42.859218Z",
     "shell.execute_reply": "2024-10-08T01:49:42.858242Z",
     "shell.execute_reply.started": "2024-10-08T01:49:42.308191Z"
    },
    "jupyter": {
     "outputs_hidden": false
    }
   },
   "outputs": [],
   "source": [
    "X_train, X_test, y_train, y_test = train_test_split(X, y, test_size=0.3, random_state=0)"
   ]
  },
  {
   "cell_type": "code",
   "execution_count": 5,
   "metadata": {
    "_cell_guid": "7d5727b1-68e1-4d3c-8697-afee413f7623",
    "_uuid": "0dbd1d10-6545-4423-8d0b-ea34352e1772",
    "collapsed": false,
    "execution": {
     "iopub.execute_input": "2024-10-08T01:49:42.861293Z",
     "iopub.status.busy": "2024-10-08T01:49:42.860813Z",
     "iopub.status.idle": "2024-10-08T01:49:42.868585Z",
     "shell.execute_reply": "2024-10-08T01:49:42.867354Z",
     "shell.execute_reply.started": "2024-10-08T01:49:42.861220Z"
    },
    "jupyter": {
     "outputs_hidden": false
    }
   },
   "outputs": [
    {
     "name": "stdout",
     "output_type": "stream",
     "text": [
      "(1032740, 186740)\n",
      "(1032740, 1)\n",
      "(442604, 186740)\n",
      "(442604, 1)\n"
     ]
    }
   ],
   "source": [
    "print(X_train.shape)\n",
    "print(y_train.shape)\n",
    "print(X_test.shape)\n",
    "print(y_test.shape)"
   ]
  },
  {
   "cell_type": "markdown",
   "metadata": {},
   "source": [
    "#### モデルの学習｜LightGBM"
   ]
  },
  {
   "cell_type": "code",
   "execution_count": 6,
   "metadata": {
    "execution": {
     "iopub.execute_input": "2024-10-08T01:49:42.870519Z",
     "iopub.status.busy": "2024-10-08T01:49:42.870100Z",
     "iopub.status.idle": "2024-10-08T01:49:42.880556Z",
     "shell.execute_reply": "2024-10-08T01:49:42.879582Z",
     "shell.execute_reply.started": "2024-10-08T01:49:42.870470Z"
    }
   },
   "outputs": [],
   "source": [
    "# データセットの形式を変更\n",
    "train_data = lgb.Dataset(X_train, label=y_train)\n",
    "valid_data = lgb.Dataset(X_test, label=y_test, reference=train_data)"
   ]
  },
  {
   "cell_type": "code",
   "execution_count": 7,
   "metadata": {
    "execution": {
     "iopub.execute_input": "2024-10-08T01:49:42.882357Z",
     "iopub.status.busy": "2024-10-08T01:49:42.881920Z",
     "iopub.status.idle": "2024-10-08T01:49:42.897069Z",
     "shell.execute_reply": "2024-10-08T01:49:42.895831Z",
     "shell.execute_reply.started": "2024-10-08T01:49:42.882310Z"
    }
   },
   "outputs": [],
   "source": [
    "# ハイパーパラメータの設定\n",
    "params = {\n",
    "    'objective': 'regression',\n",
    "    'metric': 'rmse',\n",
    "    'num_leaves': 15,\n",
    "    'learning_rate': 1.0,\n",
    "    'feature_fraction': 0.6,\n",
    "    'bagging_fraction': 0.6,\n",
    "    'bagging_freq': 5,\n",
    "    'verbose': 10,\n",
    "    'num_boost_round': 100,\n",
    "    'early_stopping_rounds': 10,\n",
    "    'seed': 0\n",
    "}"
   ]
  },
  {
   "cell_type": "code",
   "execution_count": 8,
   "metadata": {
    "execution": {
     "iopub.execute_input": "2024-10-08T01:49:42.899425Z",
     "iopub.status.busy": "2024-10-08T01:49:42.898639Z",
     "iopub.status.idle": "2024-10-08T02:25:32.903561Z",
     "shell.execute_reply": "2024-10-08T02:25:32.902364Z",
     "shell.execute_reply.started": "2024-10-08T01:49:42.899374Z"
    }
   },
   "outputs": [
    {
     "name": "stdout",
     "output_type": "stream",
     "text": [
      "[LightGBM] [Debug] Dataset::GetMultiBinFromSparseFeatures: sparse rate 0.999570\n",
      "[LightGBM] [Debug] Dataset::GetMultiBinFromAllFeatures: sparse rate 0.999505\n",
      "[LightGBM] [Debug] init for col-wise cost 664.380731 seconds, init for row-wise cost 665.750746 seconds\n",
      "[LightGBM] [Info] Auto-choosing col-wise multi-threading, the overhead of testing was 666.276041 seconds.\n",
      "You can set `force_col_wise=true` to remove the overhead.\n",
      "[LightGBM] [Info] Total Bins 1067750\n",
      "[LightGBM] [Info] Number of data points in the train set: 1032740, number of used features: 65802\n",
      "[LightGBM] [Debug] Use subset for bagging\n",
      "[LightGBM] [Info] Start training from score 2.981379\n",
      "[LightGBM] [Debug] Re-bagging, using 619579 data to train\n",
      "[LightGBM] [Debug] Trained a tree with leaves = 15 and depth = 8\n",
      "Training until validation scores don't improve for 10 rounds\n",
      "[LightGBM] [Debug] Trained a tree with leaves = 15 and depth = 10\n",
      "[LightGBM] [Debug] Trained a tree with leaves = 15 and depth = 12\n",
      "[LightGBM] [Debug] Trained a tree with leaves = 15 and depth = 13\n",
      "[LightGBM] [Debug] Trained a tree with leaves = 15 and depth = 13\n",
      "[LightGBM] [Debug] Re-bagging, using 619701 data to train\n",
      "[LightGBM] [Debug] Trained a tree with leaves = 15 and depth = 14\n",
      "[LightGBM] [Debug] Trained a tree with leaves = 15 and depth = 14\n",
      "[LightGBM] [Debug] Trained a tree with leaves = 15 and depth = 14\n",
      "[LightGBM] [Debug] Trained a tree with leaves = 15 and depth = 8\n",
      "[LightGBM] [Debug] Trained a tree with leaves = 15 and depth = 14\n",
      "[LightGBM] [Debug] Re-bagging, using 618832 data to train\n",
      "[LightGBM] [Debug] Trained a tree with leaves = 15 and depth = 13\n",
      "[LightGBM] [Debug] Trained a tree with leaves = 15 and depth = 14\n",
      "[LightGBM] [Debug] Trained a tree with leaves = 15 and depth = 13\n",
      "[LightGBM] [Debug] Trained a tree with leaves = 15 and depth = 14\n",
      "[LightGBM] [Debug] Trained a tree with leaves = 15 and depth = 14\n",
      "[LightGBM] [Debug] Re-bagging, using 619848 data to train\n",
      "[LightGBM] [Debug] Trained a tree with leaves = 15 and depth = 14\n",
      "[LightGBM] [Debug] Trained a tree with leaves = 15 and depth = 11\n",
      "[LightGBM] [Debug] Trained a tree with leaves = 15 and depth = 12\n",
      "[LightGBM] [Debug] Trained a tree with leaves = 15 and depth = 14\n",
      "[LightGBM] [Debug] Trained a tree with leaves = 15 and depth = 9\n",
      "[LightGBM] [Debug] Re-bagging, using 619633 data to train\n",
      "[LightGBM] [Debug] Trained a tree with leaves = 15 and depth = 11\n",
      "[LightGBM] [Debug] Trained a tree with leaves = 15 and depth = 12\n",
      "[LightGBM] [Debug] Trained a tree with leaves = 15 and depth = 14\n",
      "[LightGBM] [Debug] Trained a tree with leaves = 15 and depth = 14\n",
      "[LightGBM] [Debug] Trained a tree with leaves = 15 and depth = 14\n",
      "[LightGBM] [Debug] Re-bagging, using 618905 data to train\n",
      "[LightGBM] [Debug] Trained a tree with leaves = 15 and depth = 14\n",
      "[LightGBM] [Debug] Trained a tree with leaves = 15 and depth = 14\n",
      "[LightGBM] [Debug] Trained a tree with leaves = 15 and depth = 13\n",
      "[LightGBM] [Debug] Trained a tree with leaves = 15 and depth = 12\n",
      "[LightGBM] [Debug] Trained a tree with leaves = 15 and depth = 13\n",
      "[LightGBM] [Debug] Re-bagging, using 619705 data to train\n",
      "[LightGBM] [Debug] Trained a tree with leaves = 15 and depth = 14\n",
      "[LightGBM] [Debug] Trained a tree with leaves = 15 and depth = 11\n",
      "[LightGBM] [Debug] Trained a tree with leaves = 15 and depth = 12\n",
      "[LightGBM] [Debug] Trained a tree with leaves = 15 and depth = 11\n",
      "[LightGBM] [Debug] Trained a tree with leaves = 15 and depth = 9\n",
      "[LightGBM] [Debug] Re-bagging, using 620097 data to train\n",
      "[LightGBM] [Debug] Trained a tree with leaves = 15 and depth = 14\n",
      "[LightGBM] [Debug] Trained a tree with leaves = 15 and depth = 13\n",
      "[LightGBM] [Debug] Trained a tree with leaves = 15 and depth = 11\n",
      "[LightGBM] [Debug] Trained a tree with leaves = 15 and depth = 10\n",
      "[LightGBM] [Debug] Trained a tree with leaves = 15 and depth = 14\n",
      "[LightGBM] [Debug] Re-bagging, using 620362 data to train\n",
      "[LightGBM] [Debug] Trained a tree with leaves = 15 and depth = 14\n",
      "[LightGBM] [Debug] Trained a tree with leaves = 15 and depth = 13\n",
      "[LightGBM] [Debug] Trained a tree with leaves = 15 and depth = 14\n",
      "[LightGBM] [Debug] Trained a tree with leaves = 15 and depth = 12\n",
      "[LightGBM] [Debug] Trained a tree with leaves = 15 and depth = 13\n",
      "[LightGBM] [Debug] Re-bagging, using 619306 data to train\n",
      "[LightGBM] [Debug] Trained a tree with leaves = 15 and depth = 14\n",
      "[LightGBM] [Debug] Trained a tree with leaves = 15 and depth = 14\n",
      "[LightGBM] [Debug] Trained a tree with leaves = 15 and depth = 13\n",
      "[LightGBM] [Debug] Trained a tree with leaves = 15 and depth = 14\n",
      "[LightGBM] [Debug] Trained a tree with leaves = 15 and depth = 13\n",
      "[LightGBM] [Debug] Re-bagging, using 619726 data to train\n",
      "[LightGBM] [Debug] Trained a tree with leaves = 15 and depth = 13\n",
      "[LightGBM] [Debug] Trained a tree with leaves = 15 and depth = 10\n",
      "[LightGBM] [Debug] Trained a tree with leaves = 15 and depth = 11\n",
      "[LightGBM] [Debug] Trained a tree with leaves = 15 and depth = 13\n",
      "[LightGBM] [Debug] Trained a tree with leaves = 15 and depth = 14\n",
      "[LightGBM] [Debug] Re-bagging, using 619236 data to train\n",
      "[LightGBM] [Debug] Trained a tree with leaves = 15 and depth = 12\n",
      "[LightGBM] [Debug] Trained a tree with leaves = 15 and depth = 13\n",
      "[LightGBM] [Debug] Trained a tree with leaves = 15 and depth = 14\n",
      "[LightGBM] [Debug] Trained a tree with leaves = 15 and depth = 14\n",
      "[LightGBM] [Debug] Trained a tree with leaves = 15 and depth = 13\n",
      "[LightGBM] [Debug] Re-bagging, using 619332 data to train\n",
      "[LightGBM] [Debug] Trained a tree with leaves = 15 and depth = 13\n",
      "[LightGBM] [Debug] Trained a tree with leaves = 15 and depth = 14\n",
      "[LightGBM] [Debug] Trained a tree with leaves = 15 and depth = 12\n",
      "[LightGBM] [Debug] Trained a tree with leaves = 15 and depth = 13\n",
      "[LightGBM] [Debug] Trained a tree with leaves = 15 and depth = 10\n",
      "[LightGBM] [Debug] Re-bagging, using 619649 data to train\n",
      "[LightGBM] [Debug] Trained a tree with leaves = 15 and depth = 11\n",
      "[LightGBM] [Debug] Trained a tree with leaves = 15 and depth = 10\n",
      "[LightGBM] [Debug] Trained a tree with leaves = 15 and depth = 11\n",
      "[LightGBM] [Debug] Trained a tree with leaves = 15 and depth = 9\n",
      "[LightGBM] [Debug] Trained a tree with leaves = 15 and depth = 12\n",
      "[LightGBM] [Debug] Re-bagging, using 619820 data to train\n",
      "[LightGBM] [Debug] Trained a tree with leaves = 15 and depth = 14\n",
      "[LightGBM] [Debug] Trained a tree with leaves = 15 and depth = 14\n",
      "[LightGBM] [Debug] Trained a tree with leaves = 15 and depth = 14\n",
      "[LightGBM] [Debug] Trained a tree with leaves = 15 and depth = 14\n",
      "[LightGBM] [Debug] Trained a tree with leaves = 15 and depth = 10\n",
      "[LightGBM] [Debug] Re-bagging, using 618619 data to train\n",
      "[LightGBM] [Debug] Trained a tree with leaves = 15 and depth = 13\n",
      "[LightGBM] [Debug] Trained a tree with leaves = 15 and depth = 13\n",
      "[LightGBM] [Debug] Trained a tree with leaves = 15 and depth = 12\n",
      "[LightGBM] [Debug] Trained a tree with leaves = 15 and depth = 12\n",
      "[LightGBM] [Debug] Trained a tree with leaves = 15 and depth = 10\n",
      "[LightGBM] [Debug] Re-bagging, using 619313 data to train\n",
      "[LightGBM] [Debug] Trained a tree with leaves = 15 and depth = 14\n",
      "[LightGBM] [Debug] Trained a tree with leaves = 15 and depth = 13\n",
      "[LightGBM] [Debug] Trained a tree with leaves = 15 and depth = 14\n",
      "[LightGBM] [Debug] Trained a tree with leaves = 15 and depth = 13\n",
      "[LightGBM] [Debug] Trained a tree with leaves = 15 and depth = 14\n",
      "[LightGBM] [Debug] Re-bagging, using 618912 data to train\n",
      "[LightGBM] [Debug] Trained a tree with leaves = 15 and depth = 14\n",
      "[LightGBM] [Debug] Trained a tree with leaves = 15 and depth = 13\n",
      "[LightGBM] [Debug] Trained a tree with leaves = 15 and depth = 14\n",
      "[LightGBM] [Debug] Trained a tree with leaves = 15 and depth = 12\n",
      "[LightGBM] [Debug] Trained a tree with leaves = 15 and depth = 13\n",
      "[LightGBM] [Debug] Re-bagging, using 619043 data to train\n",
      "[LightGBM] [Debug] Trained a tree with leaves = 15 and depth = 14\n",
      "[LightGBM] [Debug] Trained a tree with leaves = 15 and depth = 14\n",
      "[LightGBM] [Debug] Trained a tree with leaves = 15 and depth = 13\n",
      "[LightGBM] [Debug] Trained a tree with leaves = 15 and depth = 7\n",
      "[LightGBM] [Debug] Trained a tree with leaves = 15 and depth = 9\n",
      "[LightGBM] [Debug] Re-bagging, using 619091 data to train\n",
      "[LightGBM] [Debug] Trained a tree with leaves = 15 and depth = 13\n",
      "[LightGBM] [Debug] Trained a tree with leaves = 15 and depth = 13\n",
      "[LightGBM] [Debug] Trained a tree with leaves = 15 and depth = 14\n",
      "[LightGBM] [Debug] Trained a tree with leaves = 15 and depth = 12\n",
      "[LightGBM] [Debug] Trained a tree with leaves = 15 and depth = 14\n",
      "Did not meet early stopping. Best iteration is:\n",
      "[100]\tvalid_0's rmse: 0.503627\n",
      "CPU times: user 2h 9min 58s, sys: 14.7 s, total: 2h 10min 13s\n",
      "Wall time: 35min 49s\n"
     ]
    }
   ],
   "source": [
    "%%time\n",
    "gbm = lgb.train(params, train_data, valid_sets=valid_data)"
   ]
  },
  {
   "cell_type": "markdown",
   "metadata": {},
   "source": [
    "#### 訓練データに対する予測｜LightGBM"
   ]
  },
  {
   "cell_type": "code",
   "execution_count": 9,
   "metadata": {
    "execution": {
     "iopub.execute_input": "2024-10-08T02:25:32.905563Z",
     "iopub.status.busy": "2024-10-08T02:25:32.905098Z",
     "iopub.status.idle": "2024-10-08T02:25:53.287339Z",
     "shell.execute_reply": "2024-10-08T02:25:53.286122Z",
     "shell.execute_reply.started": "2024-10-08T02:25:32.905519Z"
    }
   },
   "outputs": [],
   "source": [
    "y_train_pred = gbm.predict(X_train)"
   ]
  },
  {
   "cell_type": "code",
   "execution_count": 10,
   "metadata": {
    "execution": {
     "iopub.execute_input": "2024-10-08T02:25:53.292127Z",
     "iopub.status.busy": "2024-10-08T02:25:53.291720Z",
     "iopub.status.idle": "2024-10-08T02:25:53.347133Z",
     "shell.execute_reply": "2024-10-08T02:25:53.346101Z",
     "shell.execute_reply.started": "2024-10-08T02:25:53.292084Z"
    }
   },
   "outputs": [],
   "source": [
    "# 元のスケールに戻す\n",
    "y_train_cp = y_train.copy()\n",
    "y_train_pred_cp = y_train_pred.copy()\n",
    "\n",
    "y_train_cp = np.expm1(y_train_cp)\n",
    "y_train_pred_cp = np.expm1(y_train_pred_cp)"
   ]
  },
  {
   "cell_type": "code",
   "execution_count": 11,
   "metadata": {
    "execution": {
     "iopub.execute_input": "2024-10-08T02:25:53.349151Z",
     "iopub.status.busy": "2024-10-08T02:25:53.348664Z",
     "iopub.status.idle": "2024-10-08T02:25:53.366334Z",
     "shell.execute_reply": "2024-10-08T02:25:53.365232Z",
     "shell.execute_reply.started": "2024-10-08T02:25:53.349095Z"
    }
   },
   "outputs": [],
   "source": [
    "y_min = np.append(y_train_pred_cp, y_train_cp).min()\n",
    "y_max = np.append(y_train_pred_cp, y_train_cp).max()\n",
    "y_margin = (y_max - y_min) * 0.1\n",
    "y_min -= y_margin\n",
    "y_max += y_margin"
   ]
  },
  {
   "cell_type": "code",
   "execution_count": 12,
   "metadata": {
    "execution": {
     "iopub.execute_input": "2024-10-08T02:25:53.368076Z",
     "iopub.status.busy": "2024-10-08T02:25:53.367694Z",
     "iopub.status.idle": "2024-10-08T02:25:56.341146Z",
     "shell.execute_reply": "2024-10-08T02:25:56.339966Z",
     "shell.execute_reply.started": "2024-10-08T02:25:53.368037Z"
    }
   },
   "outputs": [
    {
     "data": {
      "image/png": "[encoded data removed]",
      "text/plain": [
       "<Figure size 640x480 with 1 Axes>"
      ]
     },
     "metadata": {},
     "output_type": "display_data"
    }
   ],
   "source": [
    "plt.scatter(y_train_pred_cp, y_train_cp, alpha=0.3)\n",
    "plt.plot([y_min,y_max], [y_min,y_max])\n",
    "plt.gca().set_aspect('equal', adjustable='box')\n",
    "plt.xlim(y_min, y_max)\n",
    "plt.ylim(y_min, y_max)\n",
    "plt.title('Train data')\n",
    "plt.xlabel('Pred')\n",
    "plt.ylabel('True')\n",
    "plt.show()"
   ]
  },
  {
   "cell_type": "code",
   "execution_count": 13,
   "metadata": {
    "execution": {
     "iopub.execute_input": "2024-10-08T02:25:56.345822Z",
     "iopub.status.busy": "2024-10-08T02:25:56.345399Z",
     "iopub.status.idle": "2024-10-08T02:25:56.352157Z",
     "shell.execute_reply": "2024-10-08T02:25:56.350766Z",
     "shell.execute_reply.started": "2024-10-08T02:25:56.345777Z"
    }
   },
   "outputs": [],
   "source": [
    "# RMSLE関数の定義\n",
    "def rmsle(y_true, y_pred):  \n",
    "    return np.sqrt(mean_squared_log_error(y_true, y_pred))"
   ]
  },
  {
   "cell_type": "code",
   "execution_count": 14,
   "metadata": {
    "execution": {
     "iopub.execute_input": "2024-10-08T02:25:56.354122Z",
     "iopub.status.busy": "2024-10-08T02:25:56.353705Z",
     "iopub.status.idle": "2024-10-08T02:25:56.462257Z",
     "shell.execute_reply": "2024-10-08T02:25:56.460846Z",
     "shell.execute_reply.started": "2024-10-08T02:25:56.354077Z"
    }
   },
   "outputs": [
    {
     "name": "stdout",
     "output_type": "stream",
     "text": [
      "RMSLE for train data: 0.49973873241558214\n"
     ]
    }
   ],
   "source": [
    "# モデルの評価\n",
    "gbm_train_rmsle = rmsle(np.expm1(y_train), np.expm1(y_train_pred))\n",
    "print(\"RMSLE for train data:\", gbm_train_rmsle)"
   ]
  },
  {
   "cell_type": "markdown",
   "metadata": {},
   "source": [
    "#### テストデータに対する予測｜LightGBM"
   ]
  },
  {
   "cell_type": "code",
   "execution_count": 15,
   "metadata": {
    "execution": {
     "iopub.execute_input": "2024-10-08T02:25:56.464231Z",
     "iopub.status.busy": "2024-10-08T02:25:56.463855Z",
     "iopub.status.idle": "2024-10-08T02:26:05.345911Z",
     "shell.execute_reply": "2024-10-08T02:26:05.344700Z",
     "shell.execute_reply.started": "2024-10-08T02:25:56.464191Z"
    }
   },
   "outputs": [],
   "source": [
    "y_test_pred = gbm.predict(X_test)"
   ]
  },
  {
   "cell_type": "code",
   "execution_count": 16,
   "metadata": {
    "execution": {
     "iopub.execute_input": "2024-10-08T02:26:05.347843Z",
     "iopub.status.busy": "2024-10-08T02:26:05.347460Z",
     "iopub.status.idle": "2024-10-08T02:26:05.374576Z",
     "shell.execute_reply": "2024-10-08T02:26:05.373329Z",
     "shell.execute_reply.started": "2024-10-08T02:26:05.347804Z"
    }
   },
   "outputs": [],
   "source": [
    "# 元のスケールに戻す\n",
    "y_test_cp = y_test.copy()\n",
    "y_test_pred_cp = y_test_pred.copy()\n",
    "\n",
    "y_test_cp = np.expm1(y_test_cp)\n",
    "y_test_pred_cp = np.expm1(y_test_pred_cp)"
   ]
  },
  {
   "cell_type": "code",
   "execution_count": 17,
   "metadata": {
    "execution": {
     "iopub.execute_input": "2024-10-08T02:26:05.376326Z",
     "iopub.status.busy": "2024-10-08T02:26:05.375938Z",
     "iopub.status.idle": "2024-10-08T02:26:05.385677Z",
     "shell.execute_reply": "2024-10-08T02:26:05.384646Z",
     "shell.execute_reply.started": "2024-10-08T02:26:05.376255Z"
    }
   },
   "outputs": [],
   "source": [
    "y_min = np.append(y_test_pred_cp, y_test_cp).min()\n",
    "y_max = np.append(y_test_pred_cp, y_test_cp).max()\n",
    "y_margin = (y_max - y_min) * 0.1\n",
    "y_min -= y_margin\n",
    "y_max += y_margin"
   ]
  },
  {
   "cell_type": "code",
   "execution_count": 18,
   "metadata": {
    "execution": {
     "iopub.execute_input": "2024-10-08T02:26:05.387588Z",
     "iopub.status.busy": "2024-10-08T02:26:05.387168Z",
     "iopub.status.idle": "2024-10-08T02:26:06.787496Z",
     "shell.execute_reply": "2024-10-08T02:26:06.786416Z",
     "shell.execute_reply.started": "2024-10-08T02:26:05.387547Z"
    }
   },
   "outputs": [
    {
     "data": {
      "image/png": "[encoded data removed]",
      "text/plain": [
       "<Figure size 640x480 with 1 Axes>"
      ]
     },
     "metadata": {},
     "output_type": "display_data"
    }
   ],
   "source": [
    "plt.scatter(y_test_pred_cp, y_test_cp, alpha=0.3)\n",
    "plt.plot([y_min,y_max], [y_min,y_max])\n",
    "plt.gca().set_aspect('equal', adjustable='box')\n",
    "plt.xlim(y_min, y_max)\n",
    "plt.ylim(y_min, y_max)\n",
    "plt.title('Test data')\n",
    "plt.xlabel('Pred')\n",
    "plt.ylabel('True')\n",
    "plt.show()"
   ]
  },
  {
   "cell_type": "code",
   "execution_count": 19,
   "metadata": {
    "execution": {
     "iopub.execute_input": "2024-10-08T02:26:06.789131Z",
     "iopub.status.busy": "2024-10-08T02:26:06.788795Z",
     "iopub.status.idle": "2024-10-08T02:26:06.838970Z",
     "shell.execute_reply": "2024-10-08T02:26:06.837935Z",
     "shell.execute_reply.started": "2024-10-08T02:26:06.789094Z"
    }
   },
   "outputs": [
    {
     "name": "stdout",
     "output_type": "stream",
     "text": [
      "RMSLE for test data: 0.5036272774221142\n"
     ]
    }
   ],
   "source": [
    "# モデルの評価\n",
    "gbm_test_rmsle = rmsle(np.expm1(y_test), np.expm1(y_test_pred))\n",
    "print(\"RMSLE for test data:\", gbm_test_rmsle)"
   ]
  },
  {
   "cell_type": "code",
   "execution_count": 20,
   "metadata": {
    "_cell_guid": "e6e547d9-1b13-44a7-9cfa-1f4e6b1fe043",
    "_uuid": "1d836e0c-8b07-433b-96bd-682afbc0e650",
    "collapsed": false,
    "execution": {
     "iopub.execute_input": "2024-10-08T02:26:06.840851Z",
     "iopub.status.busy": "2024-10-08T02:26:06.840397Z",
     "iopub.status.idle": "2024-10-08T02:26:06.849671Z",
     "shell.execute_reply": "2024-10-08T02:26:06.848457Z",
     "shell.execute_reply.started": "2024-10-08T02:26:06.840798Z"
    },
    "jupyter": {
     "outputs_hidden": false
    }
   },
   "outputs": [
    {
     "name": "stdout",
     "output_type": "stream",
     "text": [
      "0:36:30.533037\n"
     ]
    }
   ],
   "source": [
    "stop_real = datetime.now()\n",
    "execution_time_real = stop_real - start_real\n",
    "print(execution_time_real)"
   ]
  },
  {
   "cell_type": "code",
   "execution_count": null,
   "metadata": {},
   "outputs": [],
   "source": []
  }
 ],
 "metadata": {
  "kaggle": {
   "accelerator": "none",
   "dataSources": [
    {
     "datasetId": 5781830,
     "sourceId": 9544663,
     "sourceType": "datasetVersion"
    }
   ],
   "dockerImageVersionId": 30786,
   "isGpuEnabled": false,
   "isInternetEnabled": false,
   "language": "python",
   "sourceType": "notebook"
  },
  "kernelspec": {
   "display_name": "Python 3 (ipykernel)",
   "language": "python",
   "name": "python3"
  },
  "language_info": {
   "codemirror_mode": {
    "name": "ipython",
    "version": 3
   },
   "file_extension": ".py",
   "mimetype": "text/x-python",
   "name": "python",
   "nbconvert_exporter": "python",
   "pygments_lexer": "ipython3",
   "version": "3.9.15"
  }
 },
 "nbformat": 4,
 "nbformat_minor": 4
}
