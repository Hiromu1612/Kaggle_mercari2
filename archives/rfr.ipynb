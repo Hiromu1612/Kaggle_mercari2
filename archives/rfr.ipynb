{
 "cells": [
  {
   "cell_type": "code",
   "execution_count": 65,
   "metadata": {
    "_cell_guid": "e189abd2-46d2-4f2e-977b-50a25d3521d4",
    "_uuid": "96487335-2c48-482e-be5d-e80a6a096b5d",
    "collapsed": false,
    "execution": {
     "iopub.execute_input": "2024-08-20T00:59:15.030116Z",
     "iopub.status.busy": "2024-08-20T00:59:15.029732Z",
     "iopub.status.idle": "2024-08-20T00:59:15.035693Z",
     "shell.execute_reply": "2024-08-20T00:59:15.034419Z",
     "shell.execute_reply.started": "2024-08-20T00:59:15.030087Z"
    },
    "jupyter": {
     "outputs_hidden": false
    }
   },
   "outputs": [],
   "source": [
    "from datetime import datetime\n",
    "start_real = datetime.now() # 全体の処理時間の計測を開始する\n",
    "\n",
    "import pandas as pd\n",
    "import numpy as np\n",
    "\n",
    "import warnings\n",
    "warnings.simplefilter(\"ignore\")"
   ]
  },
  {
   "cell_type": "markdown",
   "metadata": {
    "_cell_guid": "19582f35-5a6a-4551-84e0-300bacebdd4c",
    "_uuid": "1ded81ac-afbf-4cbe-a8d7-5395f4536e62"
   },
   "source": [
    "#### データの読み込み"
   ]
  },
  {
   "cell_type": "code",
   "execution_count": 2,
   "metadata": {
    "_cell_guid": "b774ed87-a143-49f9-a9fc-a1877e602cfc",
    "_uuid": "6498a732-29e5-4505-b622-dfe51d096f88",
    "collapsed": false,
    "execution": {
     "iopub.execute_input": "2024-08-20T00:41:20.193317Z",
     "iopub.status.busy": "2024-08-20T00:41:20.192825Z",
     "iopub.status.idle": "2024-08-20T00:41:36.600488Z",
     "shell.execute_reply": "2024-08-20T00:41:36.599217Z",
     "shell.execute_reply.started": "2024-08-20T00:41:20.193281Z"
    },
    "jupyter": {
     "outputs_hidden": false
    }
   },
   "outputs": [],
   "source": [
    "train = pd.read_csv(\"/kaggle/input/mercari-dataset/train.tsv\", delimiter='\\t')\n",
    "test = pd.read_csv(\"/kaggle/input/mercari-dataset/test.tsv\", delimiter='\\t')"
   ]
  },
  {
   "cell_type": "markdown",
   "metadata": {
    "_cell_guid": "af1d9dae-a336-4558-8200-98ce0a82acfb",
    "_uuid": "c0b2c54f-5e49-46ec-b07e-50f4ca3001d4"
   },
   "source": [
    "#### データの全体像\n",
    "train：1,482,535個のユーザーが投稿した商品\n",
    "\n",
    "test：693,359行で「価格（Price）」の項目がテストデータは含まれていないため、列数は「７」となっている \n",
    "\n",
    "* train_id / test _id – ユーザー投稿のID\n",
    "* name – 投稿のタイトル。タイトルに価格に関する情報がある場合（例：$20）はメルカリが事前に削除をして[rm]と置き換えています。\n",
    "* item_condition_id – ユーザーが指定した商品の状態(1~5,大きい方が状態が良い)\n",
    "* category_name – 投稿カテゴリー\n",
    "* brand_name – ブランドの名前\n",
    "* price – 訓練データのみ。実際に売られた価格。米ドル表示。今回のチャレンジの予測ターゲットとなります。\n",
    "* shipping – 送料のフラグ。「1」は販売者負担。「0」は購入者負担。\n",
    "* item_description – ユーザーが投稿した商品説明の全文。タイトルと同様に価格情報がある場合は[rm]と置き換えられています。"
   ]
  },
  {
   "cell_type": "code",
   "execution_count": 3,
   "metadata": {
    "_cell_guid": "d447b1d6-a78f-4ae2-93a5-c29364047100",
    "_uuid": "537791cb-2e65-4328-b786-e930e4cc47d3",
    "collapsed": false,
    "execution": {
     "iopub.execute_input": "2024-08-20T00:41:36.602577Z",
     "iopub.status.busy": "2024-08-20T00:41:36.602153Z",
     "iopub.status.idle": "2024-08-20T00:41:37.000182Z",
     "shell.execute_reply": "2024-08-20T00:41:36.999023Z",
     "shell.execute_reply.started": "2024-08-20T00:41:36.602539Z"
    },
    "jupyter": {
     "outputs_hidden": false
    }
   },
   "outputs": [
    {
     "name": "stdout",
     "output_type": "stream",
     "text": [
      "(1482535, 8)\n",
      "<class 'pandas.core.frame.DataFrame'>\n",
      "RangeIndex: 1482535 entries, 0 to 1482534\n",
      "Data columns (total 8 columns):\n",
      " #   Column             Non-Null Count    Dtype  \n",
      "---  ------             --------------    -----  \n",
      " 0   train_id           1482535 non-null  int64  \n",
      " 1   name               1482535 non-null  object \n",
      " 2   item_condition_id  1482535 non-null  int64  \n",
      " 3   category_name      1476208 non-null  object \n",
      " 4   brand_name         849853 non-null   object \n",
      " 5   price              1482535 non-null  float64\n",
      " 6   shipping           1482535 non-null  int64  \n",
      " 7   item_description   1482529 non-null  object \n",
      "dtypes: float64(1), int64(3), object(4)\n",
      "memory usage: 90.5+ MB\n",
      "None\n"
     ]
    },
    {
     "data": {
      "text/html": [
       "<div>\n",
       "<style scoped>\n",
       "    .dataframe tbody tr th:only-of-type {\n",
       "        vertical-align: middle;\n",
       "    }\n",
       "\n",
       "    .dataframe tbody tr th {\n",
       "        vertical-align: top;\n",
       "    }\n",
       "\n",
       "    .dataframe thead th {\n",
       "        text-align: right;\n",
       "    }\n",
       "</style>\n",
       "<table border=\"1\" class=\"dataframe\">\n",
       "  <thead>\n",
       "    <tr style=\"text-align: right;\">\n",
       "      <th></th>\n",
       "      <th>train_id</th>\n",
       "      <th>name</th>\n",
       "      <th>item_condition_id</th>\n",
       "      <th>category_name</th>\n",
       "      <th>brand_name</th>\n",
       "      <th>price</th>\n",
       "      <th>shipping</th>\n",
       "      <th>item_description</th>\n",
       "    </tr>\n",
       "  </thead>\n",
       "  <tbody>\n",
       "    <tr>\n",
       "      <th>0</th>\n",
       "      <td>0</td>\n",
       "      <td>MLB Cincinnati Reds T Shirt Size XL</td>\n",
       "      <td>3</td>\n",
       "      <td>Men/Tops/T-shirts</td>\n",
       "      <td>NaN</td>\n",
       "      <td>10.0</td>\n",
       "      <td>1</td>\n",
       "      <td>No description yet</td>\n",
       "    </tr>\n",
       "    <tr>\n",
       "      <th>1</th>\n",
       "      <td>1</td>\n",
       "      <td>Razer BlackWidow Chroma Keyboard</td>\n",
       "      <td>3</td>\n",
       "      <td>Electronics/Computers &amp; Tablets/Components &amp; P...</td>\n",
       "      <td>Razer</td>\n",
       "      <td>52.0</td>\n",
       "      <td>0</td>\n",
       "      <td>This keyboard is in great condition and works ...</td>\n",
       "    </tr>\n",
       "    <tr>\n",
       "      <th>2</th>\n",
       "      <td>2</td>\n",
       "      <td>AVA-VIV Blouse</td>\n",
       "      <td>1</td>\n",
       "      <td>Women/Tops &amp; Blouses/Blouse</td>\n",
       "      <td>Target</td>\n",
       "      <td>10.0</td>\n",
       "      <td>1</td>\n",
       "      <td>Adorable top with a hint of lace and a key hol...</td>\n",
       "    </tr>\n",
       "    <tr>\n",
       "      <th>3</th>\n",
       "      <td>3</td>\n",
       "      <td>Leather Horse Statues</td>\n",
       "      <td>1</td>\n",
       "      <td>Home/Home Décor/Home Décor Accents</td>\n",
       "      <td>NaN</td>\n",
       "      <td>35.0</td>\n",
       "      <td>1</td>\n",
       "      <td>New with tags. Leather horses. Retail for [rm]...</td>\n",
       "    </tr>\n",
       "    <tr>\n",
       "      <th>4</th>\n",
       "      <td>4</td>\n",
       "      <td>24K GOLD plated rose</td>\n",
       "      <td>1</td>\n",
       "      <td>Women/Jewelry/Necklaces</td>\n",
       "      <td>NaN</td>\n",
       "      <td>44.0</td>\n",
       "      <td>0</td>\n",
       "      <td>Complete with certificate of authenticity</td>\n",
       "    </tr>\n",
       "  </tbody>\n",
       "</table>\n",
       "</div>"
      ],
      "text/plain": [
       "   train_id                                 name  item_condition_id  \\\n",
       "0         0  MLB Cincinnati Reds T Shirt Size XL                  3   \n",
       "1         1     Razer BlackWidow Chroma Keyboard                  3   \n",
       "2         2                       AVA-VIV Blouse                  1   \n",
       "3         3                Leather Horse Statues                  1   \n",
       "4         4                 24K GOLD plated rose                  1   \n",
       "\n",
       "                                       category_name brand_name  price  \\\n",
       "0                                  Men/Tops/T-shirts        NaN   10.0   \n",
       "1  Electronics/Computers & Tablets/Components & P...      Razer   52.0   \n",
       "2                        Women/Tops & Blouses/Blouse     Target   10.0   \n",
       "3                 Home/Home Décor/Home Décor Accents        NaN   35.0   \n",
       "4                            Women/Jewelry/Necklaces        NaN   44.0   \n",
       "\n",
       "   shipping                                   item_description  \n",
       "0         1                                 No description yet  \n",
       "1         0  This keyboard is in great condition and works ...  \n",
       "2         1  Adorable top with a hint of lace and a key hol...  \n",
       "3         1  New with tags. Leather horses. Retail for [rm]...  \n",
       "4         0          Complete with certificate of authenticity  "
      ]
     },
     "metadata": {},
     "output_type": "display_data"
    }
   ],
   "source": [
    "print(train.shape)\n",
    "print(train.info())\n",
    "display(train.head())"
   ]
  },
  {
   "cell_type": "code",
   "execution_count": 4,
   "metadata": {
    "_cell_guid": "1a6f3a88-06c5-4be9-ac4e-447fec5a8f0a",
    "_uuid": "bb552642-3592-4b44-a9c5-3f375809f628",
    "collapsed": false,
    "execution": {
     "iopub.execute_input": "2024-08-20T00:41:37.002867Z",
     "iopub.status.busy": "2024-08-20T00:41:37.002544Z",
     "iopub.status.idle": "2024-08-20T00:41:37.184504Z",
     "shell.execute_reply": "2024-08-20T00:41:37.183523Z",
     "shell.execute_reply.started": "2024-08-20T00:41:37.002840Z"
    },
    "jupyter": {
     "outputs_hidden": false
    }
   },
   "outputs": [
    {
     "name": "stdout",
     "output_type": "stream",
     "text": [
      "(693359, 7)\n",
      "<class 'pandas.core.frame.DataFrame'>\n",
      "RangeIndex: 693359 entries, 0 to 693358\n",
      "Data columns (total 7 columns):\n",
      " #   Column             Non-Null Count   Dtype \n",
      "---  ------             --------------   ----- \n",
      " 0   test_id            693359 non-null  int64 \n",
      " 1   name               693359 non-null  object\n",
      " 2   item_condition_id  693359 non-null  int64 \n",
      " 3   category_name      690301 non-null  object\n",
      " 4   brand_name         397834 non-null  object\n",
      " 5   shipping           693359 non-null  int64 \n",
      " 6   item_description   693359 non-null  object\n",
      "dtypes: int64(3), object(4)\n",
      "memory usage: 37.0+ MB\n",
      "None\n"
     ]
    },
    {
     "data": {
      "text/html": [
       "<div>\n",
       "<style scoped>\n",
       "    .dataframe tbody tr th:only-of-type {\n",
       "        vertical-align: middle;\n",
       "    }\n",
       "\n",
       "    .dataframe tbody tr th {\n",
       "        vertical-align: top;\n",
       "    }\n",
       "\n",
       "    .dataframe thead th {\n",
       "        text-align: right;\n",
       "    }\n",
       "</style>\n",
       "<table border=\"1\" class=\"dataframe\">\n",
       "  <thead>\n",
       "    <tr style=\"text-align: right;\">\n",
       "      <th></th>\n",
       "      <th>test_id</th>\n",
       "      <th>name</th>\n",
       "      <th>item_condition_id</th>\n",
       "      <th>category_name</th>\n",
       "      <th>brand_name</th>\n",
       "      <th>shipping</th>\n",
       "      <th>item_description</th>\n",
       "    </tr>\n",
       "  </thead>\n",
       "  <tbody>\n",
       "    <tr>\n",
       "      <th>0</th>\n",
       "      <td>0</td>\n",
       "      <td>Breast cancer \"I fight like a girl\" ring</td>\n",
       "      <td>1</td>\n",
       "      <td>Women/Jewelry/Rings</td>\n",
       "      <td>NaN</td>\n",
       "      <td>1</td>\n",
       "      <td>Size 7</td>\n",
       "    </tr>\n",
       "    <tr>\n",
       "      <th>1</th>\n",
       "      <td>1</td>\n",
       "      <td>25 pcs NEW 7.5\"x12\" Kraft Bubble Mailers</td>\n",
       "      <td>1</td>\n",
       "      <td>Other/Office supplies/Shipping Supplies</td>\n",
       "      <td>NaN</td>\n",
       "      <td>1</td>\n",
       "      <td>25 pcs NEW 7.5\"x12\" Kraft Bubble Mailers Lined...</td>\n",
       "    </tr>\n",
       "    <tr>\n",
       "      <th>2</th>\n",
       "      <td>2</td>\n",
       "      <td>Coach bag</td>\n",
       "      <td>1</td>\n",
       "      <td>Vintage &amp; Collectibles/Bags and Purses/Handbag</td>\n",
       "      <td>Coach</td>\n",
       "      <td>1</td>\n",
       "      <td>Brand new coach bag. Bought for [rm] at a Coac...</td>\n",
       "    </tr>\n",
       "    <tr>\n",
       "      <th>3</th>\n",
       "      <td>3</td>\n",
       "      <td>Floral Kimono</td>\n",
       "      <td>2</td>\n",
       "      <td>Women/Sweaters/Cardigan</td>\n",
       "      <td>NaN</td>\n",
       "      <td>0</td>\n",
       "      <td>-floral kimono -never worn -lightweight and pe...</td>\n",
       "    </tr>\n",
       "    <tr>\n",
       "      <th>4</th>\n",
       "      <td>4</td>\n",
       "      <td>Life after Death</td>\n",
       "      <td>3</td>\n",
       "      <td>Other/Books/Religion &amp; Spirituality</td>\n",
       "      <td>NaN</td>\n",
       "      <td>1</td>\n",
       "      <td>Rediscovering life after the loss of a loved o...</td>\n",
       "    </tr>\n",
       "  </tbody>\n",
       "</table>\n",
       "</div>"
      ],
      "text/plain": [
       "   test_id                                      name  item_condition_id  \\\n",
       "0        0  Breast cancer \"I fight like a girl\" ring                  1   \n",
       "1        1  25 pcs NEW 7.5\"x12\" Kraft Bubble Mailers                  1   \n",
       "2        2                                 Coach bag                  1   \n",
       "3        3                             Floral Kimono                  2   \n",
       "4        4                          Life after Death                  3   \n",
       "\n",
       "                                    category_name brand_name  shipping  \\\n",
       "0                             Women/Jewelry/Rings        NaN         1   \n",
       "1         Other/Office supplies/Shipping Supplies        NaN         1   \n",
       "2  Vintage & Collectibles/Bags and Purses/Handbag      Coach         1   \n",
       "3                         Women/Sweaters/Cardigan        NaN         0   \n",
       "4             Other/Books/Religion & Spirituality        NaN         1   \n",
       "\n",
       "                                    item_description  \n",
       "0                                             Size 7  \n",
       "1  25 pcs NEW 7.5\"x12\" Kraft Bubble Mailers Lined...  \n",
       "2  Brand new coach bag. Bought for [rm] at a Coac...  \n",
       "3  -floral kimono -never worn -lightweight and pe...  \n",
       "4  Rediscovering life after the loss of a loved o...  "
      ]
     },
     "metadata": {},
     "output_type": "display_data"
    }
   ],
   "source": [
    "print(test.shape)\n",
    "print(test.info())\n",
    "display(test.head())"
   ]
  },
  {
   "cell_type": "markdown",
   "metadata": {
    "_cell_guid": "4a0dcffc-9d21-4fb4-a7d3-fa5110a30ca4",
    "_uuid": "796a0b3f-2cac-4ef6-aa12-4c802afdacd9"
   },
   "source": [
    "#### trainの統計量を表示　transposeで行と列を入れ替え\n",
    "\n",
    "* train_id：uniqueが0で重複無し\n",
    "* name：uniqueが多く、商品名が重複している\n",
    "* brand_name：nameと同じで半分ほど重複している\n",
    "* price：mean(平均値)が26.7ドル　最小値が0ドル、最大値が2009ドル\n",
    "* item_description：top(最頻値)はNo description yet(商品説明なし)が82,489個で全体の5.6%"
   ]
  },
  {
   "cell_type": "code",
   "execution_count": 5,
   "metadata": {
    "_cell_guid": "326d16a8-31f8-4806-be82-68bf06a5b48a",
    "_uuid": "9a6b6acd-0980-40d3-a391-41f7dd24c842",
    "collapsed": false,
    "execution": {
     "iopub.execute_input": "2024-08-20T00:41:37.188885Z",
     "iopub.status.busy": "2024-08-20T00:41:37.188599Z",
     "iopub.status.idle": "2024-08-20T00:41:41.152550Z",
     "shell.execute_reply": "2024-08-20T00:41:41.151397Z",
     "shell.execute_reply.started": "2024-08-20T00:41:37.188843Z"
    },
    "jupyter": {
     "outputs_hidden": false
    }
   },
   "outputs": [
    {
     "data": {
      "text/html": [
       "<div>\n",
       "<style scoped>\n",
       "    .dataframe tbody tr th:only-of-type {\n",
       "        vertical-align: middle;\n",
       "    }\n",
       "\n",
       "    .dataframe tbody tr th {\n",
       "        vertical-align: top;\n",
       "    }\n",
       "\n",
       "    .dataframe thead th {\n",
       "        text-align: right;\n",
       "    }\n",
       "</style>\n",
       "<table border=\"1\" class=\"dataframe\">\n",
       "  <thead>\n",
       "    <tr style=\"text-align: right;\">\n",
       "      <th></th>\n",
       "      <th>count</th>\n",
       "      <th>unique</th>\n",
       "      <th>top</th>\n",
       "      <th>freq</th>\n",
       "      <th>mean</th>\n",
       "      <th>std</th>\n",
       "      <th>min</th>\n",
       "      <th>25%</th>\n",
       "      <th>50%</th>\n",
       "      <th>75%</th>\n",
       "      <th>max</th>\n",
       "    </tr>\n",
       "  </thead>\n",
       "  <tbody>\n",
       "    <tr>\n",
       "      <th>train_id</th>\n",
       "      <td>1482535.0</td>\n",
       "      <td>NaN</td>\n",
       "      <td>NaN</td>\n",
       "      <td>NaN</td>\n",
       "      <td>741267.0</td>\n",
       "      <td>427971.135004</td>\n",
       "      <td>0.0</td>\n",
       "      <td>370633.5</td>\n",
       "      <td>741267.0</td>\n",
       "      <td>1111900.5</td>\n",
       "      <td>1482534.0</td>\n",
       "    </tr>\n",
       "    <tr>\n",
       "      <th>name</th>\n",
       "      <td>1482535</td>\n",
       "      <td>1225273</td>\n",
       "      <td>Bundle</td>\n",
       "      <td>2232</td>\n",
       "      <td>NaN</td>\n",
       "      <td>NaN</td>\n",
       "      <td>NaN</td>\n",
       "      <td>NaN</td>\n",
       "      <td>NaN</td>\n",
       "      <td>NaN</td>\n",
       "      <td>NaN</td>\n",
       "    </tr>\n",
       "    <tr>\n",
       "      <th>item_condition_id</th>\n",
       "      <td>1482535.0</td>\n",
       "      <td>NaN</td>\n",
       "      <td>NaN</td>\n",
       "      <td>NaN</td>\n",
       "      <td>1.90738</td>\n",
       "      <td>0.903159</td>\n",
       "      <td>1.0</td>\n",
       "      <td>1.0</td>\n",
       "      <td>2.0</td>\n",
       "      <td>3.0</td>\n",
       "      <td>5.0</td>\n",
       "    </tr>\n",
       "    <tr>\n",
       "      <th>category_name</th>\n",
       "      <td>1476208</td>\n",
       "      <td>1287</td>\n",
       "      <td>Women/Athletic Apparel/Pants, Tights, Leggings</td>\n",
       "      <td>60177</td>\n",
       "      <td>NaN</td>\n",
       "      <td>NaN</td>\n",
       "      <td>NaN</td>\n",
       "      <td>NaN</td>\n",
       "      <td>NaN</td>\n",
       "      <td>NaN</td>\n",
       "      <td>NaN</td>\n",
       "    </tr>\n",
       "    <tr>\n",
       "      <th>brand_name</th>\n",
       "      <td>849853</td>\n",
       "      <td>4809</td>\n",
       "      <td>PINK</td>\n",
       "      <td>54088</td>\n",
       "      <td>NaN</td>\n",
       "      <td>NaN</td>\n",
       "      <td>NaN</td>\n",
       "      <td>NaN</td>\n",
       "      <td>NaN</td>\n",
       "      <td>NaN</td>\n",
       "      <td>NaN</td>\n",
       "    </tr>\n",
       "    <tr>\n",
       "      <th>price</th>\n",
       "      <td>1482535.0</td>\n",
       "      <td>NaN</td>\n",
       "      <td>NaN</td>\n",
       "      <td>NaN</td>\n",
       "      <td>26.737516</td>\n",
       "      <td>38.586066</td>\n",
       "      <td>0.0</td>\n",
       "      <td>10.0</td>\n",
       "      <td>17.0</td>\n",
       "      <td>29.0</td>\n",
       "      <td>2009.0</td>\n",
       "    </tr>\n",
       "    <tr>\n",
       "      <th>shipping</th>\n",
       "      <td>1482535.0</td>\n",
       "      <td>NaN</td>\n",
       "      <td>NaN</td>\n",
       "      <td>NaN</td>\n",
       "      <td>0.447274</td>\n",
       "      <td>0.497212</td>\n",
       "      <td>0.0</td>\n",
       "      <td>0.0</td>\n",
       "      <td>0.0</td>\n",
       "      <td>1.0</td>\n",
       "      <td>1.0</td>\n",
       "    </tr>\n",
       "    <tr>\n",
       "      <th>item_description</th>\n",
       "      <td>1482529</td>\n",
       "      <td>1281425</td>\n",
       "      <td>No description yet</td>\n",
       "      <td>82489</td>\n",
       "      <td>NaN</td>\n",
       "      <td>NaN</td>\n",
       "      <td>NaN</td>\n",
       "      <td>NaN</td>\n",
       "      <td>NaN</td>\n",
       "      <td>NaN</td>\n",
       "      <td>NaN</td>\n",
       "    </tr>\n",
       "  </tbody>\n",
       "</table>\n",
       "</div>"
      ],
      "text/plain": [
       "                       count   unique  \\\n",
       "train_id           1482535.0      NaN   \n",
       "name                 1482535  1225273   \n",
       "item_condition_id  1482535.0      NaN   \n",
       "category_name        1476208     1287   \n",
       "brand_name            849853     4809   \n",
       "price              1482535.0      NaN   \n",
       "shipping           1482535.0      NaN   \n",
       "item_description     1482529  1281425   \n",
       "\n",
       "                                                              top   freq  \\\n",
       "train_id                                                      NaN    NaN   \n",
       "name                                                       Bundle   2232   \n",
       "item_condition_id                                             NaN    NaN   \n",
       "category_name      Women/Athletic Apparel/Pants, Tights, Leggings  60177   \n",
       "brand_name                                                   PINK  54088   \n",
       "price                                                         NaN    NaN   \n",
       "shipping                                                      NaN    NaN   \n",
       "item_description                               No description yet  82489   \n",
       "\n",
       "                        mean            std  min       25%       50%  \\\n",
       "train_id            741267.0  427971.135004  0.0  370633.5  741267.0   \n",
       "name                     NaN            NaN  NaN       NaN       NaN   \n",
       "item_condition_id    1.90738       0.903159  1.0       1.0       2.0   \n",
       "category_name            NaN            NaN  NaN       NaN       NaN   \n",
       "brand_name               NaN            NaN  NaN       NaN       NaN   \n",
       "price              26.737516      38.586066  0.0      10.0      17.0   \n",
       "shipping            0.447274       0.497212  0.0       0.0       0.0   \n",
       "item_description         NaN            NaN  NaN       NaN       NaN   \n",
       "\n",
       "                         75%        max  \n",
       "train_id           1111900.5  1482534.0  \n",
       "name                     NaN        NaN  \n",
       "item_condition_id        3.0        5.0  \n",
       "category_name            NaN        NaN  \n",
       "brand_name               NaN        NaN  \n",
       "price                   29.0     2009.0  \n",
       "shipping                 1.0        1.0  \n",
       "item_description         NaN        NaN  "
      ]
     },
     "execution_count": 5,
     "metadata": {},
     "output_type": "execute_result"
    }
   ],
   "source": [
    "train.describe(include='all').transpose()"
   ]
  },
  {
   "cell_type": "markdown",
   "metadata": {
    "_cell_guid": "0c6ece99-c728-4d82-8d8e-a60f30922d39",
    "_uuid": "330be89b-cd34-449e-a92a-185dc48655b3"
   },
   "source": [
    "#### 変数ごとの特徴\n",
    "#### Price"
   ]
  },
  {
   "cell_type": "code",
   "execution_count": 6,
   "metadata": {
    "_cell_guid": "3e53f380-5fa2-4c05-9c8f-642e2594b378",
    "_uuid": "22846147-081c-4727-8e11-fed3ac6532b7",
    "collapsed": false,
    "execution": {
     "iopub.execute_input": "2024-08-20T00:41:41.154379Z",
     "iopub.status.busy": "2024-08-20T00:41:41.153955Z",
     "iopub.status.idle": "2024-08-20T00:41:41.226341Z",
     "shell.execute_reply": "2024-08-20T00:41:41.225231Z",
     "shell.execute_reply.started": "2024-08-20T00:41:41.154342Z"
    },
    "jupyter": {
     "outputs_hidden": false
    }
   },
   "outputs": [
    {
     "data": {
      "text/plain": [
       "count    1.482535e+06\n",
       "mean     2.673752e+01\n",
       "std      3.858607e+01\n",
       "min      0.000000e+00\n",
       "25%      1.000000e+01\n",
       "50%      1.700000e+01\n",
       "75%      2.900000e+01\n",
       "max      2.009000e+03\n",
       "Name: price, dtype: float64"
      ]
     },
     "execution_count": 6,
     "metadata": {},
     "output_type": "execute_result"
    }
   ],
   "source": [
    "train.price.describe()"
   ]
  },
  {
   "cell_type": "code",
   "execution_count": 7,
   "metadata": {
    "_cell_guid": "20d82219-023d-41f4-a1d3-947a25670d56",
    "_uuid": "c280de4b-0ca7-44b7-a3c4-68f596b534b4",
    "collapsed": false,
    "execution": {
     "iopub.execute_input": "2024-08-20T00:41:41.228295Z",
     "iopub.status.busy": "2024-08-20T00:41:41.227831Z",
     "iopub.status.idle": "2024-08-20T00:41:42.513681Z",
     "shell.execute_reply": "2024-08-20T00:41:42.512388Z",
     "shell.execute_reply.started": "2024-08-20T00:41:41.228258Z"
    },
    "jupyter": {
     "outputs_hidden": false
    }
   },
   "outputs": [
    {
     "data": {
      "text/plain": [
       "<matplotlib.legend.Legend at 0x7c4fecb79cc0>"
      ]
     },
     "execution_count": 7,
     "metadata": {},
     "output_type": "execute_result"
    },
    {
     "data": {
      "image/png": "[encoded data removed]",
      "text/plain": [
       "<Figure size 1000x500 with 1 Axes>"
      ]
     },
     "metadata": {},
     "output_type": "display_data"
    }
   ],
   "source": [
    "#priceをヒストグラムで表示\n",
    "import matplotlib.pyplot as plt\n",
    "import seaborn as sns\n",
    "sns.set()\n",
    "plt.figure(figsize=(10, 5))\n",
    "plt.hist(train.price, bins=50, range=[0, 150], alpha=0.7, color='b', label='price')\n",
    "plt.title('Price Distribution')\n",
    "plt.xlabel('Price[$]') \n",
    "plt.ylabel('Frequency')\n",
    "plt.legend()"
   ]
  },
  {
   "cell_type": "markdown",
   "metadata": {
    "_cell_guid": "984caf42-c3ec-4ee9-8e9b-e41b7ccbe3df",
    "_uuid": "cc07c928-d311-4fd7-9bef-42afdc1c619f"
   },
   "source": [
    "#### 分布が左に偏っているため対数変換して、正規分布にする\n",
    "分析に使うモデルは出力値の誤差が正規分布に従うと仮定しているので、対数変換してpriceを正規分布に近似させる。\n",
    "\n",
    "対数変換は、スケール変換と異なり、分布も変化する。これはデータの値が大きいときはその範囲が縮小され、小さいときは拡大されるからである。\n",
    "\n",
    "つまり、裾の長い分布の範囲を狭めて山型にしたり、極度に集中している分布を押しつぶして裾の長い分布に近づけることが出来る。(今回は後者)"
   ]
  },
  {
   "cell_type": "code",
   "execution_count": 8,
   "metadata": {
    "_cell_guid": "1309b59f-e011-478e-8eb6-0ff21474add6",
    "_uuid": "88df9fb5-e5d1-4191-bcae-d09891758104",
    "collapsed": false,
    "execution": {
     "iopub.execute_input": "2024-08-20T00:41:42.515731Z",
     "iopub.status.busy": "2024-08-20T00:41:42.515382Z",
     "iopub.status.idle": "2024-08-20T00:41:43.132291Z",
     "shell.execute_reply": "2024-08-20T00:41:43.131222Z",
     "shell.execute_reply.started": "2024-08-20T00:41:42.515702Z"
    },
    "jupyter": {
     "outputs_hidden": false
    }
   },
   "outputs": [
    {
     "data": {
      "text/plain": [
       "<matplotlib.legend.Legend at 0x7c500417d450>"
      ]
     },
     "execution_count": 8,
     "metadata": {},
     "output_type": "execute_result"
    },
    {
     "data": {
      "image/png": "[encoded data removed]",
      "text/plain": [
       "<Figure size 1000x500 with 1 Axes>"
      ]
     },
     "metadata": {},
     "output_type": "display_data"
    }
   ],
   "source": [
    "#priceを対数変換してヒストグラムで表示\n",
    "plt.figure(figsize=(10, 5))\n",
    "plt.hist(np.log1p(train.price), bins=50, range=[0, 7], alpha=0.7, color='b', label='price')\n",
    "plt.title('Price Distribution(Log Scale)')\n",
    "plt.xlabel('log(Price)[log($)]')\n",
    "plt.ylabel('Frequency')\n",
    "plt.legend(['log(price)'])"
   ]
  },
  {
   "cell_type": "markdown",
   "metadata": {
    "_cell_guid": "d403cc65-9c8c-464b-bfea-e2a64a3deda7",
    "_uuid": "4607e443-6b48-4b80-ab48-576a745a8b46"
   },
   "source": [
    "#### Shipping"
   ]
  },
  {
   "cell_type": "markdown",
   "metadata": {
    "_cell_guid": "cb23c37b-0588-4ca8-a460-26e0d0265d5e",
    "_uuid": "b2ab8b37-d082-442d-9496-a9135c79343c"
   },
   "source": [
    "商品の送料の半分以上（55%）は売り手が負担"
   ]
  },
  {
   "cell_type": "code",
   "execution_count": 9,
   "metadata": {
    "_cell_guid": "4c718fa5-5bf7-4f0b-a0e3-4724baa7f01c",
    "_uuid": "df2d903a-dc31-4f80-8a04-34d20dcc5b8b",
    "collapsed": false,
    "execution": {
     "iopub.execute_input": "2024-08-20T00:41:43.138408Z",
     "iopub.status.busy": "2024-08-20T00:41:43.137935Z",
     "iopub.status.idle": "2024-08-20T00:41:43.163095Z",
     "shell.execute_reply": "2024-08-20T00:41:43.161912Z",
     "shell.execute_reply.started": "2024-08-20T00:41:43.138370Z"
    },
    "jupyter": {
     "outputs_hidden": false
    }
   },
   "outputs": [
    {
     "data": {
      "text/plain": [
       "shipping\n",
       "0    0.552726\n",
       "1    0.447274\n",
       "Name: count, dtype: float64"
      ]
     },
     "execution_count": 9,
     "metadata": {},
     "output_type": "execute_result"
    }
   ],
   "source": [
    "#shippingの割合を表示 1が販売者負担、0が購入者負担\n",
    "train.shipping.value_counts() / len(train)"
   ]
  },
  {
   "cell_type": "markdown",
   "metadata": {
    "_cell_guid": "9d20a532-4dad-420a-8225-35029430cb37",
    "_uuid": "22aa4205-9f4f-44a4-815b-35f9869e9cb5"
   },
   "source": [
    "追加の送料分があるから、送料別(買い手負担、赤色のグラフ)の方が安い"
   ]
  },
  {
   "cell_type": "code",
   "execution_count": 10,
   "metadata": {
    "_cell_guid": "2113f098-0e88-4765-abee-1ca9c364d16b",
    "_uuid": "196b6080-7792-4504-b531-4c57e891eecb",
    "collapsed": false,
    "execution": {
     "iopub.execute_input": "2024-08-20T00:41:43.164791Z",
     "iopub.status.busy": "2024-08-20T00:41:43.164472Z",
     "iopub.status.idle": "2024-08-20T00:41:43.925860Z",
     "shell.execute_reply": "2024-08-20T00:41:43.924810Z",
     "shell.execute_reply.started": "2024-08-20T00:41:43.164764Z"
    },
    "jupyter": {
     "outputs_hidden": false
    }
   },
   "outputs": [
    {
     "data": {
      "text/plain": [
       "<matplotlib.legend.Legend at 0x7c4fec99f370>"
      ]
     },
     "execution_count": 10,
     "metadata": {},
     "output_type": "execute_result"
    },
    {
     "data": {
      "image/png": "[encoded data removed]",
      "text/plain": [
       "<Figure size 1000x500 with 1 Axes>"
      ]
     },
     "metadata": {},
     "output_type": "display_data"
    }
   ],
   "source": [
    "#shippingが売り手負担かどうかでpriceがどう変わるかを確認\n",
    "plt.figure(figsize=(10, 5))\n",
    "\n",
    "shipping_fee_by_seller = train.loc[train.shipping==1, 'price']\n",
    "shipping_fee_by_buyer = train.loc[train.shipping==0, 'price']\n",
    "\n",
    "# 価格データを対数変換し、0を除外\n",
    "log_shipping_fee_by_seller = np.log(shipping_fee_by_seller[shipping_fee_by_seller > 0])\n",
    "log_shipping_fee_by_buyer = np.log(shipping_fee_by_buyer[shipping_fee_by_buyer > 0])\n",
    "\n",
    "# import japanize_matplotlib # 日本語化\n",
    "plt.hist(log_shipping_fee_by_seller, bins=50, alpha=0.7, color='r', label='Price(送料_買い手負担)')\n",
    "plt.hist(log_shipping_fee_by_buyer, bins=50, alpha=0.7, color='b', label='Price(送料_売り手負担)')\n",
    "\n",
    "plt.title('Price Distribution by Shipping Type (Log Scale)')\n",
    "plt.xlabel('Log Price')\n",
    "plt.ylabel('Frequency')\n",
    "plt.legend()"
   ]
  },
  {
   "cell_type": "markdown",
   "metadata": {
    "_cell_guid": "41e67c10-3d10-4fee-868a-dff881500a39",
    "_uuid": "219fa9de-3b9a-478b-ac55-051c554cf3b7"
   },
   "source": [
    "#### category_name"
   ]
  },
  {
   "cell_type": "markdown",
   "metadata": {
    "_cell_guid": "cd289876-f36b-48ba-a0a9-ab1b49f4f493",
    "_uuid": "93eb6c3f-9306-4ec5-a299-504f8649d5c6"
   },
   "source": [
    "女性用の服、美容品が多い"
   ]
  },
  {
   "cell_type": "code",
   "execution_count": 11,
   "metadata": {
    "_cell_guid": "a438beb6-7826-4966-bfba-e87bb599f0f0",
    "_uuid": "d5d95768-a810-429e-a42d-68330d8839d5",
    "collapsed": false,
    "execution": {
     "iopub.execute_input": "2024-08-20T00:41:43.927486Z",
     "iopub.status.busy": "2024-08-20T00:41:43.927079Z",
     "iopub.status.idle": "2024-08-20T00:41:44.059201Z",
     "shell.execute_reply": "2024-08-20T00:41:44.058014Z",
     "shell.execute_reply.started": "2024-08-20T00:41:43.927449Z"
    },
    "jupyter": {
     "outputs_hidden": false
    }
   },
   "outputs": [
    {
     "data": {
      "text/plain": [
       "category_name\n",
       "Women/Athletic Apparel/Pants, Tights, Leggings                 60177\n",
       "Women/Tops & Blouses/T-Shirts                                  46380\n",
       "Beauty/Makeup/Face                                             34335\n",
       "Beauty/Makeup/Lips                                             29910\n",
       "Electronics/Video Games & Consoles/Games                       26557\n",
       "Beauty/Makeup/Eyes                                             25215\n",
       "Electronics/Cell Phones & Accessories/Cases, Covers & Skins    24676\n",
       "Women/Underwear/Bras                                           21274\n",
       "Women/Tops & Blouses/Blouse                                    20284\n",
       "Women/Tops & Blouses/Tank, Cami                                20284\n",
       "Name: count, dtype: int64"
      ]
     },
     "execution_count": 11,
     "metadata": {},
     "output_type": "execute_result"
    }
   ],
   "source": [
    "#Top 10のカテゴリを表示 \n",
    "train.category_name.value_counts()[:10] #[:10]で上位10件を表示 [10:]で下位10件を表示"
   ]
  },
  {
   "cell_type": "markdown",
   "metadata": {
    "_cell_guid": "93244844-b989-4a14-a24c-ed36086d09a8",
    "_uuid": "ca28b44f-cf1b-4421-999c-fba324e18dce"
   },
   "source": [
    "#### -------------------- 前処理開始 --------------------"
   ]
  },
  {
   "cell_type": "markdown",
   "metadata": {
    "_cell_guid": "4baef1cf-63aa-4f3d-b518-0b7081686042",
    "_uuid": "0f17cbc3-5899-4c22-a0a0-26b0424db7d2"
   },
   "source": [
    "#### ----------------- price -----------------"
   ]
  },
  {
   "cell_type": "markdown",
   "metadata": {
    "_cell_guid": "7fcd0a2c-003c-499e-9425-d672013e2950",
    "_uuid": "afdbb87a-0bf7-4163-a21e-57402d958401"
   },
   "source": [
    "#### 3ドル未満のレコードを削除\n",
    "1,482,535→1,481,661点となり、874の商品が削除された"
   ]
  },
  {
   "cell_type": "code",
   "execution_count": 12,
   "metadata": {
    "_cell_guid": "d509ea13-14bd-49c2-9595-1228d3670941",
    "_uuid": "878f883e-8954-4a7e-9cd4-db0082485adb",
    "collapsed": false,
    "execution": {
     "iopub.execute_input": "2024-08-20T00:41:44.061070Z",
     "iopub.status.busy": "2024-08-20T00:41:44.060664Z",
     "iopub.status.idle": "2024-08-20T00:41:44.312711Z",
     "shell.execute_reply": "2024-08-20T00:41:44.311462Z",
     "shell.execute_reply.started": "2024-08-20T00:41:44.061033Z"
    },
    "jupyter": {
     "outputs_hidden": false
    }
   },
   "outputs": [
    {
     "name": "stdout",
     "output_type": "stream",
     "text": [
      "(1481661, 8)\n",
      "3.0\n",
      "2009.0\n"
     ]
    }
   ],
   "source": [
    "train = train.drop(train[(train.price < 3.0)].index)\n",
    "print(train.shape)\n",
    "print(train[\"price\"].min()) #priceの最小値\n",
    "print(train[\"price\"].max()) #priceの最大値"
   ]
  },
  {
   "cell_type": "markdown",
   "metadata": {
    "_cell_guid": "9417bda1-679b-465d-8ad8-57eee6db7918",
    "_uuid": "edc31599-1fde-4537-917a-3e7f2c1b171f"
   },
   "source": [
    "#### ----------------- category_name -----------------"
   ]
  },
  {
   "cell_type": "markdown",
   "metadata": {
    "_cell_guid": "8955724f-6ee3-4732-80dd-10f5c7fb9f4d",
    "_uuid": "13605d60-6537-408f-8820-c4c1523b115e"
   },
   "source": [
    "#### general_category, sub_category1, sub_category2 に3等分する"
   ]
  },
  {
   "cell_type": "code",
   "execution_count": 13,
   "metadata": {
    "_cell_guid": "989abbe6-3632-4965-926c-bf32acba3c1b",
    "_uuid": "e2fab743-0672-4371-9356-144dc62ac84f",
    "collapsed": false,
    "execution": {
     "iopub.execute_input": "2024-08-20T00:41:44.314611Z",
     "iopub.status.busy": "2024-08-20T00:41:44.314193Z",
     "iopub.status.idle": "2024-08-20T00:41:50.480822Z",
     "shell.execute_reply": "2024-08-20T00:41:50.479753Z",
     "shell.execute_reply.started": "2024-08-20T00:41:44.314574Z"
    },
    "jupyter": {
     "outputs_hidden": false
    }
   },
   "outputs": [
    {
     "data": {
      "text/html": [
       "<div>\n",
       "<style scoped>\n",
       "    .dataframe tbody tr th:only-of-type {\n",
       "        vertical-align: middle;\n",
       "    }\n",
       "\n",
       "    .dataframe tbody tr th {\n",
       "        vertical-align: top;\n",
       "    }\n",
       "\n",
       "    .dataframe thead th {\n",
       "        text-align: right;\n",
       "    }\n",
       "</style>\n",
       "<table border=\"1\" class=\"dataframe\">\n",
       "  <thead>\n",
       "    <tr style=\"text-align: right;\">\n",
       "      <th></th>\n",
       "      <th>train_id</th>\n",
       "      <th>name</th>\n",
       "      <th>item_condition_id</th>\n",
       "      <th>category_name</th>\n",
       "      <th>brand_name</th>\n",
       "      <th>price</th>\n",
       "      <th>shipping</th>\n",
       "      <th>item_description</th>\n",
       "      <th>general_cat</th>\n",
       "      <th>sub_cat1</th>\n",
       "      <th>sub_cat2</th>\n",
       "    </tr>\n",
       "  </thead>\n",
       "  <tbody>\n",
       "    <tr>\n",
       "      <th>0</th>\n",
       "      <td>0</td>\n",
       "      <td>MLB Cincinnati Reds T Shirt Size XL</td>\n",
       "      <td>3</td>\n",
       "      <td>Men/Tops/T-shirts</td>\n",
       "      <td>NaN</td>\n",
       "      <td>10.0</td>\n",
       "      <td>1</td>\n",
       "      <td>No description yet</td>\n",
       "      <td>Men</td>\n",
       "      <td>Tops</td>\n",
       "      <td>T-shirts</td>\n",
       "    </tr>\n",
       "    <tr>\n",
       "      <th>1</th>\n",
       "      <td>1</td>\n",
       "      <td>Razer BlackWidow Chroma Keyboard</td>\n",
       "      <td>3</td>\n",
       "      <td>Electronics/Computers &amp; Tablets/Components &amp; P...</td>\n",
       "      <td>Razer</td>\n",
       "      <td>52.0</td>\n",
       "      <td>0</td>\n",
       "      <td>This keyboard is in great condition and works ...</td>\n",
       "      <td>Electronics</td>\n",
       "      <td>Computers &amp; Tablets</td>\n",
       "      <td>Components &amp; Parts</td>\n",
       "    </tr>\n",
       "    <tr>\n",
       "      <th>2</th>\n",
       "      <td>2</td>\n",
       "      <td>AVA-VIV Blouse</td>\n",
       "      <td>1</td>\n",
       "      <td>Women/Tops &amp; Blouses/Blouse</td>\n",
       "      <td>Target</td>\n",
       "      <td>10.0</td>\n",
       "      <td>1</td>\n",
       "      <td>Adorable top with a hint of lace and a key hol...</td>\n",
       "      <td>Women</td>\n",
       "      <td>Tops &amp; Blouses</td>\n",
       "      <td>Blouse</td>\n",
       "    </tr>\n",
       "    <tr>\n",
       "      <th>3</th>\n",
       "      <td>3</td>\n",
       "      <td>Leather Horse Statues</td>\n",
       "      <td>1</td>\n",
       "      <td>Home/Home Décor/Home Décor Accents</td>\n",
       "      <td>NaN</td>\n",
       "      <td>35.0</td>\n",
       "      <td>1</td>\n",
       "      <td>New with tags. Leather horses. Retail for [rm]...</td>\n",
       "      <td>Home</td>\n",
       "      <td>Home Décor</td>\n",
       "      <td>Home Décor Accents</td>\n",
       "    </tr>\n",
       "    <tr>\n",
       "      <th>4</th>\n",
       "      <td>4</td>\n",
       "      <td>24K GOLD plated rose</td>\n",
       "      <td>1</td>\n",
       "      <td>Women/Jewelry/Necklaces</td>\n",
       "      <td>NaN</td>\n",
       "      <td>44.0</td>\n",
       "      <td>0</td>\n",
       "      <td>Complete with certificate of authenticity</td>\n",
       "      <td>Women</td>\n",
       "      <td>Jewelry</td>\n",
       "      <td>Necklaces</td>\n",
       "    </tr>\n",
       "  </tbody>\n",
       "</table>\n",
       "</div>"
      ],
      "text/plain": [
       "   train_id                                 name  item_condition_id  \\\n",
       "0         0  MLB Cincinnati Reds T Shirt Size XL                  3   \n",
       "1         1     Razer BlackWidow Chroma Keyboard                  3   \n",
       "2         2                       AVA-VIV Blouse                  1   \n",
       "3         3                Leather Horse Statues                  1   \n",
       "4         4                 24K GOLD plated rose                  1   \n",
       "\n",
       "                                       category_name brand_name  price  \\\n",
       "0                                  Men/Tops/T-shirts        NaN   10.0   \n",
       "1  Electronics/Computers & Tablets/Components & P...      Razer   52.0   \n",
       "2                        Women/Tops & Blouses/Blouse     Target   10.0   \n",
       "3                 Home/Home Décor/Home Décor Accents        NaN   35.0   \n",
       "4                            Women/Jewelry/Necklaces        NaN   44.0   \n",
       "\n",
       "   shipping                                   item_description  general_cat  \\\n",
       "0         1                                 No description yet          Men   \n",
       "1         0  This keyboard is in great condition and works ...  Electronics   \n",
       "2         1  Adorable top with a hint of lace and a key hol...        Women   \n",
       "3         1  New with tags. Leather horses. Retail for [rm]...         Home   \n",
       "4         0          Complete with certificate of authenticity        Women   \n",
       "\n",
       "              sub_cat1            sub_cat2  \n",
       "0                 Tops            T-shirts  \n",
       "1  Computers & Tablets  Components & Parts  \n",
       "2       Tops & Blouses              Blouse  \n",
       "3           Home Décor  Home Décor Accents  \n",
       "4              Jewelry           Necklaces  "
      ]
     },
     "execution_count": 13,
     "metadata": {},
     "output_type": "execute_result"
    }
   ],
   "source": [
    "def split_cat(text):\n",
    "    try: return text.split(\"/\")\n",
    "    except: return (\"No Label\", \"No Label\", \"No Label\") #categoryがない場合はNo Labelを返す\n",
    "\n",
    "train['general_cat'], train['sub_cat1'], train['sub_cat2'] = zip(*train['category_name'].apply(lambda x: split_cat(x))) #zip(*df)で転置\n",
    "train.head()"
   ]
  },
  {
   "cell_type": "markdown",
   "metadata": {
    "_cell_guid": "ac0e3443-ab21-4748-bb68-2587e4d06f62",
    "_uuid": "329e1df4-4c74-4859-8a1f-ea85b81d2c4c"
   },
   "source": [
    "#### testデータも同様に3等分"
   ]
  },
  {
   "cell_type": "code",
   "execution_count": 14,
   "metadata": {
    "_cell_guid": "573a6b32-787e-46a8-ab1a-b975df04c580",
    "_uuid": "73c20e15-4da1-4222-8746-ea366e5648b3",
    "collapsed": false,
    "execution": {
     "iopub.execute_input": "2024-08-20T00:41:50.483176Z",
     "iopub.status.busy": "2024-08-20T00:41:50.482732Z",
     "iopub.status.idle": "2024-08-20T00:41:53.660147Z",
     "shell.execute_reply": "2024-08-20T00:41:53.659257Z",
     "shell.execute_reply.started": "2024-08-20T00:41:50.483120Z"
    },
    "jupyter": {
     "outputs_hidden": false
    }
   },
   "outputs": [],
   "source": [
    "test['general_cat'], test['sub_cat1'], test['sub_cat2'] = zip(*test['category_name'].apply(lambda x: split_cat(x)))"
   ]
  },
  {
   "cell_type": "markdown",
   "metadata": {
    "_cell_guid": "fee10edc-f4fb-43bb-a584-c1b127a95ff2",
    "_uuid": "3b77a71c-474c-4312-a576-21df3a5949c0"
   },
   "source": [
    "#### 7つのメインカテゴリがあり、女性向けの商品が多い"
   ]
  },
  {
   "cell_type": "code",
   "execution_count": 15,
   "metadata": {
    "_cell_guid": "0aa4167b-22c0-4f6c-9718-3e47b3678f62",
    "_uuid": "78e6a56d-a54f-4a4a-9c5c-568fb80c4136",
    "collapsed": false,
    "execution": {
     "iopub.execute_input": "2024-08-20T00:41:53.661927Z",
     "iopub.status.busy": "2024-08-20T00:41:53.661494Z",
     "iopub.status.idle": "2024-08-20T00:41:54.437421Z",
     "shell.execute_reply": "2024-08-20T00:41:54.436230Z",
     "shell.execute_reply.started": "2024-08-20T00:41:53.661890Z"
    },
    "jupyter": {
     "outputs_hidden": false
    }
   },
   "outputs": [
    {
     "data": {
      "text/plain": [
       "Text(0, 0.5, 'general category')"
      ]
     },
     "execution_count": 15,
     "metadata": {},
     "output_type": "execute_result"
    },
    {
     "data": {
      "image/png": "[encoded data removed]",
      "text/plain": [
       "<Figure size 1000x1000 with 1 Axes>"
      ]
     },
     "metadata": {},
     "output_type": "display_data"
    }
   ],
   "source": [
    "x_general = train['general_cat'].value_counts().index.values.astype('str') #カテゴリ名\n",
    "y_general = train['general_cat'].value_counts().values #カテゴリの出現回数\n",
    "pct = [(\"%.2f\"%(v*100))+\"%\"for v in (y_general/len(train))] #パーセンテージ\n",
    "\n",
    "plt.figure(figsize=(10,10))\n",
    "sns.barplot(x=y_general, y=x_general, alpha=0.6)\n",
    "plt.title(\"出品カテゴリの分布\")\n",
    "plt.xlabel(\"出現回数\")\n",
    "plt.ylabel(\"general category\")"
   ]
  },
  {
   "cell_type": "markdown",
   "metadata": {
    "_cell_guid": "8d97791e-7d4a-4186-a961-ac49044491d3",
    "_uuid": "9311fcd0-0a73-4b44-a38e-91b7050a680b"
   },
   "source": [
    "#### サブカテゴリのうち、Apparel, Make, Topsなどが多い"
   ]
  },
  {
   "cell_type": "code",
   "execution_count": 16,
   "metadata": {
    "_cell_guid": "4ed6f00b-e057-4bbd-9e4d-e82a0c0c94b5",
    "_uuid": "d43f5092-8af5-4646-84c5-decc19cd8559",
    "collapsed": false,
    "execution": {
     "iopub.execute_input": "2024-08-20T00:41:54.439280Z",
     "iopub.status.busy": "2024-08-20T00:41:54.438904Z",
     "iopub.status.idle": "2024-08-20T00:41:55.341411Z",
     "shell.execute_reply": "2024-08-20T00:41:55.340289Z",
     "shell.execute_reply.started": "2024-08-20T00:41:54.439250Z"
    },
    "jupyter": {
     "outputs_hidden": false
    }
   },
   "outputs": [
    {
     "data": {
      "text/plain": [
       "Text(0, 0.5, 'sub category')"
      ]
     },
     "execution_count": 16,
     "metadata": {},
     "output_type": "execute_result"
    },
    {
     "data": {
      "image/png": "[encoded data removed]",
      "text/plain": [
       "<Figure size 1000x1000 with 1 Axes>"
      ]
     },
     "metadata": {},
     "output_type": "display_data"
    }
   ],
   "source": [
    "x_sub = train['sub_cat1'].value_counts().index.values.astype('str')[:15]\n",
    "y_sub = train['sub_cat1'].value_counts().values[:15]\n",
    "pct = [(\"%.2f\"%(v*100))+\"%\"for v in (y_sub/len(train))][:15]\n",
    "\n",
    "plt.figure(figsize=(10,10))\n",
    "sns.barplot(x=y_sub, y=x_sub, alpha=0.6)\n",
    "plt.title(\"出品カテゴリの分布\")\n",
    "plt.xlabel(\"出現回数\")\n",
    "plt.ylabel(\"sub category\")"
   ]
  },
  {
   "cell_type": "markdown",
   "metadata": {
    "_cell_guid": "23f0011e-f29c-435e-9fd8-19a480c15834",
    "_uuid": "752741b7-42a2-4c67-94be-f54f9ebe62c8"
   },
   "source": [
    "object(文字列)のままだと学習ができないため、カテゴリ変数にする"
   ]
  },
  {
   "cell_type": "code",
   "execution_count": 17,
   "metadata": {
    "_cell_guid": "36155217-63d3-474d-a7e9-8722d2372bc4",
    "_uuid": "ea6a2080-779e-420a-b4cc-6c05b07cdd26",
    "collapsed": false,
    "execution": {
     "iopub.execute_input": "2024-08-20T00:41:55.343653Z",
     "iopub.status.busy": "2024-08-20T00:41:55.342721Z",
     "iopub.status.idle": "2024-08-20T00:41:55.352621Z",
     "shell.execute_reply": "2024-08-20T00:41:55.351647Z",
     "shell.execute_reply.started": "2024-08-20T00:41:55.343611Z"
    },
    "jupyter": {
     "outputs_hidden": false
    }
   },
   "outputs": [
    {
     "data": {
      "text/plain": [
       "train_id               int64\n",
       "name                  object\n",
       "item_condition_id      int64\n",
       "category_name         object\n",
       "brand_name            object\n",
       "price                float64\n",
       "shipping               int64\n",
       "item_description      object\n",
       "general_cat           object\n",
       "sub_cat1              object\n",
       "sub_cat2              object\n",
       "dtype: object"
      ]
     },
     "execution_count": 17,
     "metadata": {},
     "output_type": "execute_result"
    }
   ],
   "source": [
    "train.dtypes"
   ]
  },
  {
   "cell_type": "code",
   "execution_count": 18,
   "metadata": {
    "_cell_guid": "8234e877-9d5a-4fa2-92be-4eb7b6eddf4b",
    "_uuid": "6fc79052-ec1e-4e3a-a9b5-ad0c7ed0b857",
    "collapsed": false,
    "execution": {
     "iopub.execute_input": "2024-08-20T00:41:55.355381Z",
     "iopub.status.busy": "2024-08-20T00:41:55.354166Z",
     "iopub.status.idle": "2024-08-20T00:41:56.087486Z",
     "shell.execute_reply": "2024-08-20T00:41:56.086473Z",
     "shell.execute_reply.started": "2024-08-20T00:41:55.355342Z"
    },
    "jupyter": {
     "outputs_hidden": false
    }
   },
   "outputs": [
    {
     "data": {
      "text/plain": [
       "train_id                int64\n",
       "name                   object\n",
       "item_condition_id       int64\n",
       "category_name          object\n",
       "brand_name             object\n",
       "price                 float64\n",
       "shipping                int64\n",
       "item_description       object\n",
       "general_cat          category\n",
       "sub_cat1             category\n",
       "sub_cat2             category\n",
       "dtype: object"
      ]
     },
     "execution_count": 18,
     "metadata": {},
     "output_type": "execute_result"
    }
   ],
   "source": [
    "#general_cat, sub_cat1, sub_cat2をカテゴリ変数に変換\n",
    "train['general_cat'] = train['general_cat'].astype('category')\n",
    "train['sub_cat1'] = train['sub_cat1'].astype('category')\n",
    "train['sub_cat2'] = train['sub_cat2'].astype('category')\n",
    "train.dtypes"
   ]
  },
  {
   "cell_type": "markdown",
   "metadata": {
    "_cell_guid": "13a61706-ce56-4c72-b43a-a2544edb0eab",
    "_uuid": "99cacc3d-fe8f-4401-b6b7-12bd00e998f4"
   },
   "source": [
    "#### ----------------- brand_name -----------------\n",
    "#### 欠損値処理"
   ]
  },
  {
   "cell_type": "markdown",
   "metadata": {
    "_cell_guid": "c861de08-477e-4069-9b27-f9f9b8d11f79",
    "_uuid": "aa08a666-8684-4bc2-9e36-3654fdf11c25"
   },
   "source": [
    "1. ブランド名の欠損値(NaN)を\"missing\"に置き換える\n",
    "2. このままだと欠損値であることに変わりないので、\"name(商品名)\"が、ブランド名のリストに含まれる場合、ブランド名の\"missing\"を\"name(商品名)\"に書き換える\n",
    "\n",
    "これにより、ブランド名(brand_name)が記載されていない商品でも、商品名(name)からブランド名を取得し、代入することができる"
   ]
  },
  {
   "cell_type": "markdown",
   "metadata": {
    "_cell_guid": "f91527fe-0665-4e9c-92d2-dec3d93de44e",
    "_uuid": "9da41e38-7e93-479b-b1e6-b3abf2e09d53"
   },
   "source": [
    "train：1,482,535個の商品\n",
    "\n",
    "test：693,359個の商品\n",
    "\n",
    "train_test_combine：2,175,894個の商品"
   ]
  },
  {
   "cell_type": "code",
   "execution_count": 19,
   "metadata": {
    "_cell_guid": "c002c856-7828-4f91-ad1d-f958c1caa0a2",
    "_uuid": "57d41e39-76dd-4de7-86d2-f0b53913634a",
    "collapsed": false,
    "execution": {
     "iopub.execute_input": "2024-08-20T00:41:56.089228Z",
     "iopub.status.busy": "2024-08-20T00:41:56.088872Z",
     "iopub.status.idle": "2024-08-20T00:41:56.538423Z",
     "shell.execute_reply": "2024-08-20T00:41:56.537217Z",
     "shell.execute_reply.started": "2024-08-20T00:41:56.089194Z"
    },
    "jupyter": {
     "outputs_hidden": false
    }
   },
   "outputs": [
    {
     "name": "stdout",
     "output_type": "stream",
     "text": [
      "(2175020, 12)\n"
     ]
    },
    {
     "data": {
      "text/html": [
       "<div>\n",
       "<style scoped>\n",
       "    .dataframe tbody tr th:only-of-type {\n",
       "        vertical-align: middle;\n",
       "    }\n",
       "\n",
       "    .dataframe tbody tr th {\n",
       "        vertical-align: top;\n",
       "    }\n",
       "\n",
       "    .dataframe thead th {\n",
       "        text-align: right;\n",
       "    }\n",
       "</style>\n",
       "<table border=\"1\" class=\"dataframe\">\n",
       "  <thead>\n",
       "    <tr style=\"text-align: right;\">\n",
       "      <th></th>\n",
       "      <th>train_id</th>\n",
       "      <th>name</th>\n",
       "      <th>item_condition_id</th>\n",
       "      <th>category_name</th>\n",
       "      <th>brand_name</th>\n",
       "      <th>price</th>\n",
       "      <th>shipping</th>\n",
       "      <th>item_description</th>\n",
       "      <th>general_cat</th>\n",
       "      <th>sub_cat1</th>\n",
       "      <th>sub_cat2</th>\n",
       "      <th>test_id</th>\n",
       "    </tr>\n",
       "  </thead>\n",
       "  <tbody>\n",
       "    <tr>\n",
       "      <th>0</th>\n",
       "      <td>0.0</td>\n",
       "      <td>MLB Cincinnati Reds T Shirt Size XL</td>\n",
       "      <td>3</td>\n",
       "      <td>Men/Tops/T-shirts</td>\n",
       "      <td>NaN</td>\n",
       "      <td>10.0</td>\n",
       "      <td>1</td>\n",
       "      <td>No description yet</td>\n",
       "      <td>Men</td>\n",
       "      <td>Tops</td>\n",
       "      <td>T-shirts</td>\n",
       "      <td>NaN</td>\n",
       "    </tr>\n",
       "    <tr>\n",
       "      <th>1</th>\n",
       "      <td>1.0</td>\n",
       "      <td>Razer BlackWidow Chroma Keyboard</td>\n",
       "      <td>3</td>\n",
       "      <td>Electronics/Computers &amp; Tablets/Components &amp; P...</td>\n",
       "      <td>Razer</td>\n",
       "      <td>52.0</td>\n",
       "      <td>0</td>\n",
       "      <td>This keyboard is in great condition and works ...</td>\n",
       "      <td>Electronics</td>\n",
       "      <td>Computers &amp; Tablets</td>\n",
       "      <td>Components &amp; Parts</td>\n",
       "      <td>NaN</td>\n",
       "    </tr>\n",
       "    <tr>\n",
       "      <th>2</th>\n",
       "      <td>2.0</td>\n",
       "      <td>AVA-VIV Blouse</td>\n",
       "      <td>1</td>\n",
       "      <td>Women/Tops &amp; Blouses/Blouse</td>\n",
       "      <td>Target</td>\n",
       "      <td>10.0</td>\n",
       "      <td>1</td>\n",
       "      <td>Adorable top with a hint of lace and a key hol...</td>\n",
       "      <td>Women</td>\n",
       "      <td>Tops &amp; Blouses</td>\n",
       "      <td>Blouse</td>\n",
       "      <td>NaN</td>\n",
       "    </tr>\n",
       "    <tr>\n",
       "      <th>3</th>\n",
       "      <td>3.0</td>\n",
       "      <td>Leather Horse Statues</td>\n",
       "      <td>1</td>\n",
       "      <td>Home/Home Décor/Home Décor Accents</td>\n",
       "      <td>NaN</td>\n",
       "      <td>35.0</td>\n",
       "      <td>1</td>\n",
       "      <td>New with tags. Leather horses. Retail for [rm]...</td>\n",
       "      <td>Home</td>\n",
       "      <td>Home Décor</td>\n",
       "      <td>Home Décor Accents</td>\n",
       "      <td>NaN</td>\n",
       "    </tr>\n",
       "    <tr>\n",
       "      <th>4</th>\n",
       "      <td>4.0</td>\n",
       "      <td>24K GOLD plated rose</td>\n",
       "      <td>1</td>\n",
       "      <td>Women/Jewelry/Necklaces</td>\n",
       "      <td>NaN</td>\n",
       "      <td>44.0</td>\n",
       "      <td>0</td>\n",
       "      <td>Complete with certificate of authenticity</td>\n",
       "      <td>Women</td>\n",
       "      <td>Jewelry</td>\n",
       "      <td>Necklaces</td>\n",
       "      <td>NaN</td>\n",
       "    </tr>\n",
       "  </tbody>\n",
       "</table>\n",
       "</div>"
      ],
      "text/plain": [
       "   train_id                                 name  item_condition_id  \\\n",
       "0       0.0  MLB Cincinnati Reds T Shirt Size XL                  3   \n",
       "1       1.0     Razer BlackWidow Chroma Keyboard                  3   \n",
       "2       2.0                       AVA-VIV Blouse                  1   \n",
       "3       3.0                Leather Horse Statues                  1   \n",
       "4       4.0                 24K GOLD plated rose                  1   \n",
       "\n",
       "                                       category_name brand_name  price  \\\n",
       "0                                  Men/Tops/T-shirts        NaN   10.0   \n",
       "1  Electronics/Computers & Tablets/Components & P...      Razer   52.0   \n",
       "2                        Women/Tops & Blouses/Blouse     Target   10.0   \n",
       "3                 Home/Home Décor/Home Décor Accents        NaN   35.0   \n",
       "4                            Women/Jewelry/Necklaces        NaN   44.0   \n",
       "\n",
       "   shipping                                   item_description  general_cat  \\\n",
       "0         1                                 No description yet          Men   \n",
       "1         0  This keyboard is in great condition and works ...  Electronics   \n",
       "2         1  Adorable top with a hint of lace and a key hol...        Women   \n",
       "3         1  New with tags. Leather horses. Retail for [rm]...         Home   \n",
       "4         0          Complete with certificate of authenticity        Women   \n",
       "\n",
       "              sub_cat1            sub_cat2  test_id  \n",
       "0                 Tops            T-shirts      NaN  \n",
       "1  Computers & Tablets  Components & Parts      NaN  \n",
       "2       Tops & Blouses              Blouse      NaN  \n",
       "3           Home Décor  Home Décor Accents      NaN  \n",
       "4              Jewelry           Necklaces      NaN  "
      ]
     },
     "execution_count": 19,
     "metadata": {},
     "output_type": "execute_result"
    }
   ],
   "source": [
    "#train,testを縦方向に結合し、まとめて前処理できるようにする\n",
    "train_test_combine = pd.concat([train,test]) #axis=0で行、axis=1で列に結合 デフォルトはaxis=0\n",
    "print(train_test_combine.shape)\n",
    "train_test_combine.head()"
   ]
  },
  {
   "cell_type": "markdown",
   "metadata": {
    "_cell_guid": "1c65d9f6-8987-4d90-8e0c-d246879911b4",
    "_uuid": "75b75958-a657-429e-bb98-5788c22887f7"
   },
   "source": [
    "#### 重複なしのブランドリストを作り、欠損値を\"missing\"に置き換える"
   ]
  },
  {
   "cell_type": "code",
   "execution_count": 20,
   "metadata": {
    "_cell_guid": "61cc0cbb-0e67-43da-bab8-ac4a7cf9414b",
    "_uuid": "58227ec9-cd8d-461b-ad88-765efaf45f5b",
    "collapsed": false,
    "execution": {
     "iopub.execute_input": "2024-08-20T00:41:56.540639Z",
     "iopub.status.busy": "2024-08-20T00:41:56.539823Z",
     "iopub.status.idle": "2024-08-20T00:41:57.141228Z",
     "shell.execute_reply": "2024-08-20T00:41:57.140199Z",
     "shell.execute_reply.started": "2024-08-20T00:41:56.540601Z"
    },
    "jupyter": {
     "outputs_hidden": false
    }
   },
   "outputs": [
    {
     "data": {
      "text/plain": [
       "(632336, 295525)"
      ]
     },
     "execution_count": 20,
     "metadata": {},
     "output_type": "execute_result"
    }
   ],
   "source": [
    "#brand_nameの重複なしのリストを作成\n",
    "brand_name_list = set(train_test_combine[\"brand_name\"].values) #set()で重複を削除\n",
    "\n",
    "# 'brand_name'の欠損値NaNを'missing'に置き換える\n",
    "train['brand_name'].fillna(value='missing', inplace=True)\n",
    "test['brand_name'].fillna(value='missing', inplace=True)\n",
    "\n",
    "# 訓練データの'brand_name'が'missing'に一致するレコード数を取得\n",
    "train_premissing = len(train.loc[train['brand_name'] == 'missing'])\n",
    "# テストデータの'brand_name'が'missing'に一致するレコード数を取得\n",
    "test_premissing = len(test.loc[test['brand_name'] == 'missing'])\n",
    "\n",
    "train_premissing, test_premissing #欠損値の数"
   ]
  },
  {
   "cell_type": "markdown",
   "metadata": {
    "_cell_guid": "be104c74-34a0-4bb7-bdd2-1ee24048ae9a",
    "_uuid": "ecc18f5e-e153-47b1-8aca-5db849ced133"
   },
   "source": [
    "brand_name(trainデータ): 63万点のうち、13.7万点がブランド名を表すデータに書き換えられた\n",
    "\n",
    "brand_name(testデータ): 29万点のうち、6.4万点がブランド名を表すデータに書き換えられた"
   ]
  },
  {
   "cell_type": "code",
   "execution_count": 21,
   "metadata": {
    "_cell_guid": "e5fe3ec7-4da3-4c7d-9af8-c2ebb361d47d",
    "_uuid": "9696fbc1-6d1e-4026-80a5-75bdf31c5ffa",
    "collapsed": false,
    "execution": {
     "iopub.execute_input": "2024-08-20T00:41:57.142871Z",
     "iopub.status.busy": "2024-08-20T00:41:57.142559Z",
     "iopub.status.idle": "2024-08-20T00:43:10.437519Z",
     "shell.execute_reply": "2024-08-20T00:43:10.436325Z",
     "shell.execute_reply.started": "2024-08-20T00:41:57.142844Z"
    },
    "jupyter": {
     "outputs_hidden": false
    }
   },
   "outputs": [
    {
     "name": "stdout",
     "output_type": "stream",
     "text": [
      "632336\n",
      "137342\n",
      "295525\n",
      "64154\n",
      "CPU times: user 1min 13s, sys: 228 ms, total: 1min 13s\n",
      "Wall time: 1min 13s\n"
     ]
    }
   ],
   "source": [
    "%%time\n",
    "def brandfinder(line):\n",
    "    brand = line[0] # 第1要素はブランド名\n",
    "    name = line[1]  # 第2要素は商品名\n",
    "    namesplit = name.split(' ') # 商品名をスペースで切り分ける\n",
    "    \n",
    "    if brand == 'missing':  # ブランド名が'missing'の場合\n",
    "        for x in namesplit: # 商品名から切り分けた単語を取り出す\n",
    "            if x in brand_name_list: # 単語がブランドリストに存在すればブランド名を返す              \n",
    "                return name # 単語がブランドリストに一致したら商品名を返す\n",
    "    if name in brand_name_list:  # 商品名がブランドリストに存在すれば商品名を返す\n",
    "        return name\n",
    "    \n",
    "    return brand            # どれにも一致しなければブランド名を返す\n",
    "\n",
    "# ブランド名の付替えを実施\n",
    "train['brand_name'] = train[['brand_name','name']].apply(brandfinder, axis = 1) #axis=1で行方向\n",
    "test['brand_name'] = test[['brand_name','name']].apply(brandfinder, axis = 1)\n",
    "\n",
    "# 書き換えられた'missing'の数を取得\n",
    "train_found = train_premissing-len(train.loc[train['brand_name'] == 'missing'])\n",
    "test_found = test_premissing-len(test.loc[test['brand_name'] == 'missing'])\n",
    "\n",
    "print(train_premissing) # 書き換える前の'missing'の数\n",
    "print(train_found)      # 書き換えられた'missing'の数\n",
    "print(test_premissing)  # 書き換える前の'missing'の数\n",
    "print(test_found)       # 書き換えられた'missing'の数"
   ]
  },
  {
   "cell_type": "markdown",
   "metadata": {
    "_cell_guid": "2b1ca372-1b20-4214-85e2-767a2dfb365d",
    "_uuid": "98dc704a-eceb-4abe-b7ef-c084fa50eeaa"
   },
   "source": [
    "表の1番目の\"brand_name\"がmissing → MLB Cincinnatiとなり、missingが\"name(商品名)\"に書き換えられた"
   ]
  },
  {
   "cell_type": "code",
   "execution_count": 22,
   "metadata": {
    "_cell_guid": "d41da04b-24da-4cd6-b393-59f728e20e48",
    "_uuid": "d58373fa-014d-4665-b011-f5f454721208",
    "collapsed": false,
    "execution": {
     "iopub.execute_input": "2024-08-20T00:43:10.439166Z",
     "iopub.status.busy": "2024-08-20T00:43:10.438793Z",
     "iopub.status.idle": "2024-08-20T00:43:10.456538Z",
     "shell.execute_reply": "2024-08-20T00:43:10.455460Z",
     "shell.execute_reply.started": "2024-08-20T00:43:10.439115Z"
    },
    "jupyter": {
     "outputs_hidden": false
    }
   },
   "outputs": [
    {
     "data": {
      "text/html": [
       "<div>\n",
       "<style scoped>\n",
       "    .dataframe tbody tr th:only-of-type {\n",
       "        vertical-align: middle;\n",
       "    }\n",
       "\n",
       "    .dataframe tbody tr th {\n",
       "        vertical-align: top;\n",
       "    }\n",
       "\n",
       "    .dataframe thead th {\n",
       "        text-align: right;\n",
       "    }\n",
       "</style>\n",
       "<table border=\"1\" class=\"dataframe\">\n",
       "  <thead>\n",
       "    <tr style=\"text-align: right;\">\n",
       "      <th></th>\n",
       "      <th>train_id</th>\n",
       "      <th>name</th>\n",
       "      <th>item_condition_id</th>\n",
       "      <th>category_name</th>\n",
       "      <th>brand_name</th>\n",
       "      <th>price</th>\n",
       "      <th>shipping</th>\n",
       "      <th>item_description</th>\n",
       "      <th>general_cat</th>\n",
       "      <th>sub_cat1</th>\n",
       "      <th>sub_cat2</th>\n",
       "    </tr>\n",
       "  </thead>\n",
       "  <tbody>\n",
       "    <tr>\n",
       "      <th>0</th>\n",
       "      <td>0</td>\n",
       "      <td>MLB Cincinnati Reds T Shirt Size XL</td>\n",
       "      <td>3</td>\n",
       "      <td>Men/Tops/T-shirts</td>\n",
       "      <td>MLB Cincinnati Reds T Shirt Size XL</td>\n",
       "      <td>10.0</td>\n",
       "      <td>1</td>\n",
       "      <td>No description yet</td>\n",
       "      <td>Men</td>\n",
       "      <td>Tops</td>\n",
       "      <td>T-shirts</td>\n",
       "    </tr>\n",
       "    <tr>\n",
       "      <th>1</th>\n",
       "      <td>1</td>\n",
       "      <td>Razer BlackWidow Chroma Keyboard</td>\n",
       "      <td>3</td>\n",
       "      <td>Electronics/Computers &amp; Tablets/Components &amp; P...</td>\n",
       "      <td>Razer</td>\n",
       "      <td>52.0</td>\n",
       "      <td>0</td>\n",
       "      <td>This keyboard is in great condition and works ...</td>\n",
       "      <td>Electronics</td>\n",
       "      <td>Computers &amp; Tablets</td>\n",
       "      <td>Components &amp; Parts</td>\n",
       "    </tr>\n",
       "    <tr>\n",
       "      <th>2</th>\n",
       "      <td>2</td>\n",
       "      <td>AVA-VIV Blouse</td>\n",
       "      <td>1</td>\n",
       "      <td>Women/Tops &amp; Blouses/Blouse</td>\n",
       "      <td>Target</td>\n",
       "      <td>10.0</td>\n",
       "      <td>1</td>\n",
       "      <td>Adorable top with a hint of lace and a key hol...</td>\n",
       "      <td>Women</td>\n",
       "      <td>Tops &amp; Blouses</td>\n",
       "      <td>Blouse</td>\n",
       "    </tr>\n",
       "    <tr>\n",
       "      <th>3</th>\n",
       "      <td>3</td>\n",
       "      <td>Leather Horse Statues</td>\n",
       "      <td>1</td>\n",
       "      <td>Home/Home Décor/Home Décor Accents</td>\n",
       "      <td>missing</td>\n",
       "      <td>35.0</td>\n",
       "      <td>1</td>\n",
       "      <td>New with tags. Leather horses. Retail for [rm]...</td>\n",
       "      <td>Home</td>\n",
       "      <td>Home Décor</td>\n",
       "      <td>Home Décor Accents</td>\n",
       "    </tr>\n",
       "    <tr>\n",
       "      <th>4</th>\n",
       "      <td>4</td>\n",
       "      <td>24K GOLD plated rose</td>\n",
       "      <td>1</td>\n",
       "      <td>Women/Jewelry/Necklaces</td>\n",
       "      <td>missing</td>\n",
       "      <td>44.0</td>\n",
       "      <td>0</td>\n",
       "      <td>Complete with certificate of authenticity</td>\n",
       "      <td>Women</td>\n",
       "      <td>Jewelry</td>\n",
       "      <td>Necklaces</td>\n",
       "    </tr>\n",
       "  </tbody>\n",
       "</table>\n",
       "</div>"
      ],
      "text/plain": [
       "   train_id                                 name  item_condition_id  \\\n",
       "0         0  MLB Cincinnati Reds T Shirt Size XL                  3   \n",
       "1         1     Razer BlackWidow Chroma Keyboard                  3   \n",
       "2         2                       AVA-VIV Blouse                  1   \n",
       "3         3                Leather Horse Statues                  1   \n",
       "4         4                 24K GOLD plated rose                  1   \n",
       "\n",
       "                                       category_name  \\\n",
       "0                                  Men/Tops/T-shirts   \n",
       "1  Electronics/Computers & Tablets/Components & P...   \n",
       "2                        Women/Tops & Blouses/Blouse   \n",
       "3                 Home/Home Décor/Home Décor Accents   \n",
       "4                            Women/Jewelry/Necklaces   \n",
       "\n",
       "                            brand_name  price  shipping  \\\n",
       "0  MLB Cincinnati Reds T Shirt Size XL   10.0         1   \n",
       "1                                Razer   52.0         0   \n",
       "2                               Target   10.0         1   \n",
       "3                              missing   35.0         1   \n",
       "4                              missing   44.0         0   \n",
       "\n",
       "                                    item_description  general_cat  \\\n",
       "0                                 No description yet          Men   \n",
       "1  This keyboard is in great condition and works ...  Electronics   \n",
       "2  Adorable top with a hint of lace and a key hol...        Women   \n",
       "3  New with tags. Leather horses. Retail for [rm]...         Home   \n",
       "4          Complete with certificate of authenticity        Women   \n",
       "\n",
       "              sub_cat1            sub_cat2  \n",
       "0                 Tops            T-shirts  \n",
       "1  Computers & Tablets  Components & Parts  \n",
       "2       Tops & Blouses              Blouse  \n",
       "3           Home Décor  Home Décor Accents  \n",
       "4              Jewelry           Necklaces  "
      ]
     },
     "execution_count": 22,
     "metadata": {},
     "output_type": "execute_result"
    }
   ],
   "source": [
    "train.head()"
   ]
  },
  {
   "cell_type": "markdown",
   "metadata": {
    "_cell_guid": "d43ad8c2-110c-4e17-aeab-0b093602d67b",
    "_uuid": "dd854073-25f5-498b-9fc6-712317edda3b"
   },
   "source": [
    "#### ----------------- エンコード(文字列→数値データ) -----------------"
   ]
  },
  {
   "cell_type": "markdown",
   "metadata": {
    "_cell_guid": "818de393-de68-4da0-bfbe-12faa08140d8",
    "_uuid": "26cbbc5b-5364-47fc-bd31-e68a0f5aa002"
   },
   "source": [
    "機械学習ではカテゴリ変数(name, category_name, brand_name, item_description)を文字列ではなく、数値型に変換する必要がある"
   ]
  },
  {
   "cell_type": "markdown",
   "metadata": {
    "_cell_guid": "7d2a2d5c-1a1c-4c77-b037-bc30e35e2312",
    "_uuid": "498b7a1f-86ba-4082-862d-74aef4216401"
   },
   "source": [
    "#### name, category_name, brand_name, item_descriptionの欠損値(NaN)を\"missing\"で埋める"
   ]
  },
  {
   "cell_type": "code",
   "execution_count": 23,
   "metadata": {
    "_cell_guid": "451d85ef-8926-41d4-97fd-cddbb7972f37",
    "_uuid": "06fa1e04-528f-4b3f-8613-6899ebdc8b3e",
    "collapsed": false,
    "execution": {
     "iopub.execute_input": "2024-08-20T00:43:10.458467Z",
     "iopub.status.busy": "2024-08-20T00:43:10.458097Z",
     "iopub.status.idle": "2024-08-20T00:43:11.513349Z",
     "shell.execute_reply": "2024-08-20T00:43:11.512154Z",
     "shell.execute_reply.started": "2024-08-20T00:43:10.458439Z"
    },
    "jupyter": {
     "outputs_hidden": false
    }
   },
   "outputs": [],
   "source": [
    "#fillnaで欠損値を埋める\n",
    "train_test_combine['name'].fillna(value='missing', inplace=True)\n",
    "train_test_combine['category_name'].fillna(value='missing', inplace=True)\n",
    "train_test_combine['general_cat'].fillna(value='missing', inplace=True)\n",
    "train_test_combine['sub_cat1'].fillna(value='missing', inplace=True)\n",
    "train_test_combine['sub_cat2'].fillna(value='missing', inplace=True)\n",
    "train_test_combine['brand_name'].fillna(value='missing', inplace=True)\n",
    "train_test_combine['item_description'].fillna(value='missing', inplace=True)"
   ]
  },
  {
   "cell_type": "markdown",
   "metadata": {
    "_cell_guid": "664f9c7d-ac1a-4883-b0c5-9ab6165703fb",
    "_uuid": "6d5400a4-3f45-4839-84ef-a59f3e570b65"
   },
   "source": [
    "#### name, item_descriptionはトークンに分解してからエンコードするため、一旦放置"
   ]
  },
  {
   "cell_type": "markdown",
   "metadata": {
    "_cell_guid": "c9b01a94-569e-4279-b4d2-9d73a2a8321a",
    "_uuid": "10d8ae13-3841-48a5-823c-c40add462cee"
   },
   "source": [
    "下の表でわかるように文字列がすべて数値データに変換された\n",
    "\n",
    "test_idがNaNだけど、気にしなくていいや"
   ]
  },
  {
   "cell_type": "code",
   "execution_count": 24,
   "metadata": {
    "_cell_guid": "da14f13a-0343-48b5-828e-29911c646457",
    "_uuid": "b4b76721-c952-426c-8ab7-61d193de4358",
    "collapsed": false,
    "execution": {
     "iopub.execute_input": "2024-08-20T00:43:11.515006Z",
     "iopub.status.busy": "2024-08-20T00:43:11.514579Z",
     "iopub.status.idle": "2024-08-20T00:43:14.244531Z",
     "shell.execute_reply": "2024-08-20T00:43:14.243406Z",
     "shell.execute_reply.started": "2024-08-20T00:43:11.514972Z"
    },
    "jupyter": {
     "outputs_hidden": false
    }
   },
   "outputs": [
    {
     "data": {
      "text/html": [
       "<div>\n",
       "<style scoped>\n",
       "    .dataframe tbody tr th:only-of-type {\n",
       "        vertical-align: middle;\n",
       "    }\n",
       "\n",
       "    .dataframe tbody tr th {\n",
       "        vertical-align: top;\n",
       "    }\n",
       "\n",
       "    .dataframe thead th {\n",
       "        text-align: right;\n",
       "    }\n",
       "</style>\n",
       "<table border=\"1\" class=\"dataframe\">\n",
       "  <thead>\n",
       "    <tr style=\"text-align: right;\">\n",
       "      <th></th>\n",
       "      <th>train_id</th>\n",
       "      <th>name</th>\n",
       "      <th>item_condition_id</th>\n",
       "      <th>category_name</th>\n",
       "      <th>brand_name</th>\n",
       "      <th>price</th>\n",
       "      <th>shipping</th>\n",
       "      <th>item_description</th>\n",
       "      <th>general_cat</th>\n",
       "      <th>sub_cat1</th>\n",
       "      <th>sub_cat2</th>\n",
       "      <th>test_id</th>\n",
       "    </tr>\n",
       "  </thead>\n",
       "  <tbody>\n",
       "    <tr>\n",
       "      <th>0</th>\n",
       "      <td>0.0</td>\n",
       "      <td>MLB Cincinnati Reds T Shirt Size XL</td>\n",
       "      <td>3</td>\n",
       "      <td>829</td>\n",
       "      <td>5263</td>\n",
       "      <td>10.0</td>\n",
       "      <td>1</td>\n",
       "      <td>No description yet</td>\n",
       "      <td>5</td>\n",
       "      <td>103</td>\n",
       "      <td>774</td>\n",
       "      <td>NaN</td>\n",
       "    </tr>\n",
       "    <tr>\n",
       "      <th>1</th>\n",
       "      <td>1.0</td>\n",
       "      <td>Razer BlackWidow Chroma Keyboard</td>\n",
       "      <td>3</td>\n",
       "      <td>86</td>\n",
       "      <td>3887</td>\n",
       "      <td>52.0</td>\n",
       "      <td>0</td>\n",
       "      <td>This keyboard is in great condition and works ...</td>\n",
       "      <td>1</td>\n",
       "      <td>30</td>\n",
       "      <td>215</td>\n",
       "      <td>NaN</td>\n",
       "    </tr>\n",
       "    <tr>\n",
       "      <th>2</th>\n",
       "      <td>2.0</td>\n",
       "      <td>AVA-VIV Blouse</td>\n",
       "      <td>1</td>\n",
       "      <td>1277</td>\n",
       "      <td>4586</td>\n",
       "      <td>10.0</td>\n",
       "      <td>1</td>\n",
       "      <td>Adorable top with a hint of lace and a key hol...</td>\n",
       "      <td>10</td>\n",
       "      <td>104</td>\n",
       "      <td>97</td>\n",
       "      <td>NaN</td>\n",
       "    </tr>\n",
       "    <tr>\n",
       "      <th>3</th>\n",
       "      <td>3.0</td>\n",
       "      <td>Leather Horse Statues</td>\n",
       "      <td>1</td>\n",
       "      <td>503</td>\n",
       "      <td>5263</td>\n",
       "      <td>35.0</td>\n",
       "      <td>1</td>\n",
       "      <td>New with tags. Leather horses. Retail for [rm]...</td>\n",
       "      <td>3</td>\n",
       "      <td>55</td>\n",
       "      <td>410</td>\n",
       "      <td>NaN</td>\n",
       "    </tr>\n",
       "    <tr>\n",
       "      <th>4</th>\n",
       "      <td>4.0</td>\n",
       "      <td>24K GOLD plated rose</td>\n",
       "      <td>1</td>\n",
       "      <td>1204</td>\n",
       "      <td>5263</td>\n",
       "      <td>44.0</td>\n",
       "      <td>0</td>\n",
       "      <td>Complete with certificate of authenticity</td>\n",
       "      <td>10</td>\n",
       "      <td>58</td>\n",
       "      <td>542</td>\n",
       "      <td>NaN</td>\n",
       "    </tr>\n",
       "  </tbody>\n",
       "</table>\n",
       "</div>"
      ],
      "text/plain": [
       "   train_id                                 name  item_condition_id  \\\n",
       "0       0.0  MLB Cincinnati Reds T Shirt Size XL                  3   \n",
       "1       1.0     Razer BlackWidow Chroma Keyboard                  3   \n",
       "2       2.0                       AVA-VIV Blouse                  1   \n",
       "3       3.0                Leather Horse Statues                  1   \n",
       "4       4.0                 24K GOLD plated rose                  1   \n",
       "\n",
       "   category_name  brand_name  price  shipping  \\\n",
       "0            829        5263   10.0         1   \n",
       "1             86        3887   52.0         0   \n",
       "2           1277        4586   10.0         1   \n",
       "3            503        5263   35.0         1   \n",
       "4           1204        5263   44.0         0   \n",
       "\n",
       "                                    item_description  general_cat  sub_cat1  \\\n",
       "0                                 No description yet            5       103   \n",
       "1  This keyboard is in great condition and works ...            1        30   \n",
       "2  Adorable top with a hint of lace and a key hol...           10       104   \n",
       "3  New with tags. Leather horses. Retail for [rm]...            3        55   \n",
       "4          Complete with certificate of authenticity           10        58   \n",
       "\n",
       "   sub_cat2  test_id  \n",
       "0       774      NaN  \n",
       "1       215      NaN  \n",
       "2        97      NaN  \n",
       "3       410      NaN  \n",
       "4       542      NaN  "
      ]
     },
     "metadata": {},
     "output_type": "display_data"
    }
   ],
   "source": [
    "from sklearn.preprocessing import LabelEncoder\n",
    "\n",
    "le = LabelEncoder()\n",
    "\n",
    "#カテゴリ変数を数値に変換\n",
    "# train_test_combine['name'] = le.fit_transform(train_test_combine['name'])\n",
    "train_test_combine['category_name'] = le.fit_transform(train_test_combine['category_name'])\n",
    "train_test_combine['general_cat'] = le.fit_transform(train_test_combine['general_cat'])\n",
    "train_test_combine['sub_cat1'] = le.fit_transform(train_test_combine['sub_cat1'])\n",
    "train_test_combine['sub_cat2'] = le.fit_transform(train_test_combine['sub_cat2'])\n",
    "train_test_combine['brand_name'] = le.fit_transform(train_test_combine['brand_name'])\n",
    "# train_test_combine['item_description'] = le.fit_transform(train_test_combine['item_description'])\n",
    "\n",
    "display(train_test_combine.head())"
   ]
  },
  {
   "cell_type": "markdown",
   "metadata": {
    "_cell_guid": "848b2a84-5b9c-4502-91bb-e45d840aee87",
    "_uuid": "9b961779-386e-4fbf-ba41-576ea64640b1"
   },
   "source": [
    "#### name, item_descriptionをエンコード(自然言語処理)\n",
    "name, item_descriptionは複数の単語で構成されるので、単純なエンコード(数値変換)ではなく、KerasのTokenizerクラスを使ってエンコード\n",
    "\n",
    "Tokenizerとは\n",
    "\n",
    "* 英文のテキストデータをトークン(最小単位)に分解する\n",
    "* 各トークンに通し番号(インデックス)を割り振ることで実数ベクトルに変換する\n",
    "\n",
    "分かりやすいzenn記事：https://zenn.dev/robes/articles/b6708032855a9c"
   ]
  },
  {
   "cell_type": "code",
   "execution_count": 25,
   "metadata": {
    "_cell_guid": "9792256c-f476-4c8b-ab02-ab3162179fcf",
    "_uuid": "ad52bf9d-c5e8-47e9-9f63-93f8df0b23bb",
    "collapsed": false,
    "execution": {
     "iopub.execute_input": "2024-08-20T00:43:14.246895Z",
     "iopub.status.busy": "2024-08-20T00:43:14.246492Z",
     "iopub.status.idle": "2024-08-20T00:46:47.800094Z",
     "shell.execute_reply": "2024-08-20T00:46:47.798877Z",
     "shell.execute_reply.started": "2024-08-20T00:43:14.246859Z"
    },
    "jupyter": {
     "outputs_hidden": false
    }
   },
   "outputs": [
    {
     "name": "stderr",
     "output_type": "stream",
     "text": [
      "2024-08-20 00:43:16.396193: E external/local_xla/xla/stream_executor/cuda/cuda_dnn.cc:9261] Unable to register cuDNN factory: Attempting to register factory for plugin cuDNN when one has already been registered\n",
      "2024-08-20 00:43:16.396337: E external/local_xla/xla/stream_executor/cuda/cuda_fft.cc:607] Unable to register cuFFT factory: Attempting to register factory for plugin cuFFT when one has already been registered\n",
      "2024-08-20 00:43:16.555181: E external/local_xla/xla/stream_executor/cuda/cuda_blas.cc:1515] Unable to register cuBLAS factory: Attempting to register factory for plugin cuBLAS when one has already been registered\n"
     ]
    },
    {
     "name": "stdout",
     "output_type": "stream",
     "text": [
      "Transforming text data to sequences...\n",
      "sequences shape (4350040,)\n",
      "   Fitting tokenizer...\n",
      "   Transforming text to sequences...\n",
      "0                                         [12, 68, 79]\n",
      "1    [29, 2666, 10, 7, 38, 17, 1, 206, 51, 19, 1099...\n",
      "2    [597, 60, 9, 4, 5351, 11, 192, 1, 4, 900, 1299...\n",
      "3    [5, 9, 61, 178, 6621, 229, 3, 21, 166, 1086, 2...\n",
      "4                             [801, 9, 7022, 11, 2013]\n",
      "Name: seq_item_description, dtype: object\n",
      "0    [3882, 8986, 6977, 208, 84, 6, 155]\n",
      "1            [11402, 27914, 17350, 2666]\n",
      "2                     [7811, 10858, 666]\n",
      "3                     [178, 2603, 14008]\n",
      "4                 [4962, 103, 1032, 280]\n",
      "Name: seq_name, dtype: object\n",
      "CPU times: user 3min 25s, sys: 2.85 s, total: 3min 28s\n",
      "Wall time: 3min 33s\n"
     ]
    }
   ],
   "source": [
    "%%time\n",
    "from tensorflow.keras.preprocessing.text import Tokenizer\n",
    "\n",
    "print(\"Transforming text data to sequences...\")\n",
    "raw_text = np.hstack(\n",
    "    [train_test_combine.item_description.str.lower(), # 説明文\n",
    "     train_test_combine.name.str.lower()]           # 商品名\n",
    ")\n",
    "print('sequences shape', raw_text.shape)\n",
    "\n",
    "# 説明文、商品名、カテゴリ名を連結した配列でTokenizerを作る\n",
    "print(\"   Fitting tokenizer...\")\n",
    "tok_raw = Tokenizer()\n",
    "tok_raw.fit_on_texts(raw_text)\n",
    "\n",
    "# Tokenizerで説明文、商品名をそれぞれラベルエンコードする\n",
    "print(\"   Transforming text to sequences...\")\n",
    "train_test_combine['seq_item_description'] = tok_raw.texts_to_sequences(train_test_combine.item_description.str.lower())\n",
    "train_test_combine['seq_name'] = tok_raw.texts_to_sequences(train_test_combine.name.str.lower())\n",
    "\n",
    "del tok_raw #delは変数を削除する\n",
    "\n",
    "print(train_test_combine.seq_item_description.head())\n",
    "print(train_test_combine.seq_name.head())"
   ]
  },
  {
   "cell_type": "markdown",
   "metadata": {
    "_cell_guid": "1cacda81-bff9-4855-a30b-61dc88063807",
    "_uuid": "f4e01db6-4d40-4ac8-920a-0bf7dda9c3ab"
   },
   "source": [
    "#### 0でパディング(埋める)して配列の長さを揃える\n",
    "\n",
    "自然言語処理の学習における入力データは固定長化する必要がある\n",
    "\n",
    "参考サイト；https://moneyforward-dev.jp/entry/2021/10/05/transformers-tokenizer/"
   ]
  },
  {
   "cell_type": "code",
   "execution_count": 26,
   "metadata": {
    "_cell_guid": "0f44d376-0c7e-4528-a246-151f828dd6b8",
    "_uuid": "38b30215-6414-4cf4-8c68-aaf7a2bb398e",
    "collapsed": false,
    "execution": {
     "iopub.execute_input": "2024-08-20T00:46:47.802112Z",
     "iopub.status.busy": "2024-08-20T00:46:47.801463Z",
     "iopub.status.idle": "2024-08-20T00:47:01.653623Z",
     "shell.execute_reply": "2024-08-20T00:47:01.652526Z",
     "shell.execute_reply.started": "2024-08-20T00:46:47.802076Z"
    },
    "jupyter": {
     "outputs_hidden": false
    }
   },
   "outputs": [
    {
     "name": "stdout",
     "output_type": "stream",
     "text": [
      "[[    0     0     0 ...    12    68    79]\n",
      " [    0     0     0 ...    14    49   996]\n",
      " [    0     0     0 ...   175     7    59]\n",
      " ...\n",
      " [    0     0     0 ...    20 63502    88]\n",
      " [    0     0     0 ...     4   369    71]\n",
      " [    0     0     0 ...     4   593   635]] \n",
      "\n",
      "[[    0     0     0 ...    84     6   155]\n",
      " [    0     0     0 ... 27914 17350  2666]\n",
      " [    0     0     0 ...  7811 10858   666]\n",
      " ...\n",
      " [    0     0     0 ...   401  1559    88]\n",
      " [    0     0     0 ...   325   281  2230]\n",
      " [    0     0     0 ...   892   725    69]]\n",
      "CPU times: user 13.6 s, sys: 219 ms, total: 13.8 s\n",
      "Wall time: 13.8 s\n"
     ]
    }
   ],
   "source": [
    "%%time\n",
    "from keras.preprocessing.sequence import pad_sequences\n",
    "print(pad_sequences(train_test_combine.seq_item_description, maxlen=80),'\\n') # 商品説明\n",
    "print(pad_sequences(train_test_combine.seq_name, maxlen=10))                  # 商品名"
   ]
  },
  {
   "cell_type": "code",
   "execution_count": 27,
   "metadata": {
    "_cell_guid": "4e66362d-3564-441e-8248-f277d750064d",
    "_uuid": "d78e5a35-e892-406b-9bbb-44bef07e4bfa",
    "collapsed": false,
    "execution": {
     "iopub.execute_input": "2024-08-20T00:47:01.660949Z",
     "iopub.status.busy": "2024-08-20T00:47:01.660586Z",
     "iopub.status.idle": "2024-08-20T00:47:01.681546Z",
     "shell.execute_reply": "2024-08-20T00:47:01.680434Z",
     "shell.execute_reply.started": "2024-08-20T00:47:01.660919Z"
    },
    "jupyter": {
     "outputs_hidden": false
    }
   },
   "outputs": [
    {
     "data": {
      "text/html": [
       "<div>\n",
       "<style scoped>\n",
       "    .dataframe tbody tr th:only-of-type {\n",
       "        vertical-align: middle;\n",
       "    }\n",
       "\n",
       "    .dataframe tbody tr th {\n",
       "        vertical-align: top;\n",
       "    }\n",
       "\n",
       "    .dataframe thead th {\n",
       "        text-align: right;\n",
       "    }\n",
       "</style>\n",
       "<table border=\"1\" class=\"dataframe\">\n",
       "  <thead>\n",
       "    <tr style=\"text-align: right;\">\n",
       "      <th></th>\n",
       "      <th>train_id</th>\n",
       "      <th>name</th>\n",
       "      <th>item_condition_id</th>\n",
       "      <th>category_name</th>\n",
       "      <th>brand_name</th>\n",
       "      <th>price</th>\n",
       "      <th>shipping</th>\n",
       "      <th>item_description</th>\n",
       "      <th>general_cat</th>\n",
       "      <th>sub_cat1</th>\n",
       "      <th>sub_cat2</th>\n",
       "      <th>test_id</th>\n",
       "      <th>seq_item_description</th>\n",
       "      <th>seq_name</th>\n",
       "    </tr>\n",
       "  </thead>\n",
       "  <tbody>\n",
       "    <tr>\n",
       "      <th>0</th>\n",
       "      <td>0.0</td>\n",
       "      <td>MLB Cincinnati Reds T Shirt Size XL</td>\n",
       "      <td>3</td>\n",
       "      <td>829</td>\n",
       "      <td>5263</td>\n",
       "      <td>10.0</td>\n",
       "      <td>1</td>\n",
       "      <td>No description yet</td>\n",
       "      <td>5</td>\n",
       "      <td>103</td>\n",
       "      <td>774</td>\n",
       "      <td>NaN</td>\n",
       "      <td>[12, 68, 79]</td>\n",
       "      <td>[3882, 8986, 6977, 208, 84, 6, 155]</td>\n",
       "    </tr>\n",
       "    <tr>\n",
       "      <th>1</th>\n",
       "      <td>1.0</td>\n",
       "      <td>Razer BlackWidow Chroma Keyboard</td>\n",
       "      <td>3</td>\n",
       "      <td>86</td>\n",
       "      <td>3887</td>\n",
       "      <td>52.0</td>\n",
       "      <td>0</td>\n",
       "      <td>This keyboard is in great condition and works ...</td>\n",
       "      <td>1</td>\n",
       "      <td>30</td>\n",
       "      <td>215</td>\n",
       "      <td>NaN</td>\n",
       "      <td>[29, 2666, 10, 7, 38, 17, 1, 206, 51, 19, 1099...</td>\n",
       "      <td>[11402, 27914, 17350, 2666]</td>\n",
       "    </tr>\n",
       "    <tr>\n",
       "      <th>2</th>\n",
       "      <td>2.0</td>\n",
       "      <td>AVA-VIV Blouse</td>\n",
       "      <td>1</td>\n",
       "      <td>1277</td>\n",
       "      <td>4586</td>\n",
       "      <td>10.0</td>\n",
       "      <td>1</td>\n",
       "      <td>Adorable top with a hint of lace and a key hol...</td>\n",
       "      <td>10</td>\n",
       "      <td>104</td>\n",
       "      <td>97</td>\n",
       "      <td>NaN</td>\n",
       "      <td>[597, 60, 9, 4, 5351, 11, 192, 1, 4, 900, 1299...</td>\n",
       "      <td>[7811, 10858, 666]</td>\n",
       "    </tr>\n",
       "    <tr>\n",
       "      <th>3</th>\n",
       "      <td>3.0</td>\n",
       "      <td>Leather Horse Statues</td>\n",
       "      <td>1</td>\n",
       "      <td>503</td>\n",
       "      <td>5263</td>\n",
       "      <td>35.0</td>\n",
       "      <td>1</td>\n",
       "      <td>New with tags. Leather horses. Retail for [rm]...</td>\n",
       "      <td>3</td>\n",
       "      <td>55</td>\n",
       "      <td>410</td>\n",
       "      <td>NaN</td>\n",
       "      <td>[5, 9, 61, 178, 6621, 229, 3, 21, 166, 1086, 2...</td>\n",
       "      <td>[178, 2603, 14008]</td>\n",
       "    </tr>\n",
       "    <tr>\n",
       "      <th>4</th>\n",
       "      <td>4.0</td>\n",
       "      <td>24K GOLD plated rose</td>\n",
       "      <td>1</td>\n",
       "      <td>1204</td>\n",
       "      <td>5263</td>\n",
       "      <td>44.0</td>\n",
       "      <td>0</td>\n",
       "      <td>Complete with certificate of authenticity</td>\n",
       "      <td>10</td>\n",
       "      <td>58</td>\n",
       "      <td>542</td>\n",
       "      <td>NaN</td>\n",
       "      <td>[801, 9, 7022, 11, 2013]</td>\n",
       "      <td>[4962, 103, 1032, 280]</td>\n",
       "    </tr>\n",
       "  </tbody>\n",
       "</table>\n",
       "</div>"
      ],
      "text/plain": [
       "   train_id                                 name  item_condition_id  \\\n",
       "0       0.0  MLB Cincinnati Reds T Shirt Size XL                  3   \n",
       "1       1.0     Razer BlackWidow Chroma Keyboard                  3   \n",
       "2       2.0                       AVA-VIV Blouse                  1   \n",
       "3       3.0                Leather Horse Statues                  1   \n",
       "4       4.0                 24K GOLD plated rose                  1   \n",
       "\n",
       "   category_name  brand_name  price  shipping  \\\n",
       "0            829        5263   10.0         1   \n",
       "1             86        3887   52.0         0   \n",
       "2           1277        4586   10.0         1   \n",
       "3            503        5263   35.0         1   \n",
       "4           1204        5263   44.0         0   \n",
       "\n",
       "                                    item_description  general_cat  sub_cat1  \\\n",
       "0                                 No description yet            5       103   \n",
       "1  This keyboard is in great condition and works ...            1        30   \n",
       "2  Adorable top with a hint of lace and a key hol...           10       104   \n",
       "3  New with tags. Leather horses. Retail for [rm]...            3        55   \n",
       "4          Complete with certificate of authenticity           10        58   \n",
       "\n",
       "   sub_cat2  test_id                               seq_item_description  \\\n",
       "0       774      NaN                                       [12, 68, 79]   \n",
       "1       215      NaN  [29, 2666, 10, 7, 38, 17, 1, 206, 51, 19, 1099...   \n",
       "2        97      NaN  [597, 60, 9, 4, 5351, 11, 192, 1, 4, 900, 1299...   \n",
       "3       410      NaN  [5, 9, 61, 178, 6621, 229, 3, 21, 166, 1086, 2...   \n",
       "4       542      NaN                           [801, 9, 7022, 11, 2013]   \n",
       "\n",
       "                              seq_name  \n",
       "0  [3882, 8986, 6977, 208, 84, 6, 155]  \n",
       "1          [11402, 27914, 17350, 2666]  \n",
       "2                   [7811, 10858, 666]  \n",
       "3                   [178, 2603, 14008]  \n",
       "4               [4962, 103, 1032, 280]  "
      ]
     },
     "execution_count": 27,
     "metadata": {},
     "output_type": "execute_result"
    }
   ],
   "source": [
    "train_test_combine.head()"
   ]
  },
  {
   "cell_type": "markdown",
   "metadata": {
    "_cell_guid": "eae9c3fb-9db6-4d7b-afcb-77c6a012bd70",
    "_uuid": "c4f7377c-c3f9-49b6-a8cc-8b6da169040d"
   },
   "source": [
    "#### name, item_descriptionの単語数をカウントした列を追加\n",
    "\n",
    "単語数が多いと価格も高い？"
   ]
  },
  {
   "cell_type": "code",
   "execution_count": 28,
   "metadata": {
    "_cell_guid": "2dac00f4-1573-4e0d-bd2f-195dea2f7288",
    "_uuid": "9a854888-230c-4830-a1ed-62dfcec40179",
    "collapsed": false,
    "execution": {
     "iopub.execute_input": "2024-08-20T00:47:01.683813Z",
     "iopub.status.busy": "2024-08-20T00:47:01.683227Z",
     "iopub.status.idle": "2024-08-20T00:47:14.063236Z",
     "shell.execute_reply": "2024-08-20T00:47:14.062176Z",
     "shell.execute_reply.started": "2024-08-20T00:47:01.683776Z"
    },
    "jupyter": {
     "outputs_hidden": false
    }
   },
   "outputs": [
    {
     "name": "stdout",
     "output_type": "stream",
     "text": [
      "CPU times: user 12.4 s, sys: 1.88 ms, total: 12.4 s\n",
      "Wall time: 12.4 s\n"
     ]
    }
   ],
   "source": [
    "%%time\n",
    "def wordCount(text):\n",
    "    \"\"\"\n",
    "    Parameters:\n",
    "      text(str): 商品名、商品の説明文\n",
    "    \"\"\"\n",
    "    try:\n",
    "        if text == 'No description yet':\n",
    "            return 0  # 商品名や説明が'No description yet'の場合は0を返す\n",
    "        else:\n",
    "            text = text.lower()                  # すべて小文字にする\n",
    "            words = [w for w in text.split(\" \")] # スペースで切り分ける\n",
    "            return len(words)                    # 単語の数を返す\n",
    "    except: \n",
    "        return 0\n",
    "\n",
    "# 'name'の各フィールドの単語数を'name_len'に登録\n",
    "train_test_combine['name_len'] = train_test_combine['name'].apply(lambda x: wordCount(x))\n",
    "# 'item_description'の各フィールドの単語数を'desc_len'に登録\n",
    "train_test_combine['desc_len'] = train_test_combine['item_description'].apply(lambda x: wordCount(x))"
   ]
  },
  {
   "cell_type": "markdown",
   "metadata": {
    "_cell_guid": "690d0a5c-7073-4449-9115-cf4314eb4b13",
    "_uuid": "e3271fc4-69cf-4799-9d5b-eee58de140f1"
   },
   "source": [
    "#### name, item_descriptionが文字列なのでカテゴリ変数に変換"
   ]
  },
  {
   "cell_type": "code",
   "execution_count": 29,
   "metadata": {
    "_cell_guid": "8d3bb331-5d4f-4303-a820-0aae1ecf6a69",
    "_uuid": "911eb9c6-5627-4ab3-9390-cb3ea97236c3",
    "collapsed": false,
    "execution": {
     "iopub.execute_input": "2024-08-20T00:47:14.065092Z",
     "iopub.status.busy": "2024-08-20T00:47:14.064696Z",
     "iopub.status.idle": "2024-08-20T00:47:30.467249Z",
     "shell.execute_reply": "2024-08-20T00:47:30.465900Z",
     "shell.execute_reply.started": "2024-08-20T00:47:14.065061Z"
    },
    "jupyter": {
     "outputs_hidden": false
    }
   },
   "outputs": [],
   "source": [
    "# 文字列(object)カテゴリー変数に変換\n",
    "train_test_combine['name'] = train_test_combine['name'].astype('category')\n",
    "train_test_combine['item_description'] = train_test_combine['item_description'].astype('category')"
   ]
  },
  {
   "cell_type": "markdown",
   "metadata": {
    "_cell_guid": "bc376b7d-7063-4e8e-995e-e5e9b18d72d4",
    "_uuid": "ccdfeed7-4364-40ae-90c3-fe0622ceafa3"
   },
   "source": [
    "#### seq_item_description, seq_nameはリスト型なので、一旦文字列に変換してからカテゴリ変数にする"
   ]
  },
  {
   "cell_type": "code",
   "execution_count": 30,
   "metadata": {
    "_cell_guid": "01d4121f-9e5a-43fd-9a92-09532aaabcff",
    "_uuid": "e5169041-a98b-454f-be10-516f74b761a8",
    "collapsed": false,
    "execution": {
     "iopub.execute_input": "2024-08-20T00:47:30.469203Z",
     "iopub.status.busy": "2024-08-20T00:47:30.468727Z",
     "iopub.status.idle": "2024-08-20T00:47:55.108466Z",
     "shell.execute_reply": "2024-08-20T00:47:55.107324Z",
     "shell.execute_reply.started": "2024-08-20T00:47:30.469163Z"
    },
    "jupyter": {
     "outputs_hidden": false
    }
   },
   "outputs": [],
   "source": [
    "# リストを文字列に変換してからカテゴリー変数に変換\n",
    "train_test_combine['seq_item_description'] = train_test_combine['seq_item_description'].apply(lambda x: str(x)).astype('category')\n",
    "train_test_combine['seq_name'] = train_test_combine['seq_name'].apply(lambda x: str(x)).astype('category')"
   ]
  },
  {
   "cell_type": "code",
   "execution_count": 31,
   "metadata": {
    "_cell_guid": "9effdadc-e7f2-497a-8452-f8aa0e2ad781",
    "_uuid": "cc6956f9-a9fb-4abc-9e9b-9d9bcb6c84ed",
    "collapsed": false,
    "execution": {
     "iopub.execute_input": "2024-08-20T00:47:55.110130Z",
     "iopub.status.busy": "2024-08-20T00:47:55.109788Z",
     "iopub.status.idle": "2024-08-20T00:48:01.032953Z",
     "shell.execute_reply": "2024-08-20T00:48:01.031909Z",
     "shell.execute_reply.started": "2024-08-20T00:47:55.110102Z"
    },
    "jupyter": {
     "outputs_hidden": false
    }
   },
   "outputs": [
    {
     "name": "stdout",
     "output_type": "stream",
     "text": [
      "(2175020, 16)\n",
      "<class 'pandas.core.frame.DataFrame'>\n",
      "Index: 2175020 entries, 0 to 693358\n",
      "Data columns (total 16 columns):\n",
      " #   Column                Dtype   \n",
      "---  ------                -----   \n",
      " 0   train_id              float64 \n",
      " 1   name                  category\n",
      " 2   item_condition_id     int64   \n",
      " 3   category_name         int64   \n",
      " 4   brand_name            int64   \n",
      " 5   price                 float64 \n",
      " 6   shipping              int64   \n",
      " 7   item_description      category\n",
      " 8   general_cat           int64   \n",
      " 9   sub_cat1              int64   \n",
      " 10  sub_cat2              int64   \n",
      " 11  test_id               float64 \n",
      " 12  seq_item_description  category\n",
      " 13  seq_name              category\n",
      " 14  name_len              int64   \n",
      " 15  desc_len              int64   \n",
      "dtypes: category(4), float64(3), int64(9)\n",
      "memory usage: 528.2 MB\n",
      "None\n"
     ]
    },
    {
     "data": {
      "text/html": [
       "<div>\n",
       "<style scoped>\n",
       "    .dataframe tbody tr th:only-of-type {\n",
       "        vertical-align: middle;\n",
       "    }\n",
       "\n",
       "    .dataframe tbody tr th {\n",
       "        vertical-align: top;\n",
       "    }\n",
       "\n",
       "    .dataframe thead th {\n",
       "        text-align: right;\n",
       "    }\n",
       "</style>\n",
       "<table border=\"1\" class=\"dataframe\">\n",
       "  <thead>\n",
       "    <tr style=\"text-align: right;\">\n",
       "      <th></th>\n",
       "      <th>train_id</th>\n",
       "      <th>name</th>\n",
       "      <th>item_condition_id</th>\n",
       "      <th>category_name</th>\n",
       "      <th>brand_name</th>\n",
       "      <th>price</th>\n",
       "      <th>shipping</th>\n",
       "      <th>item_description</th>\n",
       "      <th>general_cat</th>\n",
       "      <th>sub_cat1</th>\n",
       "      <th>sub_cat2</th>\n",
       "      <th>test_id</th>\n",
       "      <th>seq_item_description</th>\n",
       "      <th>seq_name</th>\n",
       "      <th>name_len</th>\n",
       "      <th>desc_len</th>\n",
       "    </tr>\n",
       "  </thead>\n",
       "  <tbody>\n",
       "    <tr>\n",
       "      <th>0</th>\n",
       "      <td>0.0</td>\n",
       "      <td>MLB Cincinnati Reds T Shirt Size XL</td>\n",
       "      <td>3</td>\n",
       "      <td>829</td>\n",
       "      <td>5263</td>\n",
       "      <td>10.0</td>\n",
       "      <td>1</td>\n",
       "      <td>No description yet</td>\n",
       "      <td>5</td>\n",
       "      <td>103</td>\n",
       "      <td>774</td>\n",
       "      <td>NaN</td>\n",
       "      <td>[12, 68, 79]</td>\n",
       "      <td>[3882, 8986, 6977, 208, 84, 6, 155]</td>\n",
       "      <td>7</td>\n",
       "      <td>0</td>\n",
       "    </tr>\n",
       "    <tr>\n",
       "      <th>1</th>\n",
       "      <td>1.0</td>\n",
       "      <td>Razer BlackWidow Chroma Keyboard</td>\n",
       "      <td>3</td>\n",
       "      <td>86</td>\n",
       "      <td>3887</td>\n",
       "      <td>52.0</td>\n",
       "      <td>0</td>\n",
       "      <td>This keyboard is in great condition and works ...</td>\n",
       "      <td>1</td>\n",
       "      <td>30</td>\n",
       "      <td>215</td>\n",
       "      <td>NaN</td>\n",
       "      <td>[29, 2666, 10, 7, 38, 17, 1, 206, 51, 19, 1099...</td>\n",
       "      <td>[11402, 27914, 17350, 2666]</td>\n",
       "      <td>4</td>\n",
       "      <td>36</td>\n",
       "    </tr>\n",
       "    <tr>\n",
       "      <th>2</th>\n",
       "      <td>2.0</td>\n",
       "      <td>AVA-VIV Blouse</td>\n",
       "      <td>1</td>\n",
       "      <td>1277</td>\n",
       "      <td>4586</td>\n",
       "      <td>10.0</td>\n",
       "      <td>1</td>\n",
       "      <td>Adorable top with a hint of lace and a key hol...</td>\n",
       "      <td>10</td>\n",
       "      <td>104</td>\n",
       "      <td>97</td>\n",
       "      <td>NaN</td>\n",
       "      <td>[597, 60, 9, 4, 5351, 11, 192, 1, 4, 900, 1299...</td>\n",
       "      <td>[7811, 10858, 666]</td>\n",
       "      <td>2</td>\n",
       "      <td>29</td>\n",
       "    </tr>\n",
       "    <tr>\n",
       "      <th>3</th>\n",
       "      <td>3.0</td>\n",
       "      <td>Leather Horse Statues</td>\n",
       "      <td>1</td>\n",
       "      <td>503</td>\n",
       "      <td>5263</td>\n",
       "      <td>35.0</td>\n",
       "      <td>1</td>\n",
       "      <td>New with tags. Leather horses. Retail for [rm]...</td>\n",
       "      <td>3</td>\n",
       "      <td>55</td>\n",
       "      <td>410</td>\n",
       "      <td>NaN</td>\n",
       "      <td>[5, 9, 61, 178, 6621, 229, 3, 21, 166, 1086, 2...</td>\n",
       "      <td>[178, 2603, 14008]</td>\n",
       "      <td>3</td>\n",
       "      <td>32</td>\n",
       "    </tr>\n",
       "    <tr>\n",
       "      <th>4</th>\n",
       "      <td>4.0</td>\n",
       "      <td>24K GOLD plated rose</td>\n",
       "      <td>1</td>\n",
       "      <td>1204</td>\n",
       "      <td>5263</td>\n",
       "      <td>44.0</td>\n",
       "      <td>0</td>\n",
       "      <td>Complete with certificate of authenticity</td>\n",
       "      <td>10</td>\n",
       "      <td>58</td>\n",
       "      <td>542</td>\n",
       "      <td>NaN</td>\n",
       "      <td>[801, 9, 7022, 11, 2013]</td>\n",
       "      <td>[4962, 103, 1032, 280]</td>\n",
       "      <td>4</td>\n",
       "      <td>5</td>\n",
       "    </tr>\n",
       "  </tbody>\n",
       "</table>\n",
       "</div>"
      ],
      "text/plain": [
       "   train_id                                 name  item_condition_id  \\\n",
       "0       0.0  MLB Cincinnati Reds T Shirt Size XL                  3   \n",
       "1       1.0     Razer BlackWidow Chroma Keyboard                  3   \n",
       "2       2.0                       AVA-VIV Blouse                  1   \n",
       "3       3.0                Leather Horse Statues                  1   \n",
       "4       4.0                 24K GOLD plated rose                  1   \n",
       "\n",
       "   category_name  brand_name  price  shipping  \\\n",
       "0            829        5263   10.0         1   \n",
       "1             86        3887   52.0         0   \n",
       "2           1277        4586   10.0         1   \n",
       "3            503        5263   35.0         1   \n",
       "4           1204        5263   44.0         0   \n",
       "\n",
       "                                    item_description  general_cat  sub_cat1  \\\n",
       "0                                 No description yet            5       103   \n",
       "1  This keyboard is in great condition and works ...            1        30   \n",
       "2  Adorable top with a hint of lace and a key hol...           10       104   \n",
       "3  New with tags. Leather horses. Retail for [rm]...            3        55   \n",
       "4          Complete with certificate of authenticity           10        58   \n",
       "\n",
       "   sub_cat2  test_id                               seq_item_description  \\\n",
       "0       774      NaN                                       [12, 68, 79]   \n",
       "1       215      NaN  [29, 2666, 10, 7, 38, 17, 1, 206, 51, 19, 1099...   \n",
       "2        97      NaN  [597, 60, 9, 4, 5351, 11, 192, 1, 4, 900, 1299...   \n",
       "3       410      NaN  [5, 9, 61, 178, 6621, 229, 3, 21, 166, 1086, 2...   \n",
       "4       542      NaN                           [801, 9, 7022, 11, 2013]   \n",
       "\n",
       "                              seq_name  name_len  desc_len  \n",
       "0  [3882, 8986, 6977, 208, 84, 6, 155]         7         0  \n",
       "1          [11402, 27914, 17350, 2666]         4        36  \n",
       "2                   [7811, 10858, 666]         2        29  \n",
       "3                   [178, 2603, 14008]         3        32  \n",
       "4               [4962, 103, 1032, 280]         4         5  "
      ]
     },
     "metadata": {},
     "output_type": "display_data"
    }
   ],
   "source": [
    "print(train_test_combine.shape)\n",
    "print(train_test_combine.info())\n",
    "display(train_test_combine.head())"
   ]
  },
  {
   "cell_type": "markdown",
   "metadata": {
    "_cell_guid": "15ef6283-176c-4cc6-b300-4fac34aa0277",
    "_uuid": "2d2f7a1b-5982-4c09-9e62-752da32c8539"
   },
   "source": [
    "#### priceを対数変換して正規化"
   ]
  },
  {
   "cell_type": "code",
   "execution_count": 32,
   "metadata": {
    "_cell_guid": "12f890cb-44b8-4331-b0e4-e6855c951782",
    "_uuid": "d823fbd4-1a59-4877-a6b1-14c090e53b7a",
    "collapsed": false,
    "execution": {
     "iopub.execute_input": "2024-08-20T00:48:01.034597Z",
     "iopub.status.busy": "2024-08-20T00:48:01.034297Z",
     "iopub.status.idle": "2024-08-20T00:48:01.070795Z",
     "shell.execute_reply": "2024-08-20T00:48:01.069737Z",
     "shell.execute_reply.started": "2024-08-20T00:48:01.034573Z"
    },
    "jupyter": {
     "outputs_hidden": false
    }
   },
   "outputs": [],
   "source": [
    "# 訓練データの'price'を対数変換する\n",
    "train['price'] = np.log1p(train['price']) # <---"
   ]
  },
  {
   "cell_type": "markdown",
   "metadata": {
    "_cell_guid": "e4a3fc8c-b859-45bf-ace0-2d3748f9548a",
    "_uuid": "0a922976-fdce-4332-a0fa-1968a865002d"
   },
   "source": [
    "#### 前処理後の結合したデータ(train_test_combine)を再びtrain,testデータに分割する"
   ]
  },
  {
   "cell_type": "markdown",
   "metadata": {
    "_cell_guid": "62c50c23-072e-4a16-b625-9c93e7ecb765",
    "_uuid": "ab935538-8b0c-44bb-8188-f04242fbd1bf"
   },
   "source": [
    "train：1,482,535点\n",
    "\n",
    "test：693,359点"
   ]
  },
  {
   "cell_type": "code",
   "execution_count": 33,
   "metadata": {
    "_cell_guid": "faa3f31b-0ce3-46e2-b9a4-c58fcaba423e",
    "_uuid": "6946c5e4-8790-460b-8083-22ad386d42da",
    "collapsed": false,
    "execution": {
     "iopub.execute_input": "2024-08-20T00:48:01.072477Z",
     "iopub.status.busy": "2024-08-20T00:48:01.072121Z",
     "iopub.status.idle": "2024-08-20T00:48:01.251558Z",
     "shell.execute_reply": "2024-08-20T00:48:01.250347Z",
     "shell.execute_reply.started": "2024-08-20T00:48:01.072449Z"
    },
    "jupyter": {
     "outputs_hidden": false
    }
   },
   "outputs": [],
   "source": [
    "#train_test_combineからtrainとtestに分割\n",
    "train = train_test_combine[:len(train)]\n",
    "train = train.drop(columns='test_id') # <---\n",
    "train['train_id'] = train['train_id'].astype(int)\n",
    "\n",
    "test = train_test_combine[len(train):]\n",
    "test = test.drop(columns='train_id') # <---\n",
    "test['test_id'] = test['test_id'].astype(int)\n",
    "# 'test_id'列を先頭に移動\n",
    "test.insert(0, 'test_id', test.pop('test_id'))"
   ]
  },
  {
   "cell_type": "markdown",
   "metadata": {
    "_cell_guid": "fdc605ac-c28b-4ad9-a0d0-a1001164832d",
    "_uuid": "70f9218f-db12-44c6-b822-4e92dbaa9cdb"
   },
   "source": [
    "#### カテゴリ変数(category)だとモデルの学習ができなかったので、数値(int)に変換"
   ]
  },
  {
   "cell_type": "code",
   "execution_count": 34,
   "metadata": {
    "_cell_guid": "30d90820-6898-48f0-8c0e-f66ac00d8a7f",
    "_uuid": "2bb5a8b3-aed9-4b1e-850b-1f8d255f43bf",
    "collapsed": false,
    "execution": {
     "iopub.execute_input": "2024-08-20T00:48:01.253315Z",
     "iopub.status.busy": "2024-08-20T00:48:01.252941Z",
     "iopub.status.idle": "2024-08-20T00:48:30.709924Z",
     "shell.execute_reply": "2024-08-20T00:48:30.708660Z",
     "shell.execute_reply.started": "2024-08-20T00:48:01.253285Z"
    },
    "jupyter": {
     "outputs_hidden": false
    }
   },
   "outputs": [
    {
     "name": "stdout",
     "output_type": "stream",
     "text": [
      "CPU times: user 29 s, sys: 496 ms, total: 29.5 s\n",
      "Wall time: 29.4 s\n"
     ]
    }
   ],
   "source": [
    "%%time\n",
    "# name, item_description, seq_item_description, seq_name, name_len, desc_lenを数値に変換\n",
    "train['name'] = le.fit_transform(train['name'])\n",
    "train['item_description'] = le.fit_transform(train['item_description'])\n",
    "test['name'] = le.fit_transform(test['name'])\n",
    "test['item_description'] = le.fit_transform(test['item_description'])\n",
    "train['seq_item_description'] = le.fit_transform(train['seq_item_description'])\n",
    "train['seq_name'] = le.fit_transform(train['seq_name'])\n",
    "train['name_len'] = le.fit_transform(train['name_len'])\n",
    "train['desc_len'] = le.fit_transform(train['desc_len'])"
   ]
  },
  {
   "cell_type": "code",
   "execution_count": 35,
   "metadata": {
    "_cell_guid": "a394948e-7765-4485-a8d0-523a8ac3f28f",
    "_uuid": "32bb95a2-a057-49e3-adfb-da07de4ebc41",
    "collapsed": false,
    "execution": {
     "iopub.execute_input": "2024-08-20T00:48:30.711989Z",
     "iopub.status.busy": "2024-08-20T00:48:30.711568Z",
     "iopub.status.idle": "2024-08-20T00:48:30.757738Z",
     "shell.execute_reply": "2024-08-20T00:48:30.756656Z",
     "shell.execute_reply.started": "2024-08-20T00:48:30.711953Z"
    },
    "jupyter": {
     "outputs_hidden": false
    }
   },
   "outputs": [
    {
     "name": "stdout",
     "output_type": "stream",
     "text": [
      "(1481661, 15)\n",
      "<class 'pandas.core.frame.DataFrame'>\n",
      "Index: 1481661 entries, 0 to 1482534\n",
      "Data columns (total 15 columns):\n",
      " #   Column                Non-Null Count    Dtype  \n",
      "---  ------                --------------    -----  \n",
      " 0   train_id              1481661 non-null  int64  \n",
      " 1   name                  1481661 non-null  int64  \n",
      " 2   item_condition_id     1481661 non-null  int64  \n",
      " 3   category_name         1481661 non-null  int64  \n",
      " 4   brand_name            1481661 non-null  int64  \n",
      " 5   price                 1481661 non-null  float64\n",
      " 6   shipping              1481661 non-null  int64  \n",
      " 7   item_description      1481661 non-null  int64  \n",
      " 8   general_cat           1481661 non-null  int64  \n",
      " 9   sub_cat1              1481661 non-null  int64  \n",
      " 10  sub_cat2              1481661 non-null  int64  \n",
      " 11  seq_item_description  1481661 non-null  int64  \n",
      " 12  seq_name              1481661 non-null  int64  \n",
      " 13  name_len              1481661 non-null  int64  \n",
      " 14  desc_len              1481661 non-null  int64  \n",
      "dtypes: float64(1), int64(14)\n",
      "memory usage: 180.9 MB\n",
      "None\n"
     ]
    },
    {
     "data": {
      "text/html": [
       "<div>\n",
       "<style scoped>\n",
       "    .dataframe tbody tr th:only-of-type {\n",
       "        vertical-align: middle;\n",
       "    }\n",
       "\n",
       "    .dataframe tbody tr th {\n",
       "        vertical-align: top;\n",
       "    }\n",
       "\n",
       "    .dataframe thead th {\n",
       "        text-align: right;\n",
       "    }\n",
       "</style>\n",
       "<table border=\"1\" class=\"dataframe\">\n",
       "  <thead>\n",
       "    <tr style=\"text-align: right;\">\n",
       "      <th></th>\n",
       "      <th>train_id</th>\n",
       "      <th>name</th>\n",
       "      <th>item_condition_id</th>\n",
       "      <th>category_name</th>\n",
       "      <th>brand_name</th>\n",
       "      <th>price</th>\n",
       "      <th>shipping</th>\n",
       "      <th>item_description</th>\n",
       "      <th>general_cat</th>\n",
       "      <th>sub_cat1</th>\n",
       "      <th>sub_cat2</th>\n",
       "      <th>seq_item_description</th>\n",
       "      <th>seq_name</th>\n",
       "      <th>name_len</th>\n",
       "      <th>desc_len</th>\n",
       "    </tr>\n",
       "  </thead>\n",
       "  <tbody>\n",
       "    <tr>\n",
       "      <th>0</th>\n",
       "      <td>0</td>\n",
       "      <td>640448</td>\n",
       "      <td>3</td>\n",
       "      <td>829</td>\n",
       "      <td>5263</td>\n",
       "      <td>10.0</td>\n",
       "      <td>1</td>\n",
       "      <td>806116</td>\n",
       "      <td>5</td>\n",
       "      <td>103</td>\n",
       "      <td>774</td>\n",
       "      <td>77041</td>\n",
       "      <td>679112</td>\n",
       "      <td>6</td>\n",
       "      <td>0</td>\n",
       "    </tr>\n",
       "    <tr>\n",
       "      <th>1</th>\n",
       "      <td>1</td>\n",
       "      <td>903436</td>\n",
       "      <td>3</td>\n",
       "      <td>86</td>\n",
       "      <td>3887</td>\n",
       "      <td>52.0</td>\n",
       "      <td>0</td>\n",
       "      <td>1090221</td>\n",
       "      <td>1</td>\n",
       "      <td>30</td>\n",
       "      <td>215</td>\n",
       "      <td>572087</td>\n",
       "      <td>66776</td>\n",
       "      <td>3</td>\n",
       "      <td>36</td>\n",
       "    </tr>\n",
       "    <tr>\n",
       "      <th>2</th>\n",
       "      <td>2</td>\n",
       "      <td>91487</td>\n",
       "      <td>1</td>\n",
       "      <td>1277</td>\n",
       "      <td>4586</td>\n",
       "      <td>10.0</td>\n",
       "      <td>1</td>\n",
       "      <td>115208</td>\n",
       "      <td>10</td>\n",
       "      <td>104</td>\n",
       "      <td>97</td>\n",
       "      <td>1003484</td>\n",
       "      <td>1009530</td>\n",
       "      <td>1</td>\n",
       "      <td>29</td>\n",
       "    </tr>\n",
       "    <tr>\n",
       "      <th>3</th>\n",
       "      <td>3</td>\n",
       "      <td>560823</td>\n",
       "      <td>1</td>\n",
       "      <td>503</td>\n",
       "      <td>5263</td>\n",
       "      <td>35.0</td>\n",
       "      <td>1</td>\n",
       "      <td>781825</td>\n",
       "      <td>3</td>\n",
       "      <td>55</td>\n",
       "      <td>410</td>\n",
       "      <td>907904</td>\n",
       "      <td>293663</td>\n",
       "      <td>2</td>\n",
       "      <td>32</td>\n",
       "    </tr>\n",
       "    <tr>\n",
       "      <th>4</th>\n",
       "      <td>4</td>\n",
       "      <td>45459</td>\n",
       "      <td>1</td>\n",
       "      <td>1204</td>\n",
       "      <td>5263</td>\n",
       "      <td>44.0</td>\n",
       "      <td>0</td>\n",
       "      <td>366431</td>\n",
       "      <td>10</td>\n",
       "      <td>58</td>\n",
       "      <td>542</td>\n",
       "      <td>1155044</td>\n",
       "      <td>782361</td>\n",
       "      <td>3</td>\n",
       "      <td>5</td>\n",
       "    </tr>\n",
       "  </tbody>\n",
       "</table>\n",
       "</div>"
      ],
      "text/plain": [
       "   train_id    name  item_condition_id  category_name  brand_name  price  \\\n",
       "0         0  640448                  3            829        5263   10.0   \n",
       "1         1  903436                  3             86        3887   52.0   \n",
       "2         2   91487                  1           1277        4586   10.0   \n",
       "3         3  560823                  1            503        5263   35.0   \n",
       "4         4   45459                  1           1204        5263   44.0   \n",
       "\n",
       "   shipping  item_description  general_cat  sub_cat1  sub_cat2  \\\n",
       "0         1            806116            5       103       774   \n",
       "1         0           1090221            1        30       215   \n",
       "2         1            115208           10       104        97   \n",
       "3         1            781825            3        55       410   \n",
       "4         0            366431           10        58       542   \n",
       "\n",
       "   seq_item_description  seq_name  name_len  desc_len  \n",
       "0                 77041    679112         6         0  \n",
       "1                572087     66776         3        36  \n",
       "2               1003484   1009530         1        29  \n",
       "3                907904    293663         2        32  \n",
       "4               1155044    782361         3         5  "
      ]
     },
     "metadata": {},
     "output_type": "display_data"
    }
   ],
   "source": [
    "print(train.shape)\n",
    "print(train.info())\n",
    "display(train.head())"
   ]
  },
  {
   "cell_type": "code",
   "execution_count": 36,
   "metadata": {
    "_cell_guid": "7b225827-61bc-4313-ab8d-bdad906ae184",
    "_uuid": "ec174e84-65c1-4898-94a1-eed2ae12b9a3",
    "collapsed": false,
    "execution": {
     "iopub.execute_input": "2024-08-20T00:48:30.759309Z",
     "iopub.status.busy": "2024-08-20T00:48:30.758977Z",
     "iopub.status.idle": "2024-08-20T00:48:30.797984Z",
     "shell.execute_reply": "2024-08-20T00:48:30.796961Z",
     "shell.execute_reply.started": "2024-08-20T00:48:30.759283Z"
    },
    "jupyter": {
     "outputs_hidden": false
    }
   },
   "outputs": [
    {
     "name": "stdout",
     "output_type": "stream",
     "text": [
      "(693359, 15)\n",
      "<class 'pandas.core.frame.DataFrame'>\n",
      "Index: 693359 entries, 0 to 693358\n",
      "Data columns (total 15 columns):\n",
      " #   Column                Non-Null Count   Dtype   \n",
      "---  ------                --------------   -----   \n",
      " 0   test_id               693359 non-null  int64   \n",
      " 1   name                  693359 non-null  int64   \n",
      " 2   item_condition_id     693359 non-null  int64   \n",
      " 3   category_name         693359 non-null  int64   \n",
      " 4   brand_name            693359 non-null  int64   \n",
      " 5   price                 0 non-null       float64 \n",
      " 6   shipping              693359 non-null  int64   \n",
      " 7   item_description      693359 non-null  int64   \n",
      " 8   general_cat           693359 non-null  int64   \n",
      " 9   sub_cat1              693359 non-null  int64   \n",
      " 10  sub_cat2              693359 non-null  int64   \n",
      " 11  seq_item_description  693359 non-null  category\n",
      " 12  seq_name              693359 non-null  category\n",
      " 13  name_len              693359 non-null  int64   \n",
      " 14  desc_len              693359 non-null  int64   \n",
      "dtypes: category(2), float64(1), int64(12)\n",
      "memory usage: 202.1 MB\n",
      "None\n"
     ]
    },
    {
     "data": {
      "text/html": [
       "<div>\n",
       "<style scoped>\n",
       "    .dataframe tbody tr th:only-of-type {\n",
       "        vertical-align: middle;\n",
       "    }\n",
       "\n",
       "    .dataframe tbody tr th {\n",
       "        vertical-align: top;\n",
       "    }\n",
       "\n",
       "    .dataframe thead th {\n",
       "        text-align: right;\n",
       "    }\n",
       "</style>\n",
       "<table border=\"1\" class=\"dataframe\">\n",
       "  <thead>\n",
       "    <tr style=\"text-align: right;\">\n",
       "      <th></th>\n",
       "      <th>test_id</th>\n",
       "      <th>name</th>\n",
       "      <th>item_condition_id</th>\n",
       "      <th>category_name</th>\n",
       "      <th>brand_name</th>\n",
       "      <th>price</th>\n",
       "      <th>shipping</th>\n",
       "      <th>item_description</th>\n",
       "      <th>general_cat</th>\n",
       "      <th>sub_cat1</th>\n",
       "      <th>sub_cat2</th>\n",
       "      <th>seq_item_description</th>\n",
       "      <th>seq_name</th>\n",
       "      <th>name_len</th>\n",
       "      <th>desc_len</th>\n",
       "    </tr>\n",
       "  </thead>\n",
       "  <tbody>\n",
       "    <tr>\n",
       "      <th>0</th>\n",
       "      <td>0</td>\n",
       "      <td>110376</td>\n",
       "      <td>1</td>\n",
       "      <td>1205</td>\n",
       "      <td>5263</td>\n",
       "      <td>NaN</td>\n",
       "      <td>1</td>\n",
       "      <td>457436</td>\n",
       "      <td>10</td>\n",
       "      <td>58</td>\n",
       "      <td>667</td>\n",
       "      <td>[6, 64]</td>\n",
       "      <td>[1789, 3475, 15, 5555, 51, 4, 266, 263]</td>\n",
       "      <td>8</td>\n",
       "      <td>2</td>\n",
       "    </tr>\n",
       "    <tr>\n",
       "      <th>1</th>\n",
       "      <td>1</td>\n",
       "      <td>21757</td>\n",
       "      <td>1</td>\n",
       "      <td>899</td>\n",
       "      <td>5263</td>\n",
       "      <td>NaN</td>\n",
       "      <td>1</td>\n",
       "      <td>31753</td>\n",
       "      <td>7</td>\n",
       "      <td>72</td>\n",
       "      <td>701</td>\n",
       "      <td>[439, 802, 5, 64, 34, 9038, 5187, 616, 1024, 7...</td>\n",
       "      <td>[439, 802, 5, 64, 34, 9038, 5187, 616, 1024]</td>\n",
       "      <td>7</td>\n",
       "      <td>38</td>\n",
       "    </tr>\n",
       "    <tr>\n",
       "      <th>2</th>\n",
       "      <td>2</td>\n",
       "      <td>140281</td>\n",
       "      <td>1</td>\n",
       "      <td>1000</td>\n",
       "      <td>1093</td>\n",
       "      <td>NaN</td>\n",
       "      <td>1</td>\n",
       "      <td>125968</td>\n",
       "      <td>9</td>\n",
       "      <td>7</td>\n",
       "      <td>382</td>\n",
       "      <td>[16, 5, 315, 101, 201, 3, 21, 107, 4, 315, 3689]</td>\n",
       "      <td>[315, 101]</td>\n",
       "      <td>2</td>\n",
       "      <td>11</td>\n",
       "    </tr>\n",
       "    <tr>\n",
       "      <th>3</th>\n",
       "      <td>3</td>\n",
       "      <td>186403</td>\n",
       "      <td>2</td>\n",
       "      <td>1256</td>\n",
       "      <td>5263</td>\n",
       "      <td>NaN</td>\n",
       "      <td>0</td>\n",
       "      <td>11516</td>\n",
       "      <td>10</td>\n",
       "      <td>97</td>\n",
       "      <td>166</td>\n",
       "      <td>[281, 2230, 37, 30, 577, 1, 93, 3, 350, 1844]</td>\n",
       "      <td>[281, 2230]</td>\n",
       "      <td>2</td>\n",
       "      <td>10</td>\n",
       "    </tr>\n",
       "    <tr>\n",
       "      <th>4</th>\n",
       "      <td>4</td>\n",
       "      <td>277503</td>\n",
       "      <td>3</td>\n",
       "      <td>860</td>\n",
       "      <td>5263</td>\n",
       "      <td>NaN</td>\n",
       "      <td>1</td>\n",
       "      <td>431600</td>\n",
       "      <td>7</td>\n",
       "      <td>14</td>\n",
       "      <td>662</td>\n",
       "      <td>[98827, 473, 286, 2, 1504, 11, 4, 1093, 46, 10...</td>\n",
       "      <td>[473, 286, 5470]</td>\n",
       "      <td>3</td>\n",
       "      <td>29</td>\n",
       "    </tr>\n",
       "  </tbody>\n",
       "</table>\n",
       "</div>"
      ],
      "text/plain": [
       "   test_id    name  item_condition_id  category_name  brand_name  price  \\\n",
       "0        0  110376                  1           1205        5263    NaN   \n",
       "1        1   21757                  1            899        5263    NaN   \n",
       "2        2  140281                  1           1000        1093    NaN   \n",
       "3        3  186403                  2           1256        5263    NaN   \n",
       "4        4  277503                  3            860        5263    NaN   \n",
       "\n",
       "   shipping  item_description  general_cat  sub_cat1  sub_cat2  \\\n",
       "0         1            457436           10        58       667   \n",
       "1         1             31753            7        72       701   \n",
       "2         1            125968            9         7       382   \n",
       "3         0             11516           10        97       166   \n",
       "4         1            431600            7        14       662   \n",
       "\n",
       "                                seq_item_description  \\\n",
       "0                                            [6, 64]   \n",
       "1  [439, 802, 5, 64, 34, 9038, 5187, 616, 1024, 7...   \n",
       "2   [16, 5, 315, 101, 201, 3, 21, 107, 4, 315, 3689]   \n",
       "3      [281, 2230, 37, 30, 577, 1, 93, 3, 350, 1844]   \n",
       "4  [98827, 473, 286, 2, 1504, 11, 4, 1093, 46, 10...   \n",
       "\n",
       "                                       seq_name  name_len  desc_len  \n",
       "0       [1789, 3475, 15, 5555, 51, 4, 266, 263]         8         2  \n",
       "1  [439, 802, 5, 64, 34, 9038, 5187, 616, 1024]         7        38  \n",
       "2                                    [315, 101]         2        11  \n",
       "3                                   [281, 2230]         2        10  \n",
       "4                              [473, 286, 5470]         3        29  "
      ]
     },
     "metadata": {},
     "output_type": "display_data"
    }
   ],
   "source": [
    "print(test.shape)\n",
    "print(test.info())\n",
    "display(test.head())"
   ]
  },
  {
   "cell_type": "code",
   "execution_count": 37,
   "metadata": {
    "_cell_guid": "142a4052-843a-42d5-8d91-d8ff3b56bb76",
    "_uuid": "299b8bda-a524-42e1-80f0-b9b365a462ff",
    "collapsed": false,
    "execution": {
     "iopub.execute_input": "2024-08-20T00:48:30.799839Z",
     "iopub.status.busy": "2024-08-20T00:48:30.799438Z",
     "iopub.status.idle": "2024-08-20T00:48:30.838872Z",
     "shell.execute_reply": "2024-08-20T00:48:30.837767Z",
     "shell.execute_reply.started": "2024-08-20T00:48:30.799804Z"
    },
    "jupyter": {
     "outputs_hidden": false
    }
   },
   "outputs": [
    {
     "name": "stdout",
     "output_type": "stream",
     "text": [
      "train_id                0\n",
      "name                    0\n",
      "item_condition_id       0\n",
      "category_name           0\n",
      "brand_name              0\n",
      "price                   0\n",
      "shipping                0\n",
      "item_description        0\n",
      "general_cat             0\n",
      "sub_cat1                0\n",
      "sub_cat2                0\n",
      "seq_item_description    0\n",
      "seq_name                0\n",
      "name_len                0\n",
      "desc_len                0\n",
      "dtype: int64\n",
      "test_id                      0\n",
      "name                         0\n",
      "item_condition_id            0\n",
      "category_name                0\n",
      "brand_name                   0\n",
      "price                   693359\n",
      "shipping                     0\n",
      "item_description             0\n",
      "general_cat                  0\n",
      "sub_cat1                     0\n",
      "sub_cat2                     0\n",
      "seq_item_description         0\n",
      "seq_name                     0\n",
      "name_len                     0\n",
      "desc_len                     0\n",
      "dtype: int64\n"
     ]
    }
   ],
   "source": [
    "# 欠損値が残っていないか確認\n",
    "print(train.isnull().sum())\n",
    "print(test.isnull().sum())"
   ]
  },
  {
   "cell_type": "markdown",
   "metadata": {
    "_cell_guid": "b57b63fe-db72-475e-b4aa-ef4885d09dde",
    "_uuid": "9703b069-dbac-43bd-ac47-8f17701f03ec"
   },
   "source": [
    "#### 前処理後データの保存"
   ]
  },
  {
   "cell_type": "code",
   "execution_count": 38,
   "metadata": {
    "_cell_guid": "f09b951d-7e74-4a4c-82f9-c2ba1285546d",
    "_uuid": "cfd8df0b-36d1-4c32-a51e-2d554f1dba44",
    "collapsed": false,
    "execution": {
     "iopub.execute_input": "2024-08-20T00:48:30.840675Z",
     "iopub.status.busy": "2024-08-20T00:48:30.840286Z",
     "iopub.status.idle": "2024-08-20T00:49:07.056616Z",
     "shell.execute_reply": "2024-08-20T00:49:07.055518Z",
     "shell.execute_reply.started": "2024-08-20T00:48:30.840641Z"
    },
    "jupyter": {
     "outputs_hidden": false
    }
   },
   "outputs": [],
   "source": [
    "train.to_csv('train_preprocessed.csv', index=False)\n",
    "test.to_csv('test_preprocessed.csv', index=False)"
   ]
  },
  {
   "cell_type": "markdown",
   "metadata": {
    "_cell_guid": "ca451aa3-eb4c-4e4a-b8a6-469cd53abe35",
    "_uuid": "6bb5d7d2-8c70-4670-87e4-92718bc53c8a"
   },
   "source": [
    "#### -------------------- 前処理終了 --------------------"
   ]
  },
  {
   "cell_type": "markdown",
   "metadata": {
    "_cell_guid": "d3894bae-96bd-4af9-9fb1-ae6871dfa661",
    "_uuid": "37cb4194-3c2b-42bc-b202-da5c84db592e"
   },
   "source": [
    "#### モデルの作成と学習"
   ]
  },
  {
   "cell_type": "markdown",
   "metadata": {
    "_cell_guid": "517076ab-9a5b-4795-914d-b0ef4d25dba0",
    "_uuid": "ea757fe6-9963-44cd-a13c-2632fa72cc7e",
    "execution": {
     "iopub.execute_input": "2024-08-16T01:39:30.852242Z",
     "iopub.status.busy": "2024-08-16T01:39:30.851713Z",
     "iopub.status.idle": "2024-08-16T01:39:30.859367Z",
     "shell.execute_reply": "2024-08-16T01:39:30.858055Z",
     "shell.execute_reply.started": "2024-08-16T01:39:30.852204Z"
    }
   },
   "source": [
    "#### 説明変数と目的変数の数値を分ける"
   ]
  },
  {
   "cell_type": "code",
   "execution_count": 39,
   "metadata": {
    "_cell_guid": "49137007-8363-4f49-a429-a39c6996eef0",
    "_uuid": "0870c03e-124f-486f-9e94-ab39c9dd02e1",
    "collapsed": false,
    "execution": {
     "iopub.execute_input": "2024-08-20T00:49:07.058347Z",
     "iopub.status.busy": "2024-08-20T00:49:07.057903Z",
     "iopub.status.idle": "2024-08-20T00:49:07.286494Z",
     "shell.execute_reply": "2024-08-20T00:49:07.285465Z",
     "shell.execute_reply.started": "2024-08-20T00:49:07.058310Z"
    },
    "jupyter": {
     "outputs_hidden": false
    }
   },
   "outputs": [
    {
     "name": "stdout",
     "output_type": "stream",
     "text": [
      "X: (1481661, 13)\n"
     ]
    },
    {
     "data": {
      "text/html": [
       "<div>\n",
       "<style scoped>\n",
       "    .dataframe tbody tr th:only-of-type {\n",
       "        vertical-align: middle;\n",
       "    }\n",
       "\n",
       "    .dataframe tbody tr th {\n",
       "        vertical-align: top;\n",
       "    }\n",
       "\n",
       "    .dataframe thead th {\n",
       "        text-align: right;\n",
       "    }\n",
       "</style>\n",
       "<table border=\"1\" class=\"dataframe\">\n",
       "  <thead>\n",
       "    <tr style=\"text-align: right;\">\n",
       "      <th></th>\n",
       "      <th>name</th>\n",
       "      <th>item_condition_id</th>\n",
       "      <th>category_name</th>\n",
       "      <th>brand_name</th>\n",
       "      <th>shipping</th>\n",
       "      <th>item_description</th>\n",
       "      <th>general_cat</th>\n",
       "      <th>sub_cat1</th>\n",
       "      <th>sub_cat2</th>\n",
       "      <th>seq_item_description</th>\n",
       "      <th>seq_name</th>\n",
       "      <th>name_len</th>\n",
       "      <th>desc_len</th>\n",
       "    </tr>\n",
       "  </thead>\n",
       "  <tbody>\n",
       "    <tr>\n",
       "      <th>0</th>\n",
       "      <td>640448</td>\n",
       "      <td>3</td>\n",
       "      <td>829</td>\n",
       "      <td>5263</td>\n",
       "      <td>1</td>\n",
       "      <td>806116</td>\n",
       "      <td>5</td>\n",
       "      <td>103</td>\n",
       "      <td>774</td>\n",
       "      <td>77041</td>\n",
       "      <td>679112</td>\n",
       "      <td>6</td>\n",
       "      <td>0</td>\n",
       "    </tr>\n",
       "    <tr>\n",
       "      <th>1</th>\n",
       "      <td>903436</td>\n",
       "      <td>3</td>\n",
       "      <td>86</td>\n",
       "      <td>3887</td>\n",
       "      <td>0</td>\n",
       "      <td>1090221</td>\n",
       "      <td>1</td>\n",
       "      <td>30</td>\n",
       "      <td>215</td>\n",
       "      <td>572087</td>\n",
       "      <td>66776</td>\n",
       "      <td>3</td>\n",
       "      <td>36</td>\n",
       "    </tr>\n",
       "    <tr>\n",
       "      <th>2</th>\n",
       "      <td>91487</td>\n",
       "      <td>1</td>\n",
       "      <td>1277</td>\n",
       "      <td>4586</td>\n",
       "      <td>1</td>\n",
       "      <td>115208</td>\n",
       "      <td>10</td>\n",
       "      <td>104</td>\n",
       "      <td>97</td>\n",
       "      <td>1003484</td>\n",
       "      <td>1009530</td>\n",
       "      <td>1</td>\n",
       "      <td>29</td>\n",
       "    </tr>\n",
       "    <tr>\n",
       "      <th>3</th>\n",
       "      <td>560823</td>\n",
       "      <td>1</td>\n",
       "      <td>503</td>\n",
       "      <td>5263</td>\n",
       "      <td>1</td>\n",
       "      <td>781825</td>\n",
       "      <td>3</td>\n",
       "      <td>55</td>\n",
       "      <td>410</td>\n",
       "      <td>907904</td>\n",
       "      <td>293663</td>\n",
       "      <td>2</td>\n",
       "      <td>32</td>\n",
       "    </tr>\n",
       "    <tr>\n",
       "      <th>4</th>\n",
       "      <td>45459</td>\n",
       "      <td>1</td>\n",
       "      <td>1204</td>\n",
       "      <td>5263</td>\n",
       "      <td>0</td>\n",
       "      <td>366431</td>\n",
       "      <td>10</td>\n",
       "      <td>58</td>\n",
       "      <td>542</td>\n",
       "      <td>1155044</td>\n",
       "      <td>782361</td>\n",
       "      <td>3</td>\n",
       "      <td>5</td>\n",
       "    </tr>\n",
       "  </tbody>\n",
       "</table>\n",
       "</div>"
      ],
      "text/plain": [
       "     name  item_condition_id  category_name  brand_name  shipping  \\\n",
       "0  640448                  3            829        5263         1   \n",
       "1  903436                  3             86        3887         0   \n",
       "2   91487                  1           1277        4586         1   \n",
       "3  560823                  1            503        5263         1   \n",
       "4   45459                  1           1204        5263         0   \n",
       "\n",
       "   item_description  general_cat  sub_cat1  sub_cat2  seq_item_description  \\\n",
       "0            806116            5       103       774                 77041   \n",
       "1           1090221            1        30       215                572087   \n",
       "2            115208           10       104        97               1003484   \n",
       "3            781825            3        55       410                907904   \n",
       "4            366431           10        58       542               1155044   \n",
       "\n",
       "   seq_name  name_len  desc_len  \n",
       "0    679112         6         0  \n",
       "1     66776         3        36  \n",
       "2   1009530         1        29  \n",
       "3    293663         2        32  \n",
       "4    782361         3         5  "
      ]
     },
     "metadata": {},
     "output_type": "display_data"
    },
    {
     "name": "stdout",
     "output_type": "stream",
     "text": [
      "y: (1481661,)\n",
      "0    10.0\n",
      "1    52.0\n",
      "2    10.0\n",
      "3    35.0\n",
      "4    44.0\n",
      "Name: price, dtype: float64\n"
     ]
    }
   ],
   "source": [
    "X = train.loc[:, 'name':].drop(columns='price') # <---\n",
    "y = train['price'] # <---\n",
    "print('X:', X.shape)\n",
    "display(X.head())\n",
    "print('y:', y.shape)\n",
    "print(y.head())"
   ]
  },
  {
   "cell_type": "markdown",
   "metadata": {
    "_cell_guid": "288926f5-9a0a-4d68-b124-47283ce934d4",
    "_uuid": "c575fffd-2cdb-4a6a-a648-7f7d38c405c5"
   },
   "source": [
    "#### Xとyのうち、7割を訓練用(train)、3割を検証用(test)に分割する\n",
    "\n",
    "本に載ってた99:1は極端すぎる、一般的には7:3"
   ]
  },
  {
   "cell_type": "code",
   "execution_count": 40,
   "metadata": {
    "_cell_guid": "92de30b5-b5a4-4422-8d7a-d60dca400334",
    "_uuid": "d322bae4-149a-4cbe-81ea-2b40daf3fc27",
    "collapsed": false,
    "execution": {
     "iopub.execute_input": "2024-08-20T00:49:07.288257Z",
     "iopub.status.busy": "2024-08-20T00:49:07.287912Z",
     "iopub.status.idle": "2024-08-20T00:49:07.854849Z",
     "shell.execute_reply": "2024-08-20T00:49:07.853689Z",
     "shell.execute_reply.started": "2024-08-20T00:49:07.288229Z"
    },
    "jupyter": {
     "outputs_hidden": false
    }
   },
   "outputs": [],
   "source": [
    "from sklearn.model_selection import train_test_split\n",
    "\n",
    "X_train, X_test, y_train, y_test = train_test_split(X, y, test_size=0.3, random_state=0)"
   ]
  },
  {
   "cell_type": "code",
   "execution_count": 41,
   "metadata": {
    "_cell_guid": "7d5727b1-68e1-4d3c-8697-afee413f7623",
    "_uuid": "0dbd1d10-6545-4423-8d0b-ea34352e1772",
    "collapsed": false,
    "execution": {
     "iopub.execute_input": "2024-08-20T00:49:07.856722Z",
     "iopub.status.busy": "2024-08-20T00:49:07.856419Z",
     "iopub.status.idle": "2024-08-20T00:49:07.862161Z",
     "shell.execute_reply": "2024-08-20T00:49:07.860967Z",
     "shell.execute_reply.started": "2024-08-20T00:49:07.856697Z"
    },
    "jupyter": {
     "outputs_hidden": false
    }
   },
   "outputs": [
    {
     "name": "stdout",
     "output_type": "stream",
     "text": [
      "(1037162, 13)\n",
      "(1037162,)\n",
      "(444499, 13)\n",
      "(444499,)\n"
     ]
    }
   ],
   "source": [
    "print(X_train.shape)\n",
    "print(y_train.shape)\n",
    "print(X_test.shape)\n",
    "print(y_test.shape)"
   ]
  },
  {
   "cell_type": "code",
   "execution_count": 42,
   "metadata": {
    "_cell_guid": "f2f4db4e-9942-4122-ad9a-cec19f23ef92",
    "_uuid": "78a04e8a-969a-4f24-84c2-26985cc927d7",
    "collapsed": false,
    "execution": {
     "iopub.execute_input": "2024-08-20T00:49:07.864197Z",
     "iopub.status.busy": "2024-08-20T00:49:07.863726Z",
     "iopub.status.idle": "2024-08-20T00:49:07.873627Z",
     "shell.execute_reply": "2024-08-20T00:49:07.872570Z",
     "shell.execute_reply.started": "2024-08-20T00:49:07.864159Z"
    },
    "jupyter": {
     "outputs_hidden": false
    }
   },
   "outputs": [],
   "source": [
    "# from sklearn.impute import SimpleImputer\n",
    "# from sklearn.preprocessing import LabelEncoder\n",
    "\n",
    "# # 文字列データを数値データに変換\n",
    "# label_encoders = {}\n",
    "# for column in X_train.columns:\n",
    "#     if X_train[column].dtype == 'object':\n",
    "#         le = LabelEncoder()\n",
    "#         X_train[column] = le.fit_transform(X_train[column].astype(str))\n",
    "#         X_val[column] = le.transform(X_val[column].astype(str))\n",
    "#         label_encoders[column] = le\n",
    "\n",
    "# # NaN値を平均値で埋める\n",
    "# imputer = SimpleImputer(strategy='mean')\n",
    "# X_train_imputed = imputer.fit_transform(X_train)\n",
    "# X_val_imputed = imputer.transform(X_val)"
   ]
  },
  {
   "cell_type": "markdown",
   "metadata": {
    "_cell_guid": "5813b794-4c8c-49d0-9a50-2dfb5332f18e",
    "_uuid": "3871b5ca-84dc-4f8a-beb6-44fe387eab19"
   },
   "source": [
    "#### モデルの学習"
   ]
  },
  {
   "cell_type": "code",
   "execution_count": 43,
   "metadata": {
    "_cell_guid": "a9433ca3-810a-4cde-a0d5-d665960c05b2",
    "_uuid": "2a70c593-549b-4567-a506-3f66f2792792",
    "collapsed": false,
    "execution": {
     "iopub.execute_input": "2024-08-20T00:49:07.875762Z",
     "iopub.status.busy": "2024-08-20T00:49:07.875351Z",
     "iopub.status.idle": "2024-08-20T00:54:05.306382Z",
     "shell.execute_reply": "2024-08-20T00:54:05.305324Z",
     "shell.execute_reply.started": "2024-08-20T00:49:07.875727Z"
    },
    "jupyter": {
     "outputs_hidden": false
    }
   },
   "outputs": [
    {
     "name": "stdout",
     "output_type": "stream",
     "text": [
      "CPU times: user 19min 8s, sys: 1.53 s, total: 19min 9s\n",
      "Wall time: 4min 57s\n"
     ]
    },
    {
     "data": {
      "text/html": [
       "<style>#sk-container-id-1 {color: black;background-color: white;}#sk-container-id-1 pre{padding: 0;}#sk-container-id-1 div.sk-toggleable {background-color: white;}#sk-container-id-1 label.sk-toggleable__label {cursor: pointer;display: block;width: 100%;margin-bottom: 0;padding: 0.3em;box-sizing: border-box;text-align: center;}#sk-container-id-1 label.sk-toggleable__label-arrow:before {content: \"▸\";float: left;margin-right: 0.25em;color: #696969;}#sk-container-id-1 label.sk-toggleable__label-arrow:hover:before {color: black;}#sk-container-id-1 div.sk-estimator:hover label.sk-toggleable__label-arrow:before {color: black;}#sk-container-id-1 div.sk-toggleable__content {max-height: 0;max-width: 0;overflow: hidden;text-align: left;background-color: #f0f8ff;}#sk-container-id-1 div.sk-toggleable__content pre {margin: 0.2em;color: black;border-radius: 0.25em;background-color: #f0f8ff;}#sk-container-id-1 input.sk-toggleable__control:checked~div.sk-toggleable__content {max-height: 200px;max-width: 100%;overflow: auto;}#sk-container-id-1 input.sk-toggleable__control:checked~label.sk-toggleable__label-arrow:before {content: \"▾\";}#sk-container-id-1 div.sk-estimator input.sk-toggleable__control:checked~label.sk-toggleable__label {background-color: #d4ebff;}#sk-container-id-1 div.sk-label input.sk-toggleable__control:checked~label.sk-toggleable__label {background-color: #d4ebff;}#sk-container-id-1 input.sk-hidden--visually {border: 0;clip: rect(1px 1px 1px 1px);clip: rect(1px, 1px, 1px, 1px);height: 1px;margin: -1px;overflow: hidden;padding: 0;position: absolute;width: 1px;}#sk-container-id-1 div.sk-estimator {font-family: monospace;background-color: #f0f8ff;border: 1px dotted black;border-radius: 0.25em;box-sizing: border-box;margin-bottom: 0.5em;}#sk-container-id-1 div.sk-estimator:hover {background-color: #d4ebff;}#sk-container-id-1 div.sk-parallel-item::after {content: \"\";width: 100%;border-bottom: 1px solid gray;flex-grow: 1;}#sk-container-id-1 div.sk-label:hover label.sk-toggleable__label {background-color: #d4ebff;}#sk-container-id-1 div.sk-serial::before {content: \"\";position: absolute;border-left: 1px solid gray;box-sizing: border-box;top: 0;bottom: 0;left: 50%;z-index: 0;}#sk-container-id-1 div.sk-serial {display: flex;flex-direction: column;align-items: center;background-color: white;padding-right: 0.2em;padding-left: 0.2em;position: relative;}#sk-container-id-1 div.sk-item {position: relative;z-index: 1;}#sk-container-id-1 div.sk-parallel {display: flex;align-items: stretch;justify-content: center;background-color: white;position: relative;}#sk-container-id-1 div.sk-item::before, #sk-container-id-1 div.sk-parallel-item::before {content: \"\";position: absolute;border-left: 1px solid gray;box-sizing: border-box;top: 0;bottom: 0;left: 50%;z-index: -1;}#sk-container-id-1 div.sk-parallel-item {display: flex;flex-direction: column;z-index: 1;position: relative;background-color: white;}#sk-container-id-1 div.sk-parallel-item:first-child::after {align-self: flex-end;width: 50%;}#sk-container-id-1 div.sk-parallel-item:last-child::after {align-self: flex-start;width: 50%;}#sk-container-id-1 div.sk-parallel-item:only-child::after {width: 0;}#sk-container-id-1 div.sk-dashed-wrapped {border: 1px dashed gray;margin: 0 0.4em 0.5em 0.4em;box-sizing: border-box;padding-bottom: 0.4em;background-color: white;}#sk-container-id-1 div.sk-label label {font-family: monospace;font-weight: bold;display: inline-block;line-height: 1.2em;}#sk-container-id-1 div.sk-label-container {text-align: center;}#sk-container-id-1 div.sk-container {/* jupyter's `normalize.less` sets `[hidden] { display: none; }` but bootstrap.min.css set `[hidden] { display: none !important; }` so we also need the `!important` here to be able to override the default hidden behavior on the sphinx rendered scikit-learn.org. See: https://github.com/scikit-learn/scikit-learn/issues/21755 */display: inline-block !important;position: relative;}#sk-container-id-1 div.sk-text-repr-fallback {display: none;}</style><div id=\"sk-container-id-1\" class=\"sk-top-container\"><div class=\"sk-text-repr-fallback\"><pre>RandomForestRegressor(max_depth=10, n_jobs=-1, random_state=0)</pre><b>In a Jupyter environment, please rerun this cell to show the HTML representation or trust the notebook. <br />On GitHub, the HTML representation is unable to render, please try loading this page with nbviewer.org.</b></div><div class=\"sk-container\" hidden><div class=\"sk-item\"><div class=\"sk-estimator sk-toggleable\"><input class=\"sk-toggleable__control sk-hidden--visually\" id=\"sk-estimator-id-1\" type=\"checkbox\" checked><label for=\"sk-estimator-id-1\" class=\"sk-toggleable__label sk-toggleable__label-arrow\">RandomForestRegressor</label><div class=\"sk-toggleable__content\"><pre>RandomForestRegressor(max_depth=10, n_jobs=-1, random_state=0)</pre></div></div></div></div></div>"
      ],
      "text/plain": [
       "RandomForestRegressor(max_depth=10, n_jobs=-1, random_state=0)"
      ]
     },
     "execution_count": 43,
     "metadata": {},
     "output_type": "execute_result"
    }
   ],
   "source": [
    "%%time\n",
    "from sklearn.ensemble import RandomForestRegressor\n",
    "\n",
    "rfr = RandomForestRegressor(n_estimators=100, max_depth=10, random_state=0, n_jobs=-1)\n",
    "rfr.fit(X_train, y_train)"
   ]
  },
  {
   "cell_type": "markdown",
   "metadata": {
    "_cell_guid": "d9e0623e-80f7-4d90-9ad8-7bcd90a95cd3",
    "_uuid": "b008a777-7e74-4276-9401-61e54232bc9b",
    "execution": {
     "iopub.execute_input": "2024-08-15T12:41:11.856205Z",
     "iopub.status.busy": "2024-08-15T12:41:11.855761Z",
     "iopub.status.idle": "2024-08-15T12:41:11.861765Z",
     "shell.execute_reply": "2024-08-15T12:41:11.860306Z",
     "shell.execute_reply.started": "2024-08-15T12:41:11.856172Z"
    }
   },
   "source": [
    "#### モデルの特徴重要度"
   ]
  },
  {
   "cell_type": "code",
   "execution_count": 44,
   "metadata": {
    "_cell_guid": "4727646c-e227-487d-97c2-c6ecd38cb933",
    "_uuid": "ef032254-5a7a-4a73-ae3e-6c5b5e65603f",
    "collapsed": false,
    "execution": {
     "iopub.execute_input": "2024-08-20T00:54:05.308083Z",
     "iopub.status.busy": "2024-08-20T00:54:05.307747Z",
     "iopub.status.idle": "2024-08-20T00:54:05.353205Z",
     "shell.execute_reply": "2024-08-20T00:54:05.351931Z",
     "shell.execute_reply.started": "2024-08-20T00:54:05.308055Z"
    },
    "jupyter": {
     "outputs_hidden": false
    }
   },
   "outputs": [
    {
     "name": "stdout",
     "output_type": "stream",
     "text": [
      "category_name           0.226795\n",
      "brand_name              0.222343\n",
      "sub_cat1                0.100545\n",
      "seq_name                0.091576\n",
      "sub_cat2                0.069028\n",
      "item_condition_id       0.065706\n",
      "desc_len                0.058083\n",
      "name                    0.055456\n",
      "item_description        0.037525\n",
      "seq_item_description    0.034784\n",
      "name_len                0.018124\n",
      "shipping                0.017323\n",
      "general_cat             0.002712\n",
      "dtype: float64\n"
     ]
    }
   ],
   "source": [
    "ser_fi = pd.Series(rfr.feature_importances_, index=X_train.columns)\n",
    "print(ser_fi.sort_values(ascending=False))"
   ]
  },
  {
   "cell_type": "code",
   "execution_count": 45,
   "metadata": {
    "_cell_guid": "587dad75-5a88-4599-9efe-28d763139c83",
    "_uuid": "becd5c88-741b-4041-86c4-c7d61e4b17e9",
    "collapsed": false,
    "execution": {
     "iopub.execute_input": "2024-08-20T00:54:05.355012Z",
     "iopub.status.busy": "2024-08-20T00:54:05.354638Z",
     "iopub.status.idle": "2024-08-20T00:54:05.695697Z",
     "shell.execute_reply": "2024-08-20T00:54:05.694654Z",
     "shell.execute_reply.started": "2024-08-20T00:54:05.354984Z"
    },
    "jupyter": {
     "outputs_hidden": false
    }
   },
   "outputs": [
    {
     "data": {
      "image/png": "[encoded data removed]",
      "text/plain": [
       "<Figure size 640x480 with 1 Axes>"
      ]
     },
     "metadata": {},
     "output_type": "display_data"
    }
   ],
   "source": [
    "plt.bar(X_train.columns, rfr.feature_importances_)\n",
    "plt.ylabel('Importance')\n",
    "plt.xticks(rotation=90)\n",
    "plt.show()"
   ]
  },
  {
   "cell_type": "markdown",
   "metadata": {
    "_cell_guid": "2c175fce-b5ad-4d1c-ad37-0214ed365055",
    "_uuid": "c8c86f22-b6a7-49b4-94e4-14f1c9ab191e"
   },
   "source": [
    "#### 訓練データに対する予測"
   ]
  },
  {
   "cell_type": "code",
   "execution_count": 46,
   "metadata": {
    "_cell_guid": "fe324193-a479-49cd-83fb-b5cdafb2bd6b",
    "_uuid": "1225301d-59ea-492d-87a0-57e9cd589c2b",
    "collapsed": false,
    "execution": {
     "iopub.execute_input": "2024-08-20T00:54:05.697608Z",
     "iopub.status.busy": "2024-08-20T00:54:05.697259Z",
     "iopub.status.idle": "2024-08-20T00:54:08.651219Z",
     "shell.execute_reply": "2024-08-20T00:54:08.650127Z",
     "shell.execute_reply.started": "2024-08-20T00:54:05.697581Z"
    },
    "jupyter": {
     "outputs_hidden": false
    }
   },
   "outputs": [],
   "source": [
    "y_train_pred = rfr.predict(X_train)"
   ]
  },
  {
   "cell_type": "code",
   "execution_count": 47,
   "metadata": {
    "_cell_guid": "ac12fcff-db86-48c5-8102-684c7297c10f",
    "_uuid": "d945bbc3-4e0d-40c7-b756-b3af3cf33b4d",
    "collapsed": false,
    "execution": {
     "iopub.execute_input": "2024-08-20T00:54:08.653567Z",
     "iopub.status.busy": "2024-08-20T00:54:08.652734Z",
     "iopub.status.idle": "2024-08-20T00:54:08.671914Z",
     "shell.execute_reply": "2024-08-20T00:54:08.670998Z",
     "shell.execute_reply.started": "2024-08-20T00:54:08.653528Z"
    },
    "jupyter": {
     "outputs_hidden": false
    }
   },
   "outputs": [],
   "source": [
    "y_min = np.append(y_train_pred, y_train).min()\n",
    "y_max = np.append(y_train_pred, y_train).max()\n",
    "y_margin = (y_max - y_min) * 0.1\n",
    "y_min -= y_margin\n",
    "y_max += y_margin"
   ]
  },
  {
   "cell_type": "code",
   "execution_count": 48,
   "metadata": {
    "_cell_guid": "7fb188c2-f9d6-421d-a384-e85fe11531da",
    "_uuid": "542188a7-0d8c-4f28-98c9-93e0689863ac",
    "collapsed": false,
    "execution": {
     "iopub.execute_input": "2024-08-20T00:54:08.673358Z",
     "iopub.status.busy": "2024-08-20T00:54:08.673030Z",
     "iopub.status.idle": "2024-08-20T00:54:11.606259Z",
     "shell.execute_reply": "2024-08-20T00:54:11.604974Z",
     "shell.execute_reply.started": "2024-08-20T00:54:08.673332Z"
    },
    "jupyter": {
     "outputs_hidden": false
    }
   },
   "outputs": [
    {
     "data": {
      "image/png": "[encoded data removed]",
      "text/plain": [
       "<Figure size 640x480 with 1 Axes>"
      ]
     },
     "metadata": {},
     "output_type": "display_data"
    }
   ],
   "source": [
    "plt.scatter(y_train_pred, y_train, alpha=0.3)\n",
    "plt.plot([y_min,y_max], [y_min,y_max])\n",
    "plt.gca().set_aspect('equal', adjustable='box')\n",
    "plt.xlim(y_min, y_max)\n",
    "plt.ylim(y_min, y_max)\n",
    "plt.title('Train data')\n",
    "plt.xlabel('Pred')\n",
    "plt.ylabel('True')\n",
    "plt.show()"
   ]
  },
  {
   "cell_type": "code",
   "execution_count": 64,
   "metadata": {
    "execution": {
     "iopub.execute_input": "2024-08-20T00:59:01.743214Z",
     "iopub.status.busy": "2024-08-20T00:59:01.742720Z",
     "iopub.status.idle": "2024-08-20T00:59:04.789945Z",
     "shell.execute_reply": "2024-08-20T00:59:04.788777Z",
     "shell.execute_reply.started": "2024-08-20T00:59:01.743174Z"
    }
   },
   "outputs": [
    {
     "data": {
      "image/png": "[encoded data removed]",
      "text/plain": [
       "<Figure size 640x480 with 1 Axes>"
      ]
     },
     "metadata": {},
     "output_type": "display_data"
    }
   ],
   "source": [
    "plt.scatter(y_train_pred, y_train, alpha=0.3)\n",
    "plt.plot([y_min,y_max], [y_min,y_max])\n",
    "plt.gca().set_aspect('equal', adjustable='box')\n",
    "plt.xlim(0, 400) # <---\n",
    "plt.ylim(0, 400) # <---\n",
    "plt.title('Train data')\n",
    "plt.xlabel('Pred')\n",
    "plt.ylabel('True')\n",
    "plt.show()"
   ]
  },
  {
   "cell_type": "code",
   "execution_count": 50,
   "metadata": {
    "execution": {
     "iopub.execute_input": "2024-08-20T00:54:14.498256Z",
     "iopub.status.busy": "2024-08-20T00:54:14.497510Z",
     "iopub.status.idle": "2024-08-20T00:54:14.510712Z",
     "shell.execute_reply": "2024-08-20T00:54:14.509483Z",
     "shell.execute_reply.started": "2024-08-20T00:54:14.498224Z"
    }
   },
   "outputs": [
    {
     "name": "stdout",
     "output_type": "stream",
     "text": [
      "MSE, RMSE for train data: 958.1204400897417 30.953520641273453\n"
     ]
    }
   ],
   "source": [
    "from sklearn.metrics import mean_squared_error\n",
    "\n",
    "mse = mean_squared_error(y_train, y_train_pred)\n",
    "print('MSE, RMSE for train data:', mse, np.sqrt(mse))"
   ]
  },
  {
   "cell_type": "code",
   "execution_count": 51,
   "metadata": {
    "_cell_guid": "93a29da3-a977-4348-b737-68bd37df5ba7",
    "_uuid": "1214f04e-09fa-4a83-88c8-c4d4a0b4197a",
    "collapsed": false,
    "execution": {
     "iopub.execute_input": "2024-08-20T00:54:14.512847Z",
     "iopub.status.busy": "2024-08-20T00:54:14.512099Z",
     "iopub.status.idle": "2024-08-20T00:54:14.518645Z",
     "shell.execute_reply": "2024-08-20T00:54:14.517542Z",
     "shell.execute_reply.started": "2024-08-20T00:54:14.512816Z"
    },
    "jupyter": {
     "outputs_hidden": false
    }
   },
   "outputs": [],
   "source": [
    "from sklearn.metrics import mean_squared_log_error\n",
    "\n",
    "# RMSLE関数の定義\n",
    "def rmsle(y_true, y_pred):\n",
    "    # クリップして無限大や非常に大きな値を避ける\n",
    "    y_true_clipped = np.clip(y_true, 0, np.log(np.finfo(np.float64).max))\n",
    "    y_pred_clipped = np.clip(y_pred, 0, np.log(np.finfo(np.float64).max))\n",
    "    \n",
    "    return np.sqrt(mean_squared_log_error(y_true_clipped, y_pred_clipped))"
   ]
  },
  {
   "cell_type": "code",
   "execution_count": 52,
   "metadata": {
    "_cell_guid": "99fafa5f-db10-4f0c-a42c-462f3d9935b4",
    "_uuid": "9dd7448c-d9a0-4a54-9722-85749e9e0353",
    "collapsed": false,
    "execution": {
     "iopub.execute_input": "2024-08-20T00:54:14.521250Z",
     "iopub.status.busy": "2024-08-20T00:54:14.520159Z",
     "iopub.status.idle": "2024-08-20T00:54:14.533067Z",
     "shell.execute_reply": "2024-08-20T00:54:14.531885Z",
     "shell.execute_reply.started": "2024-08-20T00:54:14.521211Z"
    },
    "jupyter": {
     "outputs_hidden": false
    }
   },
   "outputs": [],
   "source": [
    "# def rmsle(y_true, y_pred):  \n",
    "#     return np.sqrt(mean_squared_log_error(y_true, y_pred))\n",
    "\n",
    "# メモ:\n",
    "# この関数を使用すると、\n",
    "# ValueError: Input contains infinity or a value too large for dtype('float64').\n",
    "# というエラーが発生した。\n",
    "# これは np.expm1 関数の結果が無限大や非常に大きな値になるためだと考えられる。"
   ]
  },
  {
   "cell_type": "code",
   "execution_count": 53,
   "metadata": {
    "_cell_guid": "840b8862-3b9a-49f9-a9c1-23d3c2955505",
    "_uuid": "df8dfa20-1fe6-4098-9c14-11a0f8f41b81",
    "collapsed": false,
    "execution": {
     "iopub.execute_input": "2024-08-20T00:54:14.535193Z",
     "iopub.status.busy": "2024-08-20T00:54:14.534487Z",
     "iopub.status.idle": "2024-08-20T00:54:14.654235Z",
     "shell.execute_reply": "2024-08-20T00:54:14.653210Z",
     "shell.execute_reply.started": "2024-08-20T00:54:14.535127Z"
    },
    "jupyter": {
     "outputs_hidden": false
    }
   },
   "outputs": [
    {
     "name": "stdout",
     "output_type": "stream",
     "text": [
      "RMSLE for train data: 0.5381380574264878\n"
     ]
    }
   ],
   "source": [
    "# モデルの評価\n",
    "print(\"RMSLE for train data:\", rmsle(np.expm1(y_train), np.expm1(y_train_pred)))"
   ]
  },
  {
   "cell_type": "markdown",
   "metadata": {
    "_cell_guid": "bab1076f-24e0-4c9d-b969-f3c85850af97",
    "_uuid": "a28d1b98-558f-4599-923b-9dd06c848d82"
   },
   "source": [
    "#### テストデータに対する予測"
   ]
  },
  {
   "cell_type": "code",
   "execution_count": 54,
   "metadata": {
    "_cell_guid": "c9ce4e4e-94a5-4db0-86c4-e45bc1cfecdf",
    "_uuid": "a8428804-be97-4fab-b63d-b652e2dd8804",
    "collapsed": false,
    "execution": {
     "iopub.execute_input": "2024-08-20T00:54:14.655930Z",
     "iopub.status.busy": "2024-08-20T00:54:14.655552Z",
     "iopub.status.idle": "2024-08-20T00:54:15.921843Z",
     "shell.execute_reply": "2024-08-20T00:54:15.920709Z",
     "shell.execute_reply.started": "2024-08-20T00:54:14.655902Z"
    },
    "jupyter": {
     "outputs_hidden": false
    }
   },
   "outputs": [],
   "source": [
    "y_test_pred = rfr.predict(X_test)"
   ]
  },
  {
   "cell_type": "code",
   "execution_count": 55,
   "metadata": {
    "_cell_guid": "5a2f5112-0594-460a-aa64-fa793f99ff34",
    "_uuid": "4ce59cc7-8269-4684-8c01-38d499e85dc3",
    "collapsed": false,
    "execution": {
     "iopub.execute_input": "2024-08-20T00:54:15.923579Z",
     "iopub.status.busy": "2024-08-20T00:54:15.923172Z",
     "iopub.status.idle": "2024-08-20T00:54:15.932677Z",
     "shell.execute_reply": "2024-08-20T00:54:15.931654Z",
     "shell.execute_reply.started": "2024-08-20T00:54:15.923534Z"
    },
    "jupyter": {
     "outputs_hidden": false
    }
   },
   "outputs": [],
   "source": [
    "y_min = np.append(y_test_pred, y_test).min()\n",
    "y_max = np.append(y_test_pred, y_test).max()\n",
    "y_margin = (y_max - y_min) * 0.1\n",
    "y_min -= y_margin\n",
    "y_max += y_margin"
   ]
  },
  {
   "cell_type": "code",
   "execution_count": 56,
   "metadata": {
    "_cell_guid": "b46fd424-c397-4daa-a4e7-283cc97f932e",
    "_uuid": "96b223c0-4804-4ac0-85fb-0d61fedacc5e",
    "collapsed": false,
    "execution": {
     "iopub.execute_input": "2024-08-20T00:54:15.935085Z",
     "iopub.status.busy": "2024-08-20T00:54:15.934352Z",
     "iopub.status.idle": "2024-08-20T00:54:17.366926Z",
     "shell.execute_reply": "2024-08-20T00:54:17.365684Z",
     "shell.execute_reply.started": "2024-08-20T00:54:15.935046Z"
    },
    "jupyter": {
     "outputs_hidden": false
    }
   },
   "outputs": [
    {
     "data": {
      "image/png": "[encoded data removed]",
      "text/plain": [
       "<Figure size 640x480 with 1 Axes>"
      ]
     },
     "metadata": {},
     "output_type": "display_data"
    }
   ],
   "source": [
    "plt.scatter(y_test_pred, y_test, alpha=0.3)\n",
    "plt.plot([y_min,y_max], [y_min,y_max])\n",
    "plt.gca().set_aspect('equal', adjustable='box')\n",
    "plt.xlim(y_min, y_max)\n",
    "plt.ylim(y_min, y_max)\n",
    "plt.title('Test data')\n",
    "plt.xlabel('Pred')\n",
    "plt.ylabel('True')\n",
    "plt.show()"
   ]
  },
  {
   "cell_type": "code",
   "execution_count": 66,
   "metadata": {
    "execution": {
     "iopub.execute_input": "2024-08-20T01:00:42.035799Z",
     "iopub.status.busy": "2024-08-20T01:00:42.034882Z",
     "iopub.status.idle": "2024-08-20T01:00:43.514672Z",
     "shell.execute_reply": "2024-08-20T01:00:43.513438Z",
     "shell.execute_reply.started": "2024-08-20T01:00:42.035759Z"
    }
   },
   "outputs": [
    {
     "data": {
      "image/png": "[encoded data removed]",
      "text/plain": [
       "<Figure size 640x480 with 1 Axes>"
      ]
     },
     "metadata": {},
     "output_type": "display_data"
    }
   ],
   "source": [
    "plt.scatter(y_test_pred, y_test, alpha=0.3)\n",
    "plt.plot([y_min,y_max], [y_min,y_max])\n",
    "plt.gca().set_aspect('equal', adjustable='box')\n",
    "plt.xlim(0, 400) # <---\n",
    "plt.ylim(0, 400) # <---\n",
    "plt.title('Test data')\n",
    "plt.xlabel('Pred')\n",
    "plt.ylabel('True')\n",
    "plt.show()"
   ]
  },
  {
   "cell_type": "code",
   "execution_count": 58,
   "metadata": {
    "execution": {
     "iopub.execute_input": "2024-08-20T00:54:18.769823Z",
     "iopub.status.busy": "2024-08-20T00:54:18.769111Z",
     "iopub.status.idle": "2024-08-20T00:54:18.780980Z",
     "shell.execute_reply": "2024-08-20T00:54:18.779555Z",
     "shell.execute_reply.started": "2024-08-20T00:54:18.769787Z"
    }
   },
   "outputs": [
    {
     "name": "stdout",
     "output_type": "stream",
     "text": [
      "MSE, RMSE for test data: 1118.9435152289498 33.4506130770267\n"
     ]
    }
   ],
   "source": [
    "mse = mean_squared_error(y_test, y_test_pred)\n",
    "print('MSE, RMSE for test data:', mse, np.sqrt(mse))"
   ]
  },
  {
   "cell_type": "code",
   "execution_count": 59,
   "metadata": {
    "_cell_guid": "4f171adb-afb7-4a96-9416-379dd9f8cb8b",
    "_uuid": "99cfd7e4-e7d0-434d-bcfe-7d31765f30aa",
    "collapsed": false,
    "execution": {
     "iopub.execute_input": "2024-08-20T00:54:18.783033Z",
     "iopub.status.busy": "2024-08-20T00:54:18.782607Z",
     "iopub.status.idle": "2024-08-20T00:54:18.845433Z",
     "shell.execute_reply": "2024-08-20T00:54:18.844216Z",
     "shell.execute_reply.started": "2024-08-20T00:54:18.782997Z"
    },
    "jupyter": {
     "outputs_hidden": false
    }
   },
   "outputs": [
    {
     "name": "stdout",
     "output_type": "stream",
     "text": [
      "RMSLE for test data: 0.5419689640969769\n"
     ]
    }
   ],
   "source": [
    "# モデルの評価\n",
    "print(\"RMSLE for test data:\", rmsle(np.expm1(y_test), np.expm1(y_test_pred)))"
   ]
  },
  {
   "cell_type": "markdown",
   "metadata": {
    "_cell_guid": "05c63111-bcf9-4c7d-9c5e-09149985315c",
    "_uuid": "23d4223a-36de-4556-b3b4-b40d0037e018"
   },
   "source": [
    "#### モデルの保存"
   ]
  },
  {
   "cell_type": "code",
   "execution_count": 60,
   "metadata": {
    "_cell_guid": "9fea6dbe-d150-4bca-ab62-03df06d1fd27",
    "_uuid": "f2fb0408-2ced-44ee-8b34-8a11e12e6b40",
    "collapsed": false,
    "execution": {
     "iopub.execute_input": "2024-08-20T00:54:18.847584Z",
     "iopub.status.busy": "2024-08-20T00:54:18.847158Z",
     "iopub.status.idle": "2024-08-20T00:54:18.926518Z",
     "shell.execute_reply": "2024-08-20T00:54:18.925417Z",
     "shell.execute_reply.started": "2024-08-20T00:54:18.847548Z"
    },
    "jupyter": {
     "outputs_hidden": false
    }
   },
   "outputs": [
    {
     "data": {
      "text/plain": [
       "['rfr_mercari.joblib']"
      ]
     },
     "execution_count": 60,
     "metadata": {},
     "output_type": "execute_result"
    }
   ],
   "source": [
    "from joblib import dump\n",
    "\n",
    "tag = 'mercari'\n",
    "model_file = 'rfr_{}.joblib'.format(tag)\n",
    "dump(rfr, model_file)"
   ]
  },
  {
   "cell_type": "code",
   "execution_count": 61,
   "metadata": {
    "_cell_guid": "e6e547d9-1b13-44a7-9cfa-1f4e6b1fe043",
    "_uuid": "1d836e0c-8b07-433b-96bd-682afbc0e650",
    "collapsed": false,
    "execution": {
     "iopub.execute_input": "2024-08-20T00:54:18.928413Z",
     "iopub.status.busy": "2024-08-20T00:54:18.927975Z",
     "iopub.status.idle": "2024-08-20T00:54:18.940503Z",
     "shell.execute_reply": "2024-08-20T00:54:18.939198Z",
     "shell.execute_reply.started": "2024-08-20T00:54:18.928378Z"
    },
    "jupyter": {
     "outputs_hidden": false
    }
   },
   "outputs": [
    {
     "name": "stdout",
     "output_type": "stream",
     "text": [
      "0:12:59.845293\n"
     ]
    }
   ],
   "source": [
    "stop_real = datetime.now()\n",
    "execution_time_real = stop_real - start_real\n",
    "print(execution_time_real)"
   ]
  },
  {
   "cell_type": "code",
   "execution_count": null,
   "metadata": {
    "_cell_guid": "4697644d-2ed2-4801-a470-e74985f7a88c",
    "_uuid": "26324831-d894-4db8-8063-63251640f236",
    "collapsed": false,
    "jupyter": {
     "outputs_hidden": false
    }
   },
   "outputs": [],
   "source": []
  }
 ],
 "metadata": {
  "kaggle": {
   "accelerator": "none",
   "dataSources": [
    {
     "datasetId": 5545433,
     "sourceId": 9175870,
     "sourceType": "datasetVersion"
    }
   ],
   "dockerImageVersionId": 30746,
   "isGpuEnabled": false,
   "isInternetEnabled": false,
   "language": "python",
   "sourceType": "notebook"
  },
  "kernelspec": {
   "display_name": "Python 3 (ipykernel)",
   "language": "python",
   "name": "python3"
  },
  "language_info": {
   "codemirror_mode": {
    "name": "ipython",
    "version": 3
   },
   "file_extension": ".py",
   "mimetype": "text/x-python",
   "name": "python",
   "nbconvert_exporter": "python",
   "pygments_lexer": "ipython3",
   "version": "3.9.15"
  }
 },
 "nbformat": 4,
 "nbformat_minor": 4
}
