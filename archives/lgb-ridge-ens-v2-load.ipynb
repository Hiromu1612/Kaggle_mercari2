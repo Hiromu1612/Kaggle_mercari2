{
 "cells": [
  {
   "cell_type": "markdown",
   "metadata": {
    "_cell_guid": "af1d9dae-a336-4558-8200-98ce0a82acfb",
    "_uuid": "c0b2c54f-5e49-46ec-b07e-50f4ca3001d4"
   },
   "source": [
    "#### データの全体像\n",
    "train：1,482,535個のユーザーが投稿した商品\n",
    "\n",
    "test：693,359行で「価格（Price）」の項目がテストデータは含まれていないため、列数は「7」となっている \n",
    "\n",
    "* train_id / test _id – ユーザー投稿のID\n",
    "* name – 投稿のタイトル。タイトルに価格に関する情報がある場合（例：$20）はメルカリが事前に削除をして[rm]と置き換えている。\n",
    "* item_condition_id – ユーザーが指定した商品の状態(1~5,大きい方が状態が良い)\n",
    "* category_name – 投稿カテゴリー\n",
    "* brand_name – ブランドの名前\n",
    "* price – 訓練データのみ。実際に売られた価格。米ドル表示。今回のチャレンジの予測ターゲットとなる。\n",
    "* shipping – 送料のフラグ。「1」は販売者負担。「0」は購入者負担。\n",
    "* item_description – ユーザーが投稿した商品説明の全文。タイトルと同様に価格情報がある場合は[rm]と置き換えられている。"
   ]
  },
  {
   "cell_type": "code",
   "execution_count": 1,
   "metadata": {
    "execution": {
     "iopub.execute_input": "2024-10-11T12:19:55.991762Z",
     "iopub.status.busy": "2024-10-11T12:19:55.991269Z",
     "iopub.status.idle": "2024-10-11T12:19:56.028731Z",
     "shell.execute_reply": "2024-10-11T12:19:56.026627Z",
     "shell.execute_reply.started": "2024-10-11T12:19:55.991704Z"
    }
   },
   "outputs": [],
   "source": [
    "from datetime import datetime\n",
    "start_real = datetime.now() # 全体の処理時間の計測を開始する"
   ]
  },
  {
   "cell_type": "markdown",
   "metadata": {},
   "source": [
    "#### ライブラリのインポート"
   ]
  },
  {
   "cell_type": "code",
   "execution_count": 2,
   "metadata": {
    "_cell_guid": "e189abd2-46d2-4f2e-977b-50a25d3521d4",
    "_uuid": "96487335-2c48-482e-be5d-e80a6a096b5d",
    "collapsed": false,
    "execution": {
     "iopub.execute_input": "2024-10-11T12:19:56.032290Z",
     "iopub.status.busy": "2024-10-11T12:19:56.031809Z",
     "iopub.status.idle": "2024-10-11T12:19:59.897220Z",
     "shell.execute_reply": "2024-10-11T12:19:59.895663Z",
     "shell.execute_reply.started": "2024-10-11T12:19:56.032243Z"
    },
    "jupyter": {
     "outputs_hidden": false
    }
   },
   "outputs": [],
   "source": [
    "import numpy as np\n",
    "import pandas as pd\n",
    "import matplotlib.pyplot as plt\n",
    "import seaborn as sns\n",
    "from scipy.sparse import hstack\n",
    "%matplotlib inline\n",
    "\n",
    "from sklearn.feature_extraction.text import CountVectorizer, TfidfVectorizer\n",
    "from sklearn.preprocessing import OneHotEncoder\n",
    "# from scipy.sparse import save_npz, load_npz\n",
    "\n",
    "from sklearn.model_selection import train_test_split\n",
    "from joblib import load\n",
    "from sklearn.linear_model import Ridge\n",
    "from sklearn.metrics import mean_squared_log_error\n",
    "import optuna\n",
    "\n",
    "import gc\n",
    "import warnings\n",
    "warnings.simplefilter(\"ignore\")"
   ]
  },
  {
   "cell_type": "markdown",
   "metadata": {
    "_cell_guid": "19582f35-5a6a-4551-84e0-300bacebdd4c",
    "_uuid": "1ded81ac-afbf-4cbe-a8d7-5395f4536e62"
   },
   "source": [
    "#### データの読み込み"
   ]
  },
  {
   "cell_type": "code",
   "execution_count": 3,
   "metadata": {
    "_cell_guid": "b774ed87-a143-49f9-a9fc-a1877e602cfc",
    "_uuid": "6498a732-29e5-4505-b622-dfe51d096f88",
    "collapsed": false,
    "execution": {
     "iopub.execute_input": "2024-10-11T12:19:59.899493Z",
     "iopub.status.busy": "2024-10-11T12:19:59.898883Z",
     "iopub.status.idle": "2024-10-11T12:20:17.834177Z",
     "shell.execute_reply": "2024-10-11T12:20:17.832422Z",
     "shell.execute_reply.started": "2024-10-11T12:19:59.899446Z"
    },
    "jupyter": {
     "outputs_hidden": false
    }
   },
   "outputs": [
    {
     "name": "stdout",
     "output_type": "stream",
     "text": [
      "CPU times: user 11.7 s, sys: 1.81 s, total: 13.5 s\n",
      "Wall time: 17.9 s\n"
     ]
    }
   ],
   "source": [
    "%%time\n",
    "# Kaggle Notebook\n",
    "train = pd.read_csv(\"/kaggle/input/mercari-dataset/train.tsv\", delimiter='\\t')\n",
    "test = pd.read_csv(\"/kaggle/input/mercari-dataset/test.tsv\", delimiter='\\t')\n",
    "\n",
    "# Local\n",
    "# train = pd.read_csv(\"train.tsv\", delimiter='\\t')\n",
    "# test = pd.read_csv(\"test.tsv\", delimiter='\\t')"
   ]
  },
  {
   "cell_type": "code",
   "execution_count": 4,
   "metadata": {
    "execution": {
     "iopub.execute_input": "2024-10-11T12:20:17.838208Z",
     "iopub.status.busy": "2024-10-11T12:20:17.837661Z",
     "iopub.status.idle": "2024-10-11T12:20:18.631460Z",
     "shell.execute_reply": "2024-10-11T12:20:18.629919Z",
     "shell.execute_reply.started": "2024-10-11T12:20:17.838162Z"
    }
   },
   "outputs": [
    {
     "name": "stdout",
     "output_type": "stream",
     "text": [
      "(1482535, 8)\n",
      "<class 'pandas.core.frame.DataFrame'>\n",
      "RangeIndex: 1482535 entries, 0 to 1482534\n",
      "Data columns (total 8 columns):\n",
      " #   Column             Non-Null Count    Dtype  \n",
      "---  ------             --------------    -----  \n",
      " 0   train_id           1482535 non-null  int64  \n",
      " 1   name               1482535 non-null  object \n",
      " 2   item_condition_id  1482535 non-null  int64  \n",
      " 3   category_name      1476208 non-null  object \n",
      " 4   brand_name         849853 non-null   object \n",
      " 5   price              1482535 non-null  float64\n",
      " 6   shipping           1482535 non-null  int64  \n",
      " 7   item_description   1482529 non-null  object \n",
      "dtypes: float64(1), int64(3), object(4)\n",
      "memory usage: 90.5+ MB\n",
      "None\n"
     ]
    },
    {
     "data": {
      "text/html": [
       "<div>\n",
       "<style scoped>\n",
       "    .dataframe tbody tr th:only-of-type {\n",
       "        vertical-align: middle;\n",
       "    }\n",
       "\n",
       "    .dataframe tbody tr th {\n",
       "        vertical-align: top;\n",
       "    }\n",
       "\n",
       "    .dataframe thead th {\n",
       "        text-align: right;\n",
       "    }\n",
       "</style>\n",
       "<table border=\"1\" class=\"dataframe\">\n",
       "  <thead>\n",
       "    <tr style=\"text-align: right;\">\n",
       "      <th></th>\n",
       "      <th>train_id</th>\n",
       "      <th>name</th>\n",
       "      <th>item_condition_id</th>\n",
       "      <th>category_name</th>\n",
       "      <th>brand_name</th>\n",
       "      <th>price</th>\n",
       "      <th>shipping</th>\n",
       "      <th>item_description</th>\n",
       "    </tr>\n",
       "  </thead>\n",
       "  <tbody>\n",
       "    <tr>\n",
       "      <th>0</th>\n",
       "      <td>0</td>\n",
       "      <td>MLB Cincinnati Reds T Shirt Size XL</td>\n",
       "      <td>3</td>\n",
       "      <td>Men/Tops/T-shirts</td>\n",
       "      <td>NaN</td>\n",
       "      <td>10.0</td>\n",
       "      <td>1</td>\n",
       "      <td>No description yet</td>\n",
       "    </tr>\n",
       "    <tr>\n",
       "      <th>1</th>\n",
       "      <td>1</td>\n",
       "      <td>Razer BlackWidow Chroma Keyboard</td>\n",
       "      <td>3</td>\n",
       "      <td>Electronics/Computers &amp; Tablets/Components &amp; P...</td>\n",
       "      <td>Razer</td>\n",
       "      <td>52.0</td>\n",
       "      <td>0</td>\n",
       "      <td>This keyboard is in great condition and works ...</td>\n",
       "    </tr>\n",
       "    <tr>\n",
       "      <th>2</th>\n",
       "      <td>2</td>\n",
       "      <td>AVA-VIV Blouse</td>\n",
       "      <td>1</td>\n",
       "      <td>Women/Tops &amp; Blouses/Blouse</td>\n",
       "      <td>Target</td>\n",
       "      <td>10.0</td>\n",
       "      <td>1</td>\n",
       "      <td>Adorable top with a hint of lace and a key hol...</td>\n",
       "    </tr>\n",
       "    <tr>\n",
       "      <th>3</th>\n",
       "      <td>3</td>\n",
       "      <td>Leather Horse Statues</td>\n",
       "      <td>1</td>\n",
       "      <td>Home/Home Décor/Home Décor Accents</td>\n",
       "      <td>NaN</td>\n",
       "      <td>35.0</td>\n",
       "      <td>1</td>\n",
       "      <td>New with tags. Leather horses. Retail for [rm]...</td>\n",
       "    </tr>\n",
       "    <tr>\n",
       "      <th>4</th>\n",
       "      <td>4</td>\n",
       "      <td>24K GOLD plated rose</td>\n",
       "      <td>1</td>\n",
       "      <td>Women/Jewelry/Necklaces</td>\n",
       "      <td>NaN</td>\n",
       "      <td>44.0</td>\n",
       "      <td>0</td>\n",
       "      <td>Complete with certificate of authenticity</td>\n",
       "    </tr>\n",
       "  </tbody>\n",
       "</table>\n",
       "</div>"
      ],
      "text/plain": [
       "   train_id                                 name  item_condition_id  \\\n",
       "0         0  MLB Cincinnati Reds T Shirt Size XL                  3   \n",
       "1         1     Razer BlackWidow Chroma Keyboard                  3   \n",
       "2         2                       AVA-VIV Blouse                  1   \n",
       "3         3                Leather Horse Statues                  1   \n",
       "4         4                 24K GOLD plated rose                  1   \n",
       "\n",
       "                                       category_name brand_name  price  \\\n",
       "0                                  Men/Tops/T-shirts        NaN   10.0   \n",
       "1  Electronics/Computers & Tablets/Components & P...      Razer   52.0   \n",
       "2                        Women/Tops & Blouses/Blouse     Target   10.0   \n",
       "3                 Home/Home Décor/Home Décor Accents        NaN   35.0   \n",
       "4                            Women/Jewelry/Necklaces        NaN   44.0   \n",
       "\n",
       "   shipping                                   item_description  \n",
       "0         1                                 No description yet  \n",
       "1         0  This keyboard is in great condition and works ...  \n",
       "2         1  Adorable top with a hint of lace and a key hol...  \n",
       "3         1  New with tags. Leather horses. Retail for [rm]...  \n",
       "4         0          Complete with certificate of authenticity  "
      ]
     },
     "metadata": {},
     "output_type": "display_data"
    }
   ],
   "source": [
    "print(train.shape)\n",
    "print(train.info())\n",
    "display(train.head())"
   ]
  },
  {
   "cell_type": "code",
   "execution_count": 5,
   "metadata": {
    "execution": {
     "iopub.execute_input": "2024-10-11T12:20:18.633760Z",
     "iopub.status.busy": "2024-10-11T12:20:18.633255Z",
     "iopub.status.idle": "2024-10-11T12:20:18.997242Z",
     "shell.execute_reply": "2024-10-11T12:20:18.995745Z",
     "shell.execute_reply.started": "2024-10-11T12:20:18.633709Z"
    }
   },
   "outputs": [
    {
     "name": "stdout",
     "output_type": "stream",
     "text": [
      "(693359, 7)\n",
      "<class 'pandas.core.frame.DataFrame'>\n",
      "RangeIndex: 693359 entries, 0 to 693358\n",
      "Data columns (total 7 columns):\n",
      " #   Column             Non-Null Count   Dtype \n",
      "---  ------             --------------   ----- \n",
      " 0   test_id            693359 non-null  int64 \n",
      " 1   name               693359 non-null  object\n",
      " 2   item_condition_id  693359 non-null  int64 \n",
      " 3   category_name      690301 non-null  object\n",
      " 4   brand_name         397834 non-null  object\n",
      " 5   shipping           693359 non-null  int64 \n",
      " 6   item_description   693359 non-null  object\n",
      "dtypes: int64(3), object(4)\n",
      "memory usage: 37.0+ MB\n",
      "None\n"
     ]
    },
    {
     "data": {
      "text/html": [
       "<div>\n",
       "<style scoped>\n",
       "    .dataframe tbody tr th:only-of-type {\n",
       "        vertical-align: middle;\n",
       "    }\n",
       "\n",
       "    .dataframe tbody tr th {\n",
       "        vertical-align: top;\n",
       "    }\n",
       "\n",
       "    .dataframe thead th {\n",
       "        text-align: right;\n",
       "    }\n",
       "</style>\n",
       "<table border=\"1\" class=\"dataframe\">\n",
       "  <thead>\n",
       "    <tr style=\"text-align: right;\">\n",
       "      <th></th>\n",
       "      <th>test_id</th>\n",
       "      <th>name</th>\n",
       "      <th>item_condition_id</th>\n",
       "      <th>category_name</th>\n",
       "      <th>brand_name</th>\n",
       "      <th>shipping</th>\n",
       "      <th>item_description</th>\n",
       "    </tr>\n",
       "  </thead>\n",
       "  <tbody>\n",
       "    <tr>\n",
       "      <th>0</th>\n",
       "      <td>0</td>\n",
       "      <td>Breast cancer \"I fight like a girl\" ring</td>\n",
       "      <td>1</td>\n",
       "      <td>Women/Jewelry/Rings</td>\n",
       "      <td>NaN</td>\n",
       "      <td>1</td>\n",
       "      <td>Size 7</td>\n",
       "    </tr>\n",
       "    <tr>\n",
       "      <th>1</th>\n",
       "      <td>1</td>\n",
       "      <td>25 pcs NEW 7.5\"x12\" Kraft Bubble Mailers</td>\n",
       "      <td>1</td>\n",
       "      <td>Other/Office supplies/Shipping Supplies</td>\n",
       "      <td>NaN</td>\n",
       "      <td>1</td>\n",
       "      <td>25 pcs NEW 7.5\"x12\" Kraft Bubble Mailers Lined...</td>\n",
       "    </tr>\n",
       "    <tr>\n",
       "      <th>2</th>\n",
       "      <td>2</td>\n",
       "      <td>Coach bag</td>\n",
       "      <td>1</td>\n",
       "      <td>Vintage &amp; Collectibles/Bags and Purses/Handbag</td>\n",
       "      <td>Coach</td>\n",
       "      <td>1</td>\n",
       "      <td>Brand new coach bag. Bought for [rm] at a Coac...</td>\n",
       "    </tr>\n",
       "    <tr>\n",
       "      <th>3</th>\n",
       "      <td>3</td>\n",
       "      <td>Floral Kimono</td>\n",
       "      <td>2</td>\n",
       "      <td>Women/Sweaters/Cardigan</td>\n",
       "      <td>NaN</td>\n",
       "      <td>0</td>\n",
       "      <td>-floral kimono -never worn -lightweight and pe...</td>\n",
       "    </tr>\n",
       "    <tr>\n",
       "      <th>4</th>\n",
       "      <td>4</td>\n",
       "      <td>Life after Death</td>\n",
       "      <td>3</td>\n",
       "      <td>Other/Books/Religion &amp; Spirituality</td>\n",
       "      <td>NaN</td>\n",
       "      <td>1</td>\n",
       "      <td>Rediscovering life after the loss of a loved o...</td>\n",
       "    </tr>\n",
       "  </tbody>\n",
       "</table>\n",
       "</div>"
      ],
      "text/plain": [
       "   test_id                                      name  item_condition_id  \\\n",
       "0        0  Breast cancer \"I fight like a girl\" ring                  1   \n",
       "1        1  25 pcs NEW 7.5\"x12\" Kraft Bubble Mailers                  1   \n",
       "2        2                                 Coach bag                  1   \n",
       "3        3                             Floral Kimono                  2   \n",
       "4        4                          Life after Death                  3   \n",
       "\n",
       "                                    category_name brand_name  shipping  \\\n",
       "0                             Women/Jewelry/Rings        NaN         1   \n",
       "1         Other/Office supplies/Shipping Supplies        NaN         1   \n",
       "2  Vintage & Collectibles/Bags and Purses/Handbag      Coach         1   \n",
       "3                         Women/Sweaters/Cardigan        NaN         0   \n",
       "4             Other/Books/Religion & Spirituality        NaN         1   \n",
       "\n",
       "                                    item_description  \n",
       "0                                             Size 7  \n",
       "1  25 pcs NEW 7.5\"x12\" Kraft Bubble Mailers Lined...  \n",
       "2  Brand new coach bag. Bought for [rm] at a Coac...  \n",
       "3  -floral kimono -never worn -lightweight and pe...  \n",
       "4  Rediscovering life after the loss of a loved o...  "
      ]
     },
     "metadata": {},
     "output_type": "display_data"
    }
   ],
   "source": [
    "print(test.shape)\n",
    "print(test.info())\n",
    "display(test.head())"
   ]
  },
  {
   "cell_type": "markdown",
   "metadata": {
    "_cell_guid": "4baef1cf-63aa-4f3d-b518-0b7081686042",
    "_uuid": "0f17cbc3-5899-4c22-a0a0-26b0424db7d2"
   },
   "source": [
    "#### データの前処理"
   ]
  },
  {
   "cell_type": "code",
   "execution_count": 6,
   "metadata": {
    "execution": {
     "iopub.execute_input": "2024-10-11T12:20:18.999287Z",
     "iopub.status.busy": "2024-10-11T12:20:18.998881Z",
     "iopub.status.idle": "2024-10-11T12:20:19.217218Z",
     "shell.execute_reply": "2024-10-11T12:20:19.215692Z",
     "shell.execute_reply.started": "2024-10-11T12:20:18.999243Z"
    }
   },
   "outputs": [],
   "source": [
    "# 3ドル以上2000ドル以下のデータのみを使用する\n",
    "train = train[(train[\"price\"] >= 3) & (train[\"price\"] <= 2000)]"
   ]
  },
  {
   "cell_type": "markdown",
   "metadata": {},
   "source": [
    "#### price を対数変換"
   ]
  },
  {
   "cell_type": "code",
   "execution_count": 7,
   "metadata": {
    "execution": {
     "iopub.execute_input": "2024-10-11T12:20:19.219293Z",
     "iopub.status.busy": "2024-10-11T12:20:19.218900Z",
     "iopub.status.idle": "2024-10-11T12:20:19.259414Z",
     "shell.execute_reply": "2024-10-11T12:20:19.257915Z",
     "shell.execute_reply.started": "2024-10-11T12:20:19.219253Z"
    }
   },
   "outputs": [],
   "source": [
    "train['price'] = np.log1p(train['price'])"
   ]
  },
  {
   "cell_type": "markdown",
   "metadata": {
    "_cell_guid": "c861de08-477e-4069-9b27-f9f9b8d11f79",
    "_uuid": "aa08a666-8684-4bc2-9e36-3654fdf11c25"
   },
   "source": [
    "#### 欠損値処理\n"
   ]
  },
  {
   "cell_type": "code",
   "execution_count": 8,
   "metadata": {
    "execution": {
     "iopub.execute_input": "2024-10-11T12:20:19.261842Z",
     "iopub.status.busy": "2024-10-11T12:20:19.261306Z",
     "iopub.status.idle": "2024-10-11T12:20:19.925021Z",
     "shell.execute_reply": "2024-10-11T12:20:19.923617Z",
     "shell.execute_reply.started": "2024-10-11T12:20:19.261787Z"
    }
   },
   "outputs": [
    {
     "name": "stdout",
     "output_type": "stream",
     "text": [
      "train_id                  0\n",
      "name                      0\n",
      "item_condition_id         0\n",
      "category_name          6314\n",
      "brand_name           632336\n",
      "price                     0\n",
      "shipping                  0\n",
      "item_description          6\n",
      "dtype: int64\n"
     ]
    }
   ],
   "source": [
    "print(train.isnull().sum())"
   ]
  },
  {
   "cell_type": "code",
   "execution_count": 9,
   "metadata": {
    "execution": {
     "iopub.execute_input": "2024-10-11T12:20:19.931224Z",
     "iopub.status.busy": "2024-10-11T12:20:19.930790Z",
     "iopub.status.idle": "2024-10-11T12:20:20.252482Z",
     "shell.execute_reply": "2024-10-11T12:20:20.250909Z",
     "shell.execute_reply.started": "2024-10-11T12:20:19.931185Z"
    }
   },
   "outputs": [
    {
     "name": "stdout",
     "output_type": "stream",
     "text": [
      "test_id                   0\n",
      "name                      0\n",
      "item_condition_id         0\n",
      "category_name          3058\n",
      "brand_name           295525\n",
      "shipping                  0\n",
      "item_description          0\n",
      "dtype: int64\n"
     ]
    }
   ],
   "source": [
    "print(test.isnull().sum())"
   ]
  },
  {
   "cell_type": "code",
   "execution_count": 10,
   "metadata": {
    "execution": {
     "iopub.execute_input": "2024-10-11T12:20:20.254746Z",
     "iopub.status.busy": "2024-10-11T12:20:20.254287Z",
     "iopub.status.idle": "2024-10-11T12:20:20.784909Z",
     "shell.execute_reply": "2024-10-11T12:20:20.782945Z",
     "shell.execute_reply.started": "2024-10-11T12:20:20.254691Z"
    }
   },
   "outputs": [],
   "source": [
    "# 母数217万点に対して category_name の1万点は少ないため、missing に置き換えず単純に drop\n",
    "train.dropna(subset=['category_name'], inplace=True)\n",
    "test.dropna(subset=['category_name'], inplace=True)"
   ]
  },
  {
   "cell_type": "markdown",
   "metadata": {},
   "source": [
    "#### train, test を行方向に結合し、まとめて前処理できるようにする"
   ]
  },
  {
   "cell_type": "code",
   "execution_count": 11,
   "metadata": {
    "_cell_guid": "c002c856-7828-4f91-ad1d-f958c1caa0a2",
    "_uuid": "57d41e39-76dd-4de7-86d2-f0b53913634a",
    "collapsed": false,
    "execution": {
     "iopub.execute_input": "2024-10-11T12:20:20.787267Z",
     "iopub.status.busy": "2024-10-11T12:20:20.786805Z",
     "iopub.status.idle": "2024-10-11T12:20:21.126231Z",
     "shell.execute_reply": "2024-10-11T12:20:21.124759Z",
     "shell.execute_reply.started": "2024-10-11T12:20:20.787224Z"
    },
    "jupyter": {
     "outputs_hidden": false
    }
   },
   "outputs": [
    {
     "name": "stdout",
     "output_type": "stream",
     "text": [
      "(2165645, 7)\n"
     ]
    },
    {
     "data": {
      "text/html": [
       "<div>\n",
       "<style scoped>\n",
       "    .dataframe tbody tr th:only-of-type {\n",
       "        vertical-align: middle;\n",
       "    }\n",
       "\n",
       "    .dataframe tbody tr th {\n",
       "        vertical-align: top;\n",
       "    }\n",
       "\n",
       "    .dataframe thead th {\n",
       "        text-align: right;\n",
       "    }\n",
       "</style>\n",
       "<table border=\"1\" class=\"dataframe\">\n",
       "  <thead>\n",
       "    <tr style=\"text-align: right;\">\n",
       "      <th></th>\n",
       "      <th>id</th>\n",
       "      <th>name</th>\n",
       "      <th>item_condition_id</th>\n",
       "      <th>category_name</th>\n",
       "      <th>brand_name</th>\n",
       "      <th>shipping</th>\n",
       "      <th>item_description</th>\n",
       "    </tr>\n",
       "  </thead>\n",
       "  <tbody>\n",
       "    <tr>\n",
       "      <th>0</th>\n",
       "      <td>0</td>\n",
       "      <td>MLB Cincinnati Reds T Shirt Size XL</td>\n",
       "      <td>3</td>\n",
       "      <td>Men/Tops/T-shirts</td>\n",
       "      <td>NaN</td>\n",
       "      <td>1</td>\n",
       "      <td>No description yet</td>\n",
       "    </tr>\n",
       "    <tr>\n",
       "      <th>1</th>\n",
       "      <td>1</td>\n",
       "      <td>Razer BlackWidow Chroma Keyboard</td>\n",
       "      <td>3</td>\n",
       "      <td>Electronics/Computers &amp; Tablets/Components &amp; P...</td>\n",
       "      <td>Razer</td>\n",
       "      <td>0</td>\n",
       "      <td>This keyboard is in great condition and works ...</td>\n",
       "    </tr>\n",
       "    <tr>\n",
       "      <th>2</th>\n",
       "      <td>2</td>\n",
       "      <td>AVA-VIV Blouse</td>\n",
       "      <td>1</td>\n",
       "      <td>Women/Tops &amp; Blouses/Blouse</td>\n",
       "      <td>Target</td>\n",
       "      <td>1</td>\n",
       "      <td>Adorable top with a hint of lace and a key hol...</td>\n",
       "    </tr>\n",
       "    <tr>\n",
       "      <th>3</th>\n",
       "      <td>3</td>\n",
       "      <td>Leather Horse Statues</td>\n",
       "      <td>1</td>\n",
       "      <td>Home/Home Décor/Home Décor Accents</td>\n",
       "      <td>NaN</td>\n",
       "      <td>1</td>\n",
       "      <td>New with tags. Leather horses. Retail for [rm]...</td>\n",
       "    </tr>\n",
       "    <tr>\n",
       "      <th>4</th>\n",
       "      <td>4</td>\n",
       "      <td>24K GOLD plated rose</td>\n",
       "      <td>1</td>\n",
       "      <td>Women/Jewelry/Necklaces</td>\n",
       "      <td>NaN</td>\n",
       "      <td>0</td>\n",
       "      <td>Complete with certificate of authenticity</td>\n",
       "    </tr>\n",
       "  </tbody>\n",
       "</table>\n",
       "</div>"
      ],
      "text/plain": [
       "   id                                 name  item_condition_id  \\\n",
       "0   0  MLB Cincinnati Reds T Shirt Size XL                  3   \n",
       "1   1     Razer BlackWidow Chroma Keyboard                  3   \n",
       "2   2                       AVA-VIV Blouse                  1   \n",
       "3   3                Leather Horse Statues                  1   \n",
       "4   4                 24K GOLD plated rose                  1   \n",
       "\n",
       "                                       category_name brand_name  shipping  \\\n",
       "0                                  Men/Tops/T-shirts        NaN         1   \n",
       "1  Electronics/Computers & Tablets/Components & P...      Razer         0   \n",
       "2                        Women/Tops & Blouses/Blouse     Target         1   \n",
       "3                 Home/Home Décor/Home Décor Accents        NaN         1   \n",
       "4                            Women/Jewelry/Necklaces        NaN         0   \n",
       "\n",
       "                                    item_description  \n",
       "0                                 No description yet  \n",
       "1  This keyboard is in great condition and works ...  \n",
       "2  Adorable top with a hint of lace and a key hol...  \n",
       "3  New with tags. Leather horses. Retail for [rm]...  \n",
       "4          Complete with certificate of authenticity  "
      ]
     },
     "execution_count": 11,
     "metadata": {},
     "output_type": "execute_result"
    }
   ],
   "source": [
    "y = train['price'] # 目的変数\n",
    "train.drop(['price'], axis=1, inplace=True)\n",
    "\n",
    "# 列名を id に変更\n",
    "train.rename(columns={'train_id': 'id'}, inplace=True)\n",
    "test.rename(columns={'test_id': 'id'}, inplace=True)\n",
    "\n",
    "# データフレームを結合\n",
    "train_test_combine = pd.concat([train,test]) # axis=0 で行、axis=1 で列に結合 デフォルトは axis=0\n",
    "print(train_test_combine.shape)\n",
    "train_test_combine.head()"
   ]
  },
  {
   "cell_type": "code",
   "execution_count": 12,
   "metadata": {
    "_cell_guid": "61cc0cbb-0e67-43da-bab8-ac4a7cf9414b",
    "_uuid": "58227ec9-cd8d-461b-ad88-765efaf45f5b",
    "collapsed": false,
    "execution": {
     "iopub.execute_input": "2024-10-11T12:20:21.128445Z",
     "iopub.status.busy": "2024-10-11T12:20:21.128030Z",
     "iopub.status.idle": "2024-10-11T12:20:21.790317Z",
     "shell.execute_reply": "2024-10-11T12:20:21.788773Z",
     "shell.execute_reply.started": "2024-10-11T12:20:21.128404Z"
    },
    "jupyter": {
     "outputs_hidden": false
    }
   },
   "outputs": [],
   "source": [
    "# 欠損値を missing で埋める\n",
    "# train_test_combine['category_name'].fillna(value='missing', inplace=True)\n",
    "train_test_combine['brand_name'].fillna(value='missing', inplace=True)\n",
    "train_test_combine['item_description'].fillna(value='missing', inplace=True)"
   ]
  },
  {
   "cell_type": "code",
   "execution_count": 13,
   "metadata": {
    "execution": {
     "iopub.execute_input": "2024-10-11T12:20:21.792607Z",
     "iopub.status.busy": "2024-10-11T12:20:21.792165Z",
     "iopub.status.idle": "2024-10-11T12:22:11.612451Z",
     "shell.execute_reply": "2024-10-11T12:22:11.610895Z",
     "shell.execute_reply.started": "2024-10-11T12:20:21.792534Z"
    }
   },
   "outputs": [
    {
     "name": "stdout",
     "output_type": "stream",
     "text": [
      "CPU times: user 1min 49s, sys: 363 ms, total: 1min 49s\n",
      "Wall time: 1min 49s\n"
     ]
    },
    {
     "data": {
      "text/html": [
       "<div>\n",
       "<style scoped>\n",
       "    .dataframe tbody tr th:only-of-type {\n",
       "        vertical-align: middle;\n",
       "    }\n",
       "\n",
       "    .dataframe tbody tr th {\n",
       "        vertical-align: top;\n",
       "    }\n",
       "\n",
       "    .dataframe thead th {\n",
       "        text-align: right;\n",
       "    }\n",
       "</style>\n",
       "<table border=\"1\" class=\"dataframe\">\n",
       "  <thead>\n",
       "    <tr style=\"text-align: right;\">\n",
       "      <th></th>\n",
       "      <th>brand_name</th>\n",
       "      <th>name</th>\n",
       "    </tr>\n",
       "  </thead>\n",
       "  <tbody>\n",
       "    <tr>\n",
       "      <th>0</th>\n",
       "      <td>MLB</td>\n",
       "      <td>MLB Cincinnati Reds T Shirt Size XL</td>\n",
       "    </tr>\n",
       "    <tr>\n",
       "      <th>1</th>\n",
       "      <td>Razer</td>\n",
       "      <td>Razer BlackWidow Chroma Keyboard</td>\n",
       "    </tr>\n",
       "    <tr>\n",
       "      <th>2</th>\n",
       "      <td>Target</td>\n",
       "      <td>AVA-VIV Blouse</td>\n",
       "    </tr>\n",
       "    <tr>\n",
       "      <th>3</th>\n",
       "      <td>missing</td>\n",
       "      <td>Leather Horse Statues</td>\n",
       "    </tr>\n",
       "    <tr>\n",
       "      <th>4</th>\n",
       "      <td>missing</td>\n",
       "      <td>24K GOLD plated rose</td>\n",
       "    </tr>\n",
       "    <tr>\n",
       "      <th>5</th>\n",
       "      <td>missing</td>\n",
       "      <td>Bundled items requested for Ruie</td>\n",
       "    </tr>\n",
       "    <tr>\n",
       "      <th>6</th>\n",
       "      <td>Acacia Swimwear</td>\n",
       "      <td>Acacia pacific tides santorini top</td>\n",
       "    </tr>\n",
       "    <tr>\n",
       "      <th>7</th>\n",
       "      <td>Soffe</td>\n",
       "      <td>Girls cheer and tumbling bundle of 7</td>\n",
       "    </tr>\n",
       "    <tr>\n",
       "      <th>8</th>\n",
       "      <td>Nike</td>\n",
       "      <td>Girls Nike Pro shorts</td>\n",
       "    </tr>\n",
       "    <tr>\n",
       "      <th>9</th>\n",
       "      <td>missing</td>\n",
       "      <td>Porcelain clown doll checker pants VTG</td>\n",
       "    </tr>\n",
       "  </tbody>\n",
       "</table>\n",
       "</div>"
      ],
      "text/plain": [
       "        brand_name                                    name\n",
       "0              MLB     MLB Cincinnati Reds T Shirt Size XL\n",
       "1            Razer        Razer BlackWidow Chroma Keyboard\n",
       "2           Target                          AVA-VIV Blouse\n",
       "3          missing                   Leather Horse Statues\n",
       "4          missing                    24K GOLD plated rose\n",
       "5          missing        Bundled items requested for Ruie\n",
       "6  Acacia Swimwear      Acacia pacific tides santorini top\n",
       "7            Soffe    Girls cheer and tumbling bundle of 7\n",
       "8             Nike                   Girls Nike Pro shorts\n",
       "9          missing  Porcelain clown doll checker pants VTG"
      ]
     },
     "execution_count": 13,
     "metadata": {},
     "output_type": "execute_result"
    }
   ],
   "source": [
    "%%time\n",
    "# brand_name の重複なしのリストを作成\n",
    "brand_name_list = set(train_test_combine[\"brand_name\"].values) # set()で重複を削除\n",
    "\n",
    "def brandfinder(line):\n",
    "    brand = line[0]\n",
    "    name = line[1]\n",
    "    namesplit = name.split(' ')\n",
    "    \n",
    "    if brand == 'missing':\n",
    "        for x in namesplit:\n",
    "            if x in brand_name_list:            \n",
    "                return x # name(商品名全体)を返すのではなく、x(ブランド名)のみを返す\n",
    "    if name in brand_name_list:\n",
    "        return name\n",
    "    \n",
    "    return brand\n",
    "\n",
    "# ブランド名の付替えを実施\n",
    "train_test_combine['brand_name'] = train_test_combine[['brand_name','name']].apply(brandfinder, axis = 1) # axis=1で行方向\n",
    "\n",
    "# brandfinderの中身\n",
    "train_test_combine[['brand_name','name']].head(10)"
   ]
  },
  {
   "cell_type": "markdown",
   "metadata": {
    "_cell_guid": "8955724f-6ee3-4732-80dd-10f5c7fb9f4d",
    "_uuid": "13605d60-6537-408f-8820-c4c1523b115e"
   },
   "source": [
    "#### category_name を3等分する"
   ]
  },
  {
   "cell_type": "code",
   "execution_count": 14,
   "metadata": {
    "_cell_guid": "989abbe6-3632-4965-926c-bf32acba3c1b",
    "_uuid": "e2fab743-0672-4371-9356-144dc62ac84f",
    "collapsed": false,
    "execution": {
     "iopub.execute_input": "2024-10-11T12:22:11.615238Z",
     "iopub.status.busy": "2024-10-11T12:22:11.614626Z",
     "iopub.status.idle": "2024-10-11T12:22:17.559231Z",
     "shell.execute_reply": "2024-10-11T12:22:17.558017Z",
     "shell.execute_reply.started": "2024-10-11T12:22:11.615177Z"
    },
    "jupyter": {
     "outputs_hidden": false
    }
   },
   "outputs": [
    {
     "data": {
      "text/html": [
       "<div>\n",
       "<style scoped>\n",
       "    .dataframe tbody tr th:only-of-type {\n",
       "        vertical-align: middle;\n",
       "    }\n",
       "\n",
       "    .dataframe tbody tr th {\n",
       "        vertical-align: top;\n",
       "    }\n",
       "\n",
       "    .dataframe thead th {\n",
       "        text-align: right;\n",
       "    }\n",
       "</style>\n",
       "<table border=\"1\" class=\"dataframe\">\n",
       "  <thead>\n",
       "    <tr style=\"text-align: right;\">\n",
       "      <th></th>\n",
       "      <th>id</th>\n",
       "      <th>name</th>\n",
       "      <th>item_condition_id</th>\n",
       "      <th>category_name</th>\n",
       "      <th>brand_name</th>\n",
       "      <th>shipping</th>\n",
       "      <th>item_description</th>\n",
       "      <th>general_cat</th>\n",
       "      <th>sub_cat1</th>\n",
       "      <th>sub_cat2</th>\n",
       "    </tr>\n",
       "  </thead>\n",
       "  <tbody>\n",
       "    <tr>\n",
       "      <th>0</th>\n",
       "      <td>0</td>\n",
       "      <td>MLB Cincinnati Reds T Shirt Size XL</td>\n",
       "      <td>3</td>\n",
       "      <td>Men/Tops/T-shirts</td>\n",
       "      <td>MLB</td>\n",
       "      <td>1</td>\n",
       "      <td>No description yet</td>\n",
       "      <td>Men</td>\n",
       "      <td>Tops</td>\n",
       "      <td>T-shirts</td>\n",
       "    </tr>\n",
       "    <tr>\n",
       "      <th>1</th>\n",
       "      <td>1</td>\n",
       "      <td>Razer BlackWidow Chroma Keyboard</td>\n",
       "      <td>3</td>\n",
       "      <td>Electronics/Computers &amp; Tablets/Components &amp; P...</td>\n",
       "      <td>Razer</td>\n",
       "      <td>0</td>\n",
       "      <td>This keyboard is in great condition and works ...</td>\n",
       "      <td>Electronics</td>\n",
       "      <td>Computers &amp; Tablets</td>\n",
       "      <td>Components &amp; Parts</td>\n",
       "    </tr>\n",
       "    <tr>\n",
       "      <th>2</th>\n",
       "      <td>2</td>\n",
       "      <td>AVA-VIV Blouse</td>\n",
       "      <td>1</td>\n",
       "      <td>Women/Tops &amp; Blouses/Blouse</td>\n",
       "      <td>Target</td>\n",
       "      <td>1</td>\n",
       "      <td>Adorable top with a hint of lace and a key hol...</td>\n",
       "      <td>Women</td>\n",
       "      <td>Tops &amp; Blouses</td>\n",
       "      <td>Blouse</td>\n",
       "    </tr>\n",
       "    <tr>\n",
       "      <th>3</th>\n",
       "      <td>3</td>\n",
       "      <td>Leather Horse Statues</td>\n",
       "      <td>1</td>\n",
       "      <td>Home/Home Décor/Home Décor Accents</td>\n",
       "      <td>missing</td>\n",
       "      <td>1</td>\n",
       "      <td>New with tags. Leather horses. Retail for [rm]...</td>\n",
       "      <td>Home</td>\n",
       "      <td>Home Décor</td>\n",
       "      <td>Home Décor Accents</td>\n",
       "    </tr>\n",
       "    <tr>\n",
       "      <th>4</th>\n",
       "      <td>4</td>\n",
       "      <td>24K GOLD plated rose</td>\n",
       "      <td>1</td>\n",
       "      <td>Women/Jewelry/Necklaces</td>\n",
       "      <td>missing</td>\n",
       "      <td>0</td>\n",
       "      <td>Complete with certificate of authenticity</td>\n",
       "      <td>Women</td>\n",
       "      <td>Jewelry</td>\n",
       "      <td>Necklaces</td>\n",
       "    </tr>\n",
       "  </tbody>\n",
       "</table>\n",
       "</div>"
      ],
      "text/plain": [
       "   id                                 name  item_condition_id  \\\n",
       "0   0  MLB Cincinnati Reds T Shirt Size XL                  3   \n",
       "1   1     Razer BlackWidow Chroma Keyboard                  3   \n",
       "2   2                       AVA-VIV Blouse                  1   \n",
       "3   3                Leather Horse Statues                  1   \n",
       "4   4                 24K GOLD plated rose                  1   \n",
       "\n",
       "                                       category_name brand_name  shipping  \\\n",
       "0                                  Men/Tops/T-shirts        MLB         1   \n",
       "1  Electronics/Computers & Tablets/Components & P...      Razer         0   \n",
       "2                        Women/Tops & Blouses/Blouse     Target         1   \n",
       "3                 Home/Home Décor/Home Décor Accents    missing         1   \n",
       "4                            Women/Jewelry/Necklaces    missing         0   \n",
       "\n",
       "                                    item_description  general_cat  \\\n",
       "0                                 No description yet          Men   \n",
       "1  This keyboard is in great condition and works ...  Electronics   \n",
       "2  Adorable top with a hint of lace and a key hol...        Women   \n",
       "3  New with tags. Leather horses. Retail for [rm]...         Home   \n",
       "4          Complete with certificate of authenticity        Women   \n",
       "\n",
       "              sub_cat1            sub_cat2  \n",
       "0                 Tops            T-shirts  \n",
       "1  Computers & Tablets  Components & Parts  \n",
       "2       Tops & Blouses              Blouse  \n",
       "3           Home Décor  Home Décor Accents  \n",
       "4              Jewelry           Necklaces  "
      ]
     },
     "metadata": {},
     "output_type": "display_data"
    }
   ],
   "source": [
    "def split_cat(text):\n",
    "    if text == 'missing':\n",
    "        return (\"No Label\", \"No Label\", \"No Label\")\n",
    "    try:\n",
    "        return text.split(\"/\")\n",
    "    except:\n",
    "        return (\"No Label\", \"No Label\", \"No Label\")\n",
    "\n",
    "train_test_combine['general_cat'] = train_test_combine['category_name'].apply(lambda x: split_cat(x)[0])\n",
    "train_test_combine['sub_cat1'] = train_test_combine['category_name'].apply(lambda x: split_cat(x)[1])\n",
    "train_test_combine['sub_cat2'] = train_test_combine['category_name'].apply(lambda x: split_cat(x)[2])\n",
    "display(train_test_combine.head())"
   ]
  },
  {
   "cell_type": "code",
   "execution_count": 15,
   "metadata": {
    "execution": {
     "iopub.execute_input": "2024-10-11T12:22:17.561273Z",
     "iopub.status.busy": "2024-10-11T12:22:17.560866Z",
     "iopub.status.idle": "2024-10-11T12:22:17.685227Z",
     "shell.execute_reply": "2024-10-11T12:22:17.683468Z",
     "shell.execute_reply.started": "2024-10-11T12:22:17.561230Z"
    }
   },
   "outputs": [
    {
     "data": {
      "text/plain": [
       "4"
      ]
     },
     "execution_count": 15,
     "metadata": {},
     "output_type": "execute_result"
    }
   ],
   "source": [
    "# ベクトル化（カウントやTF-IDF）およびエンコーディング（ONE-HOT）の前にメモリをクリアしておく\n",
    "gc.collect()"
   ]
  },
  {
   "cell_type": "markdown",
   "metadata": {
    "execution": {
     "iopub.execute_input": "2024-09-20T00:08:44.468218Z",
     "iopub.status.busy": "2024-09-20T00:08:44.467615Z",
     "iopub.status.idle": "2024-09-20T00:08:44.474987Z",
     "shell.execute_reply": "2024-09-20T00:08:44.473601Z",
     "shell.execute_reply.started": "2024-09-20T00:08:44.468138Z"
    }
   },
   "source": [
    "#### 特徴エンコーディング｜CountVectorizer(), TfidfVectorizer()"
   ]
  },
  {
   "cell_type": "code",
   "execution_count": 16,
   "metadata": {
    "execution": {
     "iopub.execute_input": "2024-10-11T12:22:17.688182Z",
     "iopub.status.busy": "2024-10-11T12:22:17.687713Z",
     "iopub.status.idle": "2024-10-11T12:28:37.261189Z",
     "shell.execute_reply": "2024-10-11T12:28:37.259755Z",
     "shell.execute_reply.started": "2024-10-11T12:22:17.688140Z"
    }
   },
   "outputs": [
    {
     "name": "stdout",
     "output_type": "stream",
     "text": [
      "name vectorization shape: (2165645, 130463)\n",
      "item_description vectorization shape: (2165645, 50000)\n",
      "CPU times: user 6min 10s, sys: 9.73 s, total: 6min 20s\n",
      "Wall time: 6min 19s\n"
     ]
    }
   ],
   "source": [
    "%%time\n",
    "cnt_vec = CountVectorizer()\n",
    "X_name = cnt_vec.fit_transform(train_test_combine['name'])\n",
    "\n",
    "tfidf = TfidfVectorizer(max_features=50000, ngram_range=(1,3), stop_words='english')\n",
    "X_descp = tfidf.fit_transform(train_test_combine['item_description'])\n",
    "\n",
    "print('name vectorization shape:', X_name.shape)\n",
    "print('item_description vectorization shape:', X_descp.shape)"
   ]
  },
  {
   "cell_type": "markdown",
   "metadata": {},
   "source": [
    "#### 特徴エンコーディング｜OneHotEncoder()"
   ]
  },
  {
   "cell_type": "code",
   "execution_count": 17,
   "metadata": {
    "execution": {
     "iopub.execute_input": "2024-10-11T12:28:37.263918Z",
     "iopub.status.busy": "2024-10-11T12:28:37.263304Z",
     "iopub.status.idle": "2024-10-11T12:28:41.483244Z",
     "shell.execute_reply": "2024-10-11T12:28:41.481753Z",
     "shell.execute_reply.started": "2024-10-11T12:28:37.263850Z"
    }
   },
   "outputs": [
    {
     "name": "stdout",
     "output_type": "stream",
     "text": [
      "CPU times: user 4.12 s, sys: 83 ms, total: 4.21 s\n",
      "Wall time: 4.21 s\n"
     ]
    }
   ],
   "source": [
    "%%time\n",
    "ohe = OneHotEncoder()\n",
    "\n",
    "# OneHotEncoder は2次元の入力を必要とするため、.reshape(-1, 1) で1次元の Series を2次元に変換\n",
    "X_brand_name = ohe.fit_transform(train_test_combine['brand_name'].values.reshape(-1, 1))\n",
    "X_item_condition_id = ohe.fit_transform(train_test_combine['item_condition_id'].values.reshape(-1, 1))\n",
    "X_shipping = ohe.fit_transform(train_test_combine['shipping'].values.reshape(-1, 1))\n",
    "X_general_cat = ohe.fit_transform(train_test_combine['general_cat'].values.reshape(-1, 1))\n",
    "X_sub_cat1 = ohe.fit_transform(train_test_combine['sub_cat1'].values.reshape(-1, 1))\n",
    "X_sub_cat2 = ohe.fit_transform(train_test_combine['sub_cat2'].values.reshape(-1, 1))"
   ]
  },
  {
   "cell_type": "code",
   "execution_count": 18,
   "metadata": {
    "execution": {
     "iopub.execute_input": "2024-10-11T12:28:41.485222Z",
     "iopub.status.busy": "2024-10-11T12:28:41.484844Z",
     "iopub.status.idle": "2024-10-11T12:28:41.493521Z",
     "shell.execute_reply": "2024-10-11T12:28:41.492137Z",
     "shell.execute_reply.started": "2024-10-11T12:28:41.485175Z"
    }
   },
   "outputs": [
    {
     "name": "stdout",
     "output_type": "stream",
     "text": [
      "brand encoding shape: (2165645, 5265)\n",
      "item condition id encoding shape: (2165645, 5)\n",
      "shipping encoding shape: (2165645, 2)\n",
      "general_cat encoding shape: (2165645, 10)\n",
      "sub_cat1 encoding shape: (2165645, 113)\n",
      "sub_cat2 encoding shape: (2165645, 882)\n"
     ]
    }
   ],
   "source": [
    "print('brand encoding shape:', X_brand_name.shape)\n",
    "print('item condition id encoding shape:', X_item_condition_id.shape)\n",
    "print('shipping encoding shape:', X_shipping.shape)\n",
    "print('general_cat encoding shape:', X_general_cat.shape)\n",
    "print('sub_cat1 encoding shape:', X_sub_cat1.shape)\n",
    "print('sub_cat2 encoding shape:', X_sub_cat2.shape)"
   ]
  },
  {
   "cell_type": "markdown",
   "metadata": {},
   "source": [
    "#### 生成されたスパース行列を結合"
   ]
  },
  {
   "cell_type": "code",
   "execution_count": 19,
   "metadata": {
    "execution": {
     "iopub.execute_input": "2024-10-11T12:28:41.496481Z",
     "iopub.status.busy": "2024-10-11T12:28:41.495393Z",
     "iopub.status.idle": "2024-10-11T12:28:45.070660Z",
     "shell.execute_reply": "2024-10-11T12:28:45.069177Z",
     "shell.execute_reply.started": "2024-10-11T12:28:41.496436Z"
    }
   },
   "outputs": [],
   "source": [
    "combined_matrix_train = (X_name[:len(train)], X_descp[:len(train)], X_brand_name[:len(train)], X_item_condition_id[:len(train)], X_shipping[:len(train)],\n",
    "                   X_general_cat[:len(train)], X_sub_cat1[:len(train)], X_sub_cat2[:len(train)])\n",
    "X = hstack(combined_matrix_train).tocsr() # 説明変数\n",
    "\n",
    "combined_matrix_test = (X_name[len(train):], X_descp[len(train):], X_brand_name[len(train):], X_item_condition_id[len(train):], X_shipping[len(train):],\n",
    "                   X_general_cat[len(train):], X_sub_cat1[len(train):], X_sub_cat2[len(train):])\n",
    "test = hstack(combined_matrix_test).tocsr() # テストデータ"
   ]
  },
  {
   "cell_type": "code",
   "execution_count": 20,
   "metadata": {
    "_cell_guid": "a394948e-7765-4485-a8d0-523a8ac3f28f",
    "_uuid": "32bb95a2-a057-49e3-adfb-da07de4ebc41",
    "collapsed": false,
    "execution": {
     "iopub.execute_input": "2024-10-11T12:28:45.073308Z",
     "iopub.status.busy": "2024-10-11T12:28:45.072793Z",
     "iopub.status.idle": "2024-10-11T12:28:45.081906Z",
     "shell.execute_reply": "2024-10-11T12:28:45.080134Z",
     "shell.execute_reply.started": "2024-10-11T12:28:45.073259Z"
    },
    "jupyter": {
     "outputs_hidden": false
    }
   },
   "outputs": [
    {
     "name": "stdout",
     "output_type": "stream",
     "text": [
      "(1475344, 186740)\n",
      "(1475344,)\n",
      "(690301, 186740)\n"
     ]
    }
   ],
   "source": [
    "print(X.shape) # 説明変数\n",
    "print(y.shape) # 目的変数\n",
    "print(test.shape) # テストデータ"
   ]
  },
  {
   "cell_type": "markdown",
   "metadata": {},
   "source": [
    "#### X と y の保存"
   ]
  },
  {
   "cell_type": "code",
   "execution_count": 21,
   "metadata": {
    "execution": {
     "iopub.execute_input": "2024-10-11T12:28:45.083978Z",
     "iopub.status.busy": "2024-10-11T12:28:45.083432Z",
     "iopub.status.idle": "2024-10-11T12:28:45.094294Z",
     "shell.execute_reply": "2024-10-11T12:28:45.092672Z",
     "shell.execute_reply.started": "2024-10-11T12:28:45.083929Z"
    }
   },
   "outputs": [],
   "source": [
    "# %%time\n",
    "# save_npz('X.npz', X)\n",
    "# y.to_csv('y.csv', index=False)"
   ]
  },
  {
   "cell_type": "markdown",
   "metadata": {},
   "source": [
    "#### X と y の読み込み"
   ]
  },
  {
   "cell_type": "code",
   "execution_count": 22,
   "metadata": {
    "execution": {
     "iopub.execute_input": "2024-10-11T12:28:45.096614Z",
     "iopub.status.busy": "2024-10-11T12:28:45.096054Z",
     "iopub.status.idle": "2024-10-11T12:28:45.106416Z",
     "shell.execute_reply": "2024-10-11T12:28:45.104656Z",
     "shell.execute_reply.started": "2024-10-11T12:28:45.096536Z"
    }
   },
   "outputs": [],
   "source": [
    "# Kaggle Notebook\n",
    "# X = load_npz('/kaggle/input/mercari-dataset/X.npz')\n",
    "# y = pd.read_csv('/kaggle/input/mercari-dataset/y.csv')"
   ]
  },
  {
   "cell_type": "markdown",
   "metadata": {
    "_cell_guid": "d3894bae-96bd-4af9-9fb1-ae6871dfa661",
    "_uuid": "37cb4194-3c2b-42bc-b202-da5c84db592e"
   },
   "source": [
    "#### モデルの作成と学習"
   ]
  },
  {
   "cell_type": "markdown",
   "metadata": {
    "_cell_guid": "288926f5-9a0a-4d68-b124-47283ce934d4",
    "_uuid": "c575fffd-2cdb-4a6a-a648-7f7d38c405c5"
   },
   "source": [
    "#### X と y のうち、7割を訓練用 (train)、3割を検証用 (test) に分割する"
   ]
  },
  {
   "cell_type": "code",
   "execution_count": 23,
   "metadata": {
    "_cell_guid": "92de30b5-b5a4-4422-8d7a-d60dca400334",
    "_uuid": "d322bae4-149a-4cbe-81ea-2b40daf3fc27",
    "collapsed": false,
    "execution": {
     "iopub.execute_input": "2024-10-11T12:28:45.109012Z",
     "iopub.status.busy": "2024-10-11T12:28:45.108373Z",
     "iopub.status.idle": "2024-10-11T12:28:45.693632Z",
     "shell.execute_reply": "2024-10-11T12:28:45.692224Z",
     "shell.execute_reply.started": "2024-10-11T12:28:45.108952Z"
    },
    "jupyter": {
     "outputs_hidden": false
    }
   },
   "outputs": [],
   "source": [
    "X_train, X_test, y_train, y_test = train_test_split(X, y, test_size=0.3, random_state=0)"
   ]
  },
  {
   "cell_type": "code",
   "execution_count": 24,
   "metadata": {
    "_cell_guid": "7d5727b1-68e1-4d3c-8697-afee413f7623",
    "_uuid": "0dbd1d10-6545-4423-8d0b-ea34352e1772",
    "collapsed": false,
    "execution": {
     "iopub.execute_input": "2024-10-11T12:28:45.704090Z",
     "iopub.status.busy": "2024-10-11T12:28:45.702340Z",
     "iopub.status.idle": "2024-10-11T12:28:45.712023Z",
     "shell.execute_reply": "2024-10-11T12:28:45.710035Z",
     "shell.execute_reply.started": "2024-10-11T12:28:45.704034Z"
    },
    "jupyter": {
     "outputs_hidden": false
    }
   },
   "outputs": [
    {
     "name": "stdout",
     "output_type": "stream",
     "text": [
      "(1032740, 186740)\n",
      "(1032740,)\n",
      "(442604, 186740)\n",
      "(442604,)\n"
     ]
    }
   ],
   "source": [
    "print(X_train.shape)\n",
    "print(y_train.shape)\n",
    "print(X_test.shape)\n",
    "print(y_test.shape)"
   ]
  },
  {
   "cell_type": "markdown",
   "metadata": {},
   "source": [
    "#### モデルの読み込み｜LightGBM"
   ]
  },
  {
   "cell_type": "code",
   "execution_count": 25,
   "metadata": {
    "execution": {
     "iopub.execute_input": "2024-10-11T12:28:45.714580Z",
     "iopub.status.busy": "2024-10-11T12:28:45.714113Z",
     "iopub.status.idle": "2024-10-11T12:28:45.726108Z",
     "shell.execute_reply": "2024-10-11T12:28:45.724651Z",
     "shell.execute_reply.started": "2024-10-11T12:28:45.714517Z"
    }
   },
   "outputs": [],
   "source": [
    "# Note\n",
    "# num_leaves, default = 31\n",
    "# max_depth, default = -1 (means no limit)\n",
    "# max_depth=3 => [Warning] No further splits with positive gain, best gain: -inf\n",
    "\n",
    "# ref. LightGBM’s documentation: \n",
    "# https://lightgbm.readthedocs.io/en/v4.2.0/Parameters.html"
   ]
  },
  {
   "cell_type": "code",
   "execution_count": 26,
   "metadata": {
    "execution": {
     "iopub.execute_input": "2024-10-11T12:28:45.728369Z",
     "iopub.status.busy": "2024-10-11T12:28:45.727921Z",
     "iopub.status.idle": "2024-10-11T12:28:45.741489Z",
     "shell.execute_reply": "2024-10-11T12:28:45.739739Z",
     "shell.execute_reply.started": "2024-10-11T12:28:45.728328Z"
    }
   },
   "outputs": [],
   "source": [
    "# ハイパーパラメータの設定\n",
    "# from lgb-csr-v6-fr07-round125.ipynb\n",
    "# params = {\n",
    "#     'objective': 'regression',\n",
    "#     'metric': 'rmse',\n",
    "#     'learning_rate': 0.6,\n",
    "#     'feature_fraction': 0.7,\n",
    "#     'bagging_fraction': 0.7,\n",
    "#     'bagging_freq': 5,\n",
    "#     'verbosity': 1,\n",
    "#     'num_boost_round': 125,\n",
    "#     'early_stopping_rounds': 30,\n",
    "#     'seed': 0\n",
    "# }"
   ]
  },
  {
   "cell_type": "code",
   "execution_count": 29,
   "metadata": {
    "execution": {
     "iopub.execute_input": "2024-10-11T12:33:25.348228Z",
     "iopub.status.busy": "2024-10-11T12:33:25.347740Z",
     "iopub.status.idle": "2024-10-11T12:33:25.354448Z",
     "shell.execute_reply": "2024-10-11T12:33:25.353021Z",
     "shell.execute_reply.started": "2024-10-11T12:33:25.348189Z"
    }
   },
   "outputs": [],
   "source": [
    "# Kaggle Notebook\n",
    "tag = 'fr07-round125'\n",
    "model_file = '/kaggle/input/mercari-dataset/lgb-{}.joblib'.format(tag)"
   ]
  },
  {
   "cell_type": "code",
   "execution_count": 30,
   "metadata": {
    "execution": {
     "iopub.execute_input": "2024-10-11T12:33:25.576814Z",
     "iopub.status.busy": "2024-10-11T12:33:25.576219Z",
     "iopub.status.idle": "2024-10-11T12:33:29.572463Z",
     "shell.execute_reply": "2024-10-11T12:33:29.570947Z",
     "shell.execute_reply.started": "2024-10-11T12:33:25.576763Z"
    }
   },
   "outputs": [],
   "source": [
    "gbm = load(model_file)"
   ]
  },
  {
   "cell_type": "markdown",
   "metadata": {},
   "source": [
    "#### モデルの学習｜Ridge回帰"
   ]
  },
  {
   "cell_type": "code",
   "execution_count": 31,
   "metadata": {
    "execution": {
     "iopub.execute_input": "2024-10-11T12:33:32.199787Z",
     "iopub.status.busy": "2024-10-11T12:33:32.198920Z",
     "iopub.status.idle": "2024-10-11T12:33:32.210375Z",
     "shell.execute_reply": "2024-10-11T12:33:32.208623Z",
     "shell.execute_reply.started": "2024-10-11T12:33:32.199737Z"
    }
   },
   "outputs": [],
   "source": [
    "# Note\n",
    "# ‘svd’, ‘cholesky’ => ValueError: solver does not support fitting the intercept on sparse data.\n",
    "# ‘auto’, ‘sparse_cg’, ‘sag’, ‘saga’ => TypeError: cg() got an unexpected keyword argument 'tol'\n",
    "\n",
    "# ref. sklearn.linear_model.Ridge's documentation: \n",
    "# https://scikit-learn.org/1.5/modules/generated/sklearn.linear_model.Ridge.html#sklearn.linear_model.Ridge"
   ]
  },
  {
   "cell_type": "code",
   "execution_count": 32,
   "metadata": {
    "execution": {
     "iopub.execute_input": "2024-10-11T12:33:32.383887Z",
     "iopub.status.busy": "2024-10-11T12:33:32.383066Z",
     "iopub.status.idle": "2024-10-11T12:35:10.049410Z",
     "shell.execute_reply": "2024-10-11T12:35:10.045770Z",
     "shell.execute_reply.started": "2024-10-11T12:33:32.383836Z"
    }
   },
   "outputs": [
    {
     "name": "stdout",
     "output_type": "stream",
     "text": [
      "CPU times: user 2min 55s, sys: 1min 54s, total: 4min 50s\n",
      "Wall time: 1min 37s\n"
     ]
    },
    {
     "data": {
      "text/html": [
       "<style>#sk-container-id-1 {color: black;background-color: white;}#sk-container-id-1 pre{padding: 0;}#sk-container-id-1 div.sk-toggleable {background-color: white;}#sk-container-id-1 label.sk-toggleable__label {cursor: pointer;display: block;width: 100%;margin-bottom: 0;padding: 0.3em;box-sizing: border-box;text-align: center;}#sk-container-id-1 label.sk-toggleable__label-arrow:before {content: \"▸\";float: left;margin-right: 0.25em;color: #696969;}#sk-container-id-1 label.sk-toggleable__label-arrow:hover:before {color: black;}#sk-container-id-1 div.sk-estimator:hover label.sk-toggleable__label-arrow:before {color: black;}#sk-container-id-1 div.sk-toggleable__content {max-height: 0;max-width: 0;overflow: hidden;text-align: left;background-color: #f0f8ff;}#sk-container-id-1 div.sk-toggleable__content pre {margin: 0.2em;color: black;border-radius: 0.25em;background-color: #f0f8ff;}#sk-container-id-1 input.sk-toggleable__control:checked~div.sk-toggleable__content {max-height: 200px;max-width: 100%;overflow: auto;}#sk-container-id-1 input.sk-toggleable__control:checked~label.sk-toggleable__label-arrow:before {content: \"▾\";}#sk-container-id-1 div.sk-estimator input.sk-toggleable__control:checked~label.sk-toggleable__label {background-color: #d4ebff;}#sk-container-id-1 div.sk-label input.sk-toggleable__control:checked~label.sk-toggleable__label {background-color: #d4ebff;}#sk-container-id-1 input.sk-hidden--visually {border: 0;clip: rect(1px 1px 1px 1px);clip: rect(1px, 1px, 1px, 1px);height: 1px;margin: -1px;overflow: hidden;padding: 0;position: absolute;width: 1px;}#sk-container-id-1 div.sk-estimator {font-family: monospace;background-color: #f0f8ff;border: 1px dotted black;border-radius: 0.25em;box-sizing: border-box;margin-bottom: 0.5em;}#sk-container-id-1 div.sk-estimator:hover {background-color: #d4ebff;}#sk-container-id-1 div.sk-parallel-item::after {content: \"\";width: 100%;border-bottom: 1px solid gray;flex-grow: 1;}#sk-container-id-1 div.sk-label:hover label.sk-toggleable__label {background-color: #d4ebff;}#sk-container-id-1 div.sk-serial::before {content: \"\";position: absolute;border-left: 1px solid gray;box-sizing: border-box;top: 0;bottom: 0;left: 50%;z-index: 0;}#sk-container-id-1 div.sk-serial {display: flex;flex-direction: column;align-items: center;background-color: white;padding-right: 0.2em;padding-left: 0.2em;position: relative;}#sk-container-id-1 div.sk-item {position: relative;z-index: 1;}#sk-container-id-1 div.sk-parallel {display: flex;align-items: stretch;justify-content: center;background-color: white;position: relative;}#sk-container-id-1 div.sk-item::before, #sk-container-id-1 div.sk-parallel-item::before {content: \"\";position: absolute;border-left: 1px solid gray;box-sizing: border-box;top: 0;bottom: 0;left: 50%;z-index: -1;}#sk-container-id-1 div.sk-parallel-item {display: flex;flex-direction: column;z-index: 1;position: relative;background-color: white;}#sk-container-id-1 div.sk-parallel-item:first-child::after {align-self: flex-end;width: 50%;}#sk-container-id-1 div.sk-parallel-item:last-child::after {align-self: flex-start;width: 50%;}#sk-container-id-1 div.sk-parallel-item:only-child::after {width: 0;}#sk-container-id-1 div.sk-dashed-wrapped {border: 1px dashed gray;margin: 0 0.4em 0.5em 0.4em;box-sizing: border-box;padding-bottom: 0.4em;background-color: white;}#sk-container-id-1 div.sk-label label {font-family: monospace;font-weight: bold;display: inline-block;line-height: 1.2em;}#sk-container-id-1 div.sk-label-container {text-align: center;}#sk-container-id-1 div.sk-container {/* jupyter's `normalize.less` sets `[hidden] { display: none; }` but bootstrap.min.css set `[hidden] { display: none !important; }` so we also need the `!important` here to be able to override the default hidden behavior on the sphinx rendered scikit-learn.org. See: https://github.com/scikit-learn/scikit-learn/issues/21755 */display: inline-block !important;position: relative;}#sk-container-id-1 div.sk-text-repr-fallback {display: none;}</style><div id=\"sk-container-id-1\" class=\"sk-top-container\"><div class=\"sk-text-repr-fallback\"><pre>Ridge(alpha=4.650896942230766, random_state=0, solver=&#x27;lsqr&#x27;)</pre><b>In a Jupyter environment, please rerun this cell to show the HTML representation or trust the notebook. <br />On GitHub, the HTML representation is unable to render, please try loading this page with nbviewer.org.</b></div><div class=\"sk-container\" hidden><div class=\"sk-item\"><div class=\"sk-estimator sk-toggleable\"><input class=\"sk-toggleable__control sk-hidden--visually\" id=\"sk-estimator-id-1\" type=\"checkbox\" checked><label for=\"sk-estimator-id-1\" class=\"sk-toggleable__label sk-toggleable__label-arrow\">Ridge</label><div class=\"sk-toggleable__content\"><pre>Ridge(alpha=4.650896942230766, random_state=0, solver=&#x27;lsqr&#x27;)</pre></div></div></div></div></div>"
      ],
      "text/plain": [
       "Ridge(alpha=4.650896942230766, random_state=0, solver='lsqr')"
      ]
     },
     "execution_count": 32,
     "metadata": {},
     "output_type": "execute_result"
    }
   ],
   "source": [
    "%%time\n",
    "ba = 4.650896942230766 # from 'ridge-final-op15.ipynb'\n",
    "ridge = Ridge(alpha=ba, fit_intercept=True, solver='lsqr', random_state=0)\n",
    "ridge.fit(X_train, y_train)"
   ]
  },
  {
   "cell_type": "markdown",
   "metadata": {},
   "source": [
    "#### モデルの学習｜スタッキング"
   ]
  },
  {
   "cell_type": "code",
   "execution_count": 33,
   "metadata": {
    "execution": {
     "iopub.execute_input": "2024-10-11T12:35:10.053287Z",
     "iopub.status.busy": "2024-10-11T12:35:10.052465Z",
     "iopub.status.idle": "2024-10-11T12:35:10.068333Z",
     "shell.execute_reply": "2024-10-11T12:35:10.062953Z",
     "shell.execute_reply.started": "2024-10-11T12:35:10.053231Z"
    }
   },
   "outputs": [],
   "source": [
    "# RMSLE を計算する関数\n",
    "def rmsle(y_true, y_pred):  \n",
    "    # クリップして無限大や非常に大きな値を避ける\n",
    "    y_true_clipped = np.clip(y_true, 0, np.log(np.finfo(np.float64).max))\n",
    "    y_pred_clipped = np.clip(y_pred, 0, np.log(np.finfo(np.float64).max))\n",
    "    \n",
    "    return np.sqrt(mean_squared_log_error(y_true_clipped, y_pred_clipped))"
   ]
  },
  {
   "cell_type": "code",
   "execution_count": 38,
   "metadata": {
    "execution": {
     "iopub.execute_input": "2024-10-11T12:54:04.186276Z",
     "iopub.status.busy": "2024-10-11T12:54:04.185797Z",
     "iopub.status.idle": "2024-10-11T12:54:56.033846Z",
     "shell.execute_reply": "2024-10-11T12:54:56.032117Z",
     "shell.execute_reply.started": "2024-10-11T12:54:04.186233Z"
    }
   },
   "outputs": [
    {
     "name": "stdout",
     "output_type": "stream",
     "text": [
      "CPU times: user 3min 18s, sys: 140 ms, total: 3min 18s\n",
      "Wall time: 51.8 s\n"
     ]
    }
   ],
   "source": [
    "%%time\n",
    "# スタッキング用の予測を取得\n",
    "gbm_train_pred = gbm.predict(X_train)\n",
    "gbm_test_pred = gbm.predict(X_test)\n",
    "ridge_train_pred = ridge.predict(X_train)\n",
    "ridge_test_pred = ridge.predict(X_test)\n",
    "\n",
    "# スタッキングデータセットの作成\n",
    "X_meta_train = np.column_stack((gbm_train_pred, ridge_train_pred))\n",
    "X_meta_test = np.column_stack((gbm_test_pred, ridge_test_pred))"
   ]
  },
  {
   "cell_type": "code",
   "execution_count": 131,
   "metadata": {
    "execution": {
     "iopub.execute_input": "2024-10-11T13:32:53.244916Z",
     "iopub.status.busy": "2024-10-11T13:32:53.244021Z",
     "iopub.status.idle": "2024-10-11T13:32:53.253313Z",
     "shell.execute_reply": "2024-10-11T13:32:53.251656Z",
     "shell.execute_reply.started": "2024-10-11T13:32:53.244862Z"
    }
   },
   "outputs": [],
   "source": [
    "# 最適化する目的関数の定義\n",
    "def objective(trial):\n",
    "    alpha = trial.suggest_loguniform('alpha', 1e-1, 1e+3)  # 正則化パラメータ\n",
    "    \n",
    "    # メタモデルの定義\n",
    "    mm = Ridge(alpha=alpha, fit_intercept=True, solver='lsqr', random_state=0) # メタモデルとして Ridge を使用\n",
    "    mm.fit(X_meta_train, y_train)\n",
    "\n",
    "    y_pred = mm.predict(X_meta_test)\n",
    "    return rmsle(y_test, y_pred)"
   ]
  },
  {
   "cell_type": "code",
   "execution_count": 132,
   "metadata": {
    "execution": {
     "iopub.execute_input": "2024-10-11T13:32:53.893528Z",
     "iopub.status.busy": "2024-10-11T13:32:53.892343Z",
     "iopub.status.idle": "2024-10-11T13:33:12.490963Z",
     "shell.execute_reply": "2024-10-11T13:33:12.489744Z",
     "shell.execute_reply.started": "2024-10-11T13:32:53.893464Z"
    }
   },
   "outputs": [
    {
     "name": "stdout",
     "output_type": "stream",
     "text": [
      "CPU times: user 37.8 s, sys: 27.5 s, total: 1min 5s\n",
      "Wall time: 18.6 s\n"
     ]
    }
   ],
   "source": [
    "%%time\n",
    "# ログレベルをWARNINGに設定\n",
    "optuna.logging.set_verbosity(optuna.logging.WARNING)\n",
    "\n",
    "# Optuna による最適化\n",
    "study = optuna.create_study(direction='minimize')\n",
    "study.optimize(objective, n_trials=100)  # 100回の試行"
   ]
  },
  {
   "cell_type": "code",
   "execution_count": 133,
   "metadata": {
    "execution": {
     "iopub.execute_input": "2024-10-11T13:33:12.494319Z",
     "iopub.status.busy": "2024-10-11T13:33:12.493408Z",
     "iopub.status.idle": "2024-10-11T13:33:12.507660Z",
     "shell.execute_reply": "2024-10-11T13:33:12.505729Z",
     "shell.execute_reply.started": "2024-10-11T13:33:12.494256Z"
    }
   },
   "outputs": [
    {
     "name": "stdout",
     "output_type": "stream",
     "text": [
      "Best parameters: {'alpha': 999.254771104757}\n",
      "Best RMSLE from cross-validation: 0.11439327777763351\n"
     ]
    }
   ],
   "source": [
    "# 最適な alpha の表示\n",
    "print(\"Best parameters:\", study.best_params)\n",
    "print(\"Best RMSLE from cross-validation:\", study.best_value)"
   ]
  },
  {
   "cell_type": "code",
   "execution_count": 134,
   "metadata": {
    "execution": {
     "iopub.execute_input": "2024-10-11T13:33:12.511750Z",
     "iopub.status.busy": "2024-10-11T13:33:12.510677Z",
     "iopub.status.idle": "2024-10-11T13:33:12.704763Z",
     "shell.execute_reply": "2024-10-11T13:33:12.702865Z",
     "shell.execute_reply.started": "2024-10-11T13:33:12.511683Z"
    }
   },
   "outputs": [
    {
     "name": "stdout",
     "output_type": "stream",
     "text": [
      "CPU times: user 176 ms, sys: 127 ms, total: 303 ms\n",
      "Wall time: 169 ms\n"
     ]
    },
    {
     "data": {
      "text/html": [
       "<style>#sk-container-id-8 {color: black;background-color: white;}#sk-container-id-8 pre{padding: 0;}#sk-container-id-8 div.sk-toggleable {background-color: white;}#sk-container-id-8 label.sk-toggleable__label {cursor: pointer;display: block;width: 100%;margin-bottom: 0;padding: 0.3em;box-sizing: border-box;text-align: center;}#sk-container-id-8 label.sk-toggleable__label-arrow:before {content: \"▸\";float: left;margin-right: 0.25em;color: #696969;}#sk-container-id-8 label.sk-toggleable__label-arrow:hover:before {color: black;}#sk-container-id-8 div.sk-estimator:hover label.sk-toggleable__label-arrow:before {color: black;}#sk-container-id-8 div.sk-toggleable__content {max-height: 0;max-width: 0;overflow: hidden;text-align: left;background-color: #f0f8ff;}#sk-container-id-8 div.sk-toggleable__content pre {margin: 0.2em;color: black;border-radius: 0.25em;background-color: #f0f8ff;}#sk-container-id-8 input.sk-toggleable__control:checked~div.sk-toggleable__content {max-height: 200px;max-width: 100%;overflow: auto;}#sk-container-id-8 input.sk-toggleable__control:checked~label.sk-toggleable__label-arrow:before {content: \"▾\";}#sk-container-id-8 div.sk-estimator input.sk-toggleable__control:checked~label.sk-toggleable__label {background-color: #d4ebff;}#sk-container-id-8 div.sk-label input.sk-toggleable__control:checked~label.sk-toggleable__label {background-color: #d4ebff;}#sk-container-id-8 input.sk-hidden--visually {border: 0;clip: rect(1px 1px 1px 1px);clip: rect(1px, 1px, 1px, 1px);height: 1px;margin: -1px;overflow: hidden;padding: 0;position: absolute;width: 1px;}#sk-container-id-8 div.sk-estimator {font-family: monospace;background-color: #f0f8ff;border: 1px dotted black;border-radius: 0.25em;box-sizing: border-box;margin-bottom: 0.5em;}#sk-container-id-8 div.sk-estimator:hover {background-color: #d4ebff;}#sk-container-id-8 div.sk-parallel-item::after {content: \"\";width: 100%;border-bottom: 1px solid gray;flex-grow: 1;}#sk-container-id-8 div.sk-label:hover label.sk-toggleable__label {background-color: #d4ebff;}#sk-container-id-8 div.sk-serial::before {content: \"\";position: absolute;border-left: 1px solid gray;box-sizing: border-box;top: 0;bottom: 0;left: 50%;z-index: 0;}#sk-container-id-8 div.sk-serial {display: flex;flex-direction: column;align-items: center;background-color: white;padding-right: 0.2em;padding-left: 0.2em;position: relative;}#sk-container-id-8 div.sk-item {position: relative;z-index: 1;}#sk-container-id-8 div.sk-parallel {display: flex;align-items: stretch;justify-content: center;background-color: white;position: relative;}#sk-container-id-8 div.sk-item::before, #sk-container-id-8 div.sk-parallel-item::before {content: \"\";position: absolute;border-left: 1px solid gray;box-sizing: border-box;top: 0;bottom: 0;left: 50%;z-index: -1;}#sk-container-id-8 div.sk-parallel-item {display: flex;flex-direction: column;z-index: 1;position: relative;background-color: white;}#sk-container-id-8 div.sk-parallel-item:first-child::after {align-self: flex-end;width: 50%;}#sk-container-id-8 div.sk-parallel-item:last-child::after {align-self: flex-start;width: 50%;}#sk-container-id-8 div.sk-parallel-item:only-child::after {width: 0;}#sk-container-id-8 div.sk-dashed-wrapped {border: 1px dashed gray;margin: 0 0.4em 0.5em 0.4em;box-sizing: border-box;padding-bottom: 0.4em;background-color: white;}#sk-container-id-8 div.sk-label label {font-family: monospace;font-weight: bold;display: inline-block;line-height: 1.2em;}#sk-container-id-8 div.sk-label-container {text-align: center;}#sk-container-id-8 div.sk-container {/* jupyter's `normalize.less` sets `[hidden] { display: none; }` but bootstrap.min.css set `[hidden] { display: none !important; }` so we also need the `!important` here to be able to override the default hidden behavior on the sphinx rendered scikit-learn.org. See: https://github.com/scikit-learn/scikit-learn/issues/21755 */display: inline-block !important;position: relative;}#sk-container-id-8 div.sk-text-repr-fallback {display: none;}</style><div id=\"sk-container-id-8\" class=\"sk-top-container\"><div class=\"sk-text-repr-fallback\"><pre>Ridge(alpha=999.254771104757, random_state=0, solver=&#x27;lsqr&#x27;)</pre><b>In a Jupyter environment, please rerun this cell to show the HTML representation or trust the notebook. <br />On GitHub, the HTML representation is unable to render, please try loading this page with nbviewer.org.</b></div><div class=\"sk-container\" hidden><div class=\"sk-item\"><div class=\"sk-estimator sk-toggleable\"><input class=\"sk-toggleable__control sk-hidden--visually\" id=\"sk-estimator-id-8\" type=\"checkbox\" checked><label for=\"sk-estimator-id-8\" class=\"sk-toggleable__label sk-toggleable__label-arrow\">Ridge</label><div class=\"sk-toggleable__content\"><pre>Ridge(alpha=999.254771104757, random_state=0, solver=&#x27;lsqr&#x27;)</pre></div></div></div></div></div>"
      ],
      "text/plain": [
       "Ridge(alpha=999.254771104757, random_state=0, solver='lsqr')"
      ]
     },
     "execution_count": 134,
     "metadata": {},
     "output_type": "execute_result"
    }
   ],
   "source": [
    "%%time\n",
    "# 最適なモデルで学習を行う\n",
    "ba = study.best_params['alpha']\n",
    "mm = Ridge(alpha=ba, fit_intercept=True, solver='lsqr', random_state=0)\n",
    "mm.fit(X_meta_train, y_train)"
   ]
  },
  {
   "cell_type": "markdown",
   "metadata": {},
   "source": [
    "#### 訓練データに対する予測｜LightGBM"
   ]
  },
  {
   "cell_type": "code",
   "execution_count": 44,
   "metadata": {
    "execution": {
     "iopub.execute_input": "2024-10-11T12:55:41.896519Z",
     "iopub.status.busy": "2024-10-11T12:55:41.896067Z",
     "iopub.status.idle": "2024-10-11T12:56:17.969304Z",
     "shell.execute_reply": "2024-10-11T12:56:17.967663Z",
     "shell.execute_reply.started": "2024-10-11T12:55:41.896478Z"
    }
   },
   "outputs": [],
   "source": [
    "y_train_pred = gbm.predict(X_train)"
   ]
  },
  {
   "cell_type": "code",
   "execution_count": 45,
   "metadata": {
    "execution": {
     "iopub.execute_input": "2024-10-11T12:56:17.972530Z",
     "iopub.status.busy": "2024-10-11T12:56:17.971849Z",
     "iopub.status.idle": "2024-10-11T12:56:18.128294Z",
     "shell.execute_reply": "2024-10-11T12:56:18.126925Z",
     "shell.execute_reply.started": "2024-10-11T12:56:17.972440Z"
    }
   },
   "outputs": [
    {
     "name": "stdout",
     "output_type": "stream",
     "text": [
      "RMSLE for train data: 0.4721683399967828\n"
     ]
    }
   ],
   "source": [
    "lgb_train_rmsle = rmsle(np.expm1(y_train), np.expm1(y_train_pred))\n",
    "print(\"RMSLE for train data:\", lgb_train_rmsle)"
   ]
  },
  {
   "cell_type": "markdown",
   "metadata": {},
   "source": [
    "#### テストデータに対する予測｜LightGBM"
   ]
  },
  {
   "cell_type": "code",
   "execution_count": 46,
   "metadata": {
    "execution": {
     "iopub.execute_input": "2024-10-11T12:56:18.130709Z",
     "iopub.status.busy": "2024-10-11T12:56:18.130221Z",
     "iopub.status.idle": "2024-10-11T12:56:33.306174Z",
     "shell.execute_reply": "2024-10-11T12:56:33.304791Z",
     "shell.execute_reply.started": "2024-10-11T12:56:18.130662Z"
    }
   },
   "outputs": [],
   "source": [
    "y_test_pred = gbm.predict(X_test)"
   ]
  },
  {
   "cell_type": "code",
   "execution_count": 47,
   "metadata": {
    "execution": {
     "iopub.execute_input": "2024-10-11T12:56:33.310219Z",
     "iopub.status.busy": "2024-10-11T12:56:33.309731Z",
     "iopub.status.idle": "2024-10-11T12:56:33.389605Z",
     "shell.execute_reply": "2024-10-11T12:56:33.388067Z",
     "shell.execute_reply.started": "2024-10-11T12:56:33.310174Z"
    }
   },
   "outputs": [
    {
     "name": "stdout",
     "output_type": "stream",
     "text": [
      "RMSLE for test data: 0.47920502968520845\n"
     ]
    }
   ],
   "source": [
    "lgb_test_rmsle = rmsle(np.expm1(y_test), np.expm1(y_test_pred))\n",
    "print(\"RMSLE for test data:\", lgb_test_rmsle)"
   ]
  },
  {
   "cell_type": "markdown",
   "metadata": {},
   "source": [
    "#### 訓練データに対する予測｜Ridge回帰"
   ]
  },
  {
   "cell_type": "code",
   "execution_count": 96,
   "metadata": {
    "execution": {
     "iopub.execute_input": "2024-10-11T13:16:25.297506Z",
     "iopub.status.busy": "2024-10-11T13:16:25.296976Z",
     "iopub.status.idle": "2024-10-11T13:16:25.478270Z",
     "shell.execute_reply": "2024-10-11T13:16:25.476575Z",
     "shell.execute_reply.started": "2024-10-11T13:16:25.297459Z"
    }
   },
   "outputs": [],
   "source": [
    "y_train_pred = ridge.predict(X_train)"
   ]
  },
  {
   "cell_type": "code",
   "execution_count": 97,
   "metadata": {
    "execution": {
     "iopub.execute_input": "2024-10-11T13:16:28.025436Z",
     "iopub.status.busy": "2024-10-11T13:16:28.024969Z",
     "iopub.status.idle": "2024-10-11T13:16:28.155233Z",
     "shell.execute_reply": "2024-10-11T13:16:28.153840Z",
     "shell.execute_reply.started": "2024-10-11T13:16:28.025385Z"
    }
   },
   "outputs": [
    {
     "name": "stdout",
     "output_type": "stream",
     "text": [
      "RMSLE for train data: 0.4309917335204848\n"
     ]
    }
   ],
   "source": [
    "ridge_train_rmsle = rmsle(np.expm1(y_train), np.expm1(y_train_pred))\n",
    "print(\"RMSLE for train data:\", ridge_train_rmsle)"
   ]
  },
  {
   "cell_type": "markdown",
   "metadata": {},
   "source": [
    "#### テストデータに対する予測｜Ridge回帰"
   ]
  },
  {
   "cell_type": "code",
   "execution_count": 50,
   "metadata": {
    "execution": {
     "iopub.execute_input": "2024-10-11T12:56:33.699802Z",
     "iopub.status.busy": "2024-10-11T12:56:33.699399Z",
     "iopub.status.idle": "2024-10-11T12:56:33.760996Z",
     "shell.execute_reply": "2024-10-11T12:56:33.759656Z",
     "shell.execute_reply.started": "2024-10-11T12:56:33.699761Z"
    }
   },
   "outputs": [],
   "source": [
    "y_test_pred = ridge.predict(X_test)"
   ]
  },
  {
   "cell_type": "code",
   "execution_count": 51,
   "metadata": {
    "execution": {
     "iopub.execute_input": "2024-10-11T12:56:33.763031Z",
     "iopub.status.busy": "2024-10-11T12:56:33.762576Z",
     "iopub.status.idle": "2024-10-11T12:56:33.830933Z",
     "shell.execute_reply": "2024-10-11T12:56:33.829507Z",
     "shell.execute_reply.started": "2024-10-11T12:56:33.762978Z"
    }
   },
   "outputs": [
    {
     "name": "stdout",
     "output_type": "stream",
     "text": [
      "RMSLE for test data: 0.4592817310146603\n"
     ]
    }
   ],
   "source": [
    "ridge_test_rmsle = rmsle(np.expm1(y_test), np.expm1(y_test_pred))\n",
    "print(\"RMSLE for test data:\", ridge_test_rmsle)"
   ]
  },
  {
   "cell_type": "markdown",
   "metadata": {},
   "source": [
    "#### 訓練データに対する予測｜スタッキング"
   ]
  },
  {
   "cell_type": "code",
   "execution_count": 135,
   "metadata": {
    "execution": {
     "iopub.execute_input": "2024-10-11T13:33:12.708644Z",
     "iopub.status.busy": "2024-10-11T13:33:12.708062Z",
     "iopub.status.idle": "2024-10-11T13:33:12.800631Z",
     "shell.execute_reply": "2024-10-11T13:33:12.798911Z",
     "shell.execute_reply.started": "2024-10-11T13:33:12.708586Z"
    }
   },
   "outputs": [],
   "source": [
    "y_train_pred = y_train_pred = mm.predict(X_meta_train)"
   ]
  },
  {
   "cell_type": "code",
   "execution_count": 136,
   "metadata": {
    "execution": {
     "iopub.execute_input": "2024-10-11T13:33:12.806299Z",
     "iopub.status.busy": "2024-10-11T13:33:12.803470Z",
     "iopub.status.idle": "2024-10-11T13:33:13.022761Z",
     "shell.execute_reply": "2024-10-11T13:33:13.021157Z",
     "shell.execute_reply.started": "2024-10-11T13:33:12.806217Z"
    }
   },
   "outputs": [
    {
     "name": "stdout",
     "output_type": "stream",
     "text": [
      "RMSLE for train data: 0.429413868922979\n"
     ]
    }
   ],
   "source": [
    "ens_mm_train_rmsle = rmsle(np.expm1(y_train), np.expm1(y_train_pred))\n",
    "print(\"RMSLE for train data:\", ens_mm_train_rmsle)"
   ]
  },
  {
   "cell_type": "markdown",
   "metadata": {},
   "source": [
    "#### テストデータに対する予測｜スタッキング"
   ]
  },
  {
   "cell_type": "code",
   "execution_count": 137,
   "metadata": {
    "execution": {
     "iopub.execute_input": "2024-10-11T13:33:13.025505Z",
     "iopub.status.busy": "2024-10-11T13:33:13.024907Z",
     "iopub.status.idle": "2024-10-11T13:33:13.094480Z",
     "shell.execute_reply": "2024-10-11T13:33:13.092168Z",
     "shell.execute_reply.started": "2024-10-11T13:33:13.025442Z"
    }
   },
   "outputs": [],
   "source": [
    "y_test_pred = y_train_pred = mm.predict(X_meta_test)"
   ]
  },
  {
   "cell_type": "code",
   "execution_count": 138,
   "metadata": {
    "execution": {
     "iopub.execute_input": "2024-10-11T13:33:13.098602Z",
     "iopub.status.busy": "2024-10-11T13:33:13.097344Z",
     "iopub.status.idle": "2024-10-11T13:33:13.192180Z",
     "shell.execute_reply": "2024-10-11T13:33:13.190810Z",
     "shell.execute_reply.started": "2024-10-11T13:33:13.098493Z"
    }
   },
   "outputs": [
    {
     "name": "stdout",
     "output_type": "stream",
     "text": [
      "RMSLE for test data: 0.4555081359993938\n"
     ]
    }
   ],
   "source": [
    "ens_mm_test_rmsle = rmsle(np.expm1(y_test), np.expm1(y_test_pred))\n",
    "print(\"RMSLE for test data:\", ens_mm_test_rmsle)"
   ]
  },
  {
   "cell_type": "markdown",
   "metadata": {},
   "source": [
    "#### 訓練データに対する予測｜単純平均"
   ]
  },
  {
   "cell_type": "code",
   "execution_count": 109,
   "metadata": {
    "execution": {
     "iopub.execute_input": "2024-10-11T13:28:13.156807Z",
     "iopub.status.busy": "2024-10-11T13:28:13.156245Z",
     "iopub.status.idle": "2024-10-11T13:28:49.423616Z",
     "shell.execute_reply": "2024-10-11T13:28:49.422362Z",
     "shell.execute_reply.started": "2024-10-11T13:28:13.156761Z"
    }
   },
   "outputs": [],
   "source": [
    "y_train_pred = (gbm.predict(X_train) + ridge.predict(X_train)) / 2"
   ]
  },
  {
   "cell_type": "code",
   "execution_count": 110,
   "metadata": {
    "execution": {
     "iopub.execute_input": "2024-10-11T13:28:49.426397Z",
     "iopub.status.busy": "2024-10-11T13:28:49.425981Z",
     "iopub.status.idle": "2024-10-11T13:28:49.560320Z",
     "shell.execute_reply": "2024-10-11T13:28:49.558710Z",
     "shell.execute_reply.started": "2024-10-11T13:28:49.426353Z"
    }
   },
   "outputs": [
    {
     "name": "stdout",
     "output_type": "stream",
     "text": [
      "RMSLE for train data: 0.43847571119071616\n"
     ]
    }
   ],
   "source": [
    "ens_ave_train_rmsle = rmsle(np.expm1(y_train), np.expm1(y_train_pred))\n",
    "print(\"RMSLE for train data:\", ens_ave_train_rmsle)"
   ]
  },
  {
   "cell_type": "markdown",
   "metadata": {},
   "source": [
    "#### テストデータに対する予測｜単純平均"
   ]
  },
  {
   "cell_type": "code",
   "execution_count": 60,
   "metadata": {
    "execution": {
     "iopub.execute_input": "2024-10-11T12:57:43.753234Z",
     "iopub.status.busy": "2024-10-11T12:57:43.752693Z",
     "iopub.status.idle": "2024-10-11T12:57:59.714933Z",
     "shell.execute_reply": "2024-10-11T12:57:59.713642Z",
     "shell.execute_reply.started": "2024-10-11T12:57:43.753175Z"
    }
   },
   "outputs": [],
   "source": [
    "y_test_pred = (gbm.predict(X_test) + ridge.predict(X_test)) / 2"
   ]
  },
  {
   "cell_type": "code",
   "execution_count": 61,
   "metadata": {
    "execution": {
     "iopub.execute_input": "2024-10-11T12:57:59.720235Z",
     "iopub.status.busy": "2024-10-11T12:57:59.718995Z",
     "iopub.status.idle": "2024-10-11T12:57:59.792225Z",
     "shell.execute_reply": "2024-10-11T12:57:59.790873Z",
     "shell.execute_reply.started": "2024-10-11T12:57:59.720170Z"
    }
   },
   "outputs": [
    {
     "name": "stdout",
     "output_type": "stream",
     "text": [
      "RMSLE for test data: 0.4558614136574679\n"
     ]
    }
   ],
   "source": [
    "ens_ave_test_rmsle = rmsle(np.expm1(y_test), np.expm1(y_test_pred))\n",
    "print(\"RMSLE for test data:\", ens_ave_test_rmsle)"
   ]
  },
  {
   "cell_type": "markdown",
   "metadata": {},
   "source": [
    "#### 訓練データに対する予測｜重み付き平均"
   ]
  },
  {
   "cell_type": "code",
   "execution_count": 62,
   "metadata": {
    "execution": {
     "iopub.execute_input": "2024-10-11T12:57:59.794684Z",
     "iopub.status.busy": "2024-10-11T12:57:59.794068Z",
     "iopub.status.idle": "2024-10-11T12:57:59.801878Z",
     "shell.execute_reply": "2024-10-11T12:57:59.800379Z",
     "shell.execute_reply.started": "2024-10-11T12:57:59.794604Z"
    }
   },
   "outputs": [],
   "source": [
    "best_rmsle = float('inf')\n",
    "best_weights = (0, 0)"
   ]
  },
  {
   "cell_type": "code",
   "execution_count": 63,
   "metadata": {
    "execution": {
     "iopub.execute_input": "2024-10-11T12:57:59.804537Z",
     "iopub.status.busy": "2024-10-11T12:57:59.803960Z",
     "iopub.status.idle": "2024-10-11T13:03:30.408915Z",
     "shell.execute_reply": "2024-10-11T13:03:30.407536Z",
     "shell.execute_reply.started": "2024-10-11T12:57:59.804463Z"
    }
   },
   "outputs": [
    {
     "name": "stdout",
     "output_type": "stream",
     "text": [
      "Weights: (0.1, 0.9) - RMSLE: 0.43026\n",
      "Weights: (0.2, 0.8) - RMSLE: 0.43064\n",
      "Weights: (0.3, 0.7) - RMSLE: 0.43215\n",
      "Weights: (0.4, 0.6) - RMSLE: 0.43477\n",
      "Weights: (0.5, 0.5) - RMSLE: 0.43848\n",
      "Weights: (0.6, 0.4) - RMSLE: 0.44324\n",
      "Weights: (0.7, 0.3) - RMSLE: 0.44904\n",
      "Weights: (0.8, 0.2) - RMSLE: 0.45582\n",
      "Weights: (0.9, 0.1) - RMSLE: 0.46355\n",
      "\n",
      "Best weights: (0.1, 0.9)\n",
      "Best RMSLE: 0.43026\n",
      "CPU times: user 20min 51s, sys: 1.28 s, total: 20min 53s\n",
      "Wall time: 5min 30s\n"
     ]
    }
   ],
   "source": [
    "%%time\n",
    "# 最適な重みを探索する\n",
    "for w1 in np.arange(0.1, 1.0, 0.1):\n",
    "    w2 = 1 - w1\n",
    "    y_train_pred = w1 * gbm.predict(X_train) + w2 * ridge.predict(X_train)\n",
    "    \n",
    "    current_rmsle = rmsle(np.expm1(y_train), np.expm1(y_train_pred))\n",
    "    \n",
    "    if current_rmsle < best_rmsle:\n",
    "        best_rmsle = current_rmsle\n",
    "        best_weights = (w1, w2)\n",
    "    \n",
    "    print(f\"Weights: ({w1:.1f}, {w2:.1f}) - RMSLE: {current_rmsle:.5f}\")\n",
    "\n",
    "print(f\"\\nBest weights: {best_weights}\")\n",
    "print(f\"Best RMSLE: {best_rmsle:.5f}\")"
   ]
  },
  {
   "cell_type": "code",
   "execution_count": 64,
   "metadata": {
    "execution": {
     "iopub.execute_input": "2024-10-11T13:03:30.411298Z",
     "iopub.status.busy": "2024-10-11T13:03:30.410879Z",
     "iopub.status.idle": "2024-10-11T13:04:06.984537Z",
     "shell.execute_reply": "2024-10-11T13:04:06.983046Z",
     "shell.execute_reply.started": "2024-10-11T13:03:30.411253Z"
    }
   },
   "outputs": [],
   "source": [
    "# 最適な重みを使用して予測を行う\n",
    "w1, w2 = best_weights\n",
    "y_train_pred = w1 * gbm.predict(X_train) + w2 * ridge.predict(X_train)"
   ]
  },
  {
   "cell_type": "code",
   "execution_count": 65,
   "metadata": {
    "execution": {
     "iopub.execute_input": "2024-10-11T13:04:06.987093Z",
     "iopub.status.busy": "2024-10-11T13:04:06.986677Z",
     "iopub.status.idle": "2024-10-11T13:04:07.115430Z",
     "shell.execute_reply": "2024-10-11T13:04:07.114302Z",
     "shell.execute_reply.started": "2024-10-11T13:04:06.987050Z"
    }
   },
   "outputs": [
    {
     "name": "stdout",
     "output_type": "stream",
     "text": [
      "RMSLE for train data: 0.4302560437010007\n"
     ]
    }
   ],
   "source": [
    "ens_wave_train_rmsle = rmsle(np.expm1(y_train), np.expm1(y_train_pred))\n",
    "print(\"RMSLE for train data:\", ens_wave_train_rmsle)"
   ]
  },
  {
   "cell_type": "markdown",
   "metadata": {},
   "source": [
    "#### テストデータに対する予測｜重み付き平均"
   ]
  },
  {
   "cell_type": "code",
   "execution_count": 66,
   "metadata": {
    "execution": {
     "iopub.execute_input": "2024-10-11T13:04:07.118391Z",
     "iopub.status.busy": "2024-10-11T13:04:07.117147Z",
     "iopub.status.idle": "2024-10-11T13:06:28.087411Z",
     "shell.execute_reply": "2024-10-11T13:06:28.085857Z",
     "shell.execute_reply.started": "2024-10-11T13:04:07.118331Z"
    }
   },
   "outputs": [
    {
     "name": "stdout",
     "output_type": "stream",
     "text": [
      "Weights: (0.1, 0.9) - RMSLE: 0.45642\n",
      "Weights: (0.2, 0.8) - RMSLE: 0.45463\n",
      "Weights: (0.3, 0.7) - RMSLE: 0.45394\n",
      "Weights: (0.4, 0.6) - RMSLE: 0.45435\n",
      "Weights: (0.5, 0.5) - RMSLE: 0.45586\n",
      "Weights: (0.6, 0.4) - RMSLE: 0.45845\n",
      "Weights: (0.7, 0.3) - RMSLE: 0.46211\n",
      "Weights: (0.8, 0.2) - RMSLE: 0.46681\n",
      "Weights: (0.9, 0.1) - RMSLE: 0.47252\n",
      "\n",
      "Best weights: (0.1, 0.9)\n",
      "Best RMSLE: 0.43026\n",
      "CPU times: user 8min 57s, sys: 470 ms, total: 8min 57s\n",
      "Wall time: 2min 20s\n"
     ]
    }
   ],
   "source": [
    "%%time\n",
    "# 最適な重みを探索する\n",
    "for w1 in np.arange(0.1, 1.0, 0.1):\n",
    "    w2 = 1 - w1\n",
    "    y_test_pred = w1 * gbm.predict(X_test) + w2 * ridge.predict(X_test)\n",
    "    \n",
    "    current_rmsle = rmsle(np.expm1(y_test), np.expm1(y_test_pred))\n",
    "    \n",
    "    if current_rmsle < best_rmsle:\n",
    "        best_rmsle = current_rmsle\n",
    "        best_weights = (w1, w2)\n",
    "    \n",
    "    print(f\"Weights: ({w1:.1f}, {w2:.1f}) - RMSLE: {current_rmsle:.5f}\")\n",
    "\n",
    "print(f\"\\nBest weights: {best_weights}\")\n",
    "print(f\"Best RMSLE: {best_rmsle:.5f}\")"
   ]
  },
  {
   "cell_type": "code",
   "execution_count": 67,
   "metadata": {
    "execution": {
     "iopub.execute_input": "2024-10-11T13:06:28.092304Z",
     "iopub.status.busy": "2024-10-11T13:06:28.091812Z",
     "iopub.status.idle": "2024-10-11T13:06:44.236978Z",
     "shell.execute_reply": "2024-10-11T13:06:44.235301Z",
     "shell.execute_reply.started": "2024-10-11T13:06:28.092261Z"
    }
   },
   "outputs": [],
   "source": [
    "# 最適な重みを使用して予測を行う\n",
    "w1, w2 = best_weights\n",
    "y_test_pred = w1*gbm.predict(X_test) + w2*ridge.predict(X_test)"
   ]
  },
  {
   "cell_type": "code",
   "execution_count": 68,
   "metadata": {
    "execution": {
     "iopub.execute_input": "2024-10-11T13:06:44.238974Z",
     "iopub.status.busy": "2024-10-11T13:06:44.238556Z",
     "iopub.status.idle": "2024-10-11T13:06:44.295750Z",
     "shell.execute_reply": "2024-10-11T13:06:44.294193Z",
     "shell.execute_reply.started": "2024-10-11T13:06:44.238932Z"
    }
   },
   "outputs": [
    {
     "name": "stdout",
     "output_type": "stream",
     "text": [
      "RMSLE for test data: 0.45641746133316025\n"
     ]
    }
   ],
   "source": [
    "ens_wave_test_rmsle = rmsle(np.expm1(y_test), np.expm1(y_test_pred))\n",
    "print(\"RMSLE for test data:\", ens_wave_test_rmsle)"
   ]
  },
  {
   "cell_type": "markdown",
   "metadata": {},
   "source": [
    "#### 訓練データに対するRMSLEの比較"
   ]
  },
  {
   "cell_type": "code",
   "execution_count": 146,
   "metadata": {
    "execution": {
     "iopub.execute_input": "2024-10-11T13:39:13.890581Z",
     "iopub.status.busy": "2024-10-11T13:39:13.889962Z",
     "iopub.status.idle": "2024-10-11T13:39:13.915711Z",
     "shell.execute_reply": "2024-10-11T13:39:13.913967Z",
     "shell.execute_reply.started": "2024-10-11T13:39:13.890504Z"
    }
   },
   "outputs": [
    {
     "data": {
      "text/html": [
       "<div>\n",
       "<style scoped>\n",
       "    .dataframe tbody tr th:only-of-type {\n",
       "        vertical-align: middle;\n",
       "    }\n",
       "\n",
       "    .dataframe tbody tr th {\n",
       "        vertical-align: top;\n",
       "    }\n",
       "\n",
       "    .dataframe thead th {\n",
       "        text-align: right;\n",
       "    }\n",
       "</style>\n",
       "<table border=\"1\" class=\"dataframe\">\n",
       "  <thead>\n",
       "    <tr style=\"text-align: right;\">\n",
       "      <th></th>\n",
       "      <th>モデル</th>\n",
       "      <th>値</th>\n",
       "    </tr>\n",
       "  </thead>\n",
       "  <tbody>\n",
       "    <tr>\n",
       "      <th>2</th>\n",
       "      <td>ens_mm_train_rmsle</td>\n",
       "      <td>0.42941</td>\n",
       "    </tr>\n",
       "    <tr>\n",
       "      <th>4</th>\n",
       "      <td>ens_weighted_ave_train_rmsle</td>\n",
       "      <td>0.43026</td>\n",
       "    </tr>\n",
       "    <tr>\n",
       "      <th>1</th>\n",
       "      <td>ridge_train_rmsle</td>\n",
       "      <td>0.43099</td>\n",
       "    </tr>\n",
       "    <tr>\n",
       "      <th>3</th>\n",
       "      <td>ens_ave_train_rmsle</td>\n",
       "      <td>0.43848</td>\n",
       "    </tr>\n",
       "    <tr>\n",
       "      <th>0</th>\n",
       "      <td>lgb_train_rmsle</td>\n",
       "      <td>0.47217</td>\n",
       "    </tr>\n",
       "  </tbody>\n",
       "</table>\n",
       "</div>"
      ],
      "text/plain": [
       "                            モデル        値\n",
       "2            ens_mm_train_rmsle  0.42941\n",
       "4  ens_weighted_ave_train_rmsle  0.43026\n",
       "1             ridge_train_rmsle  0.43099\n",
       "3           ens_ave_train_rmsle  0.43848\n",
       "0               lgb_train_rmsle  0.47217"
      ]
     },
     "metadata": {},
     "output_type": "display_data"
    }
   ],
   "source": [
    "train_result = {\n",
    "    \"モデル\": [\n",
    "        \"lgb_train_rmsle\",\n",
    "        \"ridge_train_rmsle\",\n",
    "        \"ens_mm_train_rmsle\",\n",
    "        \"ens_ave_train_rmsle\",\n",
    "        \"ens_weighted_ave_train_rmsle\"\n",
    "    ],\n",
    "    \"値\": [\n",
    "        f\"{lgb_train_rmsle:.5f}\",\n",
    "        f\"{ridge_train_rmsle:.5f}\",\n",
    "        f\"{ens_mm_train_rmsle:.5f}\",\n",
    "        f\"{ens_ave_train_rmsle:.5f}\",\n",
    "        f\"{ens_wave_train_rmsle:.5f}\"\n",
    "    ]\n",
    "}\n",
    "\n",
    "df_train_result = pd.DataFrame(train_result)\n",
    "display(df_train_result.sort_values(by='値', ascending=True))"
   ]
  },
  {
   "cell_type": "markdown",
   "metadata": {},
   "source": [
    "#### テストデータに対するRMSLEの比較"
   ]
  },
  {
   "cell_type": "code",
   "execution_count": 145,
   "metadata": {
    "execution": {
     "iopub.execute_input": "2024-10-11T13:38:58.797748Z",
     "iopub.status.busy": "2024-10-11T13:38:58.796418Z",
     "iopub.status.idle": "2024-10-11T13:38:58.829410Z",
     "shell.execute_reply": "2024-10-11T13:38:58.827631Z",
     "shell.execute_reply.started": "2024-10-11T13:38:58.797666Z"
    }
   },
   "outputs": [
    {
     "data": {
      "text/html": [
       "<div>\n",
       "<style scoped>\n",
       "    .dataframe tbody tr th:only-of-type {\n",
       "        vertical-align: middle;\n",
       "    }\n",
       "\n",
       "    .dataframe tbody tr th {\n",
       "        vertical-align: top;\n",
       "    }\n",
       "\n",
       "    .dataframe thead th {\n",
       "        text-align: right;\n",
       "    }\n",
       "</style>\n",
       "<table border=\"1\" class=\"dataframe\">\n",
       "  <thead>\n",
       "    <tr style=\"text-align: right;\">\n",
       "      <th></th>\n",
       "      <th>モデル</th>\n",
       "      <th>値</th>\n",
       "    </tr>\n",
       "  </thead>\n",
       "  <tbody>\n",
       "    <tr>\n",
       "      <th>2</th>\n",
       "      <td>ens_mm__test_rmsle</td>\n",
       "      <td>0.45551</td>\n",
       "    </tr>\n",
       "    <tr>\n",
       "      <th>3</th>\n",
       "      <td>ens_ave_test_rmsle</td>\n",
       "      <td>0.45586</td>\n",
       "    </tr>\n",
       "    <tr>\n",
       "      <th>4</th>\n",
       "      <td>ens_weighted_ave_test_rmsle</td>\n",
       "      <td>0.45642</td>\n",
       "    </tr>\n",
       "    <tr>\n",
       "      <th>1</th>\n",
       "      <td>ridge_test_rmsle</td>\n",
       "      <td>0.45928</td>\n",
       "    </tr>\n",
       "    <tr>\n",
       "      <th>0</th>\n",
       "      <td>lgb_test_rmsle</td>\n",
       "      <td>0.47921</td>\n",
       "    </tr>\n",
       "  </tbody>\n",
       "</table>\n",
       "</div>"
      ],
      "text/plain": [
       "                           モデル        値\n",
       "2           ens_mm__test_rmsle  0.45551\n",
       "3           ens_ave_test_rmsle  0.45586\n",
       "4  ens_weighted_ave_test_rmsle  0.45642\n",
       "1             ridge_test_rmsle  0.45928\n",
       "0               lgb_test_rmsle  0.47921"
      ]
     },
     "metadata": {},
     "output_type": "display_data"
    }
   ],
   "source": [
    "test_result = {\n",
    "    \"モデル\": [\n",
    "        \"lgb_test_rmsle\",\n",
    "        \"ridge_test_rmsle\",\n",
    "        \"ens_mm__test_rmsle\",\n",
    "        \"ens_ave_test_rmsle\",\n",
    "        \"ens_weighted_ave_test_rmsle\"\n",
    "    ],\n",
    "    \"値\": [\n",
    "        f\"{lgb_test_rmsle:.5f}\",\n",
    "        f\"{ridge_test_rmsle:.5f}\",\n",
    "        f\"{ens_mm_test_rmsle:.5f}\",\n",
    "        f\"{ens_ave_test_rmsle:.5f}\",\n",
    "        f\"{ens_wave_test_rmsle:.5f}\"\n",
    "    ]\n",
    "}\n",
    "\n",
    "df_test_result = pd.DataFrame(test_result)\n",
    "display(df_test_result.sort_values(by='値', ascending=True))"
   ]
  },
  {
   "cell_type": "code",
   "execution_count": 72,
   "metadata": {
    "_cell_guid": "e6e547d9-1b13-44a7-9cfa-1f4e6b1fe043",
    "_uuid": "1d836e0c-8b07-433b-96bd-682afbc0e650",
    "collapsed": false,
    "execution": {
     "iopub.execute_input": "2024-10-11T13:06:44.337523Z",
     "iopub.status.busy": "2024-10-11T13:06:44.337113Z",
     "iopub.status.idle": "2024-10-11T13:06:44.351395Z",
     "shell.execute_reply": "2024-10-11T13:06:44.350097Z",
     "shell.execute_reply.started": "2024-10-11T13:06:44.337481Z"
    },
    "jupyter": {
     "outputs_hidden": false
    }
   },
   "outputs": [
    {
     "name": "stdout",
     "output_type": "stream",
     "text": [
      "0:46:48.322302\n"
     ]
    }
   ],
   "source": [
    "stop_real = datetime.now()\n",
    "execution_time_real = stop_real - start_real\n",
    "print(execution_time_real)"
   ]
  },
  {
   "cell_type": "code",
   "execution_count": null,
   "metadata": {},
   "outputs": [],
   "source": []
  }
 ],
 "metadata": {
  "kaggle": {
   "accelerator": "none",
   "dataSources": [
    {
     "datasetId": 5545433,
     "sourceId": 9601502,
     "sourceType": "datasetVersion"
    }
   ],
   "dockerImageVersionId": 30786,
   "isGpuEnabled": false,
   "isInternetEnabled": false,
   "language": "python",
   "sourceType": "notebook"
  },
  "kernelspec": {
   "display_name": "Python 3 (ipykernel)",
   "language": "python",
   "name": "python3"
  },
  "language_info": {
   "codemirror_mode": {
    "name": "ipython",
    "version": 3
   },
   "file_extension": ".py",
   "mimetype": "text/x-python",
   "name": "python",
   "nbconvert_exporter": "python",
   "pygments_lexer": "ipython3",
   "version": "3.9.15"
  }
 },
 "nbformat": 4,
 "nbformat_minor": 4
}
