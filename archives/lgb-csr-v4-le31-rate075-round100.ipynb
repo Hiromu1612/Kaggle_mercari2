{
 "cells": [
  {
   "cell_type": "markdown",
   "metadata": {},
   "source": [
    "#### データの全体像\n",
    "train：1,482,535個のユーザーが投稿した商品\n",
    "\n",
    "test：693,359行で「価格（Price）」の項目がテストデータは含まれていないため、列数は「7」となっている \n",
    "\n",
    "* train_id / test _id – ユーザー投稿のID\n",
    "* name – 投稿のタイトル。タイトルに価格に関する情報がある場合（例：$20）はメルカリが事前に削除をして[rm]と置き換えている。\n",
    "* item_condition_id – ユーザーが指定した商品の状態(1~5,大きい方が状態が良い)\n",
    "* category_name – 投稿カテゴリー\n",
    "* brand_name – ブランドの名前\n",
    "* price – 訓練データのみ。実際に売られた価格。米ドル表示。今回のチャレンジの予測ターゲットとなる。\n",
    "* shipping – 送料のフラグ。「1」は販売者負担。「0」は購入者負担。\n",
    "* item_description – ユーザーが投稿した商品説明の全文。タイトルと同様に価格情報がある場合は[rm]と置き換えられている。"
   ]
  },
  {
   "cell_type": "code",
   "execution_count": 1,
   "metadata": {
    "execution": {
     "iopub.execute_input": "2024-10-11T05:26:04.872195Z",
     "iopub.status.busy": "2024-10-11T05:26:04.871773Z",
     "iopub.status.idle": "2024-10-11T05:26:04.896386Z",
     "shell.execute_reply": "2024-10-11T05:26:04.895297Z",
     "shell.execute_reply.started": "2024-10-11T05:26:04.872151Z"
    }
   },
   "outputs": [],
   "source": [
    "from datetime import datetime\n",
    "start_real = datetime.now() # 全体の処理時間の計測を開始する"
   ]
  },
  {
   "cell_type": "markdown",
   "metadata": {},
   "source": [
    "#### ライブラリのインポート"
   ]
  },
  {
   "cell_type": "code",
   "execution_count": 2,
   "metadata": {
    "_cell_guid": "e189abd2-46d2-4f2e-977b-50a25d3521d4",
    "_uuid": "96487335-2c48-482e-be5d-e80a6a096b5d",
    "collapsed": false,
    "execution": {
     "iopub.execute_input": "2024-10-11T05:26:04.898581Z",
     "iopub.status.busy": "2024-10-11T05:26:04.898223Z",
     "iopub.status.idle": "2024-10-11T05:26:08.939735Z",
     "shell.execute_reply": "2024-10-11T05:26:08.938740Z",
     "shell.execute_reply.started": "2024-10-11T05:26:04.898546Z"
    },
    "jupyter": {
     "outputs_hidden": false
    }
   },
   "outputs": [],
   "source": [
    "import numpy as np\n",
    "import pandas as pd\n",
    "import matplotlib.pyplot as plt\n",
    "import seaborn as sns\n",
    "from scipy.sparse import hstack\n",
    "%matplotlib inline\n",
    "\n",
    "from sklearn.feature_extraction.text import CountVectorizer, TfidfVectorizer\n",
    "from sklearn.preprocessing import OneHotEncoder\n",
    "# from scipy.sparse import save_npz, load_npz\n",
    "\n",
    "from sklearn.model_selection import train_test_split\n",
    "import lightgbm as lgb\n",
    "from sklearn.linear_model import Ridge\n",
    "from sklearn.metrics import mean_squared_log_error\n",
    "# from joblib import dump\n",
    "\n",
    "import gc\n",
    "import warnings\n",
    "warnings.simplefilter(\"ignore\")"
   ]
  },
  {
   "cell_type": "markdown",
   "metadata": {
    "_cell_guid": "19582f35-5a6a-4551-84e0-300bacebdd4c",
    "_uuid": "1ded81ac-afbf-4cbe-a8d7-5395f4536e62"
   },
   "source": [
    "#### データの読み込み"
   ]
  },
  {
   "cell_type": "code",
   "execution_count": 3,
   "metadata": {
    "_cell_guid": "b774ed87-a143-49f9-a9fc-a1877e602cfc",
    "_uuid": "6498a732-29e5-4505-b622-dfe51d096f88",
    "collapsed": false,
    "execution": {
     "iopub.execute_input": "2024-10-11T05:26:08.942386Z",
     "iopub.status.busy": "2024-10-11T05:26:08.941669Z",
     "iopub.status.idle": "2024-10-11T05:26:25.583076Z",
     "shell.execute_reply": "2024-10-11T05:26:25.581872Z",
     "shell.execute_reply.started": "2024-10-11T05:26:08.942333Z"
    },
    "jupyter": {
     "outputs_hidden": false
    }
   },
   "outputs": [
    {
     "name": "stdout",
     "output_type": "stream",
     "text": [
      "CPU times: user 9.64 s, sys: 1.09 s, total: 10.7 s\n",
      "Wall time: 16.6 s\n"
     ]
    }
   ],
   "source": [
    "%%time\n",
    "# Kaggle Notebook\n",
    "train = pd.read_csv(\"/kaggle/input/mercari-dataset/train.tsv\", delimiter='\\t')\n",
    "test = pd.read_csv(\"/kaggle/input/mercari-dataset/test.tsv\", delimiter='\\t')\n",
    "\n",
    "# Local\n",
    "# train = pd.read_csv(\"train.tsv\", delimiter='\\t')\n",
    "# test = pd.read_csv(\"test.tsv\", delimiter='\\t')"
   ]
  },
  {
   "cell_type": "code",
   "execution_count": 4,
   "metadata": {
    "execution": {
     "iopub.execute_input": "2024-10-11T05:26:25.584752Z",
     "iopub.status.busy": "2024-10-11T05:26:25.584407Z",
     "iopub.status.idle": "2024-10-11T05:26:25.988331Z",
     "shell.execute_reply": "2024-10-11T05:26:25.987170Z",
     "shell.execute_reply.started": "2024-10-11T05:26:25.584718Z"
    }
   },
   "outputs": [
    {
     "name": "stdout",
     "output_type": "stream",
     "text": [
      "(1482535, 8)\n",
      "<class 'pandas.core.frame.DataFrame'>\n",
      "RangeIndex: 1482535 entries, 0 to 1482534\n",
      "Data columns (total 8 columns):\n",
      " #   Column             Non-Null Count    Dtype  \n",
      "---  ------             --------------    -----  \n",
      " 0   train_id           1482535 non-null  int64  \n",
      " 1   name               1482535 non-null  object \n",
      " 2   item_condition_id  1482535 non-null  int64  \n",
      " 3   category_name      1476208 non-null  object \n",
      " 4   brand_name         849853 non-null   object \n",
      " 5   price              1482535 non-null  float64\n",
      " 6   shipping           1482535 non-null  int64  \n",
      " 7   item_description   1482529 non-null  object \n",
      "dtypes: float64(1), int64(3), object(4)\n",
      "memory usage: 90.5+ MB\n",
      "None\n"
     ]
    },
    {
     "data": {
      "text/html": [
       "<div>\n",
       "<style scoped>\n",
       "    .dataframe tbody tr th:only-of-type {\n",
       "        vertical-align: middle;\n",
       "    }\n",
       "\n",
       "    .dataframe tbody tr th {\n",
       "        vertical-align: top;\n",
       "    }\n",
       "\n",
       "    .dataframe thead th {\n",
       "        text-align: right;\n",
       "    }\n",
       "</style>\n",
       "<table border=\"1\" class=\"dataframe\">\n",
       "  <thead>\n",
       "    <tr style=\"text-align: right;\">\n",
       "      <th></th>\n",
       "      <th>train_id</th>\n",
       "      <th>name</th>\n",
       "      <th>item_condition_id</th>\n",
       "      <th>category_name</th>\n",
       "      <th>brand_name</th>\n",
       "      <th>price</th>\n",
       "      <th>shipping</th>\n",
       "      <th>item_description</th>\n",
       "    </tr>\n",
       "  </thead>\n",
       "  <tbody>\n",
       "    <tr>\n",
       "      <th>0</th>\n",
       "      <td>0</td>\n",
       "      <td>MLB Cincinnati Reds T Shirt Size XL</td>\n",
       "      <td>3</td>\n",
       "      <td>Men/Tops/T-shirts</td>\n",
       "      <td>NaN</td>\n",
       "      <td>10.0</td>\n",
       "      <td>1</td>\n",
       "      <td>No description yet</td>\n",
       "    </tr>\n",
       "    <tr>\n",
       "      <th>1</th>\n",
       "      <td>1</td>\n",
       "      <td>Razer BlackWidow Chroma Keyboard</td>\n",
       "      <td>3</td>\n",
       "      <td>Electronics/Computers &amp; Tablets/Components &amp; P...</td>\n",
       "      <td>Razer</td>\n",
       "      <td>52.0</td>\n",
       "      <td>0</td>\n",
       "      <td>This keyboard is in great condition and works ...</td>\n",
       "    </tr>\n",
       "    <tr>\n",
       "      <th>2</th>\n",
       "      <td>2</td>\n",
       "      <td>AVA-VIV Blouse</td>\n",
       "      <td>1</td>\n",
       "      <td>Women/Tops &amp; Blouses/Blouse</td>\n",
       "      <td>Target</td>\n",
       "      <td>10.0</td>\n",
       "      <td>1</td>\n",
       "      <td>Adorable top with a hint of lace and a key hol...</td>\n",
       "    </tr>\n",
       "    <tr>\n",
       "      <th>3</th>\n",
       "      <td>3</td>\n",
       "      <td>Leather Horse Statues</td>\n",
       "      <td>1</td>\n",
       "      <td>Home/Home Décor/Home Décor Accents</td>\n",
       "      <td>NaN</td>\n",
       "      <td>35.0</td>\n",
       "      <td>1</td>\n",
       "      <td>New with tags. Leather horses. Retail for [rm]...</td>\n",
       "    </tr>\n",
       "    <tr>\n",
       "      <th>4</th>\n",
       "      <td>4</td>\n",
       "      <td>24K GOLD plated rose</td>\n",
       "      <td>1</td>\n",
       "      <td>Women/Jewelry/Necklaces</td>\n",
       "      <td>NaN</td>\n",
       "      <td>44.0</td>\n",
       "      <td>0</td>\n",
       "      <td>Complete with certificate of authenticity</td>\n",
       "    </tr>\n",
       "  </tbody>\n",
       "</table>\n",
       "</div>"
      ],
      "text/plain": [
       "   train_id                                 name  item_condition_id  \\\n",
       "0         0  MLB Cincinnati Reds T Shirt Size XL                  3   \n",
       "1         1     Razer BlackWidow Chroma Keyboard                  3   \n",
       "2         2                       AVA-VIV Blouse                  1   \n",
       "3         3                Leather Horse Statues                  1   \n",
       "4         4                 24K GOLD plated rose                  1   \n",
       "\n",
       "                                       category_name brand_name  price  \\\n",
       "0                                  Men/Tops/T-shirts        NaN   10.0   \n",
       "1  Electronics/Computers & Tablets/Components & P...      Razer   52.0   \n",
       "2                        Women/Tops & Blouses/Blouse     Target   10.0   \n",
       "3                 Home/Home Décor/Home Décor Accents        NaN   35.0   \n",
       "4                            Women/Jewelry/Necklaces        NaN   44.0   \n",
       "\n",
       "   shipping                                   item_description  \n",
       "0         1                                 No description yet  \n",
       "1         0  This keyboard is in great condition and works ...  \n",
       "2         1  Adorable top with a hint of lace and a key hol...  \n",
       "3         1  New with tags. Leather horses. Retail for [rm]...  \n",
       "4         0          Complete with certificate of authenticity  "
      ]
     },
     "metadata": {},
     "output_type": "display_data"
    }
   ],
   "source": [
    "print(train.shape)\n",
    "print(train.info())\n",
    "display(train.head())"
   ]
  },
  {
   "cell_type": "code",
   "execution_count": 5,
   "metadata": {
    "execution": {
     "iopub.execute_input": "2024-10-11T05:26:25.992006Z",
     "iopub.status.busy": "2024-10-11T05:26:25.991510Z",
     "iopub.status.idle": "2024-10-11T05:26:26.183770Z",
     "shell.execute_reply": "2024-10-11T05:26:26.182635Z",
     "shell.execute_reply.started": "2024-10-11T05:26:25.991953Z"
    }
   },
   "outputs": [
    {
     "name": "stdout",
     "output_type": "stream",
     "text": [
      "(693359, 7)\n",
      "<class 'pandas.core.frame.DataFrame'>\n",
      "RangeIndex: 693359 entries, 0 to 693358\n",
      "Data columns (total 7 columns):\n",
      " #   Column             Non-Null Count   Dtype \n",
      "---  ------             --------------   ----- \n",
      " 0   test_id            693359 non-null  int64 \n",
      " 1   name               693359 non-null  object\n",
      " 2   item_condition_id  693359 non-null  int64 \n",
      " 3   category_name      690301 non-null  object\n",
      " 4   brand_name         397834 non-null  object\n",
      " 5   shipping           693359 non-null  int64 \n",
      " 6   item_description   693359 non-null  object\n",
      "dtypes: int64(3), object(4)\n",
      "memory usage: 37.0+ MB\n",
      "None\n"
     ]
    },
    {
     "data": {
      "text/html": [
       "<div>\n",
       "<style scoped>\n",
       "    .dataframe tbody tr th:only-of-type {\n",
       "        vertical-align: middle;\n",
       "    }\n",
       "\n",
       "    .dataframe tbody tr th {\n",
       "        vertical-align: top;\n",
       "    }\n",
       "\n",
       "    .dataframe thead th {\n",
       "        text-align: right;\n",
       "    }\n",
       "</style>\n",
       "<table border=\"1\" class=\"dataframe\">\n",
       "  <thead>\n",
       "    <tr style=\"text-align: right;\">\n",
       "      <th></th>\n",
       "      <th>test_id</th>\n",
       "      <th>name</th>\n",
       "      <th>item_condition_id</th>\n",
       "      <th>category_name</th>\n",
       "      <th>brand_name</th>\n",
       "      <th>shipping</th>\n",
       "      <th>item_description</th>\n",
       "    </tr>\n",
       "  </thead>\n",
       "  <tbody>\n",
       "    <tr>\n",
       "      <th>0</th>\n",
       "      <td>0</td>\n",
       "      <td>Breast cancer \"I fight like a girl\" ring</td>\n",
       "      <td>1</td>\n",
       "      <td>Women/Jewelry/Rings</td>\n",
       "      <td>NaN</td>\n",
       "      <td>1</td>\n",
       "      <td>Size 7</td>\n",
       "    </tr>\n",
       "    <tr>\n",
       "      <th>1</th>\n",
       "      <td>1</td>\n",
       "      <td>25 pcs NEW 7.5\"x12\" Kraft Bubble Mailers</td>\n",
       "      <td>1</td>\n",
       "      <td>Other/Office supplies/Shipping Supplies</td>\n",
       "      <td>NaN</td>\n",
       "      <td>1</td>\n",
       "      <td>25 pcs NEW 7.5\"x12\" Kraft Bubble Mailers Lined...</td>\n",
       "    </tr>\n",
       "    <tr>\n",
       "      <th>2</th>\n",
       "      <td>2</td>\n",
       "      <td>Coach bag</td>\n",
       "      <td>1</td>\n",
       "      <td>Vintage &amp; Collectibles/Bags and Purses/Handbag</td>\n",
       "      <td>Coach</td>\n",
       "      <td>1</td>\n",
       "      <td>Brand new coach bag. Bought for [rm] at a Coac...</td>\n",
       "    </tr>\n",
       "    <tr>\n",
       "      <th>3</th>\n",
       "      <td>3</td>\n",
       "      <td>Floral Kimono</td>\n",
       "      <td>2</td>\n",
       "      <td>Women/Sweaters/Cardigan</td>\n",
       "      <td>NaN</td>\n",
       "      <td>0</td>\n",
       "      <td>-floral kimono -never worn -lightweight and pe...</td>\n",
       "    </tr>\n",
       "    <tr>\n",
       "      <th>4</th>\n",
       "      <td>4</td>\n",
       "      <td>Life after Death</td>\n",
       "      <td>3</td>\n",
       "      <td>Other/Books/Religion &amp; Spirituality</td>\n",
       "      <td>NaN</td>\n",
       "      <td>1</td>\n",
       "      <td>Rediscovering life after the loss of a loved o...</td>\n",
       "    </tr>\n",
       "  </tbody>\n",
       "</table>\n",
       "</div>"
      ],
      "text/plain": [
       "   test_id                                      name  item_condition_id  \\\n",
       "0        0  Breast cancer \"I fight like a girl\" ring                  1   \n",
       "1        1  25 pcs NEW 7.5\"x12\" Kraft Bubble Mailers                  1   \n",
       "2        2                                 Coach bag                  1   \n",
       "3        3                             Floral Kimono                  2   \n",
       "4        4                          Life after Death                  3   \n",
       "\n",
       "                                    category_name brand_name  shipping  \\\n",
       "0                             Women/Jewelry/Rings        NaN         1   \n",
       "1         Other/Office supplies/Shipping Supplies        NaN         1   \n",
       "2  Vintage & Collectibles/Bags and Purses/Handbag      Coach         1   \n",
       "3                         Women/Sweaters/Cardigan        NaN         0   \n",
       "4             Other/Books/Religion & Spirituality        NaN         1   \n",
       "\n",
       "                                    item_description  \n",
       "0                                             Size 7  \n",
       "1  25 pcs NEW 7.5\"x12\" Kraft Bubble Mailers Lined...  \n",
       "2  Brand new coach bag. Bought for [rm] at a Coac...  \n",
       "3  -floral kimono -never worn -lightweight and pe...  \n",
       "4  Rediscovering life after the loss of a loved o...  "
      ]
     },
     "metadata": {},
     "output_type": "display_data"
    }
   ],
   "source": [
    "print(test.shape)\n",
    "print(test.info())\n",
    "display(test.head())"
   ]
  },
  {
   "cell_type": "markdown",
   "metadata": {
    "_cell_guid": "4baef1cf-63aa-4f3d-b518-0b7081686042",
    "_uuid": "0f17cbc3-5899-4c22-a0a0-26b0424db7d2"
   },
   "source": [
    "#### データの前処理"
   ]
  },
  {
   "cell_type": "code",
   "execution_count": 6,
   "metadata": {
    "execution": {
     "iopub.execute_input": "2024-10-11T05:26:26.185475Z",
     "iopub.status.busy": "2024-10-11T05:26:26.185159Z",
     "iopub.status.idle": "2024-10-11T05:26:26.379909Z",
     "shell.execute_reply": "2024-10-11T05:26:26.378880Z",
     "shell.execute_reply.started": "2024-10-11T05:26:26.185443Z"
    }
   },
   "outputs": [],
   "source": [
    "# 3ドル以上2000ドル以下のデータのみを使用する\n",
    "train = train[(train[\"price\"] >= 3) & (train[\"price\"] <= 2000)]"
   ]
  },
  {
   "cell_type": "markdown",
   "metadata": {},
   "source": [
    "#### price を対数変換"
   ]
  },
  {
   "cell_type": "code",
   "execution_count": 7,
   "metadata": {
    "execution": {
     "iopub.execute_input": "2024-10-11T05:26:26.381621Z",
     "iopub.status.busy": "2024-10-11T05:26:26.381251Z",
     "iopub.status.idle": "2024-10-11T05:26:26.423181Z",
     "shell.execute_reply": "2024-10-11T05:26:26.422025Z",
     "shell.execute_reply.started": "2024-10-11T05:26:26.381564Z"
    }
   },
   "outputs": [],
   "source": [
    "train['price'] = np.log1p(train['price'])"
   ]
  },
  {
   "cell_type": "markdown",
   "metadata": {
    "_cell_guid": "c861de08-477e-4069-9b27-f9f9b8d11f79",
    "_uuid": "aa08a666-8684-4bc2-9e36-3654fdf11c25"
   },
   "source": [
    "#### 欠損値処理\n"
   ]
  },
  {
   "cell_type": "code",
   "execution_count": 8,
   "metadata": {
    "execution": {
     "iopub.execute_input": "2024-10-11T05:26:26.424771Z",
     "iopub.status.busy": "2024-10-11T05:26:26.424444Z",
     "iopub.status.idle": "2024-10-11T05:26:26.784349Z",
     "shell.execute_reply": "2024-10-11T05:26:26.783201Z",
     "shell.execute_reply.started": "2024-10-11T05:26:26.424739Z"
    }
   },
   "outputs": [
    {
     "name": "stdout",
     "output_type": "stream",
     "text": [
      "train_id                  0\n",
      "name                      0\n",
      "item_condition_id         0\n",
      "category_name          6314\n",
      "brand_name           632336\n",
      "price                     0\n",
      "shipping                  0\n",
      "item_description          6\n",
      "dtype: int64\n"
     ]
    }
   ],
   "source": [
    "print(train.isnull().sum())"
   ]
  },
  {
   "cell_type": "code",
   "execution_count": 9,
   "metadata": {
    "execution": {
     "iopub.execute_input": "2024-10-11T05:26:26.786378Z",
     "iopub.status.busy": "2024-10-11T05:26:26.785896Z",
     "iopub.status.idle": "2024-10-11T05:26:26.960307Z",
     "shell.execute_reply": "2024-10-11T05:26:26.959087Z",
     "shell.execute_reply.started": "2024-10-11T05:26:26.786328Z"
    }
   },
   "outputs": [
    {
     "name": "stdout",
     "output_type": "stream",
     "text": [
      "test_id                   0\n",
      "name                      0\n",
      "item_condition_id         0\n",
      "category_name          3058\n",
      "brand_name           295525\n",
      "shipping                  0\n",
      "item_description          0\n",
      "dtype: int64\n"
     ]
    }
   ],
   "source": [
    "print(test.isnull().sum())"
   ]
  },
  {
   "cell_type": "code",
   "execution_count": 10,
   "metadata": {
    "execution": {
     "iopub.execute_input": "2024-10-11T05:26:26.961882Z",
     "iopub.status.busy": "2024-10-11T05:26:26.961532Z",
     "iopub.status.idle": "2024-10-11T05:26:27.349764Z",
     "shell.execute_reply": "2024-10-11T05:26:27.348351Z",
     "shell.execute_reply.started": "2024-10-11T05:26:26.961846Z"
    }
   },
   "outputs": [],
   "source": [
    "# 母数217万点に対して category_name の1万点は少ないため、missing に置き換えず単純に drop\n",
    "train.dropna(subset=['category_name'], inplace=True)\n",
    "test.dropna(subset=['category_name'], inplace=True)"
   ]
  },
  {
   "cell_type": "markdown",
   "metadata": {},
   "source": [
    "#### train, test を行方向に結合し、まとめて前処理できるようにする"
   ]
  },
  {
   "cell_type": "code",
   "execution_count": 11,
   "metadata": {
    "_cell_guid": "c002c856-7828-4f91-ad1d-f958c1caa0a2",
    "_uuid": "57d41e39-76dd-4de7-86d2-f0b53913634a",
    "collapsed": false,
    "execution": {
     "iopub.execute_input": "2024-10-11T05:26:27.354653Z",
     "iopub.status.busy": "2024-10-11T05:26:27.354238Z",
     "iopub.status.idle": "2024-10-11T05:26:27.678205Z",
     "shell.execute_reply": "2024-10-11T05:26:27.677171Z",
     "shell.execute_reply.started": "2024-10-11T05:26:27.354612Z"
    },
    "jupyter": {
     "outputs_hidden": false
    }
   },
   "outputs": [
    {
     "name": "stdout",
     "output_type": "stream",
     "text": [
      "(2165645, 7)\n"
     ]
    },
    {
     "data": {
      "text/html": [
       "<div>\n",
       "<style scoped>\n",
       "    .dataframe tbody tr th:only-of-type {\n",
       "        vertical-align: middle;\n",
       "    }\n",
       "\n",
       "    .dataframe tbody tr th {\n",
       "        vertical-align: top;\n",
       "    }\n",
       "\n",
       "    .dataframe thead th {\n",
       "        text-align: right;\n",
       "    }\n",
       "</style>\n",
       "<table border=\"1\" class=\"dataframe\">\n",
       "  <thead>\n",
       "    <tr style=\"text-align: right;\">\n",
       "      <th></th>\n",
       "      <th>id</th>\n",
       "      <th>name</th>\n",
       "      <th>item_condition_id</th>\n",
       "      <th>category_name</th>\n",
       "      <th>brand_name</th>\n",
       "      <th>shipping</th>\n",
       "      <th>item_description</th>\n",
       "    </tr>\n",
       "  </thead>\n",
       "  <tbody>\n",
       "    <tr>\n",
       "      <th>0</th>\n",
       "      <td>0</td>\n",
       "      <td>MLB Cincinnati Reds T Shirt Size XL</td>\n",
       "      <td>3</td>\n",
       "      <td>Men/Tops/T-shirts</td>\n",
       "      <td>NaN</td>\n",
       "      <td>1</td>\n",
       "      <td>No description yet</td>\n",
       "    </tr>\n",
       "    <tr>\n",
       "      <th>1</th>\n",
       "      <td>1</td>\n",
       "      <td>Razer BlackWidow Chroma Keyboard</td>\n",
       "      <td>3</td>\n",
       "      <td>Electronics/Computers &amp; Tablets/Components &amp; P...</td>\n",
       "      <td>Razer</td>\n",
       "      <td>0</td>\n",
       "      <td>This keyboard is in great condition and works ...</td>\n",
       "    </tr>\n",
       "    <tr>\n",
       "      <th>2</th>\n",
       "      <td>2</td>\n",
       "      <td>AVA-VIV Blouse</td>\n",
       "      <td>1</td>\n",
       "      <td>Women/Tops &amp; Blouses/Blouse</td>\n",
       "      <td>Target</td>\n",
       "      <td>1</td>\n",
       "      <td>Adorable top with a hint of lace and a key hol...</td>\n",
       "    </tr>\n",
       "    <tr>\n",
       "      <th>3</th>\n",
       "      <td>3</td>\n",
       "      <td>Leather Horse Statues</td>\n",
       "      <td>1</td>\n",
       "      <td>Home/Home Décor/Home Décor Accents</td>\n",
       "      <td>NaN</td>\n",
       "      <td>1</td>\n",
       "      <td>New with tags. Leather horses. Retail for [rm]...</td>\n",
       "    </tr>\n",
       "    <tr>\n",
       "      <th>4</th>\n",
       "      <td>4</td>\n",
       "      <td>24K GOLD plated rose</td>\n",
       "      <td>1</td>\n",
       "      <td>Women/Jewelry/Necklaces</td>\n",
       "      <td>NaN</td>\n",
       "      <td>0</td>\n",
       "      <td>Complete with certificate of authenticity</td>\n",
       "    </tr>\n",
       "  </tbody>\n",
       "</table>\n",
       "</div>"
      ],
      "text/plain": [
       "   id                                 name  item_condition_id  \\\n",
       "0   0  MLB Cincinnati Reds T Shirt Size XL                  3   \n",
       "1   1     Razer BlackWidow Chroma Keyboard                  3   \n",
       "2   2                       AVA-VIV Blouse                  1   \n",
       "3   3                Leather Horse Statues                  1   \n",
       "4   4                 24K GOLD plated rose                  1   \n",
       "\n",
       "                                       category_name brand_name  shipping  \\\n",
       "0                                  Men/Tops/T-shirts        NaN         1   \n",
       "1  Electronics/Computers & Tablets/Components & P...      Razer         0   \n",
       "2                        Women/Tops & Blouses/Blouse     Target         1   \n",
       "3                 Home/Home Décor/Home Décor Accents        NaN         1   \n",
       "4                            Women/Jewelry/Necklaces        NaN         0   \n",
       "\n",
       "                                    item_description  \n",
       "0                                 No description yet  \n",
       "1  This keyboard is in great condition and works ...  \n",
       "2  Adorable top with a hint of lace and a key hol...  \n",
       "3  New with tags. Leather horses. Retail for [rm]...  \n",
       "4          Complete with certificate of authenticity  "
      ]
     },
     "execution_count": 11,
     "metadata": {},
     "output_type": "execute_result"
    }
   ],
   "source": [
    "y = train['price'] # 目的変数\n",
    "train.drop(['price'], axis=1, inplace=True)\n",
    "\n",
    "# 列名を id に変更\n",
    "train.rename(columns={'train_id': 'id'}, inplace=True)\n",
    "test.rename(columns={'test_id': 'id'}, inplace=True)\n",
    "\n",
    "# データフレームを結合\n",
    "train_test_combine = pd.concat([train,test]) # axis=0 で行、axis=1 で列に結合 デフォルトは axis=0\n",
    "print(train_test_combine.shape)\n",
    "train_test_combine.head()"
   ]
  },
  {
   "cell_type": "code",
   "execution_count": 12,
   "metadata": {
    "_cell_guid": "61cc0cbb-0e67-43da-bab8-ac4a7cf9414b",
    "_uuid": "58227ec9-cd8d-461b-ad88-765efaf45f5b",
    "collapsed": false,
    "execution": {
     "iopub.execute_input": "2024-10-11T05:26:27.679964Z",
     "iopub.status.busy": "2024-10-11T05:26:27.679597Z",
     "iopub.status.idle": "2024-10-11T05:26:28.095985Z",
     "shell.execute_reply": "2024-10-11T05:26:28.094744Z",
     "shell.execute_reply.started": "2024-10-11T05:26:27.679926Z"
    },
    "jupyter": {
     "outputs_hidden": false
    }
   },
   "outputs": [],
   "source": [
    "# 欠損値を missing で埋める\n",
    "# train_test_combine['category_name'].fillna(value='missing', inplace=True)\n",
    "train_test_combine['brand_name'].fillna(value='missing', inplace=True)\n",
    "train_test_combine['item_description'].fillna(value='missing', inplace=True)"
   ]
  },
  {
   "cell_type": "code",
   "execution_count": 13,
   "metadata": {
    "execution": {
     "iopub.execute_input": "2024-10-11T05:26:28.097876Z",
     "iopub.status.busy": "2024-10-11T05:26:28.097502Z",
     "iopub.status.idle": "2024-10-11T05:27:38.813848Z",
     "shell.execute_reply": "2024-10-11T05:27:38.812829Z",
     "shell.execute_reply.started": "2024-10-11T05:26:28.097837Z"
    }
   },
   "outputs": [
    {
     "name": "stdout",
     "output_type": "stream",
     "text": [
      "CPU times: user 1min 10s, sys: 296 ms, total: 1min 10s\n",
      "Wall time: 1min 10s\n"
     ]
    },
    {
     "data": {
      "text/html": [
       "<div>\n",
       "<style scoped>\n",
       "    .dataframe tbody tr th:only-of-type {\n",
       "        vertical-align: middle;\n",
       "    }\n",
       "\n",
       "    .dataframe tbody tr th {\n",
       "        vertical-align: top;\n",
       "    }\n",
       "\n",
       "    .dataframe thead th {\n",
       "        text-align: right;\n",
       "    }\n",
       "</style>\n",
       "<table border=\"1\" class=\"dataframe\">\n",
       "  <thead>\n",
       "    <tr style=\"text-align: right;\">\n",
       "      <th></th>\n",
       "      <th>brand_name</th>\n",
       "      <th>name</th>\n",
       "    </tr>\n",
       "  </thead>\n",
       "  <tbody>\n",
       "    <tr>\n",
       "      <th>0</th>\n",
       "      <td>MLB</td>\n",
       "      <td>MLB Cincinnati Reds T Shirt Size XL</td>\n",
       "    </tr>\n",
       "    <tr>\n",
       "      <th>1</th>\n",
       "      <td>Razer</td>\n",
       "      <td>Razer BlackWidow Chroma Keyboard</td>\n",
       "    </tr>\n",
       "    <tr>\n",
       "      <th>2</th>\n",
       "      <td>Target</td>\n",
       "      <td>AVA-VIV Blouse</td>\n",
       "    </tr>\n",
       "    <tr>\n",
       "      <th>3</th>\n",
       "      <td>missing</td>\n",
       "      <td>Leather Horse Statues</td>\n",
       "    </tr>\n",
       "    <tr>\n",
       "      <th>4</th>\n",
       "      <td>missing</td>\n",
       "      <td>24K GOLD plated rose</td>\n",
       "    </tr>\n",
       "    <tr>\n",
       "      <th>5</th>\n",
       "      <td>missing</td>\n",
       "      <td>Bundled items requested for Ruie</td>\n",
       "    </tr>\n",
       "    <tr>\n",
       "      <th>6</th>\n",
       "      <td>Acacia Swimwear</td>\n",
       "      <td>Acacia pacific tides santorini top</td>\n",
       "    </tr>\n",
       "    <tr>\n",
       "      <th>7</th>\n",
       "      <td>Soffe</td>\n",
       "      <td>Girls cheer and tumbling bundle of 7</td>\n",
       "    </tr>\n",
       "    <tr>\n",
       "      <th>8</th>\n",
       "      <td>Nike</td>\n",
       "      <td>Girls Nike Pro shorts</td>\n",
       "    </tr>\n",
       "    <tr>\n",
       "      <th>9</th>\n",
       "      <td>missing</td>\n",
       "      <td>Porcelain clown doll checker pants VTG</td>\n",
       "    </tr>\n",
       "  </tbody>\n",
       "</table>\n",
       "</div>"
      ],
      "text/plain": [
       "        brand_name                                    name\n",
       "0              MLB     MLB Cincinnati Reds T Shirt Size XL\n",
       "1            Razer        Razer BlackWidow Chroma Keyboard\n",
       "2           Target                          AVA-VIV Blouse\n",
       "3          missing                   Leather Horse Statues\n",
       "4          missing                    24K GOLD plated rose\n",
       "5          missing        Bundled items requested for Ruie\n",
       "6  Acacia Swimwear      Acacia pacific tides santorini top\n",
       "7            Soffe    Girls cheer and tumbling bundle of 7\n",
       "8             Nike                   Girls Nike Pro shorts\n",
       "9          missing  Porcelain clown doll checker pants VTG"
      ]
     },
     "execution_count": 13,
     "metadata": {},
     "output_type": "execute_result"
    }
   ],
   "source": [
    "%%time\n",
    "# brand_name の重複なしのリストを作成\n",
    "brand_name_list = set(train_test_combine[\"brand_name\"].values) # set()で重複を削除\n",
    "\n",
    "def brandfinder(line):\n",
    "    brand = line[0]\n",
    "    name = line[1]\n",
    "    namesplit = name.split(' ')\n",
    "    \n",
    "    if brand == 'missing':\n",
    "        for x in namesplit:\n",
    "            if x in brand_name_list:            \n",
    "                return x # name(商品名全体)を返すのではなく、x(ブランド名)のみを返す\n",
    "    if name in brand_name_list:\n",
    "        return name\n",
    "    \n",
    "    return brand\n",
    "\n",
    "# ブランド名の付替えを実施\n",
    "train_test_combine['brand_name'] = train_test_combine[['brand_name','name']].apply(brandfinder, axis = 1) # axis=1で行方向\n",
    "\n",
    "# brandfinderの中身\n",
    "train_test_combine[['brand_name','name']].head(10)"
   ]
  },
  {
   "cell_type": "markdown",
   "metadata": {
    "_cell_guid": "8955724f-6ee3-4732-80dd-10f5c7fb9f4d",
    "_uuid": "13605d60-6537-408f-8820-c4c1523b115e"
   },
   "source": [
    "#### category_name を3等分する"
   ]
  },
  {
   "cell_type": "code",
   "execution_count": 14,
   "metadata": {
    "_cell_guid": "989abbe6-3632-4965-926c-bf32acba3c1b",
    "_uuid": "e2fab743-0672-4371-9356-144dc62ac84f",
    "collapsed": false,
    "execution": {
     "iopub.execute_input": "2024-10-11T05:27:38.815395Z",
     "iopub.status.busy": "2024-10-11T05:27:38.815046Z",
     "iopub.status.idle": "2024-10-11T05:27:42.774491Z",
     "shell.execute_reply": "2024-10-11T05:27:42.772952Z",
     "shell.execute_reply.started": "2024-10-11T05:27:38.815359Z"
    },
    "jupyter": {
     "outputs_hidden": false
    }
   },
   "outputs": [
    {
     "data": {
      "text/html": [
       "<div>\n",
       "<style scoped>\n",
       "    .dataframe tbody tr th:only-of-type {\n",
       "        vertical-align: middle;\n",
       "    }\n",
       "\n",
       "    .dataframe tbody tr th {\n",
       "        vertical-align: top;\n",
       "    }\n",
       "\n",
       "    .dataframe thead th {\n",
       "        text-align: right;\n",
       "    }\n",
       "</style>\n",
       "<table border=\"1\" class=\"dataframe\">\n",
       "  <thead>\n",
       "    <tr style=\"text-align: right;\">\n",
       "      <th></th>\n",
       "      <th>id</th>\n",
       "      <th>name</th>\n",
       "      <th>item_condition_id</th>\n",
       "      <th>category_name</th>\n",
       "      <th>brand_name</th>\n",
       "      <th>shipping</th>\n",
       "      <th>item_description</th>\n",
       "      <th>general_cat</th>\n",
       "      <th>sub_cat1</th>\n",
       "      <th>sub_cat2</th>\n",
       "    </tr>\n",
       "  </thead>\n",
       "  <tbody>\n",
       "    <tr>\n",
       "      <th>0</th>\n",
       "      <td>0</td>\n",
       "      <td>MLB Cincinnati Reds T Shirt Size XL</td>\n",
       "      <td>3</td>\n",
       "      <td>Men/Tops/T-shirts</td>\n",
       "      <td>MLB</td>\n",
       "      <td>1</td>\n",
       "      <td>No description yet</td>\n",
       "      <td>Men</td>\n",
       "      <td>Tops</td>\n",
       "      <td>T-shirts</td>\n",
       "    </tr>\n",
       "    <tr>\n",
       "      <th>1</th>\n",
       "      <td>1</td>\n",
       "      <td>Razer BlackWidow Chroma Keyboard</td>\n",
       "      <td>3</td>\n",
       "      <td>Electronics/Computers &amp; Tablets/Components &amp; P...</td>\n",
       "      <td>Razer</td>\n",
       "      <td>0</td>\n",
       "      <td>This keyboard is in great condition and works ...</td>\n",
       "      <td>Electronics</td>\n",
       "      <td>Computers &amp; Tablets</td>\n",
       "      <td>Components &amp; Parts</td>\n",
       "    </tr>\n",
       "    <tr>\n",
       "      <th>2</th>\n",
       "      <td>2</td>\n",
       "      <td>AVA-VIV Blouse</td>\n",
       "      <td>1</td>\n",
       "      <td>Women/Tops &amp; Blouses/Blouse</td>\n",
       "      <td>Target</td>\n",
       "      <td>1</td>\n",
       "      <td>Adorable top with a hint of lace and a key hol...</td>\n",
       "      <td>Women</td>\n",
       "      <td>Tops &amp; Blouses</td>\n",
       "      <td>Blouse</td>\n",
       "    </tr>\n",
       "    <tr>\n",
       "      <th>3</th>\n",
       "      <td>3</td>\n",
       "      <td>Leather Horse Statues</td>\n",
       "      <td>1</td>\n",
       "      <td>Home/Home Décor/Home Décor Accents</td>\n",
       "      <td>missing</td>\n",
       "      <td>1</td>\n",
       "      <td>New with tags. Leather horses. Retail for [rm]...</td>\n",
       "      <td>Home</td>\n",
       "      <td>Home Décor</td>\n",
       "      <td>Home Décor Accents</td>\n",
       "    </tr>\n",
       "    <tr>\n",
       "      <th>4</th>\n",
       "      <td>4</td>\n",
       "      <td>24K GOLD plated rose</td>\n",
       "      <td>1</td>\n",
       "      <td>Women/Jewelry/Necklaces</td>\n",
       "      <td>missing</td>\n",
       "      <td>0</td>\n",
       "      <td>Complete with certificate of authenticity</td>\n",
       "      <td>Women</td>\n",
       "      <td>Jewelry</td>\n",
       "      <td>Necklaces</td>\n",
       "    </tr>\n",
       "  </tbody>\n",
       "</table>\n",
       "</div>"
      ],
      "text/plain": [
       "   id                                 name  item_condition_id  \\\n",
       "0   0  MLB Cincinnati Reds T Shirt Size XL                  3   \n",
       "1   1     Razer BlackWidow Chroma Keyboard                  3   \n",
       "2   2                       AVA-VIV Blouse                  1   \n",
       "3   3                Leather Horse Statues                  1   \n",
       "4   4                 24K GOLD plated rose                  1   \n",
       "\n",
       "                                       category_name brand_name  shipping  \\\n",
       "0                                  Men/Tops/T-shirts        MLB         1   \n",
       "1  Electronics/Computers & Tablets/Components & P...      Razer         0   \n",
       "2                        Women/Tops & Blouses/Blouse     Target         1   \n",
       "3                 Home/Home Décor/Home Décor Accents    missing         1   \n",
       "4                            Women/Jewelry/Necklaces    missing         0   \n",
       "\n",
       "                                    item_description  general_cat  \\\n",
       "0                                 No description yet          Men   \n",
       "1  This keyboard is in great condition and works ...  Electronics   \n",
       "2  Adorable top with a hint of lace and a key hol...        Women   \n",
       "3  New with tags. Leather horses. Retail for [rm]...         Home   \n",
       "4          Complete with certificate of authenticity        Women   \n",
       "\n",
       "              sub_cat1            sub_cat2  \n",
       "0                 Tops            T-shirts  \n",
       "1  Computers & Tablets  Components & Parts  \n",
       "2       Tops & Blouses              Blouse  \n",
       "3           Home Décor  Home Décor Accents  \n",
       "4              Jewelry           Necklaces  "
      ]
     },
     "metadata": {},
     "output_type": "display_data"
    }
   ],
   "source": [
    "def split_cat(text):\n",
    "    if text == 'missing':\n",
    "        return (\"No Label\", \"No Label\", \"No Label\")\n",
    "    try:\n",
    "        return text.split(\"/\")\n",
    "    except:\n",
    "        return (\"No Label\", \"No Label\", \"No Label\")\n",
    "\n",
    "train_test_combine['general_cat'] = train_test_combine['category_name'].apply(lambda x: split_cat(x)[0])\n",
    "train_test_combine['sub_cat1'] = train_test_combine['category_name'].apply(lambda x: split_cat(x)[1])\n",
    "train_test_combine['sub_cat2'] = train_test_combine['category_name'].apply(lambda x: split_cat(x)[2])\n",
    "display(train_test_combine.head())"
   ]
  },
  {
   "cell_type": "code",
   "execution_count": 15,
   "metadata": {
    "execution": {
     "iopub.execute_input": "2024-10-11T05:27:42.776748Z",
     "iopub.status.busy": "2024-10-11T05:27:42.776275Z",
     "iopub.status.idle": "2024-10-11T05:27:42.894323Z",
     "shell.execute_reply": "2024-10-11T05:27:42.893191Z",
     "shell.execute_reply.started": "2024-10-11T05:27:42.776695Z"
    }
   },
   "outputs": [
    {
     "data": {
      "text/plain": [
       "0"
      ]
     },
     "execution_count": 15,
     "metadata": {},
     "output_type": "execute_result"
    }
   ],
   "source": [
    "# ベクトル化（カウントやTF-IDF）およびエンコーディング（ONE-HOT）の前にメモリをクリアしておく\n",
    "gc.collect()"
   ]
  },
  {
   "cell_type": "markdown",
   "metadata": {
    "execution": {
     "iopub.execute_input": "2024-09-20T00:08:44.468218Z",
     "iopub.status.busy": "2024-09-20T00:08:44.467615Z",
     "iopub.status.idle": "2024-09-20T00:08:44.474987Z",
     "shell.execute_reply": "2024-09-20T00:08:44.473601Z",
     "shell.execute_reply.started": "2024-09-20T00:08:44.468138Z"
    }
   },
   "source": [
    "#### 特徴エンコーディング｜CountVectorizer(), TfidfVectorizer()"
   ]
  },
  {
   "cell_type": "code",
   "execution_count": 16,
   "metadata": {
    "execution": {
     "iopub.execute_input": "2024-10-11T05:27:42.896103Z",
     "iopub.status.busy": "2024-10-11T05:27:42.895728Z",
     "iopub.status.idle": "2024-10-11T05:32:41.447534Z",
     "shell.execute_reply": "2024-10-11T05:32:41.446357Z",
     "shell.execute_reply.started": "2024-10-11T05:27:42.896058Z"
    }
   },
   "outputs": [
    {
     "name": "stdout",
     "output_type": "stream",
     "text": [
      "name vectorization shape: (2165645, 130463)\n",
      "item_description vectorization shape: (2165645, 50000)\n",
      "CPU times: user 4min 50s, sys: 8.59 s, total: 4min 59s\n",
      "Wall time: 4min 58s\n"
     ]
    }
   ],
   "source": [
    "%%time\n",
    "cnt_vec = CountVectorizer()\n",
    "X_name = cnt_vec.fit_transform(train_test_combine['name'])\n",
    "\n",
    "tfidf = TfidfVectorizer(max_features=50000, ngram_range=(1,3), stop_words='english')\n",
    "X_descp = tfidf.fit_transform(train_test_combine['item_description'])\n",
    "\n",
    "print('name vectorization shape:', X_name.shape)\n",
    "print('item_description vectorization shape:', X_descp.shape)"
   ]
  },
  {
   "cell_type": "markdown",
   "metadata": {},
   "source": [
    "#### 特徴エンコーディング｜OneHotEncoder()"
   ]
  },
  {
   "cell_type": "code",
   "execution_count": 17,
   "metadata": {
    "execution": {
     "iopub.execute_input": "2024-10-11T05:32:41.449338Z",
     "iopub.status.busy": "2024-10-11T05:32:41.448953Z",
     "iopub.status.idle": "2024-10-11T05:32:44.556954Z",
     "shell.execute_reply": "2024-10-11T05:32:44.555905Z",
     "shell.execute_reply.started": "2024-10-11T05:32:41.449299Z"
    }
   },
   "outputs": [
    {
     "name": "stdout",
     "output_type": "stream",
     "text": [
      "CPU times: user 3.02 s, sys: 80 ms, total: 3.1 s\n",
      "Wall time: 3.1 s\n"
     ]
    }
   ],
   "source": [
    "%%time\n",
    "ohe = OneHotEncoder()\n",
    "\n",
    "# OneHotEncoder は2次元の入力を必要とするため、.reshape(-1, 1) で1次元の Series を2次元に変換\n",
    "X_brand_name = ohe.fit_transform(train_test_combine['brand_name'].values.reshape(-1, 1))\n",
    "X_item_condition_id = ohe.fit_transform(train_test_combine['item_condition_id'].values.reshape(-1, 1))\n",
    "X_shipping = ohe.fit_transform(train_test_combine['shipping'].values.reshape(-1, 1))\n",
    "X_general_cat = ohe.fit_transform(train_test_combine['general_cat'].values.reshape(-1, 1))\n",
    "X_sub_cat1 = ohe.fit_transform(train_test_combine['sub_cat1'].values.reshape(-1, 1))\n",
    "X_sub_cat2 = ohe.fit_transform(train_test_combine['sub_cat2'].values.reshape(-1, 1))"
   ]
  },
  {
   "cell_type": "code",
   "execution_count": 18,
   "metadata": {
    "execution": {
     "iopub.execute_input": "2024-10-11T05:32:44.558727Z",
     "iopub.status.busy": "2024-10-11T05:32:44.558348Z",
     "iopub.status.idle": "2024-10-11T05:32:44.564828Z",
     "shell.execute_reply": "2024-10-11T05:32:44.563789Z",
     "shell.execute_reply.started": "2024-10-11T05:32:44.558689Z"
    }
   },
   "outputs": [
    {
     "name": "stdout",
     "output_type": "stream",
     "text": [
      "brand encoding shape: (2165645, 5265)\n",
      "item condition id encoding shape: (2165645, 5)\n",
      "shipping encoding shape: (2165645, 2)\n",
      "general_cat encoding shape: (2165645, 10)\n",
      "sub_cat1 encoding shape: (2165645, 113)\n",
      "sub_cat2 encoding shape: (2165645, 882)\n"
     ]
    }
   ],
   "source": [
    "print('brand encoding shape:', X_brand_name.shape)\n",
    "print('item condition id encoding shape:', X_item_condition_id.shape)\n",
    "print('shipping encoding shape:', X_shipping.shape)\n",
    "print('general_cat encoding shape:', X_general_cat.shape)\n",
    "print('sub_cat1 encoding shape:', X_sub_cat1.shape)\n",
    "print('sub_cat2 encoding shape:', X_sub_cat2.shape)"
   ]
  },
  {
   "cell_type": "markdown",
   "metadata": {},
   "source": [
    "#### 生成されたスパース行列を結合"
   ]
  },
  {
   "cell_type": "code",
   "execution_count": 19,
   "metadata": {
    "execution": {
     "iopub.execute_input": "2024-10-11T05:32:44.566727Z",
     "iopub.status.busy": "2024-10-11T05:32:44.566294Z",
     "iopub.status.idle": "2024-10-11T05:32:47.449032Z",
     "shell.execute_reply": "2024-10-11T05:32:47.448014Z",
     "shell.execute_reply.started": "2024-10-11T05:32:44.566678Z"
    }
   },
   "outputs": [],
   "source": [
    "combined_matrix_train = (X_name[:len(train)], X_descp[:len(train)], X_brand_name[:len(train)], X_item_condition_id[:len(train)], X_shipping[:len(train)],\n",
    "                   X_general_cat[:len(train)], X_sub_cat1[:len(train)], X_sub_cat2[:len(train)])\n",
    "X = hstack(combined_matrix_train).tocsr() # 説明変数\n",
    "\n",
    "combined_matrix_test = (X_name[len(train):], X_descp[len(train):], X_brand_name[len(train):], X_item_condition_id[len(train):], X_shipping[len(train):],\n",
    "                   X_general_cat[len(train):], X_sub_cat1[len(train):], X_sub_cat2[len(train):])\n",
    "test = hstack(combined_matrix_test).tocsr() # テストデータ"
   ]
  },
  {
   "cell_type": "code",
   "execution_count": 20,
   "metadata": {
    "_cell_guid": "a394948e-7765-4485-a8d0-523a8ac3f28f",
    "_uuid": "32bb95a2-a057-49e3-adfb-da07de4ebc41",
    "collapsed": false,
    "execution": {
     "iopub.execute_input": "2024-10-11T05:32:47.450887Z",
     "iopub.status.busy": "2024-10-11T05:32:47.450427Z",
     "iopub.status.idle": "2024-10-11T05:32:47.457425Z",
     "shell.execute_reply": "2024-10-11T05:32:47.456379Z",
     "shell.execute_reply.started": "2024-10-11T05:32:47.450838Z"
    },
    "jupyter": {
     "outputs_hidden": false
    }
   },
   "outputs": [
    {
     "name": "stdout",
     "output_type": "stream",
     "text": [
      "(1475344, 186740)\n",
      "(1475344,)\n",
      "(690301, 186740)\n"
     ]
    }
   ],
   "source": [
    "print(X.shape) # 説明変数\n",
    "print(y.shape) # 目的変数\n",
    "print(test.shape) # テストデータ"
   ]
  },
  {
   "cell_type": "markdown",
   "metadata": {},
   "source": [
    "#### X と y の保存"
   ]
  },
  {
   "cell_type": "code",
   "execution_count": 21,
   "metadata": {
    "execution": {
     "iopub.execute_input": "2024-10-11T05:32:47.459290Z",
     "iopub.status.busy": "2024-10-11T05:32:47.458873Z",
     "iopub.status.idle": "2024-10-11T05:32:47.470389Z",
     "shell.execute_reply": "2024-10-11T05:32:47.469146Z",
     "shell.execute_reply.started": "2024-10-11T05:32:47.459250Z"
    }
   },
   "outputs": [],
   "source": [
    "# %%time\n",
    "# save_npz('X.npz', X)\n",
    "# y.to_csv('y.csv', index=False)"
   ]
  },
  {
   "cell_type": "markdown",
   "metadata": {},
   "source": [
    "#### X と y の読み込み"
   ]
  },
  {
   "cell_type": "code",
   "execution_count": 22,
   "metadata": {
    "execution": {
     "iopub.execute_input": "2024-10-11T05:32:47.472155Z",
     "iopub.status.busy": "2024-10-11T05:32:47.471746Z",
     "iopub.status.idle": "2024-10-11T05:32:47.481927Z",
     "shell.execute_reply": "2024-10-11T05:32:47.480578Z",
     "shell.execute_reply.started": "2024-10-11T05:32:47.472088Z"
    }
   },
   "outputs": [],
   "source": [
    "# Kaggle Notebook\n",
    "# X = load_npz('/kaggle/input/mercari-preprocessed/X.npz')\n",
    "# y = pd.read_csv('/kaggle/input/mercari-preprocessed/y.csv')"
   ]
  },
  {
   "cell_type": "markdown",
   "metadata": {
    "_cell_guid": "d3894bae-96bd-4af9-9fb1-ae6871dfa661",
    "_uuid": "37cb4194-3c2b-42bc-b202-da5c84db592e"
   },
   "source": [
    "#### モデルの作成と学習"
   ]
  },
  {
   "cell_type": "markdown",
   "metadata": {
    "_cell_guid": "288926f5-9a0a-4d68-b124-47283ce934d4",
    "_uuid": "c575fffd-2cdb-4a6a-a648-7f7d38c405c5"
   },
   "source": [
    "#### X と y のうち、7割を訓練用 (train)、3割を検証用 (test) に分割する"
   ]
  },
  {
   "cell_type": "code",
   "execution_count": 23,
   "metadata": {
    "_cell_guid": "92de30b5-b5a4-4422-8d7a-d60dca400334",
    "_uuid": "d322bae4-149a-4cbe-81ea-2b40daf3fc27",
    "collapsed": false,
    "execution": {
     "iopub.execute_input": "2024-10-11T05:32:47.483803Z",
     "iopub.status.busy": "2024-10-11T05:32:47.483342Z",
     "iopub.status.idle": "2024-10-11T05:32:48.001361Z",
     "shell.execute_reply": "2024-10-11T05:32:48.000167Z",
     "shell.execute_reply.started": "2024-10-11T05:32:47.483730Z"
    },
    "jupyter": {
     "outputs_hidden": false
    }
   },
   "outputs": [],
   "source": [
    "X_train, X_test, y_train, y_test = train_test_split(X, y, test_size=0.3, random_state=0)"
   ]
  },
  {
   "cell_type": "code",
   "execution_count": 24,
   "metadata": {
    "_cell_guid": "7d5727b1-68e1-4d3c-8697-afee413f7623",
    "_uuid": "0dbd1d10-6545-4423-8d0b-ea34352e1772",
    "collapsed": false,
    "execution": {
     "iopub.execute_input": "2024-10-11T05:32:48.003007Z",
     "iopub.status.busy": "2024-10-11T05:32:48.002678Z",
     "iopub.status.idle": "2024-10-11T05:32:48.009162Z",
     "shell.execute_reply": "2024-10-11T05:32:48.008016Z",
     "shell.execute_reply.started": "2024-10-11T05:32:48.002974Z"
    },
    "jupyter": {
     "outputs_hidden": false
    }
   },
   "outputs": [
    {
     "name": "stdout",
     "output_type": "stream",
     "text": [
      "(1032740, 186740)\n",
      "(1032740,)\n",
      "(442604, 186740)\n",
      "(442604,)\n"
     ]
    }
   ],
   "source": [
    "print(X_train.shape)\n",
    "print(y_train.shape)\n",
    "print(X_test.shape)\n",
    "print(y_test.shape)"
   ]
  },
  {
   "cell_type": "markdown",
   "metadata": {},
   "source": [
    "#### モデルの学習｜LightGBM"
   ]
  },
  {
   "cell_type": "code",
   "execution_count": 25,
   "metadata": {
    "execution": {
     "iopub.execute_input": "2024-10-11T05:32:48.011486Z",
     "iopub.status.busy": "2024-10-11T05:32:48.011017Z",
     "iopub.status.idle": "2024-10-11T05:32:48.020443Z",
     "shell.execute_reply": "2024-10-11T05:32:48.019430Z",
     "shell.execute_reply.started": "2024-10-11T05:32:48.011434Z"
    }
   },
   "outputs": [],
   "source": [
    "# データセットの形式を変更\n",
    "train_data = lgb.Dataset(X_train, label=y_train)\n",
    "valid_data = lgb.Dataset(X_test, label=y_test, reference=train_data)"
   ]
  },
  {
   "cell_type": "code",
   "execution_count": 26,
   "metadata": {
    "execution": {
     "iopub.execute_input": "2024-10-11T05:32:48.022451Z",
     "iopub.status.busy": "2024-10-11T05:32:48.021881Z",
     "iopub.status.idle": "2024-10-11T05:32:48.030360Z",
     "shell.execute_reply": "2024-10-11T05:32:48.029327Z",
     "shell.execute_reply.started": "2024-10-11T05:32:48.022397Z"
    }
   },
   "outputs": [],
   "source": [
    "# Note\n",
    "# num_leaves, default = 31\n",
    "# max_depth, default = -1 (means no limit)\n",
    "# max_depth=3 => [Warning] No further splits with positive gain, best gain: -inf\n",
    "\n",
    "# ref. LightGBM’s documentation: \n",
    "# https://lightgbm.readthedocs.io/en/v4.2.0/Parameters.html"
   ]
  },
  {
   "cell_type": "code",
   "execution_count": 27,
   "metadata": {
    "execution": {
     "iopub.execute_input": "2024-10-11T05:32:48.032307Z",
     "iopub.status.busy": "2024-10-11T05:32:48.031825Z",
     "iopub.status.idle": "2024-10-11T05:32:48.041027Z",
     "shell.execute_reply": "2024-10-11T05:32:48.039855Z",
     "shell.execute_reply.started": "2024-10-11T05:32:48.032256Z"
    }
   },
   "outputs": [],
   "source": [
    "# ハイパーパラメータの設定\n",
    "params = {\n",
    "    'objective': 'regression',\n",
    "    'metric': 'rmse',\n",
    "    'learning_rate': 0.75,\n",
    "    'feature_fraction': 0.6,\n",
    "    'bagging_fraction': 0.6,\n",
    "    'bagging_freq': 5,\n",
    "    'verbosity': 1,\n",
    "    'num_boost_round': 100,\n",
    "    'early_stopping_rounds': 50,\n",
    "    'seed': 0\n",
    "}"
   ]
  },
  {
   "cell_type": "code",
   "execution_count": 28,
   "metadata": {
    "execution": {
     "iopub.execute_input": "2024-10-11T05:32:48.042653Z",
     "iopub.status.busy": "2024-10-11T05:32:48.042320Z",
     "iopub.status.idle": "2024-10-11T06:14:57.688729Z",
     "shell.execute_reply": "2024-10-11T06:14:57.687357Z",
     "shell.execute_reply.started": "2024-10-11T05:32:48.042620Z"
    }
   },
   "outputs": [
    {
     "name": "stdout",
     "output_type": "stream",
     "text": [
      "[LightGBM] [Info] Auto-choosing col-wise multi-threading, the overhead of testing was 822.313810 seconds.\n",
      "You can set `force_col_wise=true` to remove the overhead.\n",
      "[LightGBM] [Info] Total Bins 1067750\n",
      "[LightGBM] [Info] Number of data points in the train set: 1032740, number of used features: 65802\n",
      "[LightGBM] [Info] Start training from score 2.981379\n",
      "Training until validation scores don't improve for 50 rounds\n",
      "Did not meet early stopping. Best iteration is:\n",
      "[100]\tvalid_0's rmse: 0.48549\n",
      "CPU times: user 2h 31min 43s, sys: 13.6 s, total: 2h 31min 57s\n",
      "Wall time: 42min 9s\n"
     ]
    }
   ],
   "source": [
    "%%time\n",
    "gbm = lgb.train(params, train_data, valid_sets=valid_data)"
   ]
  },
  {
   "cell_type": "code",
   "execution_count": null,
   "metadata": {},
   "outputs": [],
   "source": [
    "# モデルの保存\n",
    "# tag = 'le31-rate075-round100'\n",
    "# model_file = 'lgb-{}-mercari.joblib'.format(tag)\n",
    "# dump(gbm, model_file)"
   ]
  },
  {
   "cell_type": "markdown",
   "metadata": {},
   "source": [
    "#### 訓練データに対する予測｜LightGBM"
   ]
  },
  {
   "cell_type": "code",
   "execution_count": 30,
   "metadata": {
    "execution": {
     "iopub.execute_input": "2024-10-11T06:14:57.832997Z",
     "iopub.status.busy": "2024-10-11T06:14:57.832537Z",
     "iopub.status.idle": "2024-10-11T06:15:32.289979Z",
     "shell.execute_reply": "2024-10-11T06:15:32.288775Z",
     "shell.execute_reply.started": "2024-10-11T06:14:57.832948Z"
    }
   },
   "outputs": [],
   "source": [
    "y_train_pred = gbm.predict(X_train)"
   ]
  },
  {
   "cell_type": "code",
   "execution_count": 31,
   "metadata": {
    "execution": {
     "iopub.execute_input": "2024-10-11T06:15:32.291678Z",
     "iopub.status.busy": "2024-10-11T06:15:32.291337Z",
     "iopub.status.idle": "2024-10-11T06:15:32.296828Z",
     "shell.execute_reply": "2024-10-11T06:15:32.295639Z",
     "shell.execute_reply.started": "2024-10-11T06:15:32.291644Z"
    }
   },
   "outputs": [],
   "source": [
    "# RMSLEを計算する関数\n",
    "def rmsle(y_true, y_pred):  \n",
    "    return np.sqrt(mean_squared_log_error(y_true, y_pred))"
   ]
  },
  {
   "cell_type": "code",
   "execution_count": 32,
   "metadata": {
    "execution": {
     "iopub.execute_input": "2024-10-11T06:15:32.298936Z",
     "iopub.status.busy": "2024-10-11T06:15:32.298547Z",
     "iopub.status.idle": "2024-10-11T06:15:32.406634Z",
     "shell.execute_reply": "2024-10-11T06:15:32.405479Z",
     "shell.execute_reply.started": "2024-10-11T06:15:32.298899Z"
    }
   },
   "outputs": [
    {
     "name": "stdout",
     "output_type": "stream",
     "text": [
      "RMSLE for train data: 0.47865062027808175\n"
     ]
    }
   ],
   "source": [
    "lgb_train_rmsle = rmsle(np.expm1(y_train), np.expm1(y_train_pred))\n",
    "print(\"RMSLE for train data:\", lgb_train_rmsle)"
   ]
  },
  {
   "cell_type": "markdown",
   "metadata": {},
   "source": [
    "#### テストデータに対する予測｜LightGBM"
   ]
  },
  {
   "cell_type": "code",
   "execution_count": 33,
   "metadata": {
    "execution": {
     "iopub.execute_input": "2024-10-11T06:15:32.408502Z",
     "iopub.status.busy": "2024-10-11T06:15:32.408027Z",
     "iopub.status.idle": "2024-10-11T06:15:46.812935Z",
     "shell.execute_reply": "2024-10-11T06:15:46.811901Z",
     "shell.execute_reply.started": "2024-10-11T06:15:32.408449Z"
    }
   },
   "outputs": [],
   "source": [
    "y_test_pred = gbm.predict(X_test)"
   ]
  },
  {
   "cell_type": "code",
   "execution_count": 34,
   "metadata": {
    "execution": {
     "iopub.execute_input": "2024-10-11T06:15:46.814587Z",
     "iopub.status.busy": "2024-10-11T06:15:46.814219Z",
     "iopub.status.idle": "2024-10-11T06:15:46.862518Z",
     "shell.execute_reply": "2024-10-11T06:15:46.861331Z",
     "shell.execute_reply.started": "2024-10-11T06:15:46.814549Z"
    }
   },
   "outputs": [
    {
     "name": "stdout",
     "output_type": "stream",
     "text": [
      "RMSLE for test data: 0.48549035076299735\n"
     ]
    }
   ],
   "source": [
    "lgb_test_rmsle = rmsle(np.expm1(y_test), np.expm1(y_test_pred))\n",
    "print(\"RMSLE for test data:\", lgb_test_rmsle)"
   ]
  },
  {
   "cell_type": "code",
   "execution_count": 35,
   "metadata": {
    "_cell_guid": "e6e547d9-1b13-44a7-9cfa-1f4e6b1fe043",
    "_uuid": "1d836e0c-8b07-433b-96bd-682afbc0e650",
    "collapsed": false,
    "execution": {
     "iopub.execute_input": "2024-10-11T06:15:46.864083Z",
     "iopub.status.busy": "2024-10-11T06:15:46.863678Z",
     "iopub.status.idle": "2024-10-11T06:15:46.870063Z",
     "shell.execute_reply": "2024-10-11T06:15:46.868867Z",
     "shell.execute_reply.started": "2024-10-11T06:15:46.864046Z"
    },
    "jupyter": {
     "outputs_hidden": false
    }
   },
   "outputs": [
    {
     "name": "stdout",
     "output_type": "stream",
     "text": [
      "0:49:41.971730\n"
     ]
    }
   ],
   "source": [
    "stop_real = datetime.now()\n",
    "execution_time_real = stop_real - start_real\n",
    "print(execution_time_real)"
   ]
  },
  {
   "cell_type": "code",
   "execution_count": null,
   "metadata": {},
   "outputs": [],
   "source": []
  }
 ],
 "metadata": {
  "kaggle": {
   "accelerator": "none",
   "dataSources": [
    {
     "datasetId": 5545433,
     "sourceId": 9175870,
     "sourceType": "datasetVersion"
    }
   ],
   "dockerImageVersionId": 30786,
   "isGpuEnabled": false,
   "isInternetEnabled": false,
   "language": "python",
   "sourceType": "notebook"
  },
  "kernelspec": {
   "display_name": "Python 3 (ipykernel)",
   "language": "python",
   "name": "python3"
  },
  "language_info": {
   "codemirror_mode": {
    "name": "ipython",
    "version": 3
   },
   "file_extension": ".py",
   "mimetype": "text/x-python",
   "name": "python",
   "nbconvert_exporter": "python",
   "pygments_lexer": "ipython3",
   "version": "3.9.15"
  }
 },
 "nbformat": 4,
 "nbformat_minor": 4
}
