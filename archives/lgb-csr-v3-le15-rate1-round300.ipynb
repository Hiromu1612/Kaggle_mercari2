{
 "cells": [
  {
   "cell_type": "code",
   "execution_count": 1,
   "metadata": {
    "execution": {
     "iopub.execute_input": "2024-10-08T03:47:55.399984Z",
     "iopub.status.busy": "2024-10-08T03:47:55.399046Z",
     "iopub.status.idle": "2024-10-08T03:47:55.409234Z",
     "shell.execute_reply": "2024-10-08T03:47:55.408060Z",
     "shell.execute_reply.started": "2024-10-08T03:47:55.399944Z"
    }
   },
   "outputs": [],
   "source": [
    "from datetime import datetime\n",
    "start_real = datetime.now() # 全体の処理時間の計測を開始する"
   ]
  },
  {
   "cell_type": "markdown",
   "metadata": {},
   "source": [
    "#### ライブラリのインポート"
   ]
  },
  {
   "cell_type": "code",
   "execution_count": 2,
   "metadata": {
    "_cell_guid": "e189abd2-46d2-4f2e-977b-50a25d3521d4",
    "_uuid": "96487335-2c48-482e-be5d-e80a6a096b5d",
    "collapsed": false,
    "execution": {
     "iopub.execute_input": "2024-10-08T03:47:55.415155Z",
     "iopub.status.busy": "2024-10-08T03:47:55.414682Z",
     "iopub.status.idle": "2024-10-08T03:47:57.084748Z",
     "shell.execute_reply": "2024-10-08T03:47:57.083464Z",
     "shell.execute_reply.started": "2024-10-08T03:47:55.415093Z"
    },
    "jupyter": {
     "outputs_hidden": false
    }
   },
   "outputs": [],
   "source": [
    "import numpy as np\n",
    "import pandas as pd\n",
    "import matplotlib.pyplot as plt\n",
    "%matplotlib inline\n",
    "\n",
    "from scipy.sparse import load_npz\n",
    "\n",
    "from sklearn.model_selection import train_test_split\n",
    "from sklearn.metrics import mean_squared_log_error\n",
    "import lightgbm as lgb\n",
    "\n",
    "import warnings\n",
    "warnings.simplefilter(\"ignore\")"
   ]
  },
  {
   "cell_type": "markdown",
   "metadata": {},
   "source": [
    "#### X と y の読み込み"
   ]
  },
  {
   "cell_type": "code",
   "execution_count": 3,
   "metadata": {
    "execution": {
     "iopub.execute_input": "2024-10-08T03:47:57.087158Z",
     "iopub.status.busy": "2024-10-08T03:47:57.086428Z",
     "iopub.status.idle": "2024-10-08T03:48:01.017029Z",
     "shell.execute_reply": "2024-10-08T03:48:01.015929Z",
     "shell.execute_reply.started": "2024-10-08T03:47:57.087056Z"
    }
   },
   "outputs": [],
   "source": [
    "# Kaggle Notebook\n",
    "X = load_npz('/kaggle/input/mercari-preprocessed/X.npz')\n",
    "y = pd.read_csv('/kaggle/input/mercari-preprocessed/y.csv')"
   ]
  },
  {
   "cell_type": "markdown",
   "metadata": {
    "_cell_guid": "d3894bae-96bd-4af9-9fb1-ae6871dfa661",
    "_uuid": "37cb4194-3c2b-42bc-b202-da5c84db592e"
   },
   "source": [
    "#### モデルの作成と学習"
   ]
  },
  {
   "cell_type": "markdown",
   "metadata": {
    "_cell_guid": "288926f5-9a0a-4d68-b124-47283ce934d4",
    "_uuid": "c575fffd-2cdb-4a6a-a648-7f7d38c405c5"
   },
   "source": [
    "#### X と y のうち、7割を訓練用 (train)、3割を検証用 (test) に分割する"
   ]
  },
  {
   "cell_type": "code",
   "execution_count": 4,
   "metadata": {
    "_cell_guid": "92de30b5-b5a4-4422-8d7a-d60dca400334",
    "_uuid": "d322bae4-149a-4cbe-81ea-2b40daf3fc27",
    "collapsed": false,
    "execution": {
     "iopub.execute_input": "2024-10-08T03:48:01.019904Z",
     "iopub.status.busy": "2024-10-08T03:48:01.019558Z",
     "iopub.status.idle": "2024-10-08T03:48:01.517783Z",
     "shell.execute_reply": "2024-10-08T03:48:01.516459Z",
     "shell.execute_reply.started": "2024-10-08T03:48:01.019862Z"
    },
    "jupyter": {
     "outputs_hidden": false
    }
   },
   "outputs": [],
   "source": [
    "X_train, X_test, y_train, y_test = train_test_split(X, y, test_size=0.3, random_state=0)"
   ]
  },
  {
   "cell_type": "code",
   "execution_count": 5,
   "metadata": {
    "_cell_guid": "7d5727b1-68e1-4d3c-8697-afee413f7623",
    "_uuid": "0dbd1d10-6545-4423-8d0b-ea34352e1772",
    "collapsed": false,
    "execution": {
     "iopub.execute_input": "2024-10-08T03:48:01.519447Z",
     "iopub.status.busy": "2024-10-08T03:48:01.519080Z",
     "iopub.status.idle": "2024-10-08T03:48:01.526329Z",
     "shell.execute_reply": "2024-10-08T03:48:01.524959Z",
     "shell.execute_reply.started": "2024-10-08T03:48:01.519411Z"
    },
    "jupyter": {
     "outputs_hidden": false
    }
   },
   "outputs": [
    {
     "name": "stdout",
     "output_type": "stream",
     "text": [
      "(1032740, 186740)\n",
      "(1032740, 1)\n",
      "(442604, 186740)\n",
      "(442604, 1)\n"
     ]
    }
   ],
   "source": [
    "print(X_train.shape)\n",
    "print(y_train.shape)\n",
    "print(X_test.shape)\n",
    "print(y_test.shape)"
   ]
  },
  {
   "cell_type": "markdown",
   "metadata": {},
   "source": [
    "#### モデルの学習｜LightGBM"
   ]
  },
  {
   "cell_type": "code",
   "execution_count": 6,
   "metadata": {
    "execution": {
     "iopub.execute_input": "2024-10-08T03:48:01.528059Z",
     "iopub.status.busy": "2024-10-08T03:48:01.527705Z",
     "iopub.status.idle": "2024-10-08T03:48:01.539164Z",
     "shell.execute_reply": "2024-10-08T03:48:01.537731Z",
     "shell.execute_reply.started": "2024-10-08T03:48:01.528024Z"
    }
   },
   "outputs": [],
   "source": [
    "# データセットの形式を変更\n",
    "train_data = lgb.Dataset(X_train, label=y_train)\n",
    "valid_data = lgb.Dataset(X_test, label=y_test, reference=train_data)"
   ]
  },
  {
   "cell_type": "code",
   "execution_count": 7,
   "metadata": {
    "execution": {
     "iopub.execute_input": "2024-10-08T03:48:01.541296Z",
     "iopub.status.busy": "2024-10-08T03:48:01.540724Z",
     "iopub.status.idle": "2024-10-08T03:48:01.550693Z",
     "shell.execute_reply": "2024-10-08T03:48:01.549573Z",
     "shell.execute_reply.started": "2024-10-08T03:48:01.541245Z"
    }
   },
   "outputs": [],
   "source": [
    "# ハイパーパラメータの設定\n",
    "params = {\n",
    "    'objective': 'regression',\n",
    "    'metric': 'rmse',\n",
    "    'num_leaves': 15,\n",
    "    'learning_rate': 1.0,\n",
    "    'feature_fraction': 0.6,\n",
    "    'bagging_fraction': 0.6,\n",
    "    'bagging_freq': 5,\n",
    "    'verbosity': 1,\n",
    "    'num_boost_round': 300,\n",
    "    'early_stopping_rounds': 50,\n",
    "    'seed': 0\n",
    "}"
   ]
  },
  {
   "cell_type": "code",
   "execution_count": 8,
   "metadata": {
    "execution": {
     "iopub.execute_input": "2024-10-08T03:48:01.552566Z",
     "iopub.status.busy": "2024-10-08T03:48:01.552233Z",
     "iopub.status.idle": "2024-10-08T04:50:30.832375Z",
     "shell.execute_reply": "2024-10-08T04:50:30.831170Z",
     "shell.execute_reply.started": "2024-10-08T03:48:01.552533Z"
    }
   },
   "outputs": [
    {
     "name": "stdout",
     "output_type": "stream",
     "text": [
      "[LightGBM] [Debug] Dataset::GetMultiBinFromSparseFeatures: sparse rate 0.999570\n",
      "[LightGBM] [Debug] Dataset::GetMultiBinFromAllFeatures: sparse rate 0.999505\n",
      "[LightGBM] [Debug] init for col-wise cost 706.599901 seconds, init for row-wise cost 678.885851 seconds\n",
      "[LightGBM] [Info] Auto-choosing col-wise multi-threading, the overhead of testing was 679.355964 seconds.\n",
      "You can set `force_col_wise=true` to remove the overhead.\n",
      "[LightGBM] [Info] Total Bins 1067750\n",
      "[LightGBM] [Info] Number of data points in the train set: 1032740, number of used features: 65802\n",
      "[LightGBM] [Debug] Use subset for bagging\n",
      "[LightGBM] [Info] Start training from score 2.981379\n",
      "[LightGBM] [Debug] Re-bagging, using 619579 data to train\n",
      "[LightGBM] [Debug] Trained a tree with leaves = 15 and depth = 8\n",
      "Training until validation scores don't improve for 50 rounds\n",
      "[LightGBM] [Debug] Trained a tree with leaves = 15 and depth = 10\n",
      "[LightGBM] [Debug] Trained a tree with leaves = 15 and depth = 12\n",
      "[LightGBM] [Debug] Trained a tree with leaves = 15 and depth = 13\n",
      "[LightGBM] [Debug] Trained a tree with leaves = 15 and depth = 13\n",
      "[LightGBM] [Debug] Re-bagging, using 619701 data to train\n",
      "[LightGBM] [Debug] Trained a tree with leaves = 15 and depth = 14\n",
      "[LightGBM] [Debug] Trained a tree with leaves = 15 and depth = 14\n",
      "[LightGBM] [Debug] Trained a tree with leaves = 15 and depth = 14\n",
      "[LightGBM] [Debug] Trained a tree with leaves = 15 and depth = 8\n",
      "[LightGBM] [Debug] Trained a tree with leaves = 15 and depth = 14\n",
      "[LightGBM] [Debug] Re-bagging, using 618832 data to train\n",
      "[LightGBM] [Debug] Trained a tree with leaves = 15 and depth = 13\n",
      "[LightGBM] [Debug] Trained a tree with leaves = 15 and depth = 14\n",
      "[LightGBM] [Debug] Trained a tree with leaves = 15 and depth = 13\n",
      "[LightGBM] [Debug] Trained a tree with leaves = 15 and depth = 14\n",
      "[LightGBM] [Debug] Trained a tree with leaves = 15 and depth = 14\n",
      "[LightGBM] [Debug] Re-bagging, using 619848 data to train\n",
      "[LightGBM] [Debug] Trained a tree with leaves = 15 and depth = 14\n",
      "[LightGBM] [Debug] Trained a tree with leaves = 15 and depth = 11\n",
      "[LightGBM] [Debug] Trained a tree with leaves = 15 and depth = 12\n",
      "[LightGBM] [Debug] Trained a tree with leaves = 15 and depth = 14\n",
      "[LightGBM] [Debug] Trained a tree with leaves = 15 and depth = 9\n",
      "[LightGBM] [Debug] Re-bagging, using 619633 data to train\n",
      "[LightGBM] [Debug] Trained a tree with leaves = 15 and depth = 11\n",
      "[LightGBM] [Debug] Trained a tree with leaves = 15 and depth = 12\n",
      "[LightGBM] [Debug] Trained a tree with leaves = 15 and depth = 14\n",
      "[LightGBM] [Debug] Trained a tree with leaves = 15 and depth = 14\n",
      "[LightGBM] [Debug] Trained a tree with leaves = 15 and depth = 14\n",
      "[LightGBM] [Debug] Re-bagging, using 618905 data to train\n",
      "[LightGBM] [Debug] Trained a tree with leaves = 15 and depth = 14\n",
      "[LightGBM] [Debug] Trained a tree with leaves = 15 and depth = 14\n",
      "[LightGBM] [Debug] Trained a tree with leaves = 15 and depth = 13\n",
      "[LightGBM] [Debug] Trained a tree with leaves = 15 and depth = 12\n",
      "[LightGBM] [Debug] Trained a tree with leaves = 15 and depth = 13\n",
      "[LightGBM] [Debug] Re-bagging, using 619705 data to train\n",
      "[LightGBM] [Debug] Trained a tree with leaves = 15 and depth = 14\n",
      "[LightGBM] [Debug] Trained a tree with leaves = 15 and depth = 11\n",
      "[LightGBM] [Debug] Trained a tree with leaves = 15 and depth = 12\n",
      "[LightGBM] [Debug] Trained a tree with leaves = 15 and depth = 11\n",
      "[LightGBM] [Debug] Trained a tree with leaves = 15 and depth = 9\n",
      "[LightGBM] [Debug] Re-bagging, using 620097 data to train\n",
      "[LightGBM] [Debug] Trained a tree with leaves = 15 and depth = 14\n",
      "[LightGBM] [Debug] Trained a tree with leaves = 15 and depth = 13\n",
      "[LightGBM] [Debug] Trained a tree with leaves = 15 and depth = 11\n",
      "[LightGBM] [Debug] Trained a tree with leaves = 15 and depth = 10\n",
      "[LightGBM] [Debug] Trained a tree with leaves = 15 and depth = 14\n",
      "[LightGBM] [Debug] Re-bagging, using 620362 data to train\n",
      "[LightGBM] [Debug] Trained a tree with leaves = 15 and depth = 14\n",
      "[LightGBM] [Debug] Trained a tree with leaves = 15 and depth = 13\n",
      "[LightGBM] [Debug] Trained a tree with leaves = 15 and depth = 14\n",
      "[LightGBM] [Debug] Trained a tree with leaves = 15 and depth = 12\n",
      "[LightGBM] [Debug] Trained a tree with leaves = 15 and depth = 13\n",
      "[LightGBM] [Debug] Re-bagging, using 619306 data to train\n",
      "[LightGBM] [Debug] Trained a tree with leaves = 15 and depth = 14\n",
      "[LightGBM] [Debug] Trained a tree with leaves = 15 and depth = 14\n",
      "[LightGBM] [Debug] Trained a tree with leaves = 15 and depth = 13\n",
      "[LightGBM] [Debug] Trained a tree with leaves = 15 and depth = 14\n",
      "[LightGBM] [Debug] Trained a tree with leaves = 15 and depth = 13\n",
      "[LightGBM] [Debug] Re-bagging, using 619726 data to train\n",
      "[LightGBM] [Debug] Trained a tree with leaves = 15 and depth = 13\n",
      "[LightGBM] [Debug] Trained a tree with leaves = 15 and depth = 10\n",
      "[LightGBM] [Debug] Trained a tree with leaves = 15 and depth = 11\n",
      "[LightGBM] [Debug] Trained a tree with leaves = 15 and depth = 13\n",
      "[LightGBM] [Debug] Trained a tree with leaves = 15 and depth = 14\n",
      "[LightGBM] [Debug] Re-bagging, using 619236 data to train\n",
      "[LightGBM] [Debug] Trained a tree with leaves = 15 and depth = 12\n",
      "[LightGBM] [Debug] Trained a tree with leaves = 15 and depth = 13\n",
      "[LightGBM] [Debug] Trained a tree with leaves = 15 and depth = 14\n",
      "[LightGBM] [Debug] Trained a tree with leaves = 15 and depth = 14\n",
      "[LightGBM] [Debug] Trained a tree with leaves = 15 and depth = 13\n",
      "[LightGBM] [Debug] Re-bagging, using 619332 data to train\n",
      "[LightGBM] [Debug] Trained a tree with leaves = 15 and depth = 13\n",
      "[LightGBM] [Debug] Trained a tree with leaves = 15 and depth = 14\n",
      "[LightGBM] [Debug] Trained a tree with leaves = 15 and depth = 12\n",
      "[LightGBM] [Debug] Trained a tree with leaves = 15 and depth = 13\n",
      "[LightGBM] [Debug] Trained a tree with leaves = 15 and depth = 10\n",
      "[LightGBM] [Debug] Re-bagging, using 619649 data to train\n",
      "[LightGBM] [Debug] Trained a tree with leaves = 15 and depth = 11\n",
      "[LightGBM] [Debug] Trained a tree with leaves = 15 and depth = 10\n",
      "[LightGBM] [Debug] Trained a tree with leaves = 15 and depth = 11\n",
      "[LightGBM] [Debug] Trained a tree with leaves = 15 and depth = 9\n",
      "[LightGBM] [Debug] Trained a tree with leaves = 15 and depth = 12\n",
      "[LightGBM] [Debug] Re-bagging, using 619820 data to train\n",
      "[LightGBM] [Debug] Trained a tree with leaves = 15 and depth = 14\n",
      "[LightGBM] [Debug] Trained a tree with leaves = 15 and depth = 14\n",
      "[LightGBM] [Debug] Trained a tree with leaves = 15 and depth = 14\n",
      "[LightGBM] [Debug] Trained a tree with leaves = 15 and depth = 14\n",
      "[LightGBM] [Debug] Trained a tree with leaves = 15 and depth = 10\n",
      "[LightGBM] [Debug] Re-bagging, using 618619 data to train\n",
      "[LightGBM] [Debug] Trained a tree with leaves = 15 and depth = 13\n",
      "[LightGBM] [Debug] Trained a tree with leaves = 15 and depth = 13\n",
      "[LightGBM] [Debug] Trained a tree with leaves = 15 and depth = 12\n",
      "[LightGBM] [Debug] Trained a tree with leaves = 15 and depth = 12\n",
      "[LightGBM] [Debug] Trained a tree with leaves = 15 and depth = 10\n",
      "[LightGBM] [Debug] Re-bagging, using 619313 data to train\n",
      "[LightGBM] [Debug] Trained a tree with leaves = 15 and depth = 14\n",
      "[LightGBM] [Debug] Trained a tree with leaves = 15 and depth = 13\n",
      "[LightGBM] [Debug] Trained a tree with leaves = 15 and depth = 14\n",
      "[LightGBM] [Debug] Trained a tree with leaves = 15 and depth = 13\n",
      "[LightGBM] [Debug] Trained a tree with leaves = 15 and depth = 14\n",
      "[LightGBM] [Debug] Re-bagging, using 618912 data to train\n",
      "[LightGBM] [Debug] Trained a tree with leaves = 15 and depth = 14\n",
      "[LightGBM] [Debug] Trained a tree with leaves = 15 and depth = 13\n",
      "[LightGBM] [Debug] Trained a tree with leaves = 15 and depth = 14\n",
      "[LightGBM] [Debug] Trained a tree with leaves = 15 and depth = 12\n",
      "[LightGBM] [Debug] Trained a tree with leaves = 15 and depth = 13\n",
      "[LightGBM] [Debug] Re-bagging, using 619043 data to train\n",
      "[LightGBM] [Debug] Trained a tree with leaves = 15 and depth = 14\n",
      "[LightGBM] [Debug] Trained a tree with leaves = 15 and depth = 14\n",
      "[LightGBM] [Debug] Trained a tree with leaves = 15 and depth = 13\n",
      "[LightGBM] [Debug] Trained a tree with leaves = 15 and depth = 7\n",
      "[LightGBM] [Debug] Trained a tree with leaves = 15 and depth = 9\n",
      "[LightGBM] [Debug] Re-bagging, using 619091 data to train\n",
      "[LightGBM] [Debug] Trained a tree with leaves = 15 and depth = 13\n",
      "[LightGBM] [Debug] Trained a tree with leaves = 15 and depth = 13\n",
      "[LightGBM] [Debug] Trained a tree with leaves = 15 and depth = 14\n",
      "[LightGBM] [Debug] Trained a tree with leaves = 15 and depth = 12\n",
      "[LightGBM] [Debug] Trained a tree with leaves = 15 and depth = 14\n",
      "[LightGBM] [Debug] Re-bagging, using 619494 data to train\n",
      "[LightGBM] [Debug] Trained a tree with leaves = 15 and depth = 12\n",
      "[LightGBM] [Debug] Trained a tree with leaves = 15 and depth = 14\n",
      "[LightGBM] [Debug] Trained a tree with leaves = 15 and depth = 9\n",
      "[LightGBM] [Debug] Trained a tree with leaves = 15 and depth = 13\n",
      "[LightGBM] [Debug] Trained a tree with leaves = 15 and depth = 14\n",
      "[LightGBM] [Debug] Re-bagging, using 619843 data to train\n",
      "[LightGBM] [Debug] Trained a tree with leaves = 15 and depth = 14\n",
      "[LightGBM] [Debug] Trained a tree with leaves = 15 and depth = 14\n",
      "[LightGBM] [Debug] Trained a tree with leaves = 15 and depth = 13\n",
      "[LightGBM] [Debug] Trained a tree with leaves = 15 and depth = 14\n",
      "[LightGBM] [Debug] Trained a tree with leaves = 15 and depth = 12\n",
      "[LightGBM] [Debug] Re-bagging, using 619349 data to train\n",
      "[LightGBM] [Debug] Trained a tree with leaves = 15 and depth = 7\n",
      "[LightGBM] [Debug] Trained a tree with leaves = 15 and depth = 14\n",
      "[LightGBM] [Debug] Trained a tree with leaves = 15 and depth = 14\n",
      "[LightGBM] [Debug] Trained a tree with leaves = 15 and depth = 11\n",
      "[LightGBM] [Debug] Trained a tree with leaves = 15 and depth = 13\n",
      "[LightGBM] [Debug] Re-bagging, using 619927 data to train\n",
      "[LightGBM] [Debug] Trained a tree with leaves = 15 and depth = 14\n",
      "[LightGBM] [Debug] Trained a tree with leaves = 15 and depth = 12\n",
      "[LightGBM] [Debug] Trained a tree with leaves = 15 and depth = 13\n",
      "[LightGBM] [Debug] Trained a tree with leaves = 15 and depth = 10\n",
      "[LightGBM] [Debug] Trained a tree with leaves = 15 and depth = 12\n",
      "[LightGBM] [Debug] Re-bagging, using 619275 data to train\n",
      "[LightGBM] [Debug] Trained a tree with leaves = 15 and depth = 13\n",
      "[LightGBM] [Debug] Trained a tree with leaves = 15 and depth = 14\n",
      "[LightGBM] [Debug] Trained a tree with leaves = 15 and depth = 13\n",
      "[LightGBM] [Debug] Trained a tree with leaves = 15 and depth = 11\n",
      "[LightGBM] [Debug] Trained a tree with leaves = 15 and depth = 8\n",
      "[LightGBM] [Debug] Re-bagging, using 619477 data to train\n",
      "[LightGBM] [Debug] Trained a tree with leaves = 15 and depth = 13\n",
      "[LightGBM] [Debug] Trained a tree with leaves = 15 and depth = 10\n",
      "[LightGBM] [Debug] Trained a tree with leaves = 15 and depth = 13\n",
      "[LightGBM] [Debug] Trained a tree with leaves = 15 and depth = 14\n",
      "[LightGBM] [Debug] Trained a tree with leaves = 15 and depth = 12\n",
      "[LightGBM] [Debug] Re-bagging, using 619557 data to train\n",
      "[LightGBM] [Debug] Trained a tree with leaves = 15 and depth = 14\n",
      "[LightGBM] [Debug] Trained a tree with leaves = 15 and depth = 13\n",
      "[LightGBM] [Debug] Trained a tree with leaves = 15 and depth = 13\n",
      "[LightGBM] [Debug] Trained a tree with leaves = 15 and depth = 13\n",
      "[LightGBM] [Debug] Trained a tree with leaves = 15 and depth = 11\n",
      "[LightGBM] [Debug] Re-bagging, using 618615 data to train\n",
      "[LightGBM] [Debug] Trained a tree with leaves = 15 and depth = 12\n",
      "[LightGBM] [Debug] Trained a tree with leaves = 15 and depth = 13\n",
      "[LightGBM] [Debug] Trained a tree with leaves = 15 and depth = 13\n",
      "[LightGBM] [Debug] Trained a tree with leaves = 15 and depth = 14\n",
      "[LightGBM] [Debug] Trained a tree with leaves = 15 and depth = 14\n",
      "[LightGBM] [Debug] Re-bagging, using 618881 data to train\n",
      "[LightGBM] [Debug] Trained a tree with leaves = 15 and depth = 13\n",
      "[LightGBM] [Debug] Trained a tree with leaves = 15 and depth = 13\n",
      "[LightGBM] [Debug] Trained a tree with leaves = 15 and depth = 13\n",
      "[LightGBM] [Debug] Trained a tree with leaves = 15 and depth = 13\n",
      "[LightGBM] [Debug] Trained a tree with leaves = 15 and depth = 13\n",
      "[LightGBM] [Debug] Re-bagging, using 620016 data to train\n",
      "[LightGBM] [Debug] Trained a tree with leaves = 15 and depth = 13\n",
      "[LightGBM] [Debug] Trained a tree with leaves = 15 and depth = 13\n",
      "[LightGBM] [Debug] Trained a tree with leaves = 15 and depth = 11\n",
      "[LightGBM] [Debug] Trained a tree with leaves = 15 and depth = 13\n",
      "[LightGBM] [Debug] Trained a tree with leaves = 15 and depth = 14\n",
      "[LightGBM] [Debug] Re-bagging, using 619031 data to train\n",
      "[LightGBM] [Debug] Trained a tree with leaves = 15 and depth = 13\n",
      "[LightGBM] [Debug] Trained a tree with leaves = 15 and depth = 12\n",
      "[LightGBM] [Debug] Trained a tree with leaves = 15 and depth = 13\n",
      "[LightGBM] [Debug] Trained a tree with leaves = 15 and depth = 14\n",
      "[LightGBM] [Debug] Trained a tree with leaves = 15 and depth = 13\n",
      "[LightGBM] [Debug] Re-bagging, using 620830 data to train\n",
      "[LightGBM] [Debug] Trained a tree with leaves = 15 and depth = 14\n",
      "[LightGBM] [Debug] Trained a tree with leaves = 15 and depth = 13\n",
      "[LightGBM] [Debug] Trained a tree with leaves = 15 and depth = 14\n",
      "[LightGBM] [Debug] Trained a tree with leaves = 15 and depth = 12\n",
      "[LightGBM] [Debug] Trained a tree with leaves = 15 and depth = 14\n",
      "[LightGBM] [Debug] Re-bagging, using 618823 data to train\n",
      "[LightGBM] [Debug] Trained a tree with leaves = 15 and depth = 9\n",
      "[LightGBM] [Debug] Trained a tree with leaves = 15 and depth = 11\n",
      "[LightGBM] [Debug] Trained a tree with leaves = 15 and depth = 13\n",
      "[LightGBM] [Debug] Trained a tree with leaves = 15 and depth = 14\n",
      "[LightGBM] [Debug] Trained a tree with leaves = 15 and depth = 14\n",
      "[LightGBM] [Debug] Re-bagging, using 619595 data to train\n",
      "[LightGBM] [Debug] Trained a tree with leaves = 15 and depth = 11\n",
      "[LightGBM] [Debug] Trained a tree with leaves = 15 and depth = 9\n",
      "[LightGBM] [Debug] Trained a tree with leaves = 15 and depth = 13\n",
      "[LightGBM] [Debug] Trained a tree with leaves = 15 and depth = 14\n",
      "[LightGBM] [Debug] Trained a tree with leaves = 15 and depth = 12\n",
      "[LightGBM] [Debug] Re-bagging, using 619665 data to train\n",
      "[LightGBM] [Debug] Trained a tree with leaves = 15 and depth = 13\n",
      "[LightGBM] [Debug] Trained a tree with leaves = 15 and depth = 6\n",
      "[LightGBM] [Debug] Trained a tree with leaves = 15 and depth = 10\n",
      "[LightGBM] [Debug] Trained a tree with leaves = 15 and depth = 14\n",
      "[LightGBM] [Debug] Trained a tree with leaves = 15 and depth = 14\n",
      "[LightGBM] [Debug] Re-bagging, using 618988 data to train\n",
      "[LightGBM] [Debug] Trained a tree with leaves = 15 and depth = 14\n",
      "[LightGBM] [Debug] Trained a tree with leaves = 15 and depth = 12\n",
      "[LightGBM] [Debug] Trained a tree with leaves = 15 and depth = 12\n",
      "[LightGBM] [Debug] Trained a tree with leaves = 15 and depth = 12\n",
      "[LightGBM] [Debug] Trained a tree with leaves = 15 and depth = 14\n",
      "[LightGBM] [Debug] Re-bagging, using 620044 data to train\n",
      "[LightGBM] [Debug] Trained a tree with leaves = 15 and depth = 12\n",
      "[LightGBM] [Debug] Trained a tree with leaves = 15 and depth = 13\n",
      "[LightGBM] [Debug] Trained a tree with leaves = 15 and depth = 13\n",
      "[LightGBM] [Debug] Trained a tree with leaves = 15 and depth = 13\n",
      "[LightGBM] [Debug] Trained a tree with leaves = 15 and depth = 12\n",
      "[LightGBM] [Debug] Re-bagging, using 619997 data to train\n",
      "[LightGBM] [Debug] Trained a tree with leaves = 15 and depth = 13\n",
      "[LightGBM] [Debug] Trained a tree with leaves = 15 and depth = 12\n",
      "[LightGBM] [Debug] Trained a tree with leaves = 15 and depth = 11\n",
      "[LightGBM] [Debug] Trained a tree with leaves = 15 and depth = 12\n",
      "[LightGBM] [Debug] Trained a tree with leaves = 15 and depth = 12\n",
      "[LightGBM] [Debug] Re-bagging, using 619796 data to train\n",
      "[LightGBM] [Debug] Trained a tree with leaves = 15 and depth = 9\n",
      "[LightGBM] [Debug] Trained a tree with leaves = 15 and depth = 12\n",
      "[LightGBM] [Debug] Trained a tree with leaves = 15 and depth = 12\n",
      "[LightGBM] [Debug] Trained a tree with leaves = 15 and depth = 13\n",
      "[LightGBM] [Debug] Trained a tree with leaves = 15 and depth = 13\n",
      "[LightGBM] [Debug] Re-bagging, using 619775 data to train\n",
      "[LightGBM] [Debug] Trained a tree with leaves = 15 and depth = 13\n",
      "[LightGBM] [Debug] Trained a tree with leaves = 15 and depth = 14\n",
      "[LightGBM] [Debug] Trained a tree with leaves = 15 and depth = 11\n",
      "[LightGBM] [Debug] Trained a tree with leaves = 15 and depth = 14\n",
      "[LightGBM] [Debug] Trained a tree with leaves = 15 and depth = 14\n",
      "[LightGBM] [Debug] Re-bagging, using 619671 data to train\n",
      "[LightGBM] [Debug] Trained a tree with leaves = 15 and depth = 9\n",
      "[LightGBM] [Debug] Trained a tree with leaves = 15 and depth = 14\n",
      "[LightGBM] [Debug] Trained a tree with leaves = 15 and depth = 14\n",
      "[LightGBM] [Debug] Trained a tree with leaves = 15 and depth = 14\n",
      "[LightGBM] [Debug] Trained a tree with leaves = 15 and depth = 14\n",
      "[LightGBM] [Debug] Re-bagging, using 619828 data to train\n",
      "[LightGBM] [Debug] Trained a tree with leaves = 15 and depth = 14\n",
      "[LightGBM] [Debug] Trained a tree with leaves = 15 and depth = 13\n",
      "[LightGBM] [Debug] Trained a tree with leaves = 15 and depth = 12\n",
      "[LightGBM] [Debug] Trained a tree with leaves = 15 and depth = 8\n",
      "[LightGBM] [Debug] Trained a tree with leaves = 15 and depth = 13\n",
      "[LightGBM] [Debug] Re-bagging, using 619985 data to train\n",
      "[LightGBM] [Debug] Trained a tree with leaves = 15 and depth = 14\n",
      "[LightGBM] [Debug] Trained a tree with leaves = 15 and depth = 7\n",
      "[LightGBM] [Debug] Trained a tree with leaves = 15 and depth = 14\n",
      "[LightGBM] [Debug] Trained a tree with leaves = 15 and depth = 14\n",
      "[LightGBM] [Debug] Trained a tree with leaves = 15 and depth = 14\n",
      "[LightGBM] [Debug] Re-bagging, using 619947 data to train\n",
      "[LightGBM] [Debug] Trained a tree with leaves = 15 and depth = 13\n",
      "[LightGBM] [Debug] Trained a tree with leaves = 15 and depth = 14\n",
      "[LightGBM] [Debug] Trained a tree with leaves = 15 and depth = 13\n",
      "[LightGBM] [Debug] Trained a tree with leaves = 15 and depth = 14\n",
      "[LightGBM] [Debug] Trained a tree with leaves = 15 and depth = 10\n",
      "[LightGBM] [Debug] Re-bagging, using 620520 data to train\n",
      "[LightGBM] [Debug] Trained a tree with leaves = 15 and depth = 14\n",
      "[LightGBM] [Debug] Trained a tree with leaves = 15 and depth = 13\n",
      "[LightGBM] [Debug] Trained a tree with leaves = 15 and depth = 11\n",
      "[LightGBM] [Debug] Trained a tree with leaves = 15 and depth = 12\n",
      "[LightGBM] [Debug] Trained a tree with leaves = 15 and depth = 13\n",
      "[LightGBM] [Debug] Re-bagging, using 619164 data to train\n",
      "[LightGBM] [Debug] Trained a tree with leaves = 15 and depth = 14\n",
      "[LightGBM] [Debug] Trained a tree with leaves = 15 and depth = 9\n",
      "[LightGBM] [Debug] Trained a tree with leaves = 15 and depth = 13\n",
      "[LightGBM] [Debug] Trained a tree with leaves = 15 and depth = 13\n",
      "[LightGBM] [Debug] Trained a tree with leaves = 15 and depth = 13\n",
      "[LightGBM] [Debug] Re-bagging, using 619716 data to train\n",
      "[LightGBM] [Debug] Trained a tree with leaves = 15 and depth = 14\n",
      "[LightGBM] [Debug] Trained a tree with leaves = 15 and depth = 12\n",
      "[LightGBM] [Debug] Trained a tree with leaves = 15 and depth = 13\n",
      "[LightGBM] [Debug] Trained a tree with leaves = 15 and depth = 12\n",
      "[LightGBM] [Debug] Trained a tree with leaves = 15 and depth = 14\n",
      "[LightGBM] [Debug] Re-bagging, using 619785 data to train\n",
      "[LightGBM] [Debug] Trained a tree with leaves = 15 and depth = 12\n",
      "[LightGBM] [Debug] Trained a tree with leaves = 15 and depth = 14\n",
      "[LightGBM] [Debug] Trained a tree with leaves = 15 and depth = 14\n",
      "[LightGBM] [Debug] Trained a tree with leaves = 15 and depth = 11\n",
      "[LightGBM] [Debug] Trained a tree with leaves = 15 and depth = 14\n",
      "[LightGBM] [Debug] Re-bagging, using 620426 data to train\n",
      "[LightGBM] [Debug] Trained a tree with leaves = 15 and depth = 12\n",
      "[LightGBM] [Debug] Trained a tree with leaves = 15 and depth = 13\n",
      "[LightGBM] [Debug] Trained a tree with leaves = 15 and depth = 13\n",
      "[LightGBM] [Debug] Trained a tree with leaves = 15 and depth = 13\n",
      "[LightGBM] [Debug] Trained a tree with leaves = 15 and depth = 14\n",
      "[LightGBM] [Debug] Re-bagging, using 619524 data to train\n",
      "[LightGBM] [Debug] Trained a tree with leaves = 15 and depth = 13\n",
      "[LightGBM] [Debug] Trained a tree with leaves = 15 and depth = 13\n",
      "[LightGBM] [Debug] Trained a tree with leaves = 15 and depth = 13\n",
      "[LightGBM] [Debug] Trained a tree with leaves = 15 and depth = 13\n",
      "[LightGBM] [Debug] Trained a tree with leaves = 15 and depth = 10\n",
      "[LightGBM] [Debug] Re-bagging, using 618548 data to train\n",
      "[LightGBM] [Debug] Trained a tree with leaves = 15 and depth = 13\n",
      "[LightGBM] [Debug] Trained a tree with leaves = 15 and depth = 13\n",
      "[LightGBM] [Debug] Trained a tree with leaves = 15 and depth = 14\n",
      "[LightGBM] [Debug] Trained a tree with leaves = 15 and depth = 14\n",
      "[LightGBM] [Debug] Trained a tree with leaves = 15 and depth = 12\n",
      "[LightGBM] [Debug] Re-bagging, using 619498 data to train\n",
      "[LightGBM] [Debug] Trained a tree with leaves = 15 and depth = 12\n",
      "[LightGBM] [Debug] Trained a tree with leaves = 15 and depth = 14\n",
      "[LightGBM] [Debug] Trained a tree with leaves = 15 and depth = 14\n",
      "[LightGBM] [Debug] Trained a tree with leaves = 15 and depth = 13\n",
      "[LightGBM] [Debug] Trained a tree with leaves = 15 and depth = 14\n",
      "[LightGBM] [Debug] Re-bagging, using 619773 data to train\n",
      "[LightGBM] [Debug] Trained a tree with leaves = 15 and depth = 13\n",
      "[LightGBM] [Debug] Trained a tree with leaves = 15 and depth = 14\n",
      "[LightGBM] [Debug] Trained a tree with leaves = 15 and depth = 11\n",
      "[LightGBM] [Debug] Trained a tree with leaves = 15 and depth = 12\n",
      "[LightGBM] [Debug] Trained a tree with leaves = 15 and depth = 10\n",
      "[LightGBM] [Debug] Re-bagging, using 618928 data to train\n",
      "[LightGBM] [Debug] Trained a tree with leaves = 15 and depth = 14\n",
      "[LightGBM] [Debug] Trained a tree with leaves = 15 and depth = 14\n",
      "[LightGBM] [Debug] Trained a tree with leaves = 15 and depth = 14\n",
      "[LightGBM] [Debug] Trained a tree with leaves = 15 and depth = 11\n",
      "[LightGBM] [Debug] Trained a tree with leaves = 15 and depth = 11\n",
      "[LightGBM] [Debug] Re-bagging, using 620073 data to train\n",
      "[LightGBM] [Debug] Trained a tree with leaves = 15 and depth = 14\n",
      "[LightGBM] [Debug] Trained a tree with leaves = 15 and depth = 14\n",
      "[LightGBM] [Debug] Trained a tree with leaves = 15 and depth = 14\n",
      "[LightGBM] [Debug] Trained a tree with leaves = 15 and depth = 7\n",
      "[LightGBM] [Debug] Trained a tree with leaves = 15 and depth = 10\n",
      "[LightGBM] [Debug] Re-bagging, using 619422 data to train\n",
      "[LightGBM] [Debug] Trained a tree with leaves = 15 and depth = 9\n",
      "[LightGBM] [Debug] Trained a tree with leaves = 15 and depth = 14\n",
      "[LightGBM] [Debug] Trained a tree with leaves = 15 and depth = 12\n",
      "[LightGBM] [Debug] Trained a tree with leaves = 15 and depth = 14\n",
      "[LightGBM] [Debug] Trained a tree with leaves = 15 and depth = 11\n",
      "[LightGBM] [Debug] Re-bagging, using 619613 data to train\n",
      "[LightGBM] [Debug] Trained a tree with leaves = 15 and depth = 14\n",
      "[LightGBM] [Debug] Trained a tree with leaves = 15 and depth = 13\n",
      "[LightGBM] [Debug] Trained a tree with leaves = 15 and depth = 14\n",
      "[LightGBM] [Debug] Trained a tree with leaves = 15 and depth = 12\n",
      "[LightGBM] [Debug] Trained a tree with leaves = 15 and depth = 13\n",
      "[LightGBM] [Debug] Re-bagging, using 619524 data to train\n",
      "[LightGBM] [Debug] Trained a tree with leaves = 15 and depth = 13\n",
      "[LightGBM] [Debug] Trained a tree with leaves = 15 and depth = 13\n",
      "[LightGBM] [Debug] Trained a tree with leaves = 15 and depth = 12\n",
      "[LightGBM] [Debug] Trained a tree with leaves = 15 and depth = 12\n",
      "[LightGBM] [Debug] Trained a tree with leaves = 15 and depth = 14\n",
      "[LightGBM] [Debug] Re-bagging, using 619678 data to train\n",
      "[LightGBM] [Debug] Trained a tree with leaves = 15 and depth = 12\n",
      "[LightGBM] [Debug] Trained a tree with leaves = 15 and depth = 14\n",
      "[LightGBM] [Debug] Trained a tree with leaves = 15 and depth = 10\n",
      "[LightGBM] [Debug] Trained a tree with leaves = 15 and depth = 12\n",
      "[LightGBM] [Debug] Trained a tree with leaves = 15 and depth = 14\n",
      "[LightGBM] [Debug] Re-bagging, using 619976 data to train\n",
      "[LightGBM] [Debug] Trained a tree with leaves = 15 and depth = 12\n",
      "[LightGBM] [Debug] Trained a tree with leaves = 15 and depth = 14\n",
      "[LightGBM] [Debug] Trained a tree with leaves = 15 and depth = 14\n",
      "[LightGBM] [Debug] Trained a tree with leaves = 15 and depth = 13\n",
      "[LightGBM] [Debug] Trained a tree with leaves = 15 and depth = 12\n",
      "Did not meet early stopping. Best iteration is:\n",
      "[300]\tvalid_0's rmse: 0.482728\n",
      "CPU times: user 3h 50min 14s, sys: 16.9 s, total: 3h 50min 31s\n",
      "Wall time: 1h 2min 29s\n"
     ]
    }
   ],
   "source": [
    "%%time\n",
    "gbm = lgb.train(params, train_data, valid_sets=valid_data)"
   ]
  },
  {
   "cell_type": "markdown",
   "metadata": {},
   "source": [
    "#### 訓練データに対する予測｜LightGBM"
   ]
  },
  {
   "cell_type": "code",
   "execution_count": 9,
   "metadata": {
    "execution": {
     "iopub.execute_input": "2024-10-08T04:50:30.834177Z",
     "iopub.status.busy": "2024-10-08T04:50:30.833823Z",
     "iopub.status.idle": "2024-10-08T04:51:26.837071Z",
     "shell.execute_reply": "2024-10-08T04:51:26.836073Z",
     "shell.execute_reply.started": "2024-10-08T04:50:30.834135Z"
    }
   },
   "outputs": [],
   "source": [
    "y_train_pred = gbm.predict(X_train)"
   ]
  },
  {
   "cell_type": "code",
   "execution_count": 10,
   "metadata": {
    "execution": {
     "iopub.execute_input": "2024-10-08T04:51:26.839071Z",
     "iopub.status.busy": "2024-10-08T04:51:26.838617Z",
     "iopub.status.idle": "2024-10-08T04:51:26.901558Z",
     "shell.execute_reply": "2024-10-08T04:51:26.900398Z",
     "shell.execute_reply.started": "2024-10-08T04:51:26.839024Z"
    }
   },
   "outputs": [],
   "source": [
    "# 元のスケールに戻す\n",
    "y_train_cp = y_train.copy()\n",
    "y_train_pred_cp = y_train_pred.copy()\n",
    "\n",
    "y_train_cp = np.expm1(y_train_cp)\n",
    "y_train_pred_cp = np.expm1(y_train_pred_cp)"
   ]
  },
  {
   "cell_type": "code",
   "execution_count": 11,
   "metadata": {
    "execution": {
     "iopub.execute_input": "2024-10-08T04:51:26.903492Z",
     "iopub.status.busy": "2024-10-08T04:51:26.903073Z",
     "iopub.status.idle": "2024-10-08T04:51:26.919639Z",
     "shell.execute_reply": "2024-10-08T04:51:26.918527Z",
     "shell.execute_reply.started": "2024-10-08T04:51:26.903452Z"
    }
   },
   "outputs": [],
   "source": [
    "y_min = np.append(y_train_pred_cp, y_train_cp).min()\n",
    "y_max = np.append(y_train_pred_cp, y_train_cp).max()\n",
    "y_margin = (y_max - y_min) * 0.1\n",
    "y_min -= y_margin\n",
    "y_max += y_margin"
   ]
  },
  {
   "cell_type": "code",
   "execution_count": 12,
   "metadata": {
    "execution": {
     "iopub.execute_input": "2024-10-08T04:51:26.922244Z",
     "iopub.status.busy": "2024-10-08T04:51:26.921845Z",
     "iopub.status.idle": "2024-10-08T04:51:29.883638Z",
     "shell.execute_reply": "2024-10-08T04:51:29.882562Z",
     "shell.execute_reply.started": "2024-10-08T04:51:26.922207Z"
    }
   },
   "outputs": [
    {
     "data": {
      "image/png": "[encoded data removed]",
      "text/plain": [
       "<Figure size 640x480 with 1 Axes>"
      ]
     },
     "metadata": {},
     "output_type": "display_data"
    }
   ],
   "source": [
    "plt.scatter(y_train_pred_cp, y_train_cp, alpha=0.3)\n",
    "plt.plot([y_min,y_max], [y_min,y_max])\n",
    "plt.gca().set_aspect('equal', adjustable='box')\n",
    "plt.xlim(y_min, y_max)\n",
    "plt.ylim(y_min, y_max)\n",
    "plt.title('Train data')\n",
    "plt.xlabel('Pred')\n",
    "plt.ylabel('True')\n",
    "plt.show()"
   ]
  },
  {
   "cell_type": "code",
   "execution_count": 13,
   "metadata": {
    "execution": {
     "iopub.execute_input": "2024-10-08T04:51:29.887297Z",
     "iopub.status.busy": "2024-10-08T04:51:29.886906Z",
     "iopub.status.idle": "2024-10-08T04:51:29.892052Z",
     "shell.execute_reply": "2024-10-08T04:51:29.891031Z",
     "shell.execute_reply.started": "2024-10-08T04:51:29.887259Z"
    }
   },
   "outputs": [],
   "source": [
    "# RMSLE関数の定義\n",
    "def rmsle(y_true, y_pred):  \n",
    "    return np.sqrt(mean_squared_log_error(y_true, y_pred))"
   ]
  },
  {
   "cell_type": "code",
   "execution_count": 14,
   "metadata": {
    "execution": {
     "iopub.execute_input": "2024-10-08T04:51:29.893803Z",
     "iopub.status.busy": "2024-10-08T04:51:29.893486Z",
     "iopub.status.idle": "2024-10-08T04:51:30.001761Z",
     "shell.execute_reply": "2024-10-08T04:51:30.000465Z",
     "shell.execute_reply.started": "2024-10-08T04:51:29.893771Z"
    }
   },
   "outputs": [
    {
     "name": "stdout",
     "output_type": "stream",
     "text": [
      "RMSLE for train data: 0.47122445876486085\n"
     ]
    }
   ],
   "source": [
    "# モデルの評価\n",
    "gbm_train_rmsle = rmsle(np.expm1(y_train), np.expm1(y_train_pred))\n",
    "print(\"RMSLE for train data:\", gbm_train_rmsle)"
   ]
  },
  {
   "cell_type": "markdown",
   "metadata": {},
   "source": [
    "#### テストデータに対する予測｜LightGBM"
   ]
  },
  {
   "cell_type": "code",
   "execution_count": 15,
   "metadata": {
    "execution": {
     "iopub.execute_input": "2024-10-08T04:51:30.003094Z",
     "iopub.status.busy": "2024-10-08T04:51:30.002746Z",
     "iopub.status.idle": "2024-10-08T04:51:53.925582Z",
     "shell.execute_reply": "2024-10-08T04:51:53.924411Z",
     "shell.execute_reply.started": "2024-10-08T04:51:30.003057Z"
    }
   },
   "outputs": [],
   "source": [
    "y_test_pred = gbm.predict(X_test)"
   ]
  },
  {
   "cell_type": "code",
   "execution_count": 16,
   "metadata": {
    "execution": {
     "iopub.execute_input": "2024-10-08T04:51:53.927580Z",
     "iopub.status.busy": "2024-10-08T04:51:53.927226Z",
     "iopub.status.idle": "2024-10-08T04:51:53.953767Z",
     "shell.execute_reply": "2024-10-08T04:51:53.952747Z",
     "shell.execute_reply.started": "2024-10-08T04:51:53.927545Z"
    }
   },
   "outputs": [],
   "source": [
    "# 元のスケールに戻す\n",
    "y_test_cp = y_test.copy()\n",
    "y_test_pred_cp = y_test_pred.copy()\n",
    "\n",
    "y_test_cp = np.expm1(y_test_cp)\n",
    "y_test_pred_cp = np.expm1(y_test_pred_cp)"
   ]
  },
  {
   "cell_type": "code",
   "execution_count": 17,
   "metadata": {
    "execution": {
     "iopub.execute_input": "2024-10-08T04:51:53.955408Z",
     "iopub.status.busy": "2024-10-08T04:51:53.954944Z",
     "iopub.status.idle": "2024-10-08T04:51:53.964804Z",
     "shell.execute_reply": "2024-10-08T04:51:53.963648Z",
     "shell.execute_reply.started": "2024-10-08T04:51:53.955363Z"
    }
   },
   "outputs": [],
   "source": [
    "y_min = np.append(y_test_pred_cp, y_test_cp).min()\n",
    "y_max = np.append(y_test_pred_cp, y_test_cp).max()\n",
    "y_margin = (y_max - y_min) * 0.1\n",
    "y_min -= y_margin\n",
    "y_max += y_margin"
   ]
  },
  {
   "cell_type": "code",
   "execution_count": 18,
   "metadata": {
    "execution": {
     "iopub.execute_input": "2024-10-08T04:51:53.966609Z",
     "iopub.status.busy": "2024-10-08T04:51:53.966180Z",
     "iopub.status.idle": "2024-10-08T04:51:55.354038Z",
     "shell.execute_reply": "2024-10-08T04:51:55.352961Z",
     "shell.execute_reply.started": "2024-10-08T04:51:53.966562Z"
    }
   },
   "outputs": [
    {
     "data": {
      "image/png": "[encoded data removed]",
      "text/plain": [
       "<Figure size 640x480 with 1 Axes>"
      ]
     },
     "metadata": {},
     "output_type": "display_data"
    }
   ],
   "source": [
    "plt.scatter(y_test_pred_cp, y_test_cp, alpha=0.3)\n",
    "plt.plot([y_min,y_max], [y_min,y_max])\n",
    "plt.gca().set_aspect('equal', adjustable='box')\n",
    "plt.xlim(y_min, y_max)\n",
    "plt.ylim(y_min, y_max)\n",
    "plt.title('Test data')\n",
    "plt.xlabel('Pred')\n",
    "plt.ylabel('True')\n",
    "plt.show()"
   ]
  },
  {
   "cell_type": "code",
   "execution_count": 19,
   "metadata": {
    "execution": {
     "iopub.execute_input": "2024-10-08T04:51:55.356067Z",
     "iopub.status.busy": "2024-10-08T04:51:55.355561Z",
     "iopub.status.idle": "2024-10-08T04:51:55.404804Z",
     "shell.execute_reply": "2024-10-08T04:51:55.403675Z",
     "shell.execute_reply.started": "2024-10-08T04:51:55.356017Z"
    }
   },
   "outputs": [
    {
     "name": "stdout",
     "output_type": "stream",
     "text": [
      "RMSLE for test data: 0.48272814942766346\n"
     ]
    }
   ],
   "source": [
    "# モデルの評価\n",
    "gbm_test_rmsle = rmsle(np.expm1(y_test), np.expm1(y_test_pred))\n",
    "print(\"RMSLE for test data:\", gbm_test_rmsle)"
   ]
  },
  {
   "cell_type": "code",
   "execution_count": 20,
   "metadata": {
    "_cell_guid": "e6e547d9-1b13-44a7-9cfa-1f4e6b1fe043",
    "_uuid": "1d836e0c-8b07-433b-96bd-682afbc0e650",
    "collapsed": false,
    "execution": {
     "iopub.execute_input": "2024-10-08T04:51:55.406473Z",
     "iopub.status.busy": "2024-10-08T04:51:55.406098Z",
     "iopub.status.idle": "2024-10-08T04:51:55.412086Z",
     "shell.execute_reply": "2024-10-08T04:51:55.410811Z",
     "shell.execute_reply.started": "2024-10-08T04:51:55.406436Z"
    },
    "jupyter": {
     "outputs_hidden": false
    }
   },
   "outputs": [
    {
     "name": "stdout",
     "output_type": "stream",
     "text": [
      "1:04:00.001365\n"
     ]
    }
   ],
   "source": [
    "stop_real = datetime.now()\n",
    "execution_time_real = stop_real - start_real\n",
    "print(execution_time_real)"
   ]
  },
  {
   "cell_type": "code",
   "execution_count": null,
   "metadata": {},
   "outputs": [],
   "source": []
  }
 ],
 "metadata": {
  "kaggle": {
   "accelerator": "none",
   "dataSources": [
    {
     "datasetId": 5781830,
     "sourceId": 9544663,
     "sourceType": "datasetVersion"
    }
   ],
   "dockerImageVersionId": 30786,
   "isGpuEnabled": false,
   "isInternetEnabled": false,
   "language": "python",
   "sourceType": "notebook"
  },
  "kernelspec": {
   "display_name": "Python 3 (ipykernel)",
   "language": "python",
   "name": "python3"
  },
  "language_info": {
   "codemirror_mode": {
    "name": "ipython",
    "version": 3
   },
   "file_extension": ".py",
   "mimetype": "text/x-python",
   "name": "python",
   "nbconvert_exporter": "python",
   "pygments_lexer": "ipython3",
   "version": "3.9.15"
  }
 },
 "nbformat": 4,
 "nbformat_minor": 4
}
