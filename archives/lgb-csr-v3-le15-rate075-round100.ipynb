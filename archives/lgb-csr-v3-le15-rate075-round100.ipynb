{
 "cells": [
  {
   "cell_type": "code",
   "execution_count": 1,
   "metadata": {
    "execution": {
     "iopub.execute_input": "2024-10-08T05:31:51.680085Z",
     "iopub.status.busy": "2024-10-08T05:31:51.679691Z",
     "iopub.status.idle": "2024-10-08T05:31:51.703842Z",
     "shell.execute_reply": "2024-10-08T05:31:51.702759Z",
     "shell.execute_reply.started": "2024-10-08T05:31:51.680044Z"
    }
   },
   "outputs": [],
   "source": [
    "from datetime import datetime\n",
    "start_real = datetime.now() # 全体の処理時間の計測を開始する"
   ]
  },
  {
   "cell_type": "markdown",
   "metadata": {},
   "source": [
    "#### ライブラリのインポート"
   ]
  },
  {
   "cell_type": "code",
   "execution_count": 2,
   "metadata": {
    "_cell_guid": "e189abd2-46d2-4f2e-977b-50a25d3521d4",
    "_uuid": "96487335-2c48-482e-be5d-e80a6a096b5d",
    "collapsed": false,
    "execution": {
     "iopub.execute_input": "2024-10-08T05:31:51.705971Z",
     "iopub.status.busy": "2024-10-08T05:31:51.705621Z",
     "iopub.status.idle": "2024-10-08T05:31:55.042524Z",
     "shell.execute_reply": "2024-10-08T05:31:55.041320Z",
     "shell.execute_reply.started": "2024-10-08T05:31:51.705933Z"
    },
    "jupyter": {
     "outputs_hidden": false
    }
   },
   "outputs": [],
   "source": [
    "import numpy as np\n",
    "import pandas as pd\n",
    "import matplotlib.pyplot as plt\n",
    "%matplotlib inline\n",
    "\n",
    "from scipy.sparse import load_npz\n",
    "\n",
    "from sklearn.model_selection import train_test_split\n",
    "from sklearn.metrics import mean_squared_log_error\n",
    "import lightgbm as lgb\n",
    "\n",
    "import warnings\n",
    "warnings.simplefilter(\"ignore\")"
   ]
  },
  {
   "cell_type": "markdown",
   "metadata": {},
   "source": [
    "#### X と y の読み込み"
   ]
  },
  {
   "cell_type": "code",
   "execution_count": 3,
   "metadata": {
    "execution": {
     "iopub.execute_input": "2024-10-08T05:31:55.044556Z",
     "iopub.status.busy": "2024-10-08T05:31:55.043976Z",
     "iopub.status.idle": "2024-10-08T05:32:03.077363Z",
     "shell.execute_reply": "2024-10-08T05:32:03.076270Z",
     "shell.execute_reply.started": "2024-10-08T05:31:55.044512Z"
    }
   },
   "outputs": [],
   "source": [
    "# Kaggle Notebook\n",
    "X = load_npz('/kaggle/input/mercari-preprocessed/X.npz')\n",
    "y = pd.read_csv('/kaggle/input/mercari-preprocessed/y.csv')"
   ]
  },
  {
   "cell_type": "markdown",
   "metadata": {
    "_cell_guid": "d3894bae-96bd-4af9-9fb1-ae6871dfa661",
    "_uuid": "37cb4194-3c2b-42bc-b202-da5c84db592e"
   },
   "source": [
    "#### モデルの作成と学習"
   ]
  },
  {
   "cell_type": "markdown",
   "metadata": {
    "_cell_guid": "288926f5-9a0a-4d68-b124-47283ce934d4",
    "_uuid": "c575fffd-2cdb-4a6a-a648-7f7d38c405c5"
   },
   "source": [
    "#### X と y のうち、7割を訓練用 (train)、3割を検証用 (test) に分割する"
   ]
  },
  {
   "cell_type": "code",
   "execution_count": 4,
   "metadata": {
    "_cell_guid": "92de30b5-b5a4-4422-8d7a-d60dca400334",
    "_uuid": "d322bae4-149a-4cbe-81ea-2b40daf3fc27",
    "collapsed": false,
    "execution": {
     "iopub.execute_input": "2024-10-08T05:32:03.080548Z",
     "iopub.status.busy": "2024-10-08T05:32:03.080067Z",
     "iopub.status.idle": "2024-10-08T05:32:03.627395Z",
     "shell.execute_reply": "2024-10-08T05:32:03.626160Z",
     "shell.execute_reply.started": "2024-10-08T05:32:03.080497Z"
    },
    "jupyter": {
     "outputs_hidden": false
    }
   },
   "outputs": [],
   "source": [
    "X_train, X_test, y_train, y_test = train_test_split(X, y, test_size=0.3, random_state=0)"
   ]
  },
  {
   "cell_type": "code",
   "execution_count": 5,
   "metadata": {
    "_cell_guid": "7d5727b1-68e1-4d3c-8697-afee413f7623",
    "_uuid": "0dbd1d10-6545-4423-8d0b-ea34352e1772",
    "collapsed": false,
    "execution": {
     "iopub.execute_input": "2024-10-08T05:32:03.629309Z",
     "iopub.status.busy": "2024-10-08T05:32:03.628922Z",
     "iopub.status.idle": "2024-10-08T05:32:03.635503Z",
     "shell.execute_reply": "2024-10-08T05:32:03.634254Z",
     "shell.execute_reply.started": "2024-10-08T05:32:03.629268Z"
    },
    "jupyter": {
     "outputs_hidden": false
    }
   },
   "outputs": [
    {
     "name": "stdout",
     "output_type": "stream",
     "text": [
      "(1032740, 186740)\n",
      "(1032740, 1)\n",
      "(442604, 186740)\n",
      "(442604, 1)\n"
     ]
    }
   ],
   "source": [
    "print(X_train.shape)\n",
    "print(y_train.shape)\n",
    "print(X_test.shape)\n",
    "print(y_test.shape)"
   ]
  },
  {
   "cell_type": "markdown",
   "metadata": {},
   "source": [
    "#### モデルの学習｜LightGBM"
   ]
  },
  {
   "cell_type": "code",
   "execution_count": 6,
   "metadata": {
    "execution": {
     "iopub.execute_input": "2024-10-08T05:32:03.637061Z",
     "iopub.status.busy": "2024-10-08T05:32:03.636711Z",
     "iopub.status.idle": "2024-10-08T05:32:03.647150Z",
     "shell.execute_reply": "2024-10-08T05:32:03.646059Z",
     "shell.execute_reply.started": "2024-10-08T05:32:03.637023Z"
    }
   },
   "outputs": [],
   "source": [
    "# データセットの形式を変更\n",
    "train_data = lgb.Dataset(X_train, label=y_train)\n",
    "valid_data = lgb.Dataset(X_test, label=y_test, reference=train_data)"
   ]
  },
  {
   "cell_type": "code",
   "execution_count": 7,
   "metadata": {
    "execution": {
     "iopub.execute_input": "2024-10-08T05:32:03.649251Z",
     "iopub.status.busy": "2024-10-08T05:32:03.648757Z",
     "iopub.status.idle": "2024-10-08T05:32:03.657832Z",
     "shell.execute_reply": "2024-10-08T05:32:03.656829Z",
     "shell.execute_reply.started": "2024-10-08T05:32:03.649180Z"
    }
   },
   "outputs": [],
   "source": [
    "# ハイパーパラメータの設定\n",
    "params = {\n",
    "    'objective': 'regression',\n",
    "    'metric': 'rmse',\n",
    "    'num_leaves': 15,\n",
    "    'learning_rate': 0.75,\n",
    "    'feature_fraction': 0.6,\n",
    "    'bagging_fraction': 0.6,\n",
    "    'bagging_freq': 5,\n",
    "    'verbosity': 1,\n",
    "    'num_boost_round': 100,\n",
    "    'early_stopping_rounds': 10,\n",
    "    'seed': 0\n",
    "}"
   ]
  },
  {
   "cell_type": "code",
   "execution_count": 8,
   "metadata": {
    "execution": {
     "iopub.execute_input": "2024-10-08T05:32:03.659414Z",
     "iopub.status.busy": "2024-10-08T05:32:03.659043Z",
     "iopub.status.idle": "2024-10-08T06:09:37.610631Z",
     "shell.execute_reply": "2024-10-08T06:09:37.609275Z",
     "shell.execute_reply.started": "2024-10-08T05:32:03.659376Z"
    }
   },
   "outputs": [
    {
     "name": "stdout",
     "output_type": "stream",
     "text": [
      "[LightGBM] [Info] Auto-choosing col-wise multi-threading, the overhead of testing was 728.324287 seconds.\n",
      "You can set `force_col_wise=true` to remove the overhead.\n",
      "[LightGBM] [Info] Total Bins 1067750\n",
      "[LightGBM] [Info] Number of data points in the train set: 1032740, number of used features: 65802\n",
      "[LightGBM] [Info] Start training from score 2.981379\n",
      "Training until validation scores don't improve for 10 rounds\n",
      "Did not meet early stopping. Best iteration is:\n",
      "[100]\tvalid_0's rmse: 0.502148\n",
      "CPU times: user 2h 18min 12s, sys: 12.2 s, total: 2h 18min 24s\n",
      "Wall time: 37min 33s\n"
     ]
    }
   ],
   "source": [
    "%%time\n",
    "gbm = lgb.train(params, train_data, valid_sets=valid_data)"
   ]
  },
  {
   "cell_type": "markdown",
   "metadata": {},
   "source": [
    "#### 訓練データに対する予測｜LightGBM"
   ]
  },
  {
   "cell_type": "code",
   "execution_count": 9,
   "metadata": {
    "execution": {
     "iopub.execute_input": "2024-10-08T06:09:37.614401Z",
     "iopub.status.busy": "2024-10-08T06:09:37.613990Z",
     "iopub.status.idle": "2024-10-08T06:09:57.456260Z",
     "shell.execute_reply": "2024-10-08T06:09:57.454892Z",
     "shell.execute_reply.started": "2024-10-08T06:09:37.614359Z"
    }
   },
   "outputs": [],
   "source": [
    "y_train_pred = gbm.predict(X_train)"
   ]
  },
  {
   "cell_type": "code",
   "execution_count": 10,
   "metadata": {
    "execution": {
     "iopub.execute_input": "2024-10-08T06:09:57.460608Z",
     "iopub.status.busy": "2024-10-08T06:09:57.460190Z",
     "iopub.status.idle": "2024-10-08T06:09:57.513327Z",
     "shell.execute_reply": "2024-10-08T06:09:57.512006Z",
     "shell.execute_reply.started": "2024-10-08T06:09:57.460568Z"
    }
   },
   "outputs": [],
   "source": [
    "# 元のスケールに戻す\n",
    "y_train_cp = y_train.copy()\n",
    "y_train_pred_cp = y_train_pred.copy()\n",
    "\n",
    "y_train_cp = np.expm1(y_train_cp)\n",
    "y_train_pred_cp = np.expm1(y_train_pred_cp)"
   ]
  },
  {
   "cell_type": "code",
   "execution_count": 11,
   "metadata": {
    "execution": {
     "iopub.execute_input": "2024-10-08T06:09:57.515227Z",
     "iopub.status.busy": "2024-10-08T06:09:57.514752Z",
     "iopub.status.idle": "2024-10-08T06:09:57.531129Z",
     "shell.execute_reply": "2024-10-08T06:09:57.529778Z",
     "shell.execute_reply.started": "2024-10-08T06:09:57.515155Z"
    }
   },
   "outputs": [],
   "source": [
    "y_min = np.append(y_train_pred_cp, y_train_cp).min()\n",
    "y_max = np.append(y_train_pred_cp, y_train_cp).max()\n",
    "y_margin = (y_max - y_min) * 0.1\n",
    "y_min -= y_margin\n",
    "y_max += y_margin"
   ]
  },
  {
   "cell_type": "code",
   "execution_count": 12,
   "metadata": {
    "execution": {
     "iopub.execute_input": "2024-10-08T06:09:57.533116Z",
     "iopub.status.busy": "2024-10-08T06:09:57.532704Z",
     "iopub.status.idle": "2024-10-08T06:10:00.490184Z",
     "shell.execute_reply": "2024-10-08T06:10:00.488988Z",
     "shell.execute_reply.started": "2024-10-08T06:09:57.533068Z"
    }
   },
   "outputs": [
    {
     "data": {
      "image/png": "[encoded data removed]",
      "text/plain": [
       "<Figure size 640x480 with 1 Axes>"
      ]
     },
     "metadata": {},
     "output_type": "display_data"
    }
   ],
   "source": [
    "plt.scatter(y_train_pred_cp, y_train_cp, alpha=0.3)\n",
    "plt.plot([y_min,y_max], [y_min,y_max])\n",
    "plt.gca().set_aspect('equal', adjustable='box')\n",
    "plt.xlim(y_min, y_max)\n",
    "plt.ylim(y_min, y_max)\n",
    "plt.title('Train data')\n",
    "plt.xlabel('Pred')\n",
    "plt.ylabel('True')\n",
    "plt.show()"
   ]
  },
  {
   "cell_type": "code",
   "execution_count": 13,
   "metadata": {
    "execution": {
     "iopub.execute_input": "2024-10-08T06:10:00.492584Z",
     "iopub.status.busy": "2024-10-08T06:10:00.492110Z",
     "iopub.status.idle": "2024-10-08T06:10:00.498091Z",
     "shell.execute_reply": "2024-10-08T06:10:00.496770Z",
     "shell.execute_reply.started": "2024-10-08T06:10:00.492535Z"
    }
   },
   "outputs": [],
   "source": [
    "# RMSLE関数の定義\n",
    "def rmsle(y_true, y_pred):  \n",
    "    return np.sqrt(mean_squared_log_error(y_true, y_pred))"
   ]
  },
  {
   "cell_type": "code",
   "execution_count": 14,
   "metadata": {
    "execution": {
     "iopub.execute_input": "2024-10-08T06:10:00.500075Z",
     "iopub.status.busy": "2024-10-08T06:10:00.499620Z",
     "iopub.status.idle": "2024-10-08T06:10:00.609161Z",
     "shell.execute_reply": "2024-10-08T06:10:00.608017Z",
     "shell.execute_reply.started": "2024-10-08T06:10:00.500026Z"
    }
   },
   "outputs": [
    {
     "name": "stdout",
     "output_type": "stream",
     "text": [
      "RMSLE for train data: 0.49909699652105083\n"
     ]
    }
   ],
   "source": [
    "# モデルの評価\n",
    "gbm_train_rmsle = rmsle(np.expm1(y_train), np.expm1(y_train_pred))\n",
    "print(\"RMSLE for train data:\", gbm_train_rmsle)"
   ]
  },
  {
   "cell_type": "markdown",
   "metadata": {},
   "source": [
    "#### テストデータに対する予測｜LightGBM"
   ]
  },
  {
   "cell_type": "code",
   "execution_count": 15,
   "metadata": {
    "execution": {
     "iopub.execute_input": "2024-10-08T06:10:00.610998Z",
     "iopub.status.busy": "2024-10-08T06:10:00.610557Z",
     "iopub.status.idle": "2024-10-08T06:10:08.743330Z",
     "shell.execute_reply": "2024-10-08T06:10:08.742344Z",
     "shell.execute_reply.started": "2024-10-08T06:10:00.610950Z"
    }
   },
   "outputs": [],
   "source": [
    "y_test_pred = gbm.predict(X_test)"
   ]
  },
  {
   "cell_type": "code",
   "execution_count": 16,
   "metadata": {
    "execution": {
     "iopub.execute_input": "2024-10-08T06:10:08.744887Z",
     "iopub.status.busy": "2024-10-08T06:10:08.744552Z",
     "iopub.status.idle": "2024-10-08T06:10:08.770099Z",
     "shell.execute_reply": "2024-10-08T06:10:08.768904Z",
     "shell.execute_reply.started": "2024-10-08T06:10:08.744851Z"
    }
   },
   "outputs": [],
   "source": [
    "# 元のスケールに戻す\n",
    "y_test_cp = y_test.copy()\n",
    "y_test_pred_cp = y_test_pred.copy()\n",
    "\n",
    "y_test_cp = np.expm1(y_test_cp)\n",
    "y_test_pred_cp = np.expm1(y_test_pred_cp)"
   ]
  },
  {
   "cell_type": "code",
   "execution_count": 17,
   "metadata": {
    "execution": {
     "iopub.execute_input": "2024-10-08T06:10:08.771702Z",
     "iopub.status.busy": "2024-10-08T06:10:08.771360Z",
     "iopub.status.idle": "2024-10-08T06:10:08.780753Z",
     "shell.execute_reply": "2024-10-08T06:10:08.779593Z",
     "shell.execute_reply.started": "2024-10-08T06:10:08.771665Z"
    }
   },
   "outputs": [],
   "source": [
    "y_min = np.append(y_test_pred_cp, y_test_cp).min()\n",
    "y_max = np.append(y_test_pred_cp, y_test_cp).max()\n",
    "y_margin = (y_max - y_min) * 0.1\n",
    "y_min -= y_margin\n",
    "y_max += y_margin"
   ]
  },
  {
   "cell_type": "code",
   "execution_count": 18,
   "metadata": {
    "execution": {
     "iopub.execute_input": "2024-10-08T06:10:08.782590Z",
     "iopub.status.busy": "2024-10-08T06:10:08.782114Z",
     "iopub.status.idle": "2024-10-08T06:10:10.163668Z",
     "shell.execute_reply": "2024-10-08T06:10:10.162282Z",
     "shell.execute_reply.started": "2024-10-08T06:10:08.782539Z"
    }
   },
   "outputs": [
    {
     "data": {
      "image/png": "[encoded data removed]",
      "text/plain": [
       "<Figure size 640x480 with 1 Axes>"
      ]
     },
     "metadata": {},
     "output_type": "display_data"
    }
   ],
   "source": [
    "plt.scatter(y_test_pred_cp, y_test_cp, alpha=0.3)\n",
    "plt.plot([y_min,y_max], [y_min,y_max])\n",
    "plt.gca().set_aspect('equal', adjustable='box')\n",
    "plt.xlim(y_min, y_max)\n",
    "plt.ylim(y_min, y_max)\n",
    "plt.title('Test data')\n",
    "plt.xlabel('Pred')\n",
    "plt.ylabel('True')\n",
    "plt.show()"
   ]
  },
  {
   "cell_type": "code",
   "execution_count": 19,
   "metadata": {
    "execution": {
     "iopub.execute_input": "2024-10-08T06:10:10.165763Z",
     "iopub.status.busy": "2024-10-08T06:10:10.165284Z",
     "iopub.status.idle": "2024-10-08T06:10:10.215616Z",
     "shell.execute_reply": "2024-10-08T06:10:10.214354Z",
     "shell.execute_reply.started": "2024-10-08T06:10:10.165711Z"
    }
   },
   "outputs": [
    {
     "name": "stdout",
     "output_type": "stream",
     "text": [
      "RMSLE for test data: 0.502147915084502\n"
     ]
    }
   ],
   "source": [
    "# モデルの評価\n",
    "gbm_test_rmsle = rmsle(np.expm1(y_test), np.expm1(y_test_pred))\n",
    "print(\"RMSLE for test data:\", gbm_test_rmsle)"
   ]
  },
  {
   "cell_type": "code",
   "execution_count": 20,
   "metadata": {
    "_cell_guid": "e6e547d9-1b13-44a7-9cfa-1f4e6b1fe043",
    "_uuid": "1d836e0c-8b07-433b-96bd-682afbc0e650",
    "collapsed": false,
    "execution": {
     "iopub.execute_input": "2024-10-08T06:10:10.217467Z",
     "iopub.status.busy": "2024-10-08T06:10:10.217064Z",
     "iopub.status.idle": "2024-10-08T06:10:10.223477Z",
     "shell.execute_reply": "2024-10-08T06:10:10.222285Z",
     "shell.execute_reply.started": "2024-10-08T06:10:10.217427Z"
    },
    "jupyter": {
     "outputs_hidden": false
    }
   },
   "outputs": [
    {
     "name": "stdout",
     "output_type": "stream",
     "text": [
      "0:38:18.517599\n"
     ]
    }
   ],
   "source": [
    "stop_real = datetime.now()\n",
    "execution_time_real = stop_real - start_real\n",
    "print(execution_time_real)"
   ]
  },
  {
   "cell_type": "code",
   "execution_count": null,
   "metadata": {},
   "outputs": [],
   "source": []
  }
 ],
 "metadata": {
  "kaggle": {
   "accelerator": "none",
   "dataSources": [
    {
     "datasetId": 5781830,
     "sourceId": 9544663,
     "sourceType": "datasetVersion"
    }
   ],
   "dockerImageVersionId": 30786,
   "isGpuEnabled": false,
   "isInternetEnabled": false,
   "language": "python",
   "sourceType": "notebook"
  },
  "kernelspec": {
   "display_name": "Python 3 (ipykernel)",
   "language": "python",
   "name": "python3"
  },
  "language_info": {
   "codemirror_mode": {
    "name": "ipython",
    "version": 3
   },
   "file_extension": ".py",
   "mimetype": "text/x-python",
   "name": "python",
   "nbconvert_exporter": "python",
   "pygments_lexer": "ipython3",
   "version": "3.9.15"
  }
 },
 "nbformat": 4,
 "nbformat_minor": 4
}
