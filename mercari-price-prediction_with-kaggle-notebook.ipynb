{
 "cells": [
  {
   "cell_type": "code",
   "execution_count": 2,
   "metadata": {
    "execution": {
     "iopub.execute_input": "2024-06-23T05:27:38.194506Z",
     "iopub.status.busy": "2024-06-23T05:27:38.193543Z",
     "iopub.status.idle": "2024-06-23T05:27:38.202727Z",
     "shell.execute_reply": "2024-06-23T05:27:38.201518Z",
     "shell.execute_reply.started": "2024-06-23T05:27:38.194464Z"
    }
   },
   "outputs": [],
   "source": [
    "import numpy as np\n",
    "import pandas as pd\n",
    "import scipy\n",
    "from sklearn.linear_model import Ridge\n",
    "from sklearn.feature_extraction.text import CountVectorizer, TfidfVectorizer\n",
    "from sklearn.pipeline import FeatureUnion\n",
    "from sklearn.model_selection import train_test_split\n",
    "import gc\n",
    "from sklearn.linear_model import Ridge, RidgeCV\n",
    "from sklearn.metrics import mean_squared_log_error"
   ]
  },
  {
   "cell_type": "code",
   "execution_count": 3,
   "metadata": {
    "_cell_guid": "b1076dfc-b9ad-4769-8c92-a6c4dae69d19",
    "_uuid": "8f2839f25d086af736a60e9eeb907d3b93b6e0e5",
    "execution": {
     "iopub.execute_input": "2024-06-23T05:28:31.746056Z",
     "iopub.status.busy": "2024-06-23T05:28:31.744760Z",
     "iopub.status.idle": "2024-06-23T05:28:43.699506Z",
     "shell.execute_reply": "2024-06-23T05:28:43.697980Z",
     "shell.execute_reply.started": "2024-06-23T05:28:31.746009Z"
    }
   },
   "outputs": [
    {
     "name": "stdout",
     "output_type": "stream",
     "text": [
      "(1482535, 8)\n",
      "<class 'pandas.core.frame.DataFrame'>\n",
      "RangeIndex: 1482535 entries, 0 to 1482534\n",
      "Data columns (total 8 columns):\n",
      " #   Column             Non-Null Count    Dtype  \n",
      "---  ------             --------------    -----  \n",
      " 0   train_id           1482535 non-null  int64  \n",
      " 1   name               1482535 non-null  object \n",
      " 2   item_condition_id  1482535 non-null  int64  \n",
      " 3   category_name      1476208 non-null  object \n",
      " 4   brand_name         849853 non-null   object \n",
      " 5   price              1482535 non-null  float64\n",
      " 6   shipping           1482535 non-null  int64  \n",
      " 7   item_description   1482529 non-null  object \n",
      "dtypes: float64(1), int64(3), object(4)\n",
      "memory usage: 90.5+ MB\n",
      "None\n"
     ]
    },
    {
     "data": {
      "text/html": [
       "<div>\n",
       "<style scoped>\n",
       "    .dataframe tbody tr th:only-of-type {\n",
       "        vertical-align: middle;\n",
       "    }\n",
       "\n",
       "    .dataframe tbody tr th {\n",
       "        vertical-align: top;\n",
       "    }\n",
       "\n",
       "    .dataframe thead th {\n",
       "        text-align: right;\n",
       "    }\n",
       "</style>\n",
       "<table border=\"1\" class=\"dataframe\">\n",
       "  <thead>\n",
       "    <tr style=\"text-align: right;\">\n",
       "      <th></th>\n",
       "      <th>train_id</th>\n",
       "      <th>name</th>\n",
       "      <th>item_condition_id</th>\n",
       "      <th>category_name</th>\n",
       "      <th>brand_name</th>\n",
       "      <th>price</th>\n",
       "      <th>shipping</th>\n",
       "      <th>item_description</th>\n",
       "    </tr>\n",
       "  </thead>\n",
       "  <tbody>\n",
       "    <tr>\n",
       "      <th>0</th>\n",
       "      <td>0</td>\n",
       "      <td>MLB Cincinnati Reds T Shirt Size XL</td>\n",
       "      <td>3</td>\n",
       "      <td>Men/Tops/T-shirts</td>\n",
       "      <td>NaN</td>\n",
       "      <td>10.0</td>\n",
       "      <td>1</td>\n",
       "      <td>No description yet</td>\n",
       "    </tr>\n",
       "    <tr>\n",
       "      <th>1</th>\n",
       "      <td>1</td>\n",
       "      <td>Razer BlackWidow Chroma Keyboard</td>\n",
       "      <td>3</td>\n",
       "      <td>Electronics/Computers &amp; Tablets/Components &amp; P...</td>\n",
       "      <td>Razer</td>\n",
       "      <td>52.0</td>\n",
       "      <td>0</td>\n",
       "      <td>This keyboard is in great condition and works ...</td>\n",
       "    </tr>\n",
       "    <tr>\n",
       "      <th>2</th>\n",
       "      <td>2</td>\n",
       "      <td>AVA-VIV Blouse</td>\n",
       "      <td>1</td>\n",
       "      <td>Women/Tops &amp; Blouses/Blouse</td>\n",
       "      <td>Target</td>\n",
       "      <td>10.0</td>\n",
       "      <td>1</td>\n",
       "      <td>Adorable top with a hint of lace and a key hol...</td>\n",
       "    </tr>\n",
       "    <tr>\n",
       "      <th>3</th>\n",
       "      <td>3</td>\n",
       "      <td>Leather Horse Statues</td>\n",
       "      <td>1</td>\n",
       "      <td>Home/Home Décor/Home Décor Accents</td>\n",
       "      <td>NaN</td>\n",
       "      <td>35.0</td>\n",
       "      <td>1</td>\n",
       "      <td>New with tags. Leather horses. Retail for [rm]...</td>\n",
       "    </tr>\n",
       "    <tr>\n",
       "      <th>4</th>\n",
       "      <td>4</td>\n",
       "      <td>24K GOLD plated rose</td>\n",
       "      <td>1</td>\n",
       "      <td>Women/Jewelry/Necklaces</td>\n",
       "      <td>NaN</td>\n",
       "      <td>44.0</td>\n",
       "      <td>0</td>\n",
       "      <td>Complete with certificate of authenticity</td>\n",
       "    </tr>\n",
       "  </tbody>\n",
       "</table>\n",
       "</div>"
      ],
      "text/plain": [
       "   train_id                                 name  item_condition_id  \\\n",
       "0         0  MLB Cincinnati Reds T Shirt Size XL                  3   \n",
       "1         1     Razer BlackWidow Chroma Keyboard                  3   \n",
       "2         2                       AVA-VIV Blouse                  1   \n",
       "3         3                Leather Horse Statues                  1   \n",
       "4         4                 24K GOLD plated rose                  1   \n",
       "\n",
       "                                       category_name brand_name  price  \\\n",
       "0                                  Men/Tops/T-shirts        NaN   10.0   \n",
       "1  Electronics/Computers & Tablets/Components & P...      Razer   52.0   \n",
       "2                        Women/Tops & Blouses/Blouse     Target   10.0   \n",
       "3                 Home/Home Décor/Home Décor Accents        NaN   35.0   \n",
       "4                            Women/Jewelry/Necklaces        NaN   44.0   \n",
       "\n",
       "   shipping                                   item_description  \n",
       "0         1                                 No description yet  \n",
       "1         0  This keyboard is in great condition and works ...  \n",
       "2         1  Adorable top with a hint of lace and a key hol...  \n",
       "3         1  New with tags. Leather horses. Retail for [rm]...  \n",
       "4         0          Complete with certificate of authenticity  "
      ]
     },
     "metadata": {},
     "output_type": "display_data"
    }
   ],
   "source": [
    "df_train = pd.read_csv('/kaggle/input/dataset/train.tsv', sep='\\t', low_memory=True)\n",
    "print(df_train.shape)\n",
    "print(df_train.info())\n",
    "display(df_train.head())"
   ]
  },
  {
   "cell_type": "code",
   "execution_count": 4,
   "metadata": {
    "execution": {
     "iopub.execute_input": "2024-06-23T05:28:43.702551Z",
     "iopub.status.busy": "2024-06-23T05:28:43.702067Z",
     "iopub.status.idle": "2024-06-23T05:28:48.919497Z",
     "shell.execute_reply": "2024-06-23T05:28:48.918368Z",
     "shell.execute_reply.started": "2024-06-23T05:28:43.702504Z"
    }
   },
   "outputs": [
    {
     "name": "stdout",
     "output_type": "stream",
     "text": [
      "(693359, 7)\n",
      "<class 'pandas.core.frame.DataFrame'>\n",
      "RangeIndex: 693359 entries, 0 to 693358\n",
      "Data columns (total 7 columns):\n",
      " #   Column             Non-Null Count   Dtype \n",
      "---  ------             --------------   ----- \n",
      " 0   test_id            693359 non-null  int64 \n",
      " 1   name               693359 non-null  object\n",
      " 2   item_condition_id  693359 non-null  int64 \n",
      " 3   category_name      690301 non-null  object\n",
      " 4   brand_name         397834 non-null  object\n",
      " 5   shipping           693359 non-null  int64 \n",
      " 6   item_description   693359 non-null  object\n",
      "dtypes: int64(3), object(4)\n",
      "memory usage: 37.0+ MB\n",
      "None\n"
     ]
    },
    {
     "data": {
      "text/html": [
       "<div>\n",
       "<style scoped>\n",
       "    .dataframe tbody tr th:only-of-type {\n",
       "        vertical-align: middle;\n",
       "    }\n",
       "\n",
       "    .dataframe tbody tr th {\n",
       "        vertical-align: top;\n",
       "    }\n",
       "\n",
       "    .dataframe thead th {\n",
       "        text-align: right;\n",
       "    }\n",
       "</style>\n",
       "<table border=\"1\" class=\"dataframe\">\n",
       "  <thead>\n",
       "    <tr style=\"text-align: right;\">\n",
       "      <th></th>\n",
       "      <th>test_id</th>\n",
       "      <th>name</th>\n",
       "      <th>item_condition_id</th>\n",
       "      <th>category_name</th>\n",
       "      <th>brand_name</th>\n",
       "      <th>shipping</th>\n",
       "      <th>item_description</th>\n",
       "    </tr>\n",
       "  </thead>\n",
       "  <tbody>\n",
       "    <tr>\n",
       "      <th>0</th>\n",
       "      <td>0</td>\n",
       "      <td>Breast cancer \"I fight like a girl\" ring</td>\n",
       "      <td>1</td>\n",
       "      <td>Women/Jewelry/Rings</td>\n",
       "      <td>NaN</td>\n",
       "      <td>1</td>\n",
       "      <td>Size 7</td>\n",
       "    </tr>\n",
       "    <tr>\n",
       "      <th>1</th>\n",
       "      <td>1</td>\n",
       "      <td>25 pcs NEW 7.5\"x12\" Kraft Bubble Mailers</td>\n",
       "      <td>1</td>\n",
       "      <td>Other/Office supplies/Shipping Supplies</td>\n",
       "      <td>NaN</td>\n",
       "      <td>1</td>\n",
       "      <td>25 pcs NEW 7.5\"x12\" Kraft Bubble Mailers Lined...</td>\n",
       "    </tr>\n",
       "    <tr>\n",
       "      <th>2</th>\n",
       "      <td>2</td>\n",
       "      <td>Coach bag</td>\n",
       "      <td>1</td>\n",
       "      <td>Vintage &amp; Collectibles/Bags and Purses/Handbag</td>\n",
       "      <td>Coach</td>\n",
       "      <td>1</td>\n",
       "      <td>Brand new coach bag. Bought for [rm] at a Coac...</td>\n",
       "    </tr>\n",
       "    <tr>\n",
       "      <th>3</th>\n",
       "      <td>3</td>\n",
       "      <td>Floral Kimono</td>\n",
       "      <td>2</td>\n",
       "      <td>Women/Sweaters/Cardigan</td>\n",
       "      <td>NaN</td>\n",
       "      <td>0</td>\n",
       "      <td>-floral kimono -never worn -lightweight and pe...</td>\n",
       "    </tr>\n",
       "    <tr>\n",
       "      <th>4</th>\n",
       "      <td>4</td>\n",
       "      <td>Life after Death</td>\n",
       "      <td>3</td>\n",
       "      <td>Other/Books/Religion &amp; Spirituality</td>\n",
       "      <td>NaN</td>\n",
       "      <td>1</td>\n",
       "      <td>Rediscovering life after the loss of a loved o...</td>\n",
       "    </tr>\n",
       "  </tbody>\n",
       "</table>\n",
       "</div>"
      ],
      "text/plain": [
       "   test_id                                      name  item_condition_id  \\\n",
       "0        0  Breast cancer \"I fight like a girl\" ring                  1   \n",
       "1        1  25 pcs NEW 7.5\"x12\" Kraft Bubble Mailers                  1   \n",
       "2        2                                 Coach bag                  1   \n",
       "3        3                             Floral Kimono                  2   \n",
       "4        4                          Life after Death                  3   \n",
       "\n",
       "                                    category_name brand_name  shipping  \\\n",
       "0                             Women/Jewelry/Rings        NaN         1   \n",
       "1         Other/Office supplies/Shipping Supplies        NaN         1   \n",
       "2  Vintage & Collectibles/Bags and Purses/Handbag      Coach         1   \n",
       "3                         Women/Sweaters/Cardigan        NaN         0   \n",
       "4             Other/Books/Religion & Spirituality        NaN         1   \n",
       "\n",
       "                                    item_description  \n",
       "0                                             Size 7  \n",
       "1  25 pcs NEW 7.5\"x12\" Kraft Bubble Mailers Lined...  \n",
       "2  Brand new coach bag. Bought for [rm] at a Coac...  \n",
       "3  -floral kimono -never worn -lightweight and pe...  \n",
       "4  Rediscovering life after the loss of a loved o...  "
      ]
     },
     "metadata": {},
     "output_type": "display_data"
    }
   ],
   "source": [
    "df_test = pd.read_csv('/kaggle/input/dataset/test.tsv', sep='\\t', low_memory=True)\n",
    "print(df_test.shape)\n",
    "print(df_test.info())\n",
    "display(df_test.head())"
   ]
  },
  {
   "cell_type": "code",
   "execution_count": 5,
   "metadata": {
    "execution": {
     "iopub.execute_input": "2024-06-23T05:28:48.921197Z",
     "iopub.status.busy": "2024-06-23T05:28:48.920835Z",
     "iopub.status.idle": "2024-06-23T05:29:06.014720Z",
     "shell.execute_reply": "2024-06-23T05:29:06.013412Z",
     "shell.execute_reply.started": "2024-06-23T05:28:48.921165Z"
    }
   },
   "outputs": [
    {
     "name": "stdout",
     "output_type": "stream",
     "text": [
      "CPU times: user 17.1 s, sys: 0 ns, total: 17.1 s\n",
      "Wall time: 17.1 s\n"
     ]
    }
   ],
   "source": [
    "%%time\n",
    "def wordCount(text):\n",
    "    \"\"\"\n",
    "    Parameters:\n",
    "      text(str): 商品名、商品の説明文\n",
    "    \"\"\"\n",
    "    try:\n",
    "        if text == 'No description yet':\n",
    "            return 0  # 商品名や説明が'No description yet'の場合は0を返す\n",
    "        else:\n",
    "            text = text.lower()                  # すべて小文字にする\n",
    "            words = [w for w in text.split(\" \")] # スペースで切り分ける\n",
    "            return len(words)                    # 単語の数を返す\n",
    "    except: \n",
    "        return 0\n",
    "\n",
    "# 'name'の各フィールドの単語数を'name_len'に登録\n",
    "df_train['name_len'] = df_train['name'].apply(lambda x: wordCount(x))\n",
    "df_test['name_len'] = df_test['name'].apply(lambda x: wordCount(x))\n",
    "# 'item_description'の各フィールドの単語数を'desc_len'に登録\n",
    "df_train['desc_len'] = df_train['item_description'].apply(lambda x: wordCount(x))\n",
    "df_test['desc_len'] = df_test['item_description'].apply(lambda x: wordCount(x))"
   ]
  },
  {
   "cell_type": "code",
   "execution_count": 6,
   "metadata": {
    "execution": {
     "iopub.execute_input": "2024-06-23T05:29:06.017441Z",
     "iopub.status.busy": "2024-06-23T05:29:06.017092Z",
     "iopub.status.idle": "2024-06-23T05:29:06.056014Z",
     "shell.execute_reply": "2024-06-23T05:29:06.054802Z",
     "shell.execute_reply.started": "2024-06-23T05:29:06.017411Z"
    }
   },
   "outputs": [
    {
     "name": "stdout",
     "output_type": "stream",
     "text": [
      "CPU times: user 35.6 ms, sys: 0 ns, total: 35.6 ms\n",
      "Wall time: 33.1 ms\n"
     ]
    }
   ],
   "source": [
    "%%time\n",
    "# 訓練データの'price'を対数変換する\n",
    "df_train[\"target\"] = np.log1p(df_train.price)"
   ]
  },
  {
   "cell_type": "code",
   "execution_count": 7,
   "metadata": {
    "execution": {
     "iopub.execute_input": "2024-06-23T05:29:06.057739Z",
     "iopub.status.busy": "2024-06-23T05:29:06.057394Z",
     "iopub.status.idle": "2024-06-23T05:29:16.316431Z",
     "shell.execute_reply": "2024-06-23T05:29:16.315137Z",
     "shell.execute_reply.started": "2024-06-23T05:29:06.057709Z"
    }
   },
   "outputs": [
    {
     "name": "stdout",
     "output_type": "stream",
     "text": [
      "CPU times: user 9.77 s, sys: 507 ms, total: 10.3 s\n",
      "Wall time: 10.3 s\n"
     ]
    }
   ],
   "source": [
    "%%time\n",
    "def split_cat(text):\n",
    "    \"\"\"\n",
    "    Parameters:\n",
    "      text(str): カテゴリ名\n",
    "\n",
    "    ・カテゴリを/で切り分ける\n",
    "    ・データが存在しない場合は\"No Label\"を返す\n",
    "    \"\"\"\n",
    "    try: return text.split(\"/\")\n",
    "    except: return (\"No Label\", \"No Label\", \"No Label\")\n",
    "\n",
    "# 3つに切り分けたカテゴリ名を'subcat_0'、'subcat_1'、'subcat_2'に登録\n",
    "# 訓練データ\n",
    "df_train['subcat_0'], df_train['subcat_1'], df_train['subcat_2'] = \\\n",
    "    zip(*df_train['category_name'].apply(lambda x: split_cat(x)))\n",
    "# テストデータ\n",
    "df_test['subcat_0'], df_test['subcat_1'], df_test['subcat_2'] = \\\n",
    "    zip(*df_test['category_name'].apply(lambda x: split_cat(x)))"
   ]
  },
  {
   "cell_type": "code",
   "execution_count": 8,
   "metadata": {
    "execution": {
     "iopub.execute_input": "2024-06-23T05:29:16.318409Z",
     "iopub.status.busy": "2024-06-23T05:29:16.318013Z",
     "iopub.status.idle": "2024-06-23T05:31:03.401017Z",
     "shell.execute_reply": "2024-06-23T05:31:03.399877Z",
     "shell.execute_reply.started": "2024-06-23T05:29:16.318376Z"
    }
   },
   "outputs": [
    {
     "name": "stderr",
     "output_type": "stream",
     "text": [
      "<timed exec>:7: FutureWarning: A value is trying to be set on a copy of a DataFrame or Series through chained assignment using an inplace method.\n",
      "The behavior will change in pandas 3.0. This inplace method will never work because the intermediate object on which we are setting values always behaves as a copy.\n",
      "\n",
      "For example, when doing 'df[col].method(value, inplace=True)', try using 'df.method({col: value}, inplace=True)' or df[col] = df[col].method(value) instead, to perform the operation inplace on the original object.\n",
      "\n",
      "\n",
      "<timed exec>:8: FutureWarning: A value is trying to be set on a copy of a DataFrame or Series through chained assignment using an inplace method.\n",
      "The behavior will change in pandas 3.0. This inplace method will never work because the intermediate object on which we are setting values always behaves as a copy.\n",
      "\n",
      "For example, when doing 'df[col].method(value, inplace=True)', try using 'df.method({col: value}, inplace=True)' or df[col] = df[col].method(value) instead, to perform the operation inplace on the original object.\n",
      "\n",
      "\n",
      "<timed exec>:27: FutureWarning: Series.__getitem__ treating keys as positions is deprecated. In a future version, integer keys will always be treated as labels (consistent with DataFrame behavior). To access a value by position, use `ser.iloc[pos]`\n",
      "<timed exec>:28: FutureWarning: Series.__getitem__ treating keys as positions is deprecated. In a future version, integer keys will always be treated as labels (consistent with DataFrame behavior). To access a value by position, use `ser.iloc[pos]`\n",
      "<timed exec>:27: FutureWarning: Series.__getitem__ treating keys as positions is deprecated. In a future version, integer keys will always be treated as labels (consistent with DataFrame behavior). To access a value by position, use `ser.iloc[pos]`\n",
      "<timed exec>:28: FutureWarning: Series.__getitem__ treating keys as positions is deprecated. In a future version, integer keys will always be treated as labels (consistent with DataFrame behavior). To access a value by position, use `ser.iloc[pos]`\n"
     ]
    },
    {
     "name": "stdout",
     "output_type": "stream",
     "text": [
      "632682\n",
      "137418\n",
      "295525\n",
      "64154\n",
      "CPU times: user 1min 46s, sys: 526 ms, total: 1min 47s\n",
      "Wall time: 1min 47s\n"
     ]
    }
   ],
   "source": [
    "%%time\n",
    "# df_trainとdf_testを縦方向に結合\n",
    "full_set = pd.concat([df_train, df_test])\n",
    "# full_setの'brand_name'から重複なしのブランドリスト(集合)を生成\n",
    "all_brands = set(full_set['brand_name'].values)\n",
    "\n",
    "# 'brand_name'の欠損値NaNを'missing'に置き換える\n",
    "df_train['brand_name'].fillna(value='missing', inplace=True)\n",
    "df_test['brand_name'].fillna(value='missing', inplace=True)\n",
    "\n",
    "# 訓練データの'brand_name'が'missing'に一致するレコード数を取得\n",
    "train_premissing = len(df_train.loc[df_train['brand_name'] == 'missing'])\n",
    "# テストデータの'brand_name'が'missing'に一致するレコード数を取得\n",
    "test_premissing = len(df_test.loc[df_test['brand_name'] == 'missing'])\n",
    "\n",
    "def brandfinder(line):\n",
    "    \"\"\"\n",
    "    Parameters: line(str): ブランド名\n",
    "\n",
    "    ・ブランド名の'missing'を商品名に置き換える:\n",
    "         missing'の商品名の単語がブランドリストに存在する場合\n",
    "    ・ブランド名を商品名に置き換える:\n",
    "        商品名がブランドリストの名前と完全に一致する場合\n",
    "    ・ブランド名をそのままにする:\n",
    "        商品名がブランドリストの名前と一致しない\n",
    "        商品名が'missing'だが商品名の単語がブランドリストにない\n",
    "    \"\"\"\n",
    "    brand = line[0] # 第1要素はブランド名\n",
    "    name = line[1]  # 第2要素は商品名\n",
    "    namesplit = name.split(' ') # 商品名をスペースで切り分ける\n",
    "    \n",
    "    if brand == 'missing':  # ブランド名が'missing'と一致\n",
    "        for x in namesplit: # 商品名から切り分けた単語を取り出す\n",
    "            if x in all_brands:                \n",
    "                return name # 単語がブランドリストに一致したら商品名を返す\n",
    "    if name in all_brands:  # 商品名がブランドリストに存在すれば商品名を返す\n",
    "        return name\n",
    "    \n",
    "    return brand            # どれにも一致しなければブランド名を返す\n",
    "\n",
    "# ブランド名の付替えを実施\n",
    "df_train['brand_name'] = df_train[['brand_name','name']].apply(brandfinder, axis = 1)\n",
    "df_test['brand_name'] = df_test[['brand_name','name']].apply(brandfinder, axis = 1)\n",
    "\n",
    "# 書き換えられた'missing'の数を取得\n",
    "train_found = train_premissing-len(df_train.loc[df_train['brand_name'] == 'missing'])\n",
    "test_found = test_premissing-len(df_test.loc[df_test['brand_name'] == 'missing'])\n",
    "print(train_premissing) # 書き換える前の'missing'の数\n",
    "print(train_found)      # 書き換えられた'missing'の数\n",
    "print(test_premissing)  # 書き換える前の'missing'の数\n",
    "print(test_found)       # 書き換えられた'missing'の数"
   ]
  },
  {
   "cell_type": "code",
   "execution_count": 9,
   "metadata": {
    "execution": {
     "iopub.execute_input": "2024-06-23T05:31:03.404500Z",
     "iopub.status.busy": "2024-06-23T05:31:03.404037Z",
     "iopub.status.idle": "2024-06-23T05:31:05.066265Z",
     "shell.execute_reply": "2024-06-23T05:31:05.065185Z",
     "shell.execute_reply.started": "2024-06-23T05:31:03.404459Z"
    }
   },
   "outputs": [
    {
     "name": "stdout",
     "output_type": "stream",
     "text": [
      "Training : 1467709 examples\n",
      "Validating : 14826 examples\n",
      "Testing : 693359 examples\n",
      "CPU times: user 1.59 s, sys: 64.1 ms, total: 1.66 s\n",
      "Wall time: 1.65 s\n"
     ]
    },
    {
     "data": {
      "text/plain": [
       "0"
      ]
     },
     "execution_count": 9,
     "metadata": {},
     "output_type": "execute_result"
    }
   ],
   "source": [
    "%%time\n",
    "train_dfs, dev_dfs = train_test_split(\n",
    "    df_train,         # 対象のデータフレーム\n",
    "    random_state=123, # 乱数生成時のシード(種)\n",
    "    train_size=0.99,  # 訓練用に99%のデータ\n",
    "    test_size=0.01)   # 検証用に1%のデータ\n",
    "\n",
    "n_trains = train_dfs.shape[0] # 訓練データのサイズ\n",
    "n_devs = dev_dfs.shape[0]     # 検証データのサイズ\n",
    "n_tests = df_test.shape[0]   # テストデータのサイズ\n",
    "print('Training :', n_trains, 'examples')\n",
    "print('Validating :', n_devs, 'examples')\n",
    "print('Testing :', n_tests, 'examples')\n",
    "\n",
    "del df_train\n",
    "gc.collect()"
   ]
  },
  {
   "cell_type": "code",
   "execution_count": 10,
   "metadata": {
    "execution": {
     "iopub.execute_input": "2024-06-23T05:31:05.067894Z",
     "iopub.status.busy": "2024-06-23T05:31:05.067554Z",
     "iopub.status.idle": "2024-06-23T05:31:12.418759Z",
     "shell.execute_reply": "2024-06-23T05:31:12.417582Z",
     "shell.execute_reply.started": "2024-06-23T05:31:05.067865Z"
    }
   },
   "outputs": [
    {
     "name": "stdout",
     "output_type": "stream",
     "text": [
      "Handling missing values...\n",
      "CPU times: user 6.78 s, sys: 564 ms, total: 7.34 s\n",
      "Wall time: 7.34 s\n"
     ]
    }
   ],
   "source": [
    "%%time\n",
    "# 訓練データ、検証データ、テストデータを1つのデータフレームに連結\n",
    "df_all = pd.concat([train_dfs, dev_dfs, df_test])\n",
    "\n",
    "print(\"Handling missing values...\")\n",
    "# カテゴリ名の欠損値を'missing'に置き換える\n",
    "df_all['category_name'] = \\\n",
    "    df_all['category_name'].fillna('missing').astype(str)\n",
    "# サブカテゴリのラベルを文字列に変換\n",
    "df_all['subcat_0'] = df_all['subcat_0'].astype(str)\n",
    "df_all['subcat_1'] = df_all['subcat_1'].astype(str)\n",
    "df_all['subcat_2'] = df_all['subcat_2'].astype(str)\n",
    "# ブランド名の欠損値を'missing'に置き換える\n",
    "df_all['brand_name'] = df_all['brand_name'].fillna('missing').astype(str)\n",
    "# 送料負担、商品の状態を文字列に置き換える\n",
    "df_all['shipping'] = df_all['shipping'].astype(str)\n",
    "df_all['item_condition_id'] = df_all['item_condition_id'].astype(str)\n",
    "# 説明文の単語数、商品名の単語数を文字列に置き換える\n",
    "df_all['desc_len'] = df_all['desc_len'].astype(str)\n",
    "df_all['name_len'] = df_all['name_len'].astype(str)\n",
    "# 説明文の欠損値を'No description yet'に置き換える\n",
    "df_all['item_description'] = \\\n",
    "    df_all['item_description'].fillna('No description yet').astype(str)"
   ]
  },
  {
   "cell_type": "code",
   "execution_count": 11,
   "metadata": {
    "execution": {
     "iopub.execute_input": "2024-06-23T05:31:12.420844Z",
     "iopub.status.busy": "2024-06-23T05:31:12.420496Z",
     "iopub.status.idle": "2024-06-23T05:40:48.616855Z",
     "shell.execute_reply": "2024-06-23T05:40:48.615656Z",
     "shell.execute_reply.started": "2024-06-23T05:31:12.420814Z"
    }
   },
   "outputs": [
    {
     "name": "stdout",
     "output_type": "stream",
     "text": [
      "Vectorizing data...\n",
      "X: (2175894, 175913)\n",
      "X_train: (1467709, 175913)\n",
      "X_dev: (14826, 175913)\n",
      "X_test: (693359, 175913)\n",
      "Y_train: (1467709, 1)\n",
      "Y_dev: (14826, 1)\n",
      "CPU times: user 9min 23s, sys: 13.1 s, total: 9min 36s\n",
      "Wall time: 9min 36s\n"
     ]
    }
   ],
   "source": [
    "%%time\n",
    "print(\"Vectorizing data...\")\n",
    "# CountVectorizerの生成処理を関数化\n",
    "default_preprocessor = CountVectorizer().build_preprocessor()\n",
    "\n",
    "def build_preprocessor(field):\n",
    "    \"\"\"\n",
    "    指定されたカラムのインデックスを取得し、\n",
    "    トークンカウント行列を作成するためのCountVectorizerを返す\n",
    "    \n",
    "    Parameter:field(str)\n",
    "      フル結合データフレームのカラム名\n",
    "    \"\"\"\n",
    "    field_idx = list(df_all.columns).index(field)\n",
    "    return lambda x: default_preprocessor(x[field_idx])\n",
    "\n",
    "# トークンカウント行列\n",
    "# CountVectorizeを結合して\n",
    "# (識別子, ベクトライザーオブジェクト)のリストで構成される\n",
    "# トランスファーマーオブジェクトを生成\n",
    "vectorizer = FeatureUnion([\n",
    "    ('name', CountVectorizer(\n",
    "        # bag-of-wordで分割する単位をn-gramで連続する単語のつながりとする\n",
    "        # 商品名は2-gram(2つの単語のつながり)で分割\n",
    "        ngram_range=(1, 2),\n",
    "        max_features=1000, # トークンカウントの上限値############### 50000\n",
    "        # トークンカウントステップをオーバーライド\n",
    "        preprocessor=build_preprocessor('name'))),\n",
    "    ('subcat_0', CountVectorizer(\n",
    "        # トークンの構成を示す正規表現を'+'として1文字に対応\n",
    "        token_pattern='.+',\n",
    "        preprocessor=build_preprocessor('subcat_0'))),\n",
    "    ('subcat_1', CountVectorizer(\n",
    "        token_pattern='.+',\n",
    "        preprocessor=build_preprocessor('subcat_1'))),\n",
    "    ('subcat_2', CountVectorizer(\n",
    "        token_pattern='.+',\n",
    "        preprocessor=build_preprocessor('subcat_2'))),\n",
    "    ('brand_name', CountVectorizer(\n",
    "        token_pattern='.+',\n",
    "        preprocessor=build_preprocessor('brand_name'))),\n",
    "    ('shipping', CountVectorizer(\n",
    "        token_pattern='\\d+',\n",
    "        preprocessor=build_preprocessor('shipping'))),\n",
    "    ('item_condition_id', CountVectorizer(\n",
    "        token_pattern='\\d+',\n",
    "        preprocessor=build_preprocessor('item_condition_id'))),\n",
    "    ('desc_len', CountVectorizer(\n",
    "        token_pattern='\\d+',\n",
    "        preprocessor=build_preprocessor('desc_len'))),\n",
    "    ('name_len', CountVectorizer(\n",
    "        token_pattern='\\d+',\n",
    "        preprocessor=build_preprocessor('name_len'))),\n",
    "    ('item_description', TfidfVectorizer(\n",
    "        # bag-of-wordで分割する単位をn-gramで連続する単語のつながりとする\n",
    "        # 商品説名は3-gram(3つの単語のつながり)で分割\n",
    "        ngram_range=(1, 3),\n",
    "        max_features=1000, # トークンカウントの上限値#################### 100000\n",
    "        preprocessor=build_preprocessor('item_description'))),\n",
    "])\n",
    "\n",
    "# フル結合のデータフレームのフィールド値を\n",
    "# n-grainによるbag-of-wordsでトークンカウント行列に変換する\n",
    "X = vectorizer.fit_transform(df_all.values)\n",
    "\n",
    "del vectorizer\n",
    "gc.collect()\n",
    "\n",
    "# 入力用のdictオブジェクトから訓練用のデータを抽出\n",
    "X_train = X[:n_trains]\n",
    "# 訓練用のデータフレームから商品価格を抽出して\n",
    "# (データ数, 価格)の2階テンソルに変換\n",
    "Y_train = train_dfs.target.values.reshape(-1, 1)\n",
    "\n",
    "# 入力用のdictオブジェクトから検証用のデータを抽出\n",
    "X_dev = X[n_trains:n_trains+n_devs]\n",
    "# 検証用のデータフレームから商品価格を抽出して\n",
    "# (データ数, 価格)の2階テンソルに変換\n",
    "Y_dev = dev_dfs.target.values.reshape(-1, 1)\n",
    "\n",
    "# 入力用のdictオブジェクトからテストデータを抽出\n",
    "X_test = X[n_trains+n_devs:]\n",
    "\n",
    "print('X:', X.shape)\n",
    "print('X_train:', X_train.shape)\n",
    "print('X_dev:', X_dev.shape)\n",
    "print('X_test:', X_test.shape)\n",
    "print('Y_train:', Y_train.shape)\n",
    "print('Y_dev:', Y_dev.shape)"
   ]
  },
  {
   "cell_type": "code",
   "execution_count": 15,
   "metadata": {
    "execution": {
     "iopub.execute_input": "2024-06-23T05:44:17.206431Z",
     "iopub.status.busy": "2024-06-23T05:44:17.205951Z",
     "iopub.status.idle": "2024-06-23T05:50:46.416143Z",
     "shell.execute_reply": "2024-06-23T05:50:46.414852Z",
     "shell.execute_reply.started": "2024-06-23T05:44:17.206367Z"
    }
   },
   "outputs": [
    {
     "name": "stdout",
     "output_type": "stream",
     "text": [
      "Fitting Ridge model on training examples...\n",
      "Fitting RidgeCV model on training examples...\n",
      "CPU times: user 12min 8s, sys: 9min 48s, total: 21min 56s\n",
      "Wall time: 6min 29s\n"
     ]
    },
    {
     "data": {
      "text/html": [
       "<style>#sk-container-id-1 {color: black;background-color: white;}#sk-container-id-1 pre{padding: 0;}#sk-container-id-1 div.sk-toggleable {background-color: white;}#sk-container-id-1 label.sk-toggleable__label {cursor: pointer;display: block;width: 100%;margin-bottom: 0;padding: 0.3em;box-sizing: border-box;text-align: center;}#sk-container-id-1 label.sk-toggleable__label-arrow:before {content: \"▸\";float: left;margin-right: 0.25em;color: #696969;}#sk-container-id-1 label.sk-toggleable__label-arrow:hover:before {color: black;}#sk-container-id-1 div.sk-estimator:hover label.sk-toggleable__label-arrow:before {color: black;}#sk-container-id-1 div.sk-toggleable__content {max-height: 0;max-width: 0;overflow: hidden;text-align: left;background-color: #f0f8ff;}#sk-container-id-1 div.sk-toggleable__content pre {margin: 0.2em;color: black;border-radius: 0.25em;background-color: #f0f8ff;}#sk-container-id-1 input.sk-toggleable__control:checked~div.sk-toggleable__content {max-height: 200px;max-width: 100%;overflow: auto;}#sk-container-id-1 input.sk-toggleable__control:checked~label.sk-toggleable__label-arrow:before {content: \"▾\";}#sk-container-id-1 div.sk-estimator input.sk-toggleable__control:checked~label.sk-toggleable__label {background-color: #d4ebff;}#sk-container-id-1 div.sk-label input.sk-toggleable__control:checked~label.sk-toggleable__label {background-color: #d4ebff;}#sk-container-id-1 input.sk-hidden--visually {border: 0;clip: rect(1px 1px 1px 1px);clip: rect(1px, 1px, 1px, 1px);height: 1px;margin: -1px;overflow: hidden;padding: 0;position: absolute;width: 1px;}#sk-container-id-1 div.sk-estimator {font-family: monospace;background-color: #f0f8ff;border: 1px dotted black;border-radius: 0.25em;box-sizing: border-box;margin-bottom: 0.5em;}#sk-container-id-1 div.sk-estimator:hover {background-color: #d4ebff;}#sk-container-id-1 div.sk-parallel-item::after {content: \"\";width: 100%;border-bottom: 1px solid gray;flex-grow: 1;}#sk-container-id-1 div.sk-label:hover label.sk-toggleable__label {background-color: #d4ebff;}#sk-container-id-1 div.sk-serial::before {content: \"\";position: absolute;border-left: 1px solid gray;box-sizing: border-box;top: 0;bottom: 0;left: 50%;z-index: 0;}#sk-container-id-1 div.sk-serial {display: flex;flex-direction: column;align-items: center;background-color: white;padding-right: 0.2em;padding-left: 0.2em;position: relative;}#sk-container-id-1 div.sk-item {position: relative;z-index: 1;}#sk-container-id-1 div.sk-parallel {display: flex;align-items: stretch;justify-content: center;background-color: white;position: relative;}#sk-container-id-1 div.sk-item::before, #sk-container-id-1 div.sk-parallel-item::before {content: \"\";position: absolute;border-left: 1px solid gray;box-sizing: border-box;top: 0;bottom: 0;left: 50%;z-index: -1;}#sk-container-id-1 div.sk-parallel-item {display: flex;flex-direction: column;z-index: 1;position: relative;background-color: white;}#sk-container-id-1 div.sk-parallel-item:first-child::after {align-self: flex-end;width: 50%;}#sk-container-id-1 div.sk-parallel-item:last-child::after {align-self: flex-start;width: 50%;}#sk-container-id-1 div.sk-parallel-item:only-child::after {width: 0;}#sk-container-id-1 div.sk-dashed-wrapped {border: 1px dashed gray;margin: 0 0.4em 0.5em 0.4em;box-sizing: border-box;padding-bottom: 0.4em;background-color: white;}#sk-container-id-1 div.sk-label label {font-family: monospace;font-weight: bold;display: inline-block;line-height: 1.2em;}#sk-container-id-1 div.sk-label-container {text-align: center;}#sk-container-id-1 div.sk-container {/* jupyter's `normalize.less` sets `[hidden] { display: none; }` but bootstrap.min.css set `[hidden] { display: none !important; }` so we also need the `!important` here to be able to override the default hidden behavior on the sphinx rendered scikit-learn.org. See: https://github.com/scikit-learn/scikit-learn/issues/21755 */display: inline-block !important;position: relative;}#sk-container-id-1 div.sk-text-repr-fallback {display: none;}</style><div id=\"sk-container-id-1\" class=\"sk-top-container\"><div class=\"sk-text-repr-fallback\"><pre>RidgeCV(alphas=[5.0], cv=2, scoring=&#x27;neg_mean_squared_error&#x27;)</pre><b>In a Jupyter environment, please rerun this cell to show the HTML representation or trust the notebook. <br />On GitHub, the HTML representation is unable to render, please try loading this page with nbviewer.org.</b></div><div class=\"sk-container\" hidden><div class=\"sk-item\"><div class=\"sk-estimator sk-toggleable\"><input class=\"sk-toggleable__control sk-hidden--visually\" id=\"sk-estimator-id-1\" type=\"checkbox\" checked><label for=\"sk-estimator-id-1\" class=\"sk-toggleable__label sk-toggleable__label-arrow\">RidgeCV</label><div class=\"sk-toggleable__content\"><pre>RidgeCV(alphas=[5.0], cv=2, scoring=&#x27;neg_mean_squared_error&#x27;)</pre></div></div></div></div></div>"
      ],
      "text/plain": [
       "RidgeCV(alphas=[5.0], cv=2, scoring='neg_mean_squared_error')"
      ]
     },
     "execution_count": 15,
     "metadata": {},
     "output_type": "execute_result"
    }
   ],
   "source": [
    "%%time\n",
    "print(\"Fitting Ridge model on training examples...\")\n",
    "ridge_model = Ridge(\n",
    "    solver='auto',      # ソルバーをオートモードにする\n",
    "    fit_intercept=True, # 切片を計算に使用\n",
    "    alpha=1.0,          # 正則化の強度はデフォルト値\n",
    "    max_iter=200,       # ソルバーの最大反復回数\n",
    "    tol=0.01,           # 回帰の反復を停止するときの精度\n",
    "    # データをシャッフルするときに使用する疑似乱数ジェネレータのシード\n",
    "    random_state = 1,\n",
    ")\n",
    "\n",
    "print(\"Fitting RidgeCV model on training examples...\")\n",
    "ridge_modelCV = RidgeCV(\n",
    "    fit_intercept=True, # 切片を計算に使用\n",
    "    alphas=[5.0],\n",
    "    cv = 2, # 交差検証時にスコアを2回連続して(毎回異なる分割で)計算\n",
    "    # モデルの評価は平均2乗誤差回帰損失で行う\n",
    "    scoring='neg_mean_squared_error',\n",
    ")\n",
    "\n",
    "ridge_model.fit(X_train, Y_train)\n",
    "ridge_modelCV.fit(X_train, Y_train)"
   ]
  },
  {
   "cell_type": "code",
   "execution_count": 19,
   "metadata": {
    "execution": {
     "iopub.execute_input": "2024-06-23T05:51:44.568071Z",
     "iopub.status.busy": "2024-06-23T05:51:44.567001Z",
     "iopub.status.idle": "2024-06-23T05:51:44.577361Z",
     "shell.execute_reply": "2024-06-23T05:51:44.576167Z",
     "shell.execute_reply.started": "2024-06-23T05:51:44.568030Z"
    }
   },
   "outputs": [
    {
     "name": "stdout",
     "output_type": "stream",
     "text": [
      "Ridge model RMSL error: 0.017227598532414803\n"
     ]
    }
   ],
   "source": [
    "Y_dev_preds_ridge = ridge_model.predict(X_dev)\n",
    "Y_dev_preds_ridge = Y_dev_preds_ridge.reshape(-1, 1)\n",
    "print('Ridge model RMSL error:', mean_squared_log_error(Y_dev, Y_dev_preds_ridge))"
   ]
  },
  {
   "cell_type": "code",
   "execution_count": 17,
   "metadata": {
    "execution": {
     "iopub.execute_input": "2024-06-23T05:50:46.439011Z",
     "iopub.status.busy": "2024-06-23T05:50:46.438135Z",
     "iopub.status.idle": "2024-06-23T05:50:46.458827Z",
     "shell.execute_reply": "2024-06-23T05:50:46.456786Z",
     "shell.execute_reply.started": "2024-06-23T05:50:46.438954Z"
    }
   },
   "outputs": [
    {
     "name": "stdout",
     "output_type": "stream",
     "text": [
      "RidgeCV model RMSL error: 0.01705041819933213\n"
     ]
    }
   ],
   "source": [
    "# RidgeCVモデルに検証データを入力して損失を測定\n",
    "Y_dev_preds_ridgeCV = ridge_modelCV.predict(X_dev)\n",
    "Y_dev_preds_ridgeCV = Y_dev_preds_ridgeCV.reshape(-1, 1)\n",
    "print('RidgeCV model RMSL error:', mean_squared_log_error(Y_dev, Y_dev_preds_ridgeCV))"
   ]
  },
  {
   "cell_type": "markdown",
   "metadata": {},
   "source": [
    "値が異常に低いので、RMSE関数を自作して計算してみる"
   ]
  },
  {
   "cell_type": "code",
   "execution_count": 20,
   "metadata": {
    "execution": {
     "iopub.execute_input": "2024-06-23T05:52:13.883348Z",
     "iopub.status.busy": "2024-06-23T05:52:13.882923Z",
     "iopub.status.idle": "2024-06-23T05:52:13.889937Z",
     "shell.execute_reply": "2024-06-23T05:52:13.888750Z",
     "shell.execute_reply.started": "2024-06-23T05:52:13.883299Z"
    }
   },
   "outputs": [],
   "source": [
    "# RMSE(Root Mean Square Error):二乗平均平方根誤差\n",
    "# この関数を使用する際のYとY_predはすでにlogスケールになっているので、RMSLE(対数二乗平均平方根誤差)のように機能する\n",
    "def rmsle(Y, Y_pred):\n",
    "    assert Y.shape == Y_pred.shape\n",
    "    return np.sqrt(np.mean(np.square(Y_pred - Y )))"
   ]
  },
  {
   "cell_type": "code",
   "execution_count": 21,
   "metadata": {
    "execution": {
     "iopub.execute_input": "2024-06-23T05:52:32.823224Z",
     "iopub.status.busy": "2024-06-23T05:52:32.822457Z",
     "iopub.status.idle": "2024-06-23T05:52:32.831261Z",
     "shell.execute_reply": "2024-06-23T05:52:32.830149Z",
     "shell.execute_reply.started": "2024-06-23T05:52:32.823190Z"
    }
   },
   "outputs": [
    {
     "name": "stdout",
     "output_type": "stream",
     "text": [
      "Ridge model RMSL error: 0.5157330525857923\n"
     ]
    }
   ],
   "source": [
    "Y_dev_preds_ridge = ridge_model.predict(X_dev)\n",
    "Y_dev_preds_ridge = Y_dev_preds_ridge.reshape(-1, 1)\n",
    "print('Ridge model RMSL error:', rmsle(Y_dev, Y_dev_preds_ridge))"
   ]
  },
  {
   "cell_type": "code",
   "execution_count": 24,
   "metadata": {
    "execution": {
     "iopub.execute_input": "2024-06-23T05:52:58.272304Z",
     "iopub.status.busy": "2024-06-23T05:52:58.271911Z",
     "iopub.status.idle": "2024-06-23T05:52:58.280667Z",
     "shell.execute_reply": "2024-06-23T05:52:58.279464Z",
     "shell.execute_reply.started": "2024-06-23T05:52:58.272273Z"
    }
   },
   "outputs": [
    {
     "name": "stdout",
     "output_type": "stream",
     "text": [
      "RidgeCV model RMSL error: 0.5125338609304031\n"
     ]
    }
   ],
   "source": [
    "# RidgeCVモデルに検証データを入力して損失を測定\n",
    "Y_dev_preds_ridgeCV = ridge_modelCV.predict(X_dev)\n",
    "Y_dev_preds_ridgeCV = Y_dev_preds_ridgeCV.reshape(-1, 1)\n",
    "print('RidgeCV model RMSL error:', rmsle(Y_dev, Y_dev_preds_ridgeCV))"
   ]
  },
  {
   "cell_type": "code",
   "execution_count": null,
   "metadata": {},
   "outputs": [],
   "source": []
  }
 ],
 "metadata": {
  "kaggle": {
   "accelerator": "none",
   "dataSources": [
    {
     "datasetId": 5264345,
     "sourceId": 8761926,
     "sourceType": "datasetVersion"
    }
   ],
   "dockerImageVersionId": 30732,
   "isGpuEnabled": false,
   "isInternetEnabled": false,
   "language": "python",
   "sourceType": "notebook"
  },
  "kernelspec": {
   "display_name": "Python 3 (ipykernel)",
   "language": "python",
   "name": "python3"
  },
  "language_info": {
   "codemirror_mode": {
    "name": "ipython",
    "version": 3
   },
   "file_extension": ".py",
   "mimetype": "text/x-python",
   "name": "python",
   "nbconvert_exporter": "python",
   "pygments_lexer": "ipython3",
   "version": "3.9.15"
  }
 },
 "nbformat": 4,
 "nbformat_minor": 4
}
