{
 "cells": [
  {
   "cell_type": "markdown",
   "id": "958d1025-7555-4136-b319-acd384818e42",
   "metadata": {},
   "source": [
    "#### Import libraries"
   ]
  },
  {
   "cell_type": "code",
   "execution_count": null,
   "id": "ffb7481e-a2d0-4f13-960d-a67938511997",
   "metadata": {},
   "outputs": [],
   "source": [
    "import numpy as np\n",
    "import pandas as pd\n",
    "import matplotlib.pyplot as plt\n",
    "import seaborn as sns"
   ]
  },
  {
   "cell_type": "markdown",
   "id": "1bbc790a-5d4d-48c9-89ef-75c054959cb2",
   "metadata": {},
   "source": [
    "#### Read TSV files"
   ]
  },
  {
   "cell_type": "code",
   "execution_count": null,
   "id": "fabf7ffc-abb6-4bff-bb54-8b6ca23b3715",
   "metadata": {},
   "outputs": [],
   "source": [
    "df_train = pd.read_csv('data/train.tsv', sep='\\t', low_memory=True)\n",
    "print(df_train.shape)\n",
    "print(df_train.info())\n",
    "display(df_train.head())"
   ]
  },
  {
   "cell_type": "code",
   "execution_count": null,
   "id": "c2d99c85-7274-4190-9cb9-b1d59af3d239",
   "metadata": {},
   "outputs": [],
   "source": [
    "df_test = pd.read_csv('data/test.tsv', sep='\\t', low_memory=True)\n",
    "print(df_test.shape)\n",
    "print(df_test.info())\n",
    "display(df_test.head())"
   ]
  },
  {
   "cell_type": "markdown",
   "id": "b1bf5fb5-0a5c-4ac6-b5dd-a4fcf8933bac",
   "metadata": {},
   "source": [
    "#### Count the number of words in the product name and product description"
   ]
  },
  {
   "cell_type": "code",
   "execution_count": null,
   "id": "23bdacab-35a8-4f17-892d-5d297ca8386e",
   "metadata": {},
   "outputs": [],
   "source": [
    "def wordCount(text):\n",
    "    \"\"\"\n",
    "    Parameters:\n",
    "      text(str): 商品名、商品の説明文\n",
    "    \"\"\"\n",
    "    try:\n",
    "        if text == 'No description yet':\n",
    "            return 0  # 商品名や説明が'No description yet'の場合は0を返す\n",
    "        else:\n",
    "            text = text.lower()                  # すべて小文字にする\n",
    "            words = [w for w in text.split(\" \")] # スペースで切り分ける\n",
    "            return len(words)                    # 単語の数を返す\n",
    "    except: \n",
    "        return 0\n",
    "\n",
    "# 'name'の各フィールドの単語数を'name_len'に登録\n",
    "df_train['name_len'] = df_train['name'].apply(lambda x: wordCount(x))\n",
    "df_test['name_len'] = df_test['name'].apply(lambda x: wordCount(x))\n",
    "# 'item_description'の各フィールドの単語数を'desc_len'に登録\n",
    "df_train['desc_len'] = df_train['item_description'].apply(lambda x: wordCount(x))\n",
    "df_test['desc_len'] = df_test['item_description'].apply(lambda x: wordCount(x))"
   ]
  },
  {
   "cell_type": "code",
   "execution_count": null,
   "id": "b3442cdd-cafe-4c38-9473-090d1db9a682",
   "metadata": {},
   "outputs": [],
   "source": [
    "display(df_train.head())"
   ]
  },
  {
   "cell_type": "code",
   "execution_count": null,
   "id": "9cb4e114-e281-4693-b380-1e5627687479",
   "metadata": {},
   "outputs": [],
   "source": [
    "display(df_test.head())"
   ]
  },
  {
   "cell_type": "markdown",
   "id": "68150443-a664-480c-8a69-e447e1a9cdf7",
   "metadata": {},
   "source": [
    "#### Take a look at the 'price'"
   ]
  },
  {
   "cell_type": "code",
   "execution_count": null,
   "id": "94f69819-70ad-4876-9bd7-3f6ac03f3201",
   "metadata": {},
   "outputs": [],
   "source": [
    "df_train['price'].describe()"
   ]
  },
  {
   "cell_type": "code",
   "execution_count": null,
   "id": "5421a190-5e3c-4fb2-93bb-1cbc34a505e1",
   "metadata": {},
   "outputs": [],
   "source": [
    "#priceをヒストグラムで表示\n",
    "sns.set()\n",
    "plt.figure(figsize=(10, 5))\n",
    "plt.hist(df_train['price'], bins=50, range=[0, 150], alpha=0.7, color='b', label='price')\n",
    "plt.title('Price Distribution')\n",
    "plt.xlabel('Price')\n",
    "plt.ylabel('Frequency')\n",
    "plt.legend()"
   ]
  },
  {
   "cell_type": "markdown",
   "id": "4b9877a8-ebdf-459a-8fef-afcca8e53027",
   "metadata": {},
   "source": [
    "#### Scaling the selling price"
   ]
  },
  {
   "cell_type": "code",
   "execution_count": null,
   "id": "19fea7f6-63d3-40cf-a7c0-e9fafbe51953",
   "metadata": {
    "scrolled": true
   },
   "outputs": [],
   "source": [
    "# 訓練データの'price'を対数変換する\n",
    "df_train[\"target\"] = np.log1p(df_train.price)\n",
    "# ヒストグラムを表示\n",
    "plt.figure(figsize=(10, 5))\n",
    "plt.hist(df_train[\"target\"], bins=50, range=[0, 7], alpha=0.7, color='b', label='price')\n",
    "plt.title('Price Distribution(Log Scale)')\n",
    "plt.xlabel('log(Price)')\n",
    "plt.ylabel('Frequency')\n",
    "plt.legend(['log(price)'])"
   ]
  },
  {
   "cell_type": "markdown",
   "id": "32dc1591-1038-468e-9dec-6622af0cd38d",
   "metadata": {},
   "source": [
    "#### Splitting the category name and registering it in a new column"
   ]
  },
  {
   "cell_type": "code",
   "execution_count": null,
   "id": "ff7fe07c-b5ca-4103-b4e6-7d351a52e1b3",
   "metadata": {},
   "outputs": [],
   "source": [
    "def split_cat(text):\n",
    "    \"\"\"\n",
    "    Parameters:\n",
    "      text(str): カテゴリ名\n",
    "\n",
    "    ・カテゴリを/で切り分ける\n",
    "    ・データが存在しない場合は\"No Label\"を返す\n",
    "    \"\"\"\n",
    "    try: return text.split(\"/\")\n",
    "    except: return (\"No Label\", \"No Label\", \"No Label\")\n",
    "\n",
    "# 3つに切り分けたカテゴリ名を'subcat_0'、'subcat_1'、'subcat_2'に登録\n",
    "# 訓練データ\n",
    "df_train['subcat_0'], df_train['subcat_1'], df_train['subcat_2'] = \\\n",
    "    zip(*df_train['category_name'].apply(lambda x: split_cat(x)))\n",
    "# テストデータ\n",
    "df_test['subcat_0'], df_test['subcat_1'], df_test['subcat_2'] = \\\n",
    "    zip(*df_test['category_name'].apply(lambda x: split_cat(x)))"
   ]
  },
  {
   "cell_type": "code",
   "execution_count": null,
   "id": "c8427220-0737-4620-b376-38ac97407a09",
   "metadata": {},
   "outputs": [],
   "source": [
    "display(df_train.head())"
   ]
  },
  {
   "cell_type": "code",
   "execution_count": null,
   "id": "d0fbb093-d21a-4b89-80a7-fabd87608cc8",
   "metadata": {},
   "outputs": [],
   "source": [
    "display(df_test.head())"
   ]
  },
  {
   "cell_type": "markdown",
   "id": "21e25950-4c71-4662-86fc-c7a497509964",
   "metadata": {},
   "source": [
    "#### Replace the missing values of the brand name with meaningful data"
   ]
  },
  {
   "cell_type": "code",
   "execution_count": null,
   "id": "7b0a8ffa-5a79-4e9c-9533-55ca999d4cea",
   "metadata": {
    "collapsed": true,
    "jupyter": {
     "outputs_hidden": true
    }
   },
   "outputs": [],
   "source": [
    "# df_trainとdf_testを縦方向に結合\n",
    "full_set = pd.concat([df_train, df_test])\n",
    "# full_setの'brand_name'から重複なしのブランドリスト(集合)を生成\n",
    "all_brands = set(full_set['brand_name'].values)\n",
    "\n",
    "# 'brand_name'の欠損値NaNを'missing'に置き換える\n",
    "df_train['brand_name'].fillna(value='missing', inplace=True)\n",
    "df_test['brand_name'].fillna(value='missing', inplace=True)\n",
    "\n",
    "# 訓練データの'brand_name'が'missing'に一致するレコード数を取得\n",
    "train_premissing = len(df_train.loc[df_train['brand_name'] == 'missing'])\n",
    "# テストデータの'brand_name'が'missing'に一致するレコード数を取得\n",
    "test_premissing = len(df_test.loc[df_test['brand_name'] == 'missing'])\n",
    "\n",
    "def brandfinder(line):\n",
    "    \"\"\"\n",
    "    Parameters: line(str): ブランド名\n",
    "\n",
    "    ・ブランド名の'missing'を商品名に置き換える:\n",
    "         missing'の商品名の単語がブランドリストに存在する場合\n",
    "    ・ブランド名を商品名に置き換える:\n",
    "        商品名がブランドリストの名前と完全に一致する場合\n",
    "    ・ブランド名をそのままにする:\n",
    "        商品名がブランドリストの名前と一致しない\n",
    "        商品名が'missing'だが商品名の単語がブランドリストにない\n",
    "    \"\"\"\n",
    "    brand = line[0] # 第1要素はブランド名\n",
    "    name = line[1]  # 第2要素は商品名\n",
    "    namesplit = name.split(' ') # 商品名をスペースで切り分ける\n",
    "    \n",
    "    if brand == 'missing':  # ブランド名が'missing'と一致\n",
    "        for x in namesplit: # 商品名から切り分けた単語を取り出す\n",
    "            if x in all_brands:                \n",
    "                return name # 単語がブランドリストに一致したら商品名を返す\n",
    "    if name in all_brands:  # 商品名がブランドリストに存在すれば商品名を返す\n",
    "        return name\n",
    "    \n",
    "    return brand            # どれにも一致しなければブランド名を返す\n",
    "\n",
    "# ブランド名の付替えを実施\n",
    "df_train['brand_name'] = df_train[['brand_name','name']].apply(brandfinder, axis = 1)\n",
    "df_test['brand_name'] = df_test[['brand_name','name']].apply(brandfinder, axis = 1)\n",
    "\n",
    "# 書き換えられた'missing'の数を取得\n",
    "train_found = train_premissing-len(df_train.loc[df_train['brand_name'] == 'missing'])\n",
    "test_found = test_premissing-len(df_test.loc[df_test['brand_name'] == 'missing'])\n",
    "print(train_premissing) # 書き換える前の'missing'の数\n",
    "print(train_found)      # 書き換えられた'missing'の数\n",
    "print(test_premissing)  # 書き換える前の'missing'の数\n",
    "print(test_found)       # 書き換えられた'missing'の数"
   ]
  },
  {
   "cell_type": "code",
   "execution_count": null,
   "id": "d66c293f-cff5-4971-9cd9-ad41ca93db27",
   "metadata": {},
   "outputs": [],
   "source": [
    "display(df_train.head())"
   ]
  }
 ],
 "metadata": {
  "kernelspec": {
   "display_name": "Python 3 (ipykernel)",
   "language": "python",
   "name": "python3"
  },
  "language_info": {
   "codemirror_mode": {
    "name": "ipython",
    "version": 3
   },
   "file_extension": ".py",
   "mimetype": "text/x-python",
   "name": "python",
   "nbconvert_exporter": "python",
   "pygments_lexer": "ipython3",
   "version": "3.9.15"
  }
 },
 "nbformat": 4,
 "nbformat_minor": 5
}
